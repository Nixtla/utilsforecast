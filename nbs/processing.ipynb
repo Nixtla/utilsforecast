{
 "cells": [
  {
   "cell_type": "code",
   "execution_count": null,
   "id": "fc9284ac-4d6c-42fc-8d05-13ff8fa7460e",
   "metadata": {},
   "outputs": [],
   "source": [
    "#| hide\n",
    "%load_ext autoreload\n",
    "%autoreload 2"
   ]
  },
  {
   "cell_type": "code",
   "execution_count": null,
   "id": "7d96e02b-4e1b-4284-8808-58c7dbb1fc34",
   "metadata": {},
   "outputs": [],
   "source": [
    "#| default_exp processing"
   ]
  },
  {
   "cell_type": "markdown",
   "id": "998dfc5b-5bd4-44b6-aac4-012cd326010c",
   "metadata": {},
   "source": [
    "# Processing\n",
    "> Internal DataFrame processing"
   ]
  },
  {
   "cell_type": "code",
   "execution_count": null,
   "id": "a133caf6-09b0-4de3-b168-b7cff92040a2",
   "metadata": {},
   "outputs": [],
   "source": [
    "#| export\n",
    "import numpy as np\n",
    "import pandas as pd\n",
    "\n",
    "from utilsforecast.compat import DataFrame, pl_Series\n",
    "from utilsforecast.grouped_array import GroupedArray"
   ]
  },
  {
   "cell_type": "code",
   "execution_count": null,
   "id": "688032bd-838d-4086-be34-d0b02590a56e",
   "metadata": {},
   "outputs": [],
   "source": [
    "#| exporti\n",
    "def _polars_serie_to_double(serie: pl_Series) -> pl_Series:\n",
    "    import polars as pl\n",
    "\n",
    "    if serie.dtype == pl.Categorical:\n",
    "        serie = serie.cast(pl.Utf8)\n",
    "    return serie.cast(pl.Float64)\n",
    "\n",
    "def _counts_by_id(df: DataFrame, id_col: str) -> DataFrame:\n",
    "    id_counts = df[id_col].value_counts()\n",
    "    if isinstance(id_counts, pd.Series):\n",
    "        id_counts = id_counts.rename('counts').sort_index().reset_index()\n",
    "    else:\n",
    "        id_counts = id_counts.sort(id_col)\n",
    "    return id_counts\n",
    "\n",
    "def _value_cols_to_numpy(df: DataFrame, id_col: str, time_col: str, target_col: str) -> np.ndarray:\n",
    "    value_cols = [col for col in df.columns if col not in (id_col, time_col, target_col)]\n",
    "    # ensure target is the first column\n",
    "    value_cols = [target_col] + value_cols\n",
    "    if isinstance(df, pd.DataFrame):\n",
    "        data = df[value_cols].to_numpy()\n",
    "    else:\n",
    "        import polars as pl\n",
    "\n",
    "        data = df[value_cols].select(pl.all().map(_polars_serie_to_double)).to_numpy()\n",
    "    return data\n",
    "\n",
    "def _compute_sort_idxs(df: DataFrame, idx: pd.MultiIndex) -> np.ndarray:\n",
    "    if isinstance(df, pd.DataFrame):\n",
    "        sort_idxs = idx.argsort()\n",
    "    else:\n",
    "        import polars as pl\n",
    "\n",
    "        sort_idxs = df.select(\n",
    "            pl.arg_sort_by(idx.names).alias('idx')\n",
    "        )['idx'].to_numpy()\n",
    "    return sort_idxs"
   ]
  },
  {
   "cell_type": "code",
   "execution_count": null,
   "id": "9cfd1f31-05f4-4bda-9599-8f8922233c0c",
   "metadata": {},
   "outputs": [],
   "source": [
    "#| export\n",
    "class DataFrameProcessing:\n",
    "    def __init__(\n",
    "        self,\n",
    "        id_col: str = 'unique_id',\n",
    "        time_col: str = 'ds',\n",
    "        target_col: str = 'y',\n",
    "    ):\n",
    "        self.id_col = id_col\n",
    "        self.time_col = time_col\n",
    "        self.target_col = target_col\n",
    "\n",
    "    def process(self, df: DataFrame) -> None:\n",
    "        times = df[self.time_col].to_numpy()\n",
    "\n",
    "        # ids\n",
    "        uids = df[self.id_col].to_numpy()\n",
    "        id_counts = _counts_by_id(df, self.id_col)\n",
    "        self.uids = id_counts[self.id_col]\n",
    "\n",
    "        # indices\n",
    "        indptr = np.append(\n",
    "            np.int64(0),\n",
    "            id_counts['counts'].to_numpy().cumsum().astype(np.int64),\n",
    "        )\n",
    "        last_idxs = indptr[1:] - 1        \n",
    "\n",
    "        # data\n",
    "        data = _value_cols_to_numpy(df, self.id_col, self.time_col, self.target_col)\n",
    "        # ensure float dtype\n",
    "        if data.dtype not in (np.float32, np.float64):\n",
    "            data = data.astype(np.float32)\n",
    "        # ensure 2dim\n",
    "        if data.ndim == 1:\n",
    "            data = data.reshape(-1, 1)\n",
    "\n",
    "        # check if we need to sort\n",
    "        idx = pd.MultiIndex.from_arrays([uids, times], names=[self.id_col, self.time_col])\n",
    "        if not idx.is_monotonic_increasing:\n",
    "            sort_idxs = _compute_sort_idxs(df, idx)\n",
    "            data = data[sort_idxs]\n",
    "            last_idxs = sort_idxs[last_idxs]\n",
    "        self.ga = GroupedArray(data, indptr)\n",
    "        self.times = times[last_idxs]"
   ]
  },
  {
   "cell_type": "code",
   "execution_count": null,
   "id": "2970c3e9-b00a-4485-a8de-26471d515e98",
   "metadata": {},
   "outputs": [],
   "source": [
    "import polars as pl\n",
    "from fastcore.test import test_eq\n",
    "\n",
    "from utilsforecast.data import generate_series"
   ]
  },
  {
   "cell_type": "code",
   "execution_count": null,
   "id": "9f16a4e0-7696-447b-ab9f-a1be13041431",
   "metadata": {},
   "outputs": [],
   "source": [
    "series_pd = generate_series(10_000, n_static_features=2, equal_ends=False, engine='pandas')\n",
    "scrambled_series_pd = series_pd.sample(frac=1.0)\n",
    "dfp = DataFrameProcessing('D', 'unique_id', 'ds', 'y')\n",
    "dfp.process(scrambled_series_pd)\n",
    "test_eq(dfp.times, series_pd.groupby('unique_id')['ds'].max().values)\n",
    "test_eq(dfp.uids, np.sort(series_pd['unique_id'].unique()))\n",
    "test_eq(dfp.ga.data, series_pd[['y', 'static_0', 'static_1']].to_numpy())\n",
    "test_eq(np.diff(dfp.ga.indptr), series_pd.groupby('unique_id').size().values)"
   ]
  },
  {
   "cell_type": "code",
   "execution_count": null,
   "id": "51c959fc-206e-4eec-a61b-76de3856468c",
   "metadata": {},
   "outputs": [],
   "source": [
    "series_pl = generate_series(10_000, n_static_features=2, equal_ends=False, engine='polars')\n",
    "scrambled_series_pl = series_pl.sample(fraction=1.0)\n",
    "dfp = DataFrameProcessing('D', 'unique_id', 'ds', 'y')\n",
    "dfp.process(scrambled_series_pl)\n",
    "test_eq(dfp.times, series_pl.groupby('unique_id').agg(pl.col('ds').max())['ds'].to_numpy())\n",
    "test_eq(dfp.uids, series_pl['unique_id'].unique().sort())\n",
    "test_eq(dfp.ga.data, series_pd[['y', 'static_0', 'static_1']].to_numpy())\n",
    "test_eq(np.diff(dfp.ga.indptr), series_pl.groupby('unique_id').count()['count'].to_numpy())"
   ]
  }
 ],
 "metadata": {
  "kernelspec": {
   "display_name": "python3",
   "language": "python",
   "name": "python3"
  }
 },
 "nbformat": 4,
 "nbformat_minor": 5
}
