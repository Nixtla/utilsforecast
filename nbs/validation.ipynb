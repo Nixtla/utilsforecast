{
 "cells": [
  {
   "cell_type": "code",
   "execution_count": null,
   "id": "6d2e8f71-a152-4402-a024-058d89e4d18f",
   "metadata": {},
   "outputs": [],
   "source": [
    "#| default_exp validation"
   ]
  },
  {
   "cell_type": "markdown",
   "id": "09160671-140a-4627-8702-f302b5f1a3cc",
   "metadata": {},
   "source": [
    "# Validation\n",
    "\n",
    "> Utilities to validate input data"
   ]
  },
  {
   "cell_type": "code",
   "execution_count": null,
   "id": "8b750a71-5c9a-48df-9607-498c6fef23b5",
   "metadata": {},
   "outputs": [],
   "source": [
    "#| export\n",
    "import numpy as np\n",
    "\n",
    "from utilsforecast.compat import DataFrame, pl_DataFrame"
   ]
  },
  {
   "cell_type": "code",
   "execution_count": null,
   "id": "0fd76fe2-9b47-470b-8e63-f9fe639b2e0f",
   "metadata": {},
   "outputs": [],
   "source": [
    "#| export\n",
    "def validate_format(\n",
    "    df: DataFrame,\n",
    "    id_col: str = 'unique_id',\n",
    "    time_col: str = 'ds',\n",
    "    target_col: str = 'y',\n",
    ") -> None:\n",
    "    \"\"\"Ensure DataFrame has expected format.\n",
    "\n",
    "    Parameters\n",
    "    ----------\n",
    "    df : pandas or polars DataFrame\n",
    "        DataFrame with time series in long format.\n",
    "    id_col : str (default='unique_id')\n",
    "        Column that identifies each serie.\n",
    "    time_col : str (default='ds')\n",
    "        Column that identifies each timestamp.\n",
    "    target_col : str (default='y')\n",
    "        Column that contains the target.\n",
    "\n",
    "    Returns\n",
    "    -------\n",
    "    None\n",
    "    \"\"\"\n",
    "    if not isinstance(df, (pd.DataFrame, pl_DataFrame)):\n",
    "        raise ValueError(\n",
    "            f'`df` must be either pandas or polars dataframe, got {type(df)}'\n",
    "        )\n",
    "\n",
    "    # required columns\n",
    "    missing_cols = sorted({id_col, time_col, target_col} - set(df.columns))\n",
    "    if missing_cols:\n",
    "        raise ValueError(f\"The following columns are missing: {missing_cols}\")\n",
    "\n",
    "    # time col\n",
    "    times_dtype = df[time_col].head(1).to_numpy().dtype\n",
    "    if not (np.issubdtype(times_dtype, np.datetime64) or np.issubdtype(times_dtype, np.integer)):\n",
    "        raise ValueError(f\"The time column ('{time_col}') should have either timestamps or integers, got '{times_dtype}'.\")\n",
    "\n",
    "    # target col\n",
    "    target_dtype = df[target_col].head(1).to_numpy().dtype\n",
    "    if not np.issubdtype(target_dtype, np.number):\n",
    "        raise ValueError(f\"The target column ('{target_col}') should have a numeric data type, got '{target_dtype}')\")"
   ]
  },
  {
   "cell_type": "code",
   "execution_count": null,
   "id": "a9d90a45-f371-49ab-b590-35f6a36fb888",
   "metadata": {},
   "outputs": [],
   "source": [
    "#| hide\n",
    "from nbdev import show_doc"
   ]
  },
  {
   "cell_type": "code",
   "execution_count": null,
   "id": "d26edadb-2fa0-41cf-8550-a3b29a76f839",
   "metadata": {},
   "outputs": [
    {
     "data": {
      "text/markdown": [
       "---\n",
       "\n",
       "[source](https://github.com/Nixtla/utilsforecast/blob/main/utilsforecast/validation.py#L12){target=\"_blank\" style=\"float:right; font-size:smaller\"}\n",
       "\n",
       "### validate_format\n",
       "\n",
       ">      validate_format\n",
       ">                       (df:Union[pandas.core.frame.DataFrame,polars.dataframe.f\n",
       ">                       rame.DataFrame], id_col:str='unique_id',\n",
       ">                       time_col:str='ds', target_col:str='y')\n",
       "\n",
       "Ensure DataFrame has expected format.\n",
       "\n",
       "|    | **Type** | **Default** | **Details** |\n",
       "| -- | -------- | ----------- | ----------- |\n",
       "| df | Union |  | DataFrame with time series in long format. |\n",
       "| id_col | str | unique_id | Column that identifies each serie. |\n",
       "| time_col | str | ds | Column that identifies each timestamp. |\n",
       "| target_col | str | y | Column that contains the target. |\n",
       "| **Returns** | **None** |  |  |"
      ],
      "text/plain": [
       "---\n",
       "\n",
       "[source](https://github.com/Nixtla/utilsforecast/blob/main/utilsforecast/validation.py#L12){target=\"_blank\" style=\"float:right; font-size:smaller\"}\n",
       "\n",
       "### validate_format\n",
       "\n",
       ">      validate_format\n",
       ">                       (df:Union[pandas.core.frame.DataFrame,polars.dataframe.f\n",
       ">                       rame.DataFrame], id_col:str='unique_id',\n",
       ">                       time_col:str='ds', target_col:str='y')\n",
       "\n",
       "Ensure DataFrame has expected format.\n",
       "\n",
       "|    | **Type** | **Default** | **Details** |\n",
       "| -- | -------- | ----------- | ----------- |\n",
       "| df | Union |  | DataFrame with time series in long format. |\n",
       "| id_col | str | unique_id | Column that identifies each serie. |\n",
       "| time_col | str | ds | Column that identifies each timestamp. |\n",
       "| target_col | str | y | Column that contains the target. |\n",
       "| **Returns** | **None** |  |  |"
      ]
     },
     "execution_count": null,
     "metadata": {},
     "output_type": "execute_result"
    }
   ],
   "source": [
    "show_doc(validate_format)"
   ]
  },
  {
   "cell_type": "code",
   "execution_count": null,
   "id": "f0072de7-2cb2-469d-a0c8-59d6d60e7858",
   "metadata": {},
   "outputs": [],
   "source": [
    "import datetime\n",
    "\n",
    "import pandas as pd\n",
    "from fastcore.test import test_fail\n",
    "\n",
    "from utilsforecast.compat import POLARS_INSTALLED, pl\n",
    "from utilsforecast.data import generate_series"
   ]
  },
  {
   "cell_type": "code",
   "execution_count": null,
   "id": "c86a3919-73a9-4cfd-886a-557ba2feaf24",
   "metadata": {},
   "outputs": [],
   "source": [
    "test_fail(lambda: validate_format(1), contains=\"got <class 'int'>\")\n",
    "constructors = [pd.DataFrame]\n",
    "if POLARS_INSTALLED:\n",
    "    constructors.append(pl.DataFrame)\n",
    "for constructor in constructors:\n",
    "    df = constructor({'unique_id': [1]})\n",
    "    test_fail(lambda: validate_format(df), contains=\"missing: ['ds', 'y']\")\n",
    "    df = constructor({'unique_id': [1], 'time': ['x'], 'y': [1]})\n",
    "    test_fail(lambda: validate_format(df, time_col='time'), contains=\"('time') should have either timestamps or integers\")\n",
    "    for time in [1, datetime.datetime(2000, 1, 1)]:\n",
    "        df = constructor({'unique_id': [1], 'ds': [time], 'sales': ['x']})\n",
    "        test_fail(lambda: validate_format(df, target_col='sales'), contains=\"('sales') should have a numeric data type\")"
   ]
  }
 ],
 "metadata": {
  "kernelspec": {
   "display_name": "python3",
   "language": "python",
   "name": "python3"
  }
 },
 "nbformat": 4,
 "nbformat_minor": 5
}
