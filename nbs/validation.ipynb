{
 "cells": [
  {
   "cell_type": "code",
   "execution_count": null,
   "id": "6d2e8f71-a152-4402-a024-058d89e4d18f",
   "metadata": {},
   "outputs": [],
   "source": [
    "#| default_exp validation"
   ]
  },
  {
   "cell_type": "code",
   "execution_count": null,
   "id": "8b750a71-5c9a-48df-9607-498c6fef23b5",
   "metadata": {},
   "outputs": [],
   "source": [
    "#| export\n",
    "import numpy as np\n",
    "\n",
    "from utilsforecast.compat import DataFrame"
   ]
  },
  {
   "cell_type": "code",
   "execution_count": null,
   "id": "7f7e5103-930c-4380-96e1-c65301b34e55",
   "metadata": {},
   "outputs": [],
   "source": [
    "from utilsforecast.data import generate_series"
   ]
  },
  {
   "cell_type": "code",
   "execution_count": null,
   "id": "0fd76fe2-9b47-470b-8e63-f9fe639b2e0f",
   "metadata": {},
   "outputs": [],
   "source": [
    "#| export\n",
    "def validate_format(\n",
    "    df: DataFrame,\n",
    "    id_col: str = 'unique_id',\n",
    "    time_col: str = 'ds',\n",
    "    target_col: str = 'y',\n",
    ") -> None:\n",
    "    # required columns\n",
    "    missing_cols = sorted({id_col, time_col, target_col} - set(df.columns))\n",
    "    if missing_cols:\n",
    "        raise ValueError(f\"The following columns are missing: {missing_cols}\")\n",
    "\n",
    "    # time col\n",
    "    times_dtype = df[time_col].head(1).to_numpy().dtype\n",
    "    if not (np.issubdtype(times_dtype, np.datetime64) or np.issubdtype(times_dtype, np.integer)):\n",
    "        raise ValueError(f\"The time column ('{time_col}') should have either datetimes or integers, got '{times_dtype}'.\")\n",
    "\n",
    "    # target col\n",
    "    target_dtype = df[target_col].head(1).to_numpy().dtype\n",
    "    if not np.issubdtype(target_dtype, np.number):\n",
    "        raise ValueError(f\"The target column ('{target_col}') should have a numeric data type, got '{target_dtype}')\")"
   ]
  },
  {
   "cell_type": "code",
   "execution_count": null,
   "id": "f0072de7-2cb2-469d-a0c8-59d6d60e7858",
   "metadata": {},
   "outputs": [],
   "source": [
    "import datetime\n",
    "\n",
    "import pandas as pd\n",
    "import polars as pl\n",
    "\n",
    "from fastcore.test import test_fail"
   ]
  },
  {
   "cell_type": "code",
   "execution_count": null,
   "id": "c86a3919-73a9-4cfd-886a-557ba2feaf24",
   "metadata": {},
   "outputs": [],
   "source": [
    "for constructor in (pd.DataFrame, pl.DataFrame):\n",
    "    df = constructor({'unique_id': [1]})\n",
    "    test_fail(lambda: validate_format(df), contains=\"missing: ['ds', 'y']\")\n",
    "    df = constructor({'unique_id': [1], 'time': ['x'], 'y': [1]})\n",
    "    test_fail(lambda: validate_format(df, time_col='time'), contains=\"('time') should have either datetimes or integers\")\n",
    "    for time in [1, datetime.datetime(2000, 1, 1)]:\n",
    "        df = constructor({'unique_id': [1], 'ds': [time], 'sales': ['x']})\n",
    "        test_fail(lambda: validate_format(df, target_col='sales'), contains=\"('sales') should have a numeric data type\")"
   ]
  }
 ],
 "metadata": {
  "kernelspec": {
   "display_name": "python3",
   "language": "python",
   "name": "python3"
  }
 },
 "nbformat": 4,
 "nbformat_minor": 5
}
