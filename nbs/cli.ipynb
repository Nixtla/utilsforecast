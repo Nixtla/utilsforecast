{
 "cells": [
  {
   "cell_type": "code",
   "execution_count": null,
   "id": "d9bbcfbf",
   "metadata": {},
   "outputs": [],
   "source": [
    "#|default_exp cli"
   ]
  },
  {
   "cell_type": "code",
   "execution_count": null,
   "id": "b622bc9b",
   "metadata": {},
   "outputs": [],
   "source": [
    "#|export\n",
    "from execnb.nbio import read_nb\n",
    "from nbdev.processors import NBProcessor\n",
    "from nbdev.export import ExportModuleProc, nb_export\n",
    "from nbdev.maker import ModuleMaker\n",
    "from fastcore.xtras import globtastic, Path\n",
    "from functools import partial\n",
    "from fastcore.script import call_parse"
   ]
  },
  {
   "cell_type": "code",
   "execution_count": null,
   "id": "a98e24fc",
   "metadata": {},
   "outputs": [],
   "source": [
    "nb_path = \"./evaluation.ipynb\"\n",
    "nb = read_nb(nb_path)"
   ]
  },
  {
   "cell_type": "code",
   "execution_count": null,
   "id": "6391ab8e",
   "metadata": {},
   "outputs": [],
   "source": [
    "#|export\n",
    "tst_flags = 'datasets distributed matplotlib polars pyarrow scipy'.split()\n",
    "\n",
    "\n",
    "def print_execs(cell):\n",
    "    if 'exec' in cell.source: print(cell.source)\n",
    "\n",
    "def print_hide(cell):\n",
    "    if 'hide' in cell.directives_: print(cell.source)\n",
    "\n",
    "def other_tests(cell):\n",
    "    if len(cell.directives_) == 0:\n",
    "        print(cell.source)\n",
    "\n",
    "def get_markdown(cell):\n",
    "    if cell.cell_type == \"markdown\":\n",
    "        print(cell.source)\n",
    "\n",
    "def extract_dir(cell, dir):\n",
    "    if dir in cell.directives_:\n",
    "        print(cell.source)\n",
    "\n",
    "def no_dir_and_dir(cell, dir):\n",
    "    if len(cell.directives_) == 0:\n",
    "        print(cell.source)\n",
    "\n",
    "    if dir in cell.directives_:\n",
    "        print(cell.source)\n",
    "\n",
    "def get_all_tests(cell):\n",
    "    if len(cell.directives_) == 0:\n",
    "        print(cell.source)\n",
    "\n",
    "    if any(x in tst_flags + ['hide'] for x in cell.directives_):\n",
    "        print(cell.source)"
   ]
  },
  {
   "cell_type": "code",
   "execution_count": null,
   "id": "4ebddd94",
   "metadata": {},
   "outputs": [
    {
     "data": {
      "text/plain": [
       "['datasets', 'distributed', 'matplotlib', 'polars', 'pyarrow', 'scipy', 'hide']"
      ]
     },
     "execution_count": null,
     "metadata": {},
     "output_type": "execute_result"
    }
   ],
   "source": [
    "tst_flags + ['hide']"
   ]
  },
  {
   "cell_type": "code",
   "execution_count": null,
   "id": "502fa72c",
   "metadata": {},
   "outputs": [],
   "source": [
    "#|export\n",
    "mapper = {\n",
    "    'print_execs': print_execs,\n",
    "    'print_hide': print_hide,\n",
    "    'other_tests': other_tests,\n",
    "    'get_markdown': get_markdown,\n",
    "    'extract_dir': extract_dir,\n",
    "    'no_dir_and_dir': no_dir_and_dir,\n",
    "    'get_all_tests':get_all_tests\n",
    "}"
   ]
  },
  {
   "cell_type": "code",
   "execution_count": null,
   "id": "1c189eef",
   "metadata": {},
   "outputs": [],
   "source": [
    "#|export\n",
    "@call_parse\n",
    "def print_dir_in_nb(nb_path:str,\n",
    "                    dir:str=None,\n",
    "                    dir_name:str=None,\n",
    "                    ):\n",
    "    if dir_name not in mapper.keys():\n",
    "        raise ValueError(f'Choose processor from the the following: {mapper.keys()}')\n",
    "\n",
    "    if dir_name == 'extract_dir':\n",
    "        processor = NBProcessor(nb_path, partial(extract_dir, dir=dir))\n",
    "        processor.process()\n",
    "        return\n",
    "    elif dir_name == 'no_dir_and_dir':\n",
    "        processor = NBProcessor(nb_path, partial(no_dir_and_dir, dir=dir))\n",
    "        processor.process()\n",
    "        return\n",
    "\n",
    "    processor = NBProcessor(nb_path, mapper[dir_name])\n",
    "    processor.process()\n"
   ]
  },
  {
   "cell_type": "code",
   "execution_count": null,
   "id": "e3be25c9",
   "metadata": {},
   "outputs": [],
   "source": [
    "processor = NBProcessor(nb_path, partial(extract_dir, dir='distributed'))"
   ]
  },
  {
   "cell_type": "code",
   "execution_count": null,
   "id": "df36376d",
   "metadata": {},
   "outputs": [
    {
     "name": "stdout",
     "output_type": "stream",
     "text": [
      "import sys\n",
      "from itertools import product\n",
      "\n",
      "import dask.dataframe as dd\n",
      "import fugue.api as fa\n",
      "from pyspark.sql import SparkSession\n",
      "if sys.version_info >= (3, 9):\n",
      "    spark = SparkSession.builder.getOrCreate()\n",
      "    spark.sparkContext.setLogLevel('FATAL')\n",
      "    dask_df = dd.from_pandas(series, npartitions=2)\n",
      "    spark_df = spark.createDataFrame(series).repartition(2)\n",
      "    for distributed_df, use_train in product([dask_df, spark_df], [True, False]):\n",
      "        distr_metrics = [rmse, mae]\n",
      "        if use_train:\n",
      "            distr_metrics.append(partial(mase, seasonality=7))\n",
      "            local_train = series\n",
      "            distr_train = distributed_df\n",
      "        else:\n",
      "            local_train = None\n",
      "            distr_train = None\n",
      "        local_res = evaluate(series, metrics=distr_metrics, level=level, train_df=local_train)\n",
      "        distr_res = fa.as_fugue_df(\n",
      "            evaluate(distributed_df, metrics=distr_metrics, level=level, train_df=distr_train)\n",
      "        ).as_pandas()\n",
      "        pd.testing.assert_frame_equal(\n",
      "            local_res.sort_values(['unique_id', 'metric']).reset_index(drop=True),\n",
      "            distr_res.sort_values(['unique_id', 'metric']).reset_index(drop=True),\n",
      "            check_dtype=False,\n",
      "        )\n"
     ]
    }
   ],
   "source": [
    "processor.process()"
   ]
  },
  {
   "cell_type": "code",
   "execution_count": null,
   "id": "f61392f9",
   "metadata": {},
   "outputs": [],
   "source": [
    "nb_export(nb_path, '../tests', partial(extract_dir, dir='distributed'), 'foo2')"
   ]
  },
  {
   "cell_type": "code",
   "execution_count": null,
   "id": "82c974d8",
   "metadata": {},
   "outputs": [],
   "source": []
  },
  {
   "cell_type": "code",
   "execution_count": null,
   "id": "31426130",
   "metadata": {},
   "outputs": [],
   "source": []
  },
  {
   "cell_type": "code",
   "execution_count": null,
   "id": "92247f47",
   "metadata": {},
   "outputs": [],
   "source": [
    "nbs = globtastic('../nbs', file_glob='*.ipynb', recursive=False).map(Path).sorted()\n",
    "tst_flags = 'datasets distributed matplotlib polars pyarrow scipy'.split()"
   ]
  },
  {
   "cell_type": "code",
   "execution_count": null,
   "id": "242be5c9",
   "metadata": {},
   "outputs": [
    {
     "data": {
      "text/plain": [
       "(#12) [Path('../nbs/compat.ipynb'),Path('../nbs/data.ipynb'),Path('../nbs/evaluation.ipynb'),Path('../nbs/feature_engineering.ipynb'),Path('../nbs/grouped_array.ipynb'),Path('../nbs/index.ipynb'),Path('../nbs/losses.ipynb'),Path('../nbs/plotting.ipynb'),Path('../nbs/preprocessing.ipynb'),Path('../nbs/processing.ipynb'),Path('../nbs/read.ipynb'),Path('../nbs/validation.ipynb')]"
      ]
     },
     "execution_count": null,
     "metadata": {},
     "output_type": "execute_result"
    }
   ],
   "source": [
    "nbs"
   ]
  },
  {
   "cell_type": "code",
   "execution_count": null,
   "id": "fc44bc54",
   "metadata": {},
   "outputs": [],
   "source": [
    "TEST_PATH = Path('../tests').resolve()"
   ]
  },
  {
   "cell_type": "code",
   "execution_count": null,
   "id": "c01da20b",
   "metadata": {},
   "outputs": [
    {
     "data": {
      "text/plain": [
       "Path('/Users/deven367/projects/public/utilsforecast/tests')"
      ]
     },
     "execution_count": null,
     "metadata": {},
     "output_type": "execute_result"
    }
   ],
   "source": [
    "TEST_PATH"
   ]
  },
  {
   "cell_type": "code",
   "execution_count": null,
   "id": "b725156d",
   "metadata": {},
   "outputs": [],
   "source": [
    "if not TEST_PATH.exists():\n",
    "    TEST_PATH.mkdir()"
   ]
  },
  {
   "cell_type": "code",
   "execution_count": null,
   "id": "522bd94f",
   "metadata": {},
   "outputs": [
    {
     "data": {
      "text/plain": [
       "Path('../nbs/grouped_array.ipynb')"
      ]
     },
     "execution_count": null,
     "metadata": {},
     "output_type": "execute_result"
    }
   ],
   "source": [
    "nbs[4]"
   ]
  },
  {
   "cell_type": "code",
   "execution_count": null,
   "id": "c889adde",
   "metadata": {},
   "outputs": [],
   "source": [
    "# for tst in tst_flags:\n",
    "#     for nb in nbs:\n",
    "#         nb_name = nb.stem\n",
    "#         nb_export(nb, lib_path='../tests', procs=partial(extract_dir, dir=tst), name=f'{tst}_{nb_name}')"
   ]
  },
  {
   "cell_type": "code",
   "execution_count": null,
   "id": "5c848413",
   "metadata": {},
   "outputs": [],
   "source": [
    "# for tst in tst_flags:\n",
    "#     for nb in nbs:\n",
    "#         nb_name = nb.stem\n",
    "#         code = NBProcessor(nb, partial(extract_dir, dir=tst))\n",
    "#         with open(TEST_PATH / f'{tst}.py', '+a') as f:\n",
    "#             if code.process() is not None:\n",
    "#                 f.write(code.process())"
   ]
  },
  {
   "cell_type": "code",
   "execution_count": null,
   "id": "856c6421",
   "metadata": {},
   "outputs": [],
   "source": []
  }
 ],
 "metadata": {
  "kernelspec": {
   "display_name": "python3",
   "language": "python",
   "name": "python3"
  }
 },
 "nbformat": 4,
 "nbformat_minor": 5
}
