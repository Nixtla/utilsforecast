{
 "cells": [
  {
   "cell_type": "code",
   "execution_count": null,
   "id": "1e8884f9-c24b-4640-9a4b-1e71d7d4d300",
   "metadata": {},
   "outputs": [],
   "source": [
    "#| default_exp utils"
   ]
  },
  {
   "cell_type": "code",
   "execution_count": null,
   "id": "7f2b802e-591d-48cc-b85d-c3f3bdea542b",
   "metadata": {},
   "outputs": [],
   "source": [
    "#| hide\n",
    "%load_ext autoreload\n",
    "%autoreload 2"
   ]
  },
  {
   "cell_type": "code",
   "execution_count": null,
   "id": "256db0ea-cc16-42fa-8352-137aa9597593",
   "metadata": {},
   "outputs": [],
   "source": [
    "#| export\n",
    "import inspect\n",
    "from functools import wraps"
   ]
  },
  {
   "cell_type": "code",
   "execution_count": null,
   "id": "ed203840-2f16-4432-99e0-5f034d73c78a",
   "metadata": {},
   "outputs": [],
   "source": [
    "#| export\n",
    "def ensure_dtypes(*names):\n",
    "    def decorator(f):\n",
    "        @wraps(f)\n",
    "        def inner(*args, **kwargs):\n",
    "            fparams = inspect.signature(f).parameters\n",
    "            fparams_names = list(fparams.keys())\n",
    "            for name in names:\n",
    "                position = fparams_names.index(name)\n",
    "                if position < len(args) or name in kwargs:\n",
    "                    arg = args[position] if position < len(args) else kwargs[name]\n",
    "                    expected_dtype = fparams[name].annotation\n",
    "                    if not isinstance(arg, expected_dtype):\n",
    "                        raise ValueError(f\"'{name}' should have the following type: {expected_dtype}. Got {type(arg)}.\")\n",
    "            return f(*args, **kwargs)\n",
    "        return inner\n",
    "    return decorator"
   ]
  },
  {
   "cell_type": "code",
   "execution_count": null,
   "id": "0550bc94-58e9-4a65-b973-9a379cb6bfb6",
   "metadata": {},
   "outputs": [],
   "source": [
    "import pandas as pd\n",
    "import polars as pl\n",
    "from fastcore.test import test_eq, test_fail\n",
    "\n",
    "from utilsforecast.compat import DataFrame"
   ]
  },
  {
   "cell_type": "code",
   "execution_count": null,
   "id": "1ad6a294-7703-41ab-9689-85a349698a59",
   "metadata": {},
   "outputs": [],
   "source": [
    "@ensure_dtypes('a')\n",
    "def f(a: int, b=None):\n",
    "    return a\n",
    "\n",
    "test_eq(f(1, 2), 1)\n",
    "expected_err_msg = \"'a' should have the following type: <class 'int'>. Got <class 'str'>.\"\n",
    "test_fail(lambda: f('a', 2), contains=expected_err_msg)\n",
    "test_fail(lambda: f(a='a', b=1), contains=expected_err_msg)"
   ]
  },
  {
   "cell_type": "code",
   "execution_count": null,
   "id": "b27dde97-b21a-42a6-b399-c7a800fad36d",
   "metadata": {},
   "outputs": [],
   "source": [
    "@ensure_dtypes('df')\n",
    "def g(df: DataFrame):\n",
    "    return df\n",
    "\n",
    "g(pd.DataFrame([1]))\n",
    "g(df=pd.DataFrame([1]))\n",
    "g(pl.DataFrame([1]))\n",
    "expected_err_msg = \"'df' should have the following type\"\n",
    "test_fail(lambda: g(1), contains=expected_err_msg)"
   ]
  }
 ],
 "metadata": {
  "kernelspec": {
   "display_name": "python3",
   "language": "python",
   "name": "python3"
  }
 },
 "nbformat": 4,
 "nbformat_minor": 5
}
