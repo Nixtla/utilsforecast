{
 "cells": [
  {
   "cell_type": "code",
   "execution_count": null,
   "id": "7c45b2e6-035c-4f60-be2e-5e0f63c12be8",
   "metadata": {},
   "outputs": [],
   "source": [
    "#| hide\n",
    "%load_ext autoreload\n",
    "%autoreload 2"
   ]
  },
  {
   "cell_type": "code",
   "execution_count": null,
   "id": "5cfe2b2e-c5ef-47d0-a41a-cd66d35a79a6",
   "metadata": {},
   "outputs": [],
   "source": [
    "#| default_exp grouped_array"
   ]
  },
  {
   "cell_type": "markdown",
   "id": "83dc6800-9ed4-482f-b688-ab848143af4f",
   "metadata": {},
   "source": [
    "# Grouped Array\n",
    "> Internal structure used to store and process time series"
   ]
  },
  {
   "cell_type": "code",
   "execution_count": null,
   "id": "32a064bd-3102-4110-8020-b20a1c492fd6",
   "metadata": {},
   "outputs": [],
   "source": [
    "#| export\n",
    "import numpy as np"
   ]
  },
  {
   "cell_type": "code",
   "execution_count": null,
   "id": "056d75aa-5e57-499b-a63e-79c4a7393978",
   "metadata": {},
   "outputs": [],
   "source": [
    "#| export\n",
    "class GroupedArray:\n",
    "    def __init__(self, data: np.ndarray, indptr: np.ndarray):\n",
    "        self.data = data\n",
    "        self.indptr = indptr"
   ]
  }
 ],
 "metadata": {
  "kernelspec": {
   "display_name": "python3",
   "language": "python",
   "name": "python3"
  }
 },
 "nbformat": 4,
 "nbformat_minor": 5
}
