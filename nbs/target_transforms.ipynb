{
 "cells": [
  {
   "cell_type": "code",
   "execution_count": null,
   "id": "87f2247f-be0c-4a71-bf79-d260988e8e7a",
   "metadata": {},
   "outputs": [],
   "source": [
    "#| default_exp target_transforms"
   ]
  },
  {
   "cell_type": "code",
   "execution_count": null,
   "id": "a639d9d1-0b9f-41b2-b154-3172bf8cbebf",
   "metadata": {},
   "outputs": [],
   "source": [
    "#| hide\n",
    "%load_ext autoreload\n",
    "%autoreload 2"
   ]
  },
  {
   "cell_type": "markdown",
   "id": "ba00a9c6-845d-4840-ad64-68a8d5430836",
   "metadata": {},
   "source": [
    "# Target transforms\n",
    "Transformations that can be applied to the target before fitting and restored after predicting."
   ]
  },
  {
   "cell_type": "code",
   "execution_count": null,
   "id": "ae088aa3-7a4e-4c29-98fe-940277d93c57",
   "metadata": {},
   "outputs": [],
   "source": [
    "#| export\n",
    "import abc\n",
    "from typing import Tuple\n",
    "\n",
    "try:\n",
    "    from numba import njit\n",
    "except ImportError:\n",
    "    raise ImportError(\n",
    "        \"Please install numba. \"\n",
    "        \"You can find detailed instructions at https://numba.pydata.org/numba-doc/latest/user/installing.html\"\n",
    "    )\n",
    "import numpy as np\n",
    "\n",
    "from utilsforecast.grouped_array import GroupedArray"
   ]
  },
  {
   "cell_type": "code",
   "execution_count": null,
   "id": "85c487eb",
   "metadata": {},
   "outputs": [],
   "source": [
    "#| export\n",
    "class BaseTargetTransform(abc.ABC):\n",
    "    \"\"\"Base class used for target transformations.\"\"\"\n",
    "    @abc.abstractmethod\n",
    "    def fit_transform(self, ga: GroupedArray) -> np.ndarray:\n",
    "        raise NotImplementedError\n",
    "\n",
    "    @abc.abstractmethod\n",
    "    def inverse_transform(self, ga: GroupedArray) -> np.ndarray:\n",
    "        raise NotImplementedError"
   ]
  },
  {
   "cell_type": "code",
   "execution_count": null,
   "id": "208c98a7-8fc9-4dc4-b697-e9b7056c5ffa",
   "metadata": {},
   "outputs": [],
   "source": [
    "#| exporti\n",
    "@njit\n",
    "def _standard_scaler_transform(\n",
    "    data: np.ndarray,\n",
    "    indptr: np.ndarray\n",
    ") -> Tuple[np.ndarray, np.ndarray]:\n",
    "    n_groups = len(indptr) - 1\n",
    "    stats = np.empty((n_groups, 2))\n",
    "    out = np.empty_like(data)\n",
    "    for i in range(n_groups):\n",
    "        sl = slice(indptr[i], indptr[i + 1])\n",
    "        mean = np.mean(data[sl])\n",
    "        std = np.std(data[sl])\n",
    "        stats[i, :] = mean, std\n",
    "        out[sl] = (data[sl] - mean) / std\n",
    "    return out, stats\n",
    "\n",
    "\n",
    "@njit\n",
    "def _standard_scaler_inverse_transform(\n",
    "    data: np.ndarray,\n",
    "    indptr: np.ndarray,\n",
    "    stats: np.ndarray,\n",
    ") -> np.ndarray:\n",
    "    n_groups = len(indptr) - 1\n",
    "    out = np.empty_like(data)\n",
    "    for i in range(n_groups):\n",
    "        sl = slice(indptr[i], indptr[i + 1])\n",
    "        mean, std = stats[i]\n",
    "        out[sl] = data[sl] * std + mean\n",
    "    return out"
   ]
  },
  {
   "cell_type": "code",
   "execution_count": null,
   "id": "67473e24-19f4-4c04-bc4b-13c313cbf52a",
   "metadata": {},
   "outputs": [],
   "source": [
    "#| export\n",
    "class LocalStandardScaler(BaseTargetTransform):\n",
    "    \"\"\"Standardizes each serie by subtracting its mean and dividing by its standard deviation.\"\"\"\n",
    "    def fit_transform(self, ga: GroupedArray) -> np.ndarray:\n",
    "        transformed, self.stats_ = _standard_scaler_transform(ga.data, ga.indptr)\n",
    "        return transformed\n",
    "\n",
    "    def inverse_transform(self, ga: GroupedArray) -> np.ndarray:\n",
    "        return _standard_scaler_inverse_transform(ga.data, ga.indptr, self.stats_)"
   ]
  },
  {
   "cell_type": "code",
   "execution_count": null,
   "id": "a0daa3f7-c214-4eb8-bd8d-e12095c0be6a",
   "metadata": {},
   "outputs": [],
   "source": [
    "from utilsforecast.data import generate_series"
   ]
  },
  {
   "cell_type": "code",
   "execution_count": null,
   "id": "1184ce19-b831-40dd-b241-18ea8ee0cf2b",
   "metadata": {},
   "outputs": [],
   "source": [
    "series = generate_series(10, min_length=50, max_length=100)"
   ]
  },
  {
   "cell_type": "code",
   "execution_count": null,
   "id": "09b5c20d-87b4-4784-8f7c-bcff37e2659c",
   "metadata": {},
   "outputs": [],
   "source": [
    "sc = LocalStandardScaler()\n",
    "data = series['y'].values\n",
    "sizes = series.groupby('unique_id', observed=True).size().values\n",
    "indptr = np.append(0, sizes.cumsum())\n",
    "ga = GroupedArray(data, indptr)\n",
    "transformed = sc.fit_transform(ga)\n",
    "transformed_ga = GroupedArray(transformed, ga.indptr)\n",
    "np.testing.assert_allclose(\n",
    "    sc.inverse_transform(transformed_ga),\n",
    "    data,\n",
    ")"
   ]
  },
  {
   "cell_type": "code",
   "execution_count": null,
   "id": "e794c323-bbff-4689-8e39-ae64b6f8b2be",
   "metadata": {},
   "outputs": [],
   "source": [
    "class LocalBoxCox(BaseTargetTransform):\n",
    "    \"\"\"Finds optimum lambda for each serie and applies Box-Cox transformation.\"\"\"\n",
    "    def fit_transform(self, ga: GroupedArray) -> np.ndarray:\n",
    "        from scipy.stats import boxcox\n",
    "\n",
    "        out = np.empty_like(ga.data)\n",
    "        self.lmbdas_ = np.empty(ga.n_groups)\n",
    "        for i in range(ga.n_groups):\n",
    "            sl = slice(ga.indptr[i], ga.indptr[i + 1])\n",
    "            transformed, self.lmbdas_[i] = boxcox(ga.data[sl], lmbda=None)\n",
    "            if np.isclose(transformed * self.lmbdas_[i], -1).any():\n",
    "                # in this case we can't reliably invert transformation\n",
    "                # fallback to log\n",
    "                transformed, self.lmbdas_[i] = boxcox(ga.data[sl], lmbda=0)\n",
    "            out[sl] = transformed\n",
    "        return out\n",
    "\n",
    "    def inverse_transform(self, ga: GroupedArray) -> np.ndarray:\n",
    "        from scipy.special import inv_boxcox\n",
    "\n",
    "        sizes = np.diff(ga.indptr)\n",
    "        lmbdas = np.repeat(self.lmbdas_, sizes, axis=0)\n",
    "        return inv_boxcox(ga.data, lmbdas)"
   ]
  },
  {
   "cell_type": "code",
   "execution_count": null,
   "id": "2e9d33a4-6fd9-46ae-b946-5478ef78a873",
   "metadata": {},
   "outputs": [],
   "source": [
    "bc = LocalBoxCox()\n",
    "transformed = bc.fit_transform(ga)\n",
    "transformed_ga = GroupedArray(transformed, ga.indptr)\n",
    "np.testing.assert_allclose(\n",
    "    bc.inverse_transform(transformed_ga),\n",
    "    data,\n",
    ")"
   ]
  }
 ],
 "metadata": {
  "kernelspec": {
   "display_name": "python3",
   "language": "python",
   "name": "python3"
  }
 },
 "nbformat": 4,
 "nbformat_minor": 5
}
