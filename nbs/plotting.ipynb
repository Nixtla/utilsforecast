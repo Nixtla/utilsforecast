{
 "cells": [
  {
   "cell_type": "code",
   "execution_count": null,
   "metadata": {},
   "outputs": [],
   "source": [
    "#| hide\n",
    "%load_ext autoreload\n",
    "%autoreload 2"
   ]
  },
  {
   "cell_type": "code",
   "execution_count": null,
   "metadata": {},
   "outputs": [],
   "source": [
    "#| default_exp plotting"
   ]
  },
  {
   "cell_type": "markdown",
   "metadata": {},
   "source": [
    "# Plotting\n",
    "\n",
    "> Time series visualizations"
   ]
  },
  {
   "cell_type": "code",
   "execution_count": null,
   "metadata": {},
   "outputs": [],
   "source": [
    "#| hide\n",
    "from nbdev.showdoc import show_doc"
   ]
  },
  {
   "cell_type": "code",
   "execution_count": null,
   "metadata": {},
   "outputs": [],
   "source": [
    "#| export\n",
    "import re\n",
    "from typing import TYPE_CHECKING, Dict, List, Optional, Union\n",
    "\n",
    "try:\n",
    "    import matplotlib as mpl\n",
    "    import matplotlib.pyplot as plt\n",
    "    import matplotlib.colors as cm\n",
    "except ImportError:\n",
    "    raise ImportError(\n",
    "        \"matplotlib is not installed. Please install it and try again.\\n\"\n",
    "        \"You can find detailed instructions at https://matplotlib.org/stable/users/installing/index.html\"\n",
    "    )\n",
    "import numpy as np\n",
    "import pandas as pd\n",
    "if TYPE_CHECKING:\n",
    "    import plotly\n",
    "from packaging.version import Version, parse as parse_version\n",
    "\n",
    "import utilsforecast.processing as ufp\n",
    "from utilsforecast.compat import DFType, pl_Series, pl\n",
    "from utilsforecast.validation import validate_format"
   ]
  },
  {
   "cell_type": "code",
   "execution_count": null,
   "metadata": {},
   "outputs": [],
   "source": [
    "#| exporti\n",
    "def _filter_series(\n",
    "    df, id_col, time_col, uids, models=None, max_insample_length=None\n",
    "):\n",
    "    out_cols = [id_col, time_col]\n",
    "    if models is not None:\n",
    "        models_pat = r'|'.join(models).replace(r'(', r'\\(').replace(r')', r'\\)')\n",
    "        interval_cols = [c for c in df.columns if re.search(rf\"^({models_pat})-(?:lo|hi)-\\d+\", c)]\n",
    "        out_cols.extend(models + interval_cols)\n",
    "    mask = ufp.is_in(df[id_col], uids)\n",
    "    df = ufp.filter_with_mask(df, mask)\n",
    "    df = df[out_cols]\n",
    "    df = ufp.sort(df, time_col)\n",
    "    if max_insample_length is not None:\n",
    "        df = ufp.group_by(df, id_col, maintain_order=True).tail(max_insample_length)\n",
    "    return df"
   ]
  },
  {
   "cell_type": "code",
   "execution_count": null,
   "metadata": {},
   "outputs": [],
   "source": [
    "#| export\n",
    "def plot_series(\n",
    "    df: Optional[DFType] = None,\n",
    "    forecasts_df: Optional[DFType] = None,\n",
    "    ids: Optional[List[str]] = None,\n",
    "    plot_random: bool = True,\n",
    "    max_ids: int = 8,\n",
    "    models: Optional[List[str]] = None,\n",
    "    level: Optional[List[float]] = None,\n",
    "    max_insample_length: Optional[int] = None,\n",
    "    plot_anomalies: bool = False,\n",
    "    engine: str = 'matplotlib',\n",
    "    palette: Optional[str] = None,\n",
    "    id_col: str = 'unique_id',\n",
    "    time_col: str = 'ds',\n",
    "    target_col: str = 'y',\n",
    "    seed: int = 0,\n",
    "    resampler_kwargs: Optional[Dict] = None,\n",
    "    ax: Optional[Union[plt.Axes, np.ndarray, 'plotly.graph_objects.Figure']] = None,\n",
    "):\n",
    "    \"\"\"Plot forecasts and insample values.\n",
    "\n",
    "    Parameters\n",
    "    ----------\n",
    "    df : pandas or polars DataFrame, optional (default=None)\n",
    "        DataFrame with columns [`id_col`, `time_col`, `target_col`].\n",
    "    forecasts_df : pandas or polars DataFrame, optional (default=None)\n",
    "        DataFrame with columns [`id_col`, `time_col`] and models.\n",
    "    ids : list of str, optional (default=None)\n",
    "        Time Series to plot.\n",
    "        If None, time series are selected randomly.\n",
    "    plot_random : bool (default=True)\n",
    "        Select time series to plot randomly.\n",
    "    max_ids : int (default=8)\n",
    "        Maximum number of ids to plot.        \n",
    "    models : list of str, optional (default=None)\n",
    "        Models to plot.\n",
    "    level : list of float, optional (default=None)\n",
    "        Prediction intervals to plot.\n",
    "    max_insample_length : int, optional (default=None)\n",
    "        Maximum number of train/insample observations to be plotted.\n",
    "    plot_anomalies : bool (default=False)\n",
    "        Plot anomalies for each prediction interval.\n",
    "    engine : str (default='matplotlib')\n",
    "        Library used to plot. 'plotly', 'plotly-resampler' or 'matplotlib'.\n",
    "    palette : str (default=None)\n",
    "        Name of the matplotlib colormap to use for the plots. If None, uses the current style.\n",
    "    id_col : str (default='unique_id')\n",
    "        Column that identifies each serie.\n",
    "    time_col : str (default='ds')\n",
    "        Column that identifies each timestep, its values can be timestamps or integers.\n",
    "    target_col : str (default='y')\n",
    "        Column that contains the target.\n",
    "    seed : int (default=0)\n",
    "        Seed used for the random number generator. Only used if plot_random is True.\n",
    "    resampler_kwargs : dict\n",
    "        Keyword arguments to be passed to plotly-resampler constructor.\n",
    "        For further custumization (\"show_dash\") call the method,\n",
    "        store the plotting object and add the extra arguments to\n",
    "        its `show_dash` method.\n",
    "    ax : matplotlib axes, array of matplotlib axes or plotly Figure, optional (default=None)\n",
    "        Object where plots will be added.\n",
    "\n",
    "    Returns\n",
    "    -------\n",
    "    fig : matplotlib or plotly figure\n",
    "        Plot's figure\n",
    "    \"\"\"\n",
    "    # checks\n",
    "    supported_engines = ['matplotlib', 'plotly', 'plotly-resampler']\n",
    "    if engine not in supported_engines:\n",
    "        raise ValueError(f\"engine must be one of {supported_engines}, got '{engine}'.\")\n",
    "    if engine.startswith('plotly'):\n",
    "        try:\n",
    "            import plotly.graph_objects as go\n",
    "            from plotly.subplots import make_subplots\n",
    "        except ImportError:\n",
    "            raise ImportError(\n",
    "                \"plotly is not installed. Please install it and try again.\\n\"\n",
    "                \"You can find detailed instructions at https://github.com/plotly/plotly.py#installation\"\n",
    "            )\n",
    "    if plot_anomalies:\n",
    "        if level is None:\n",
    "            raise ValueError('In order to plot anomalies you have to specify the `level` argument')\n",
    "        elif forecasts_df is None or not any('lo' in c for c in forecasts_df.columns):\n",
    "            raise ValueError('In order to plot anomalies you have to provide a `forecasts_df` with prediction intervals.')\n",
    "    if level is not None and not isinstance(level, list):\n",
    "        raise ValueError(\n",
    "            \"Please use a list for the `level` argument \"\n",
    "            \"If you only have one level, use `level=[your_level]`\"\n",
    "        )\n",
    "    elif level is None:\n",
    "        level = []\n",
    "    if df is None and forecasts_df is None:\n",
    "        raise ValueError(\"At least one of `df` and `forecasts_df` must be provided.\")\n",
    "    elif df is not None:\n",
    "        validate_format(df, id_col, time_col, target_col)\n",
    "    elif forecasts_df is not None:\n",
    "        validate_format(forecasts_df, id_col, time_col, None)\n",
    "\n",
    "    # models to plot\n",
    "    if models is None:\n",
    "        if forecasts_df is None:\n",
    "            models = []\n",
    "        else:\n",
    "            models = [\n",
    "                c for c in forecasts_df.columns\n",
    "                if c not in [id_col, time_col, target_col]\n",
    "                and not re.search(r\"-(?:lo|hi)-\\d+\", c)\n",
    "            ]\n",
    "\n",
    "    # ids\n",
    "    if ids is None:\n",
    "        if df is not None:\n",
    "            uids: Union[np.ndarray, pl_Series, List] = df[id_col].unique()\n",
    "        else:\n",
    "            assert forecasts_df is not None\n",
    "            uids = forecasts_df[id_col].unique()\n",
    "    else:\n",
    "        uids = ids\n",
    "    if ax is not None:\n",
    "        if isinstance(ax, plt.Axes):\n",
    "            ax = np.array([ax])\n",
    "        if isinstance(ax, np.ndarray) and isinstance(ax.flat[0], plt.Axes):\n",
    "            gs = ax.flat[0].get_gridspec()\n",
    "            n_rows, n_cols = gs.nrows, gs.ncols\n",
    "            ax = ax.reshape(n_rows, n_cols)\n",
    "        elif engine.startswith('plotly') and isinstance(ax, go.Figure):\n",
    "            rows, cols = ax._get_subplot_rows_columns()\n",
    "            # rows and cols are ranges\n",
    "            n_rows = len(rows)\n",
    "            n_cols = len(cols)\n",
    "        else:\n",
    "            raise ValueError(f'Cannot process `ax` of type: {type(ax).__name__}.')\n",
    "        max_ids = n_rows * n_cols\n",
    "    if len(uids) > max_ids and plot_random:\n",
    "        rng = np.random.RandomState(seed)\n",
    "        uids = rng.choice(uids, size=max_ids, replace=False)\n",
    "    else:\n",
    "        uids = uids[:max_ids]\n",
    "    n_series = len(uids)\n",
    "    if ax is None:\n",
    "        if n_series == 1:\n",
    "            n_cols = 1            \n",
    "        else:\n",
    "            n_cols = 2\n",
    "        quot, resid = divmod(n_series, n_cols)\n",
    "        n_rows = quot + resid\n",
    "\n",
    "    # filtering\n",
    "    if df is not None:\n",
    "        df = _filter_series(\n",
    "            df=df,\n",
    "            id_col=id_col,\n",
    "            time_col=time_col,\n",
    "            uids=uids,\n",
    "            models=[target_col],\n",
    "            max_insample_length=max_insample_length,\n",
    "        )\n",
    "    if forecasts_df is not None:\n",
    "        forecasts_df = _filter_series(\n",
    "            df=forecasts_df,\n",
    "            id_col=id_col,\n",
    "            time_col=time_col,\n",
    "            uids=uids,\n",
    "            models=[target_col] + models if target_col in forecasts_df else models,\n",
    "            max_insample_length=None,\n",
    "        )\n",
    "        if df is None:\n",
    "            df = forecasts_df\n",
    "        else:\n",
    "            if isinstance(df, pd.DataFrame):\n",
    "                df = pd.concat([df, forecasts_df])\n",
    "            else:\n",
    "                df = pl.concat([df, forecasts_df], how='align')\n",
    "\n",
    "    xlabel = f'Time [{time_col}]'\n",
    "    ylabel = f'Target [{target_col}]'\n",
    "    if palette is not None:\n",
    "        if parse_version(mpl.__version__) < Version('3.6'):\n",
    "            cmap = plt.cm.get_cmap(palette, len(models) + 1)\n",
    "        else:\n",
    "            cmap = mpl.colormaps[palette].resampled(len(models) + 1)\n",
    "        colors = [cm.to_hex(color) for color in cmap.colors]            \n",
    "    else:\n",
    "        colors_stylesheet = plt.rcParams['axes.prop_cycle'].by_key()['color'] \n",
    "        cmap = (\n",
    "            cm.LinearSegmentedColormap\n",
    "            .from_list(\"mymap\", colors_stylesheet)\n",
    "            .resampled(len(models) + 1)\n",
    "        )\n",
    "        rgb_colors = cmap(np.linspace(0, 1, len(models)  + 1))\n",
    "        colors = [cm.to_hex(color) for color in rgb_colors] \n",
    "\n",
    "    # define plot grid\n",
    "    if ax is None:\n",
    "        postprocess = True\n",
    "        if engine.startswith('plotly'):\n",
    "            fig = make_subplots(\n",
    "                rows=n_rows,\n",
    "                cols=n_cols,\n",
    "                vertical_spacing=0.15,\n",
    "                horizontal_spacing=0.07,\n",
    "                x_title=xlabel,\n",
    "                y_title=ylabel,\n",
    "                subplot_titles=[f'{id_col}={uid}' for uid in uids],\n",
    "            )\n",
    "            if engine == \"plotly-resampler\":\n",
    "                try:\n",
    "                    from plotly_resampler import FigureResampler\n",
    "                except ImportError:\n",
    "                    raise ImportError(\n",
    "                        \"The 'plotly-resampler' package is required \"\n",
    "                        \"when `engine='plotly-resampler'`.\"\n",
    "                    )\n",
    "                resampler_kwargs = {} if resampler_kwargs is None else resampler_kwargs\n",
    "                fig = FigureResampler(fig, **resampler_kwargs)\n",
    "        else:\n",
    "            fig, ax = plt.subplots(\n",
    "                nrows=n_rows,\n",
    "                ncols=n_cols,\n",
    "                figsize=(16, 3.5 * n_rows),\n",
    "                squeeze=False,\n",
    "                constrained_layout=True\n",
    "            )\n",
    "    else:\n",
    "        postprocess = False\n",
    "        if engine.startswith('plotly'):\n",
    "            fig = ax\n",
    "        else:\n",
    "            fig = plt.gcf()\n",
    "\n",
    "    def _add_mpl_plot(axi, df, y_col, levels):\n",
    "        axi.plot(df[time_col], df[y_col], label=y_col, color=color)\n",
    "        if y_col == target_col:\n",
    "            return\n",
    "        times = df[time_col]\n",
    "        for level in levels:\n",
    "            lo = df[f\"{y_col}-lo-{level}\"]\n",
    "            hi = df[f\"{y_col}-hi-{level}\"]\n",
    "            min_alpha = 0.1\n",
    "            max_alpha = 0.9\n",
    "            alpha = max_alpha - (float(level)/ 100) * (max_alpha - min_alpha)\n",
    "            axi.fill_between(\n",
    "                times,\n",
    "                lo,\n",
    "                hi,\n",
    "                alpha=alpha,\n",
    "                #alpha=-float(level) / 100 + 1,\n",
    "                color=color,\n",
    "                label=f\"{y_col}_level_{level}\",\n",
    "            )\n",
    "            if plot_anomalies:                \n",
    "                anomalies = df[target_col].lt(lo) | df[target_col].gt(hi)\n",
    "                anomalies = anomalies.to_numpy().astype('bool')\n",
    "                if not anomalies.any():\n",
    "                    continue\n",
    "                axi.scatter(\n",
    "                    x=times.to_numpy()[anomalies],\n",
    "                    y=df[target_col].to_numpy()[anomalies],\n",
    "                    color=color,\n",
    "                    s=30,\n",
    "                    alpha=float(level) / 100,\n",
    "                    label=f'{y_col}_anomalies_level_{level}',\n",
    "                    linewidths=0.5,\n",
    "                    edgecolors='red',\n",
    "                )\n",
    "\n",
    "    def _add_plotly_plot(fig, df, y_col, levels):\n",
    "        show_legend = row == 0 and col == 0\n",
    "        fig.add_trace(\n",
    "            go.Scatter(\n",
    "                x=df[time_col],\n",
    "                y=df[y_col],\n",
    "                mode='lines',\n",
    "                name=y_col,\n",
    "                legendgroup=y_col,\n",
    "                line=dict(color=color, width=1),\n",
    "                showlegend=show_legend,\n",
    "            ),\n",
    "            row=row+1,\n",
    "            col=col+1,\n",
    "        )\n",
    "        if y_col == target_col:\n",
    "            return\n",
    "        x = np.concatenate([df[time_col], df[time_col][::-1]])        \n",
    "        for level in levels:\n",
    "            name = f'{y_col}_level_{level}'\n",
    "            lo = df[f\"{y_col}-lo-{level}\"]\n",
    "            hi = df[f\"{y_col}-hi-{level}\"]\n",
    "            min_alpha = 0.1\n",
    "            max_alpha = 0.9\n",
    "            alpha = max_alpha - (float(level)/ 100) * (max_alpha - min_alpha)\n",
    "            y = np.concatenate([hi, lo[::-1]])            \n",
    "            fig.add_trace(\n",
    "                go.Scatter(\n",
    "                    x=x,\n",
    "                    y=y,\n",
    "                    fill='toself',\n",
    "                    mode='lines',\n",
    "                    fillcolor=color,\n",
    "                    opacity=alpha,\n",
    "                    #opacity=-float(level) / 100 + 1,\n",
    "                    name=name,\n",
    "                    legendgroup=name,\n",
    "                    line=dict(color=color, width=1),\n",
    "                    showlegend=show_legend,\n",
    "                ),\n",
    "                row=row+1,\n",
    "                col=col+1,\n",
    "            )\n",
    "            if plot_anomalies:\n",
    "                anomalies = df[target_col].lt(lo) | df[target_col].gt(hi)\n",
    "                anomalies = anomalies.to_numpy().astype('bool')\n",
    "                if not anomalies.any():\n",
    "                    continue                \n",
    "                name = f\"{y_col}_anomalies_level_{level}\"\n",
    "                fig.add_trace(\n",
    "                    go.Scatter(\n",
    "                        x=df[time_col].to_numpy()[anomalies],\n",
    "                        y=df[target_col].to_numpy()[anomalies],\n",
    "                        fillcolor=color,\n",
    "                        mode='markers',\n",
    "                        opacity=float(level) / 100,\n",
    "                        name=name,\n",
    "                        legendgroup=name,\n",
    "                        line=dict(color=color, width=0.7),\n",
    "                        marker=dict(\n",
    "                            size=4, line=dict(color='red', width=0.5)\n",
    "                        ),\n",
    "                        showlegend=show_legend,\n",
    "                    ),\n",
    "                    row=row+1,\n",
    "                    col=col+1,\n",
    "                )\n",
    "\n",
    "    for i, uid in enumerate(uids):\n",
    "        mask = df[id_col].eq(uid)\n",
    "        uid_df = ufp.filter_with_mask(df, mask)\n",
    "        row, col = divmod(i, n_cols)\n",
    "        for y_col, color in zip([target_col] + models, colors):\n",
    "            if isinstance(ax, np.ndarray):\n",
    "                _add_mpl_plot(ax[row, col], uid_df, y_col, level)\n",
    "            else:\n",
    "                _add_plotly_plot(fig, uid_df, y_col, level)\n",
    "        title = f\"{id_col}={uid}\"\n",
    "        if isinstance(ax, np.ndarray):\n",
    "            ax[row, col].set_title(title)\n",
    "            if col == 0:\n",
    "                ax[row, col].set_ylabel(ylabel)\n",
    "            if row == n_rows - 1:\n",
    "                ax[row, col].set_xlabel(xlabel)\n",
    "            ax[row, col].tick_params(axis='x', labelrotation=30)\n",
    "        else:\n",
    "            fig.update_annotations(selector={\"text\": str(i)}, text=title)\n",
    "\n",
    "    if isinstance(ax, np.ndarray):\n",
    "        handles, labels = ax[0, 0].get_legend_handles_labels()\n",
    "        fig.legend(\n",
    "            handles,\n",
    "            labels,\n",
    "            loc='upper left',\n",
    "            bbox_to_anchor=(1.01, 0.97),\n",
    "        )\n",
    "        plt.close(fig)\n",
    "        if len(ax.flat) > n_series:\n",
    "            for axi in ax.flat[n_series:]:\n",
    "                axi.set_axis_off()\n",
    "    else:\n",
    "        fig.update_xaxes(matches=None, showticklabels=True, visible=True)\n",
    "        fig.update_annotations(font_size=10)\n",
    "        if postprocess:\n",
    "            fig.update_layout(margin=dict(l=60, r=10, t=20, b=50))\n",
    "            fig.update_layout(template=\"plotly_white\", font=dict(size=10))\n",
    "            fig.update_layout(autosize=True, height=200 * n_rows)\n",
    "    return fig"
   ]
  },
  {
   "cell_type": "code",
   "execution_count": null,
   "metadata": {},
   "outputs": [
    {
     "name": "stderr",
     "output_type": "stream",
     "text": [
      "/Library/Frameworks/Python.framework/Versions/3.11/lib/python3.11/site-packages/tqdm/auto.py:21: TqdmWarning: IProgress not found. Please update jupyter and ipywidgets. See https://ipywidgets.readthedocs.io/en/stable/user_install.html\n",
      "  from .autonotebook import tqdm as notebook_tqdm\n",
      "2025-06-04 00:32:52,281\tINFO util.py:154 -- Missing packages: ['ipywidgets']. Run `pip install -U ipywidgets`, then restart the notebook server for rich notebook output.\n",
      "2025-06-04 00:32:52,384\tINFO util.py:154 -- Missing packages: ['ipywidgets']. Run `pip install -U ipywidgets`, then restart the notebook server for rich notebook output.\n"
     ]
    },
    {
     "data": {
      "text/markdown": [
       "---\n",
       "\n",
       "[source](https://github.com/Nixtla/utilsforecast/blob/main/utilsforecast/plotting.py#L48){target=\"_blank\" style=\"float:right; font-size:smaller\"}\n",
       "\n",
       "### plot_series\n",
       "\n",
       ">      plot_series (df:Optional[~DFType]=None,\n",
       ">                   forecasts_df:Optional[~DFType]=None,\n",
       ">                   ids:Optional[List[str]]=None, plot_random:bool=True,\n",
       ">                   max_ids:int=8, models:Optional[List[str]]=None,\n",
       ">                   level:Optional[List[float]]=None,\n",
       ">                   max_insample_length:Optional[int]=None,\n",
       ">                   plot_anomalies:bool=False, engine:str='matplotlib',\n",
       ">                   palette:Optional[str]=None, id_col:str='unique_id',\n",
       ">                   time_col:str='ds', target_col:str='y', seed:int=0,\n",
       ">                   resampler_kwargs:Optional[Dict]=None, ax:Union[matplotlib.ax\n",
       ">                   es._axes.Axes,numpy.ndarray,ForwardRef('plotly.graph_objects\n",
       ">                   .Figure'),NoneType]=None)\n",
       "\n",
       "*Plot forecasts and insample values.*\n",
       "\n",
       "|    | **Type** | **Default** | **Details** |\n",
       "| -- | -------- | ----------- | ----------- |\n",
       "| df | Optional | None | DataFrame with columns [`id_col`, `time_col`, `target_col`]. |\n",
       "| forecasts_df | Optional | None | DataFrame with columns [`id_col`, `time_col`] and models. |\n",
       "| ids | Optional | None | Time Series to plot.<br>If None, time series are selected randomly. |\n",
       "| plot_random | bool | True | Select time series to plot randomly. |\n",
       "| max_ids | int | 8 | Maximum number of ids to plot.         |\n",
       "| models | Optional | None | Models to plot. |\n",
       "| level | Optional | None | Prediction intervals to plot. |\n",
       "| max_insample_length | Optional | None | Maximum number of train/insample observations to be plotted. |\n",
       "| plot_anomalies | bool | False | Plot anomalies for each prediction interval. |\n",
       "| engine | str | matplotlib | Library used to plot. 'plotly', 'plotly-resampler' or 'matplotlib'. |\n",
       "| palette | Optional | None | Name of the matplotlib colormap to use for the plots. If None, uses the current style. |\n",
       "| id_col | str | unique_id | Column that identifies each serie. |\n",
       "| time_col | str | ds | Column that identifies each timestep, its values can be timestamps or integers. |\n",
       "| target_col | str | y | Column that contains the target. |\n",
       "| seed | int | 0 | Seed used for the random number generator. Only used if plot_random is True. |\n",
       "| resampler_kwargs | Optional | None | Keyword arguments to be passed to plotly-resampler constructor.<br>For further custumization (\"show_dash\") call the method,<br>store the plotting object and add the extra arguments to<br>its `show_dash` method. |\n",
       "| ax | Union | None | Object where plots will be added. |\n",
       "| **Returns** | **matplotlib or plotly figure** |  | **Plot's figure** |"
      ],
      "text/plain": [
       "---\n",
       "\n",
       "[source](https://github.com/Nixtla/utilsforecast/blob/main/utilsforecast/plotting.py#L48){target=\"_blank\" style=\"float:right; font-size:smaller\"}\n",
       "\n",
       "### plot_series\n",
       "\n",
       ">      plot_series (df:Optional[~DFType]=None,\n",
       ">                   forecasts_df:Optional[~DFType]=None,\n",
       ">                   ids:Optional[List[str]]=None, plot_random:bool=True,\n",
       ">                   max_ids:int=8, models:Optional[List[str]]=None,\n",
       ">                   level:Optional[List[float]]=None,\n",
       ">                   max_insample_length:Optional[int]=None,\n",
       ">                   plot_anomalies:bool=False, engine:str='matplotlib',\n",
       ">                   palette:Optional[str]=None, id_col:str='unique_id',\n",
       ">                   time_col:str='ds', target_col:str='y', seed:int=0,\n",
       ">                   resampler_kwargs:Optional[Dict]=None, ax:Union[matplotlib.ax\n",
       ">                   es._axes.Axes,numpy.ndarray,ForwardRef('plotly.graph_objects\n",
       ">                   .Figure'),NoneType]=None)\n",
       "\n",
       "*Plot forecasts and insample values.*\n",
       "\n",
       "|    | **Type** | **Default** | **Details** |\n",
       "| -- | -------- | ----------- | ----------- |\n",
       "| df | Optional | None | DataFrame with columns [`id_col`, `time_col`, `target_col`]. |\n",
       "| forecasts_df | Optional | None | DataFrame with columns [`id_col`, `time_col`] and models. |\n",
       "| ids | Optional | None | Time Series to plot.<br>If None, time series are selected randomly. |\n",
       "| plot_random | bool | True | Select time series to plot randomly. |\n",
       "| max_ids | int | 8 | Maximum number of ids to plot.         |\n",
       "| models | Optional | None | Models to plot. |\n",
       "| level | Optional | None | Prediction intervals to plot. |\n",
       "| max_insample_length | Optional | None | Maximum number of train/insample observations to be plotted. |\n",
       "| plot_anomalies | bool | False | Plot anomalies for each prediction interval. |\n",
       "| engine | str | matplotlib | Library used to plot. 'plotly', 'plotly-resampler' or 'matplotlib'. |\n",
       "| palette | Optional | None | Name of the matplotlib colormap to use for the plots. If None, uses the current style. |\n",
       "| id_col | str | unique_id | Column that identifies each serie. |\n",
       "| time_col | str | ds | Column that identifies each timestep, its values can be timestamps or integers. |\n",
       "| target_col | str | y | Column that contains the target. |\n",
       "| seed | int | 0 | Seed used for the random number generator. Only used if plot_random is True. |\n",
       "| resampler_kwargs | Optional | None | Keyword arguments to be passed to plotly-resampler constructor.<br>For further custumization (\"show_dash\") call the method,<br>store the plotting object and add the extra arguments to<br>its `show_dash` method. |\n",
       "| ax | Union | None | Object where plots will be added. |\n",
       "| **Returns** | **matplotlib or plotly figure** |  | **Plot's figure** |"
      ]
     },
     "execution_count": null,
     "metadata": {},
     "output_type": "execute_result"
    }
   ],
   "source": [
    "show_doc(plot_series)"
   ]
  },
  {
   "cell_type": "code",
   "execution_count": null,
   "metadata": {},
   "outputs": [],
   "source": [
    "from utilsforecast.data import generate_series"
   ]
  },
  {
   "cell_type": "code",
   "execution_count": null,
   "metadata": {},
   "outputs": [],
   "source": [
    "level = [80, 95]\n",
    "series = generate_series(4, freq='D', equal_ends=True, with_trend=True, n_models=2, level=level)\n",
    "test_pd = series.groupby('unique_id', observed=True).tail(10).copy()\n",
    "train_pd = series.drop(test_pd.index)"
   ]
  },
  {
   "cell_type": "code",
   "execution_count": null,
   "metadata": {},
   "outputs": [],
   "source": [
    "plt.style.use('ggplot')\n",
    "fig = plot_series(\n",
    "    train_pd,\n",
    "    forecasts_df=test_pd,\n",
    "    ids=[0, 3],\n",
    "    plot_random=False,\n",
    "    level=level,    \n",
    "    max_insample_length=50,\n",
    "    engine='matplotlib',\n",
    "    plot_anomalies=True,\n",
    ")\n",
    "fig.savefig('imgs/plotting.png', bbox_inches='tight')"
   ]
  },
  {
   "cell_type": "markdown",
   "metadata": {},
   "source": [
    "![](imgs/plotting.png)"
   ]
  },
  {
   "cell_type": "code",
   "execution_count": null,
   "metadata": {},
   "outputs": [],
   "source": [
    "#| hide\n",
    "import warnings\n",
    "from itertools import product\n",
    "\n",
    "from fastcore.test import test_fail\n",
    "\n",
    "from utilsforecast.compat import POLARS_INSTALLED\n",
    "\n",
    "if POLARS_INSTALLED:\n",
    "    import polars as pl\n",
    "try:\n",
    "    import plotly\n",
    "    PLOTLY_INSTALLED = True\n",
    "except ImportError:\n",
    "    PLOTLY_INSTALLED = False\n",
    "try:\n",
    "    import plotly_resampler\n",
    "    PLOTLY_RESAMPLER_INSTALLED = True\n",
    "except ImportError:\n",
    "    PLOTLY_RESAMPLER_INSTALLED = False"
   ]
  },
  {
   "cell_type": "code",
   "execution_count": null,
   "metadata": {},
   "outputs": [],
   "source": [
    "#| hide\n",
    "bools = [True, False]\n",
    "polars = bools if POLARS_INSTALLED else [False]\n",
    "anomalies = bools\n",
    "randoms = bools\n",
    "forecasts = bools\n",
    "ids = [[0], [3, 1], None]\n",
    "levels = [[80], None]\n",
    "max_insample_lengths = [None, 50]\n",
    "engines = ['matplotlib']\n",
    "if POLARS_INSTALLED:\n",
    "    train_pl = pl.DataFrame(train_pd.to_records(index=False))\n",
    "    test_pl = pl.DataFrame(test_pd.to_records(index=False))\n",
    "if PLOTLY_INSTALLED:\n",
    "    engines.append('plotly')\n",
    "if PLOTLY_RESAMPLER_INSTALLED:\n",
    "    engines.append('plotly-resampler')\n",
    "iterable = product(polars, ids, anomalies, levels, max_insample_lengths, engines, randoms, forecasts)\n",
    "\n",
    "for as_polars, ids, plot_anomalies, level, max_insample_length, engine, plot_random, with_forecasts in iterable:\n",
    "    if POLARS_INSTALLED and as_polars:\n",
    "        train = train_pl\n",
    "        test = test_pl if with_forecasts else None\n",
    "    else:\n",
    "        train = train_pd\n",
    "        test = test_pd if with_forecasts else None\n",
    "    fn = lambda: plot_series(\n",
    "        train,\n",
    "        forecasts_df=test,\n",
    "        ids=ids,\n",
    "        plot_random=plot_random,\n",
    "        plot_anomalies=plot_anomalies,\n",
    "        level=level,    \n",
    "        max_insample_length=max_insample_length,\n",
    "        engine=engine,\n",
    "    )\n",
    "    if level is None and plot_anomalies:\n",
    "        test_fail(fn, contains='specify the `level` argument')\n",
    "    elif level is not None and plot_anomalies and not with_forecasts:\n",
    "        test_fail(fn, contains='provide a `forecasts_df` with prediction')\n",
    "    else:\n",
    "        with warnings.catch_warnings():\n",
    "            warnings.filterwarnings(\n",
    "                'ignore',\n",
    "                message='The behavior of DatetimeProperties.to_pydatetime is deprecated',\n",
    "                category=FutureWarning,\n",
    "            )\n",
    "            fn()"
   ]
  },
  {
   "cell_type": "code",
   "execution_count": null,
   "metadata": {},
   "outputs": [],
   "source": [
    "import ssl\n",
    "ssl._create_default_https_context = ssl._create_unverified_context\n",
    "df = pd.read_csv('https://raw.githubusercontent.com/Nixtla/transfer-learning-time-series/main/datasets/air_passengers.csv', parse_dates=['timestamp'])\n",
    "df.insert(0, 'unique_id', 'air_passengers')\n",
    "df.rename(columns={'timestamp': 'ds', 'value': 'y'}, inplace=True)"
   ]
  },
  {
   "cell_type": "code",
   "execution_count": null,
   "metadata": {},
   "outputs": [
    {
     "data": {
      "text/html": [
       "<div>\n",
       "<style scoped>\n",
       "    .dataframe tbody tr th:only-of-type {\n",
       "        vertical-align: middle;\n",
       "    }\n",
       "\n",
       "    .dataframe tbody tr th {\n",
       "        vertical-align: top;\n",
       "    }\n",
       "\n",
       "    .dataframe thead th {\n",
       "        text-align: right;\n",
       "    }\n",
       "</style>\n",
       "<table border=\"1\" class=\"dataframe\">\n",
       "  <thead>\n",
       "    <tr style=\"text-align: right;\">\n",
       "      <th></th>\n",
       "      <th>unique_id</th>\n",
       "      <th>ds</th>\n",
       "      <th>y</th>\n",
       "    </tr>\n",
       "  </thead>\n",
       "  <tbody>\n",
       "    <tr>\n",
       "      <th>0</th>\n",
       "      <td>air_passengers</td>\n",
       "      <td>1949-01-01</td>\n",
       "      <td>112</td>\n",
       "    </tr>\n",
       "    <tr>\n",
       "      <th>1</th>\n",
       "      <td>air_passengers</td>\n",
       "      <td>1949-02-01</td>\n",
       "      <td>118</td>\n",
       "    </tr>\n",
       "    <tr>\n",
       "      <th>2</th>\n",
       "      <td>air_passengers</td>\n",
       "      <td>1949-03-01</td>\n",
       "      <td>132</td>\n",
       "    </tr>\n",
       "    <tr>\n",
       "      <th>3</th>\n",
       "      <td>air_passengers</td>\n",
       "      <td>1949-04-01</td>\n",
       "      <td>129</td>\n",
       "    </tr>\n",
       "    <tr>\n",
       "      <th>4</th>\n",
       "      <td>air_passengers</td>\n",
       "      <td>1949-05-01</td>\n",
       "      <td>121</td>\n",
       "    </tr>\n",
       "    <tr>\n",
       "      <th>...</th>\n",
       "      <td>...</td>\n",
       "      <td>...</td>\n",
       "      <td>...</td>\n",
       "    </tr>\n",
       "    <tr>\n",
       "      <th>139</th>\n",
       "      <td>air_passengers</td>\n",
       "      <td>1960-08-01</td>\n",
       "      <td>606</td>\n",
       "    </tr>\n",
       "    <tr>\n",
       "      <th>140</th>\n",
       "      <td>air_passengers</td>\n",
       "      <td>1960-09-01</td>\n",
       "      <td>508</td>\n",
       "    </tr>\n",
       "    <tr>\n",
       "      <th>141</th>\n",
       "      <td>air_passengers</td>\n",
       "      <td>1960-10-01</td>\n",
       "      <td>461</td>\n",
       "    </tr>\n",
       "    <tr>\n",
       "      <th>142</th>\n",
       "      <td>air_passengers</td>\n",
       "      <td>1960-11-01</td>\n",
       "      <td>390</td>\n",
       "    </tr>\n",
       "    <tr>\n",
       "      <th>143</th>\n",
       "      <td>air_passengers</td>\n",
       "      <td>1960-12-01</td>\n",
       "      <td>432</td>\n",
       "    </tr>\n",
       "  </tbody>\n",
       "</table>\n",
       "<p>144 rows × 3 columns</p>\n",
       "</div>"
      ],
      "text/plain": [
       "          unique_id         ds    y\n",
       "0    air_passengers 1949-01-01  112\n",
       "1    air_passengers 1949-02-01  118\n",
       "2    air_passengers 1949-03-01  132\n",
       "3    air_passengers 1949-04-01  129\n",
       "4    air_passengers 1949-05-01  121\n",
       "..              ...        ...  ...\n",
       "139  air_passengers 1960-08-01  606\n",
       "140  air_passengers 1960-09-01  508\n",
       "141  air_passengers 1960-10-01  461\n",
       "142  air_passengers 1960-11-01  390\n",
       "143  air_passengers 1960-12-01  432\n",
       "\n",
       "[144 rows x 3 columns]"
      ]
     },
     "execution_count": 41,
     "metadata": {},
     "output_type": "execute_result"
    }
   ],
   "source": [
    "df"
   ]
  },
  {
   "cell_type": "code",
   "execution_count": null,
   "metadata": {},
   "outputs": [],
   "source": [
    "from nixtla import NixtlaClient\n",
    "\n",
    "nixtla_client = NixtlaClient(\n",
    "    api_key=\"rAOPnIkzFBBANufcHA6VoPO0XF9wOF6d2jupcIdqWjI09I1ANpmjj9gA6MkrDkBLWjaTPMMKYKUMTyS9D8SbpQVkPtgUQQQY9WaHRyDZLVsAHtQsqM9xe59xjJMWn7CBHRqpbKq1wWgh5aqVouImCzLzIBblll4nkBHkLNydLoxZvHpgJ00UL0ogU89PiN8vFos6nSSkqiN3tOLRGx9hsSc463tiY1hV27FUr0tCI7w0pMB948a6XAnvufy85LEc\"\n",
    ")"
   ]
  },
  {
   "cell_type": "code",
   "execution_count": null,
   "metadata": {},
   "outputs": [
    {
     "name": "stderr",
     "output_type": "stream",
     "text": [
      "INFO:nixtla.nixtla_client:Validating inputs...\n",
      "INFO:nixtla.nixtla_client:Inferred freq: MS\n",
      "INFO:nixtla.nixtla_client:Preprocessing dataframes...\n",
      "INFO:nixtla.nixtla_client:Querying model metadata...\n",
      "INFO:nixtla.nixtla_client:Restricting input...\n",
      "INFO:nixtla.nixtla_client:Calling Forecast Endpoint...\n"
     ]
    }
   ],
   "source": [
    "fc = nixtla_client.forecast(df, h=12, level=[80, 90, 99])"
   ]
  },
  {
   "cell_type": "code",
   "execution_count": null,
   "metadata": {},
   "outputs": [
    {
     "name": "stderr",
     "output_type": "stream",
     "text": [
      "/Library/Frameworks/Python.framework/Versions/3.11/lib/python3.11/site-packages/_plotly_utils/basevalidators.py:105: FutureWarning:\n",
      "\n",
      "The behavior of DatetimeProperties.to_pydatetime is deprecated, in a future version this will return a Series containing python datetime objects instead of an ndarray. To retain the old behavior, call `np.array` on the result\n",
      "\n"
     ]
    },
    {
     "data": {
      "application/vnd.plotly.v1+json": {
       "config": {
        "plotlyServerURL": "https://plot.ly"
       },
       "data": [
        {
         "legendgroup": "y",
         "line": {
          "color": "#e24a33",
          "width": 1
         },
         "mode": "lines",
         "name": "y",
         "showlegend": true,
         "type": "scatter",
         "x": [
          "1957-01-01T00:00:00",
          "1957-02-01T00:00:00",
          "1957-03-01T00:00:00",
          "1957-04-01T00:00:00",
          "1957-05-01T00:00:00",
          "1957-06-01T00:00:00",
          "1957-07-01T00:00:00",
          "1957-08-01T00:00:00",
          "1957-09-01T00:00:00",
          "1957-10-01T00:00:00",
          "1957-11-01T00:00:00",
          "1957-12-01T00:00:00",
          "1958-01-01T00:00:00",
          "1958-02-01T00:00:00",
          "1958-03-01T00:00:00",
          "1958-04-01T00:00:00",
          "1958-05-01T00:00:00",
          "1958-06-01T00:00:00",
          "1958-07-01T00:00:00",
          "1958-08-01T00:00:00",
          "1958-09-01T00:00:00",
          "1958-10-01T00:00:00",
          "1958-11-01T00:00:00",
          "1958-12-01T00:00:00",
          "1959-01-01T00:00:00",
          "1959-02-01T00:00:00",
          "1959-03-01T00:00:00",
          "1959-04-01T00:00:00",
          "1959-05-01T00:00:00",
          "1959-06-01T00:00:00",
          "1959-07-01T00:00:00",
          "1959-08-01T00:00:00",
          "1959-09-01T00:00:00",
          "1959-10-01T00:00:00",
          "1959-11-01T00:00:00",
          "1959-12-01T00:00:00",
          "1960-01-01T00:00:00",
          "1960-02-01T00:00:00",
          "1960-03-01T00:00:00",
          "1960-04-01T00:00:00",
          "1960-05-01T00:00:00",
          "1960-06-01T00:00:00",
          "1960-07-01T00:00:00",
          "1960-08-01T00:00:00",
          "1960-09-01T00:00:00",
          "1960-10-01T00:00:00",
          "1960-11-01T00:00:00",
          "1960-12-01T00:00:00",
          "1961-01-01T00:00:00",
          "1961-02-01T00:00:00",
          "1961-03-01T00:00:00",
          "1961-04-01T00:00:00",
          "1961-05-01T00:00:00",
          "1961-06-01T00:00:00",
          "1961-07-01T00:00:00",
          "1961-08-01T00:00:00",
          "1961-09-01T00:00:00",
          "1961-10-01T00:00:00",
          "1961-11-01T00:00:00",
          "1961-12-01T00:00:00"
         ],
         "xaxis": "x",
         "y": [
          315,
          301,
          356,
          348,
          355,
          422,
          465,
          467,
          404,
          347,
          305,
          336,
          340,
          318,
          362,
          348,
          363,
          435,
          491,
          505,
          404,
          359,
          310,
          337,
          360,
          342,
          406,
          396,
          420,
          472,
          548,
          559,
          463,
          407,
          362,
          405,
          417,
          391,
          419,
          461,
          472,
          535,
          622,
          606,
          508,
          461,
          390,
          432,
          null,
          null,
          null,
          null,
          null,
          null,
          null,
          null,
          null,
          null,
          null,
          null
         ],
         "yaxis": "y"
        },
        {
         "legendgroup": "TimeGPT",
         "line": {
          "color": "#ffb5b8",
          "width": 1
         },
         "mode": "lines",
         "name": "TimeGPT",
         "showlegend": true,
         "type": "scatter",
         "x": [
          "1957-01-01T00:00:00",
          "1957-02-01T00:00:00",
          "1957-03-01T00:00:00",
          "1957-04-01T00:00:00",
          "1957-05-01T00:00:00",
          "1957-06-01T00:00:00",
          "1957-07-01T00:00:00",
          "1957-08-01T00:00:00",
          "1957-09-01T00:00:00",
          "1957-10-01T00:00:00",
          "1957-11-01T00:00:00",
          "1957-12-01T00:00:00",
          "1958-01-01T00:00:00",
          "1958-02-01T00:00:00",
          "1958-03-01T00:00:00",
          "1958-04-01T00:00:00",
          "1958-05-01T00:00:00",
          "1958-06-01T00:00:00",
          "1958-07-01T00:00:00",
          "1958-08-01T00:00:00",
          "1958-09-01T00:00:00",
          "1958-10-01T00:00:00",
          "1958-11-01T00:00:00",
          "1958-12-01T00:00:00",
          "1959-01-01T00:00:00",
          "1959-02-01T00:00:00",
          "1959-03-01T00:00:00",
          "1959-04-01T00:00:00",
          "1959-05-01T00:00:00",
          "1959-06-01T00:00:00",
          "1959-07-01T00:00:00",
          "1959-08-01T00:00:00",
          "1959-09-01T00:00:00",
          "1959-10-01T00:00:00",
          "1959-11-01T00:00:00",
          "1959-12-01T00:00:00",
          "1960-01-01T00:00:00",
          "1960-02-01T00:00:00",
          "1960-03-01T00:00:00",
          "1960-04-01T00:00:00",
          "1960-05-01T00:00:00",
          "1960-06-01T00:00:00",
          "1960-07-01T00:00:00",
          "1960-08-01T00:00:00",
          "1960-09-01T00:00:00",
          "1960-10-01T00:00:00",
          "1960-11-01T00:00:00",
          "1960-12-01T00:00:00",
          "1961-01-01T00:00:00",
          "1961-02-01T00:00:00",
          "1961-03-01T00:00:00",
          "1961-04-01T00:00:00",
          "1961-05-01T00:00:00",
          "1961-06-01T00:00:00",
          "1961-07-01T00:00:00",
          "1961-08-01T00:00:00",
          "1961-09-01T00:00:00",
          "1961-10-01T00:00:00",
          "1961-11-01T00:00:00",
          "1961-12-01T00:00:00"
         ],
         "xaxis": "x",
         "y": [
          null,
          null,
          null,
          null,
          null,
          null,
          null,
          null,
          null,
          null,
          null,
          null,
          null,
          null,
          null,
          null,
          null,
          null,
          null,
          null,
          null,
          null,
          null,
          null,
          null,
          null,
          null,
          null,
          null,
          null,
          null,
          null,
          null,
          null,
          null,
          null,
          null,
          null,
          null,
          null,
          null,
          null,
          null,
          null,
          null,
          null,
          null,
          null,
          437.83792,
          426.0627,
          463.11655,
          478.2445,
          505.64648,
          564.71265,
          641.5295,
          639.2509,
          536.33923,
          483.13452,
          429.98328,
          452.76086
         ],
         "yaxis": "y"
        },
        {
         "fill": "toself",
         "fillcolor": "#ffb5b8",
         "legendgroup": "TimeGPT_level_99",
         "line": {
          "color": "#ffb5b8",
          "width": 1
         },
         "mode": "lines",
         "name": "TimeGPT_level_99",
         "opacity": 0.10799999999999998,
         "showlegend": true,
         "type": "scatter",
         "x": [
          "1957-01-01T00:00:00.000000000",
          "1957-02-01T00:00:00.000000000",
          "1957-03-01T00:00:00.000000000",
          "1957-04-01T00:00:00.000000000",
          "1957-05-01T00:00:00.000000000",
          "1957-06-01T00:00:00.000000000",
          "1957-07-01T00:00:00.000000000",
          "1957-08-01T00:00:00.000000000",
          "1957-09-01T00:00:00.000000000",
          "1957-10-01T00:00:00.000000000",
          "1957-11-01T00:00:00.000000000",
          "1957-12-01T00:00:00.000000000",
          "1958-01-01T00:00:00.000000000",
          "1958-02-01T00:00:00.000000000",
          "1958-03-01T00:00:00.000000000",
          "1958-04-01T00:00:00.000000000",
          "1958-05-01T00:00:00.000000000",
          "1958-06-01T00:00:00.000000000",
          "1958-07-01T00:00:00.000000000",
          "1958-08-01T00:00:00.000000000",
          "1958-09-01T00:00:00.000000000",
          "1958-10-01T00:00:00.000000000",
          "1958-11-01T00:00:00.000000000",
          "1958-12-01T00:00:00.000000000",
          "1959-01-01T00:00:00.000000000",
          "1959-02-01T00:00:00.000000000",
          "1959-03-01T00:00:00.000000000",
          "1959-04-01T00:00:00.000000000",
          "1959-05-01T00:00:00.000000000",
          "1959-06-01T00:00:00.000000000",
          "1959-07-01T00:00:00.000000000",
          "1959-08-01T00:00:00.000000000",
          "1959-09-01T00:00:00.000000000",
          "1959-10-01T00:00:00.000000000",
          "1959-11-01T00:00:00.000000000",
          "1959-12-01T00:00:00.000000000",
          "1960-01-01T00:00:00.000000000",
          "1960-02-01T00:00:00.000000000",
          "1960-03-01T00:00:00.000000000",
          "1960-04-01T00:00:00.000000000",
          "1960-05-01T00:00:00.000000000",
          "1960-06-01T00:00:00.000000000",
          "1960-07-01T00:00:00.000000000",
          "1960-08-01T00:00:00.000000000",
          "1960-09-01T00:00:00.000000000",
          "1960-10-01T00:00:00.000000000",
          "1960-11-01T00:00:00.000000000",
          "1960-12-01T00:00:00.000000000",
          "1961-01-01T00:00:00.000000000",
          "1961-02-01T00:00:00.000000000",
          "1961-03-01T00:00:00.000000000",
          "1961-04-01T00:00:00.000000000",
          "1961-05-01T00:00:00.000000000",
          "1961-06-01T00:00:00.000000000",
          "1961-07-01T00:00:00.000000000",
          "1961-08-01T00:00:00.000000000",
          "1961-09-01T00:00:00.000000000",
          "1961-10-01T00:00:00.000000000",
          "1961-11-01T00:00:00.000000000",
          "1961-12-01T00:00:00.000000000",
          "1961-12-01T00:00:00.000000000",
          "1961-11-01T00:00:00.000000000",
          "1961-10-01T00:00:00.000000000",
          "1961-09-01T00:00:00.000000000",
          "1961-08-01T00:00:00.000000000",
          "1961-07-01T00:00:00.000000000",
          "1961-06-01T00:00:00.000000000",
          "1961-05-01T00:00:00.000000000",
          "1961-04-01T00:00:00.000000000",
          "1961-03-01T00:00:00.000000000",
          "1961-02-01T00:00:00.000000000",
          "1961-01-01T00:00:00.000000000",
          "1960-12-01T00:00:00.000000000",
          "1960-11-01T00:00:00.000000000",
          "1960-10-01T00:00:00.000000000",
          "1960-09-01T00:00:00.000000000",
          "1960-08-01T00:00:00.000000000",
          "1960-07-01T00:00:00.000000000",
          "1960-06-01T00:00:00.000000000",
          "1960-05-01T00:00:00.000000000",
          "1960-04-01T00:00:00.000000000",
          "1960-03-01T00:00:00.000000000",
          "1960-02-01T00:00:00.000000000",
          "1960-01-01T00:00:00.000000000",
          "1959-12-01T00:00:00.000000000",
          "1959-11-01T00:00:00.000000000",
          "1959-10-01T00:00:00.000000000",
          "1959-09-01T00:00:00.000000000",
          "1959-08-01T00:00:00.000000000",
          "1959-07-01T00:00:00.000000000",
          "1959-06-01T00:00:00.000000000",
          "1959-05-01T00:00:00.000000000",
          "1959-04-01T00:00:00.000000000",
          "1959-03-01T00:00:00.000000000",
          "1959-02-01T00:00:00.000000000",
          "1959-01-01T00:00:00.000000000",
          "1958-12-01T00:00:00.000000000",
          "1958-11-01T00:00:00.000000000",
          "1958-10-01T00:00:00.000000000",
          "1958-09-01T00:00:00.000000000",
          "1958-08-01T00:00:00.000000000",
          "1958-07-01T00:00:00.000000000",
          "1958-06-01T00:00:00.000000000",
          "1958-05-01T00:00:00.000000000",
          "1958-04-01T00:00:00.000000000",
          "1958-03-01T00:00:00.000000000",
          "1958-02-01T00:00:00.000000000",
          "1958-01-01T00:00:00.000000000",
          "1957-12-01T00:00:00.000000000",
          "1957-11-01T00:00:00.000000000",
          "1957-10-01T00:00:00.000000000",
          "1957-09-01T00:00:00.000000000",
          "1957-08-01T00:00:00.000000000",
          "1957-07-01T00:00:00.000000000",
          "1957-06-01T00:00:00.000000000",
          "1957-05-01T00:00:00.000000000",
          "1957-04-01T00:00:00.000000000",
          "1957-03-01T00:00:00.000000000",
          "1957-02-01T00:00:00.000000000",
          "1957-01-01T00:00:00.000000000"
         ],
         "xaxis": "x",
         "y": [
          null,
          null,
          null,
          null,
          null,
          null,
          null,
          null,
          null,
          null,
          null,
          null,
          null,
          null,
          null,
          null,
          null,
          null,
          null,
          null,
          null,
          null,
          null,
          null,
          null,
          null,
          null,
          null,
          null,
          null,
          null,
          null,
          null,
          null,
          null,
          null,
          null,
          null,
          null,
          null,
          null,
          null,
          null,
          null,
          null,
          null,
          null,
          null,
          459.27374,
          448.94547,
          502.30096,
          511.46585,
          545.1042,
          591.2898,
          691.08435,
          688.4872,
          577.44965,
          520.7383,
          465.83524,
          514.2554,
          391.26633,
          394.13132,
          445.53076,
          495.22882,
          590.01465,
          591.9746,
          538.1355,
          466.18875,
          445.02316,
          423.93213,
          403.17996,
          416.4021,
          null,
          null,
          null,
          null,
          null,
          null,
          null,
          null,
          null,
          null,
          null,
          null,
          null,
          null,
          null,
          null,
          null,
          null,
          null,
          null,
          null,
          null,
          null,
          null,
          null,
          null,
          null,
          null,
          null,
          null,
          null,
          null,
          null,
          null,
          null,
          null,
          null,
          null,
          null,
          null,
          null,
          null,
          null,
          null,
          null,
          null,
          null,
          null
         ],
         "yaxis": "y"
        }
       ],
       "layout": {
        "annotations": [
         {
          "font": {
           "size": 10
          },
          "showarrow": false,
          "text": "unique_id=air_passengers",
          "x": 0.5,
          "xanchor": "center",
          "xref": "paper",
          "y": 1,
          "yanchor": "bottom",
          "yref": "paper"
         },
         {
          "font": {
           "size": 10
          },
          "showarrow": false,
          "text": "Time [ds]",
          "x": 0.5,
          "xanchor": "center",
          "xref": "paper",
          "y": 0,
          "yanchor": "top",
          "yref": "paper",
          "yshift": -30
         },
         {
          "font": {
           "size": 10
          },
          "showarrow": false,
          "text": "Target [y]",
          "textangle": -90,
          "x": 0,
          "xanchor": "right",
          "xref": "paper",
          "xshift": -40,
          "y": 0.5,
          "yanchor": "middle",
          "yref": "paper"
         }
        ],
        "autosize": true,
        "font": {
         "size": 10
        },
        "height": 200,
        "margin": {
         "b": 50,
         "l": 60,
         "r": 10,
         "t": 20
        },
        "template": {
         "data": {
          "bar": [
           {
            "error_x": {
             "color": "#2a3f5f"
            },
            "error_y": {
             "color": "#2a3f5f"
            },
            "marker": {
             "line": {
              "color": "white",
              "width": 0.5
             },
             "pattern": {
              "fillmode": "overlay",
              "size": 10,
              "solidity": 0.2
             }
            },
            "type": "bar"
           }
          ],
          "barpolar": [
           {
            "marker": {
             "line": {
              "color": "white",
              "width": 0.5
             },
             "pattern": {
              "fillmode": "overlay",
              "size": 10,
              "solidity": 0.2
             }
            },
            "type": "barpolar"
           }
          ],
          "carpet": [
           {
            "aaxis": {
             "endlinecolor": "#2a3f5f",
             "gridcolor": "#C8D4E3",
             "linecolor": "#C8D4E3",
             "minorgridcolor": "#C8D4E3",
             "startlinecolor": "#2a3f5f"
            },
            "baxis": {
             "endlinecolor": "#2a3f5f",
             "gridcolor": "#C8D4E3",
             "linecolor": "#C8D4E3",
             "minorgridcolor": "#C8D4E3",
             "startlinecolor": "#2a3f5f"
            },
            "type": "carpet"
           }
          ],
          "choropleth": [
           {
            "colorbar": {
             "outlinewidth": 0,
             "ticks": ""
            },
            "type": "choropleth"
           }
          ],
          "contour": [
           {
            "colorbar": {
             "outlinewidth": 0,
             "ticks": ""
            },
            "colorscale": [
             [
              0,
              "#0d0887"
             ],
             [
              0.1111111111111111,
              "#46039f"
             ],
             [
              0.2222222222222222,
              "#7201a8"
             ],
             [
              0.3333333333333333,
              "#9c179e"
             ],
             [
              0.4444444444444444,
              "#bd3786"
             ],
             [
              0.5555555555555556,
              "#d8576b"
             ],
             [
              0.6666666666666666,
              "#ed7953"
             ],
             [
              0.7777777777777778,
              "#fb9f3a"
             ],
             [
              0.8888888888888888,
              "#fdca26"
             ],
             [
              1,
              "#f0f921"
             ]
            ],
            "type": "contour"
           }
          ],
          "contourcarpet": [
           {
            "colorbar": {
             "outlinewidth": 0,
             "ticks": ""
            },
            "type": "contourcarpet"
           }
          ],
          "heatmap": [
           {
            "colorbar": {
             "outlinewidth": 0,
             "ticks": ""
            },
            "colorscale": [
             [
              0,
              "#0d0887"
             ],
             [
              0.1111111111111111,
              "#46039f"
             ],
             [
              0.2222222222222222,
              "#7201a8"
             ],
             [
              0.3333333333333333,
              "#9c179e"
             ],
             [
              0.4444444444444444,
              "#bd3786"
             ],
             [
              0.5555555555555556,
              "#d8576b"
             ],
             [
              0.6666666666666666,
              "#ed7953"
             ],
             [
              0.7777777777777778,
              "#fb9f3a"
             ],
             [
              0.8888888888888888,
              "#fdca26"
             ],
             [
              1,
              "#f0f921"
             ]
            ],
            "type": "heatmap"
           }
          ],
          "heatmapgl": [
           {
            "colorbar": {
             "outlinewidth": 0,
             "ticks": ""
            },
            "colorscale": [
             [
              0,
              "#0d0887"
             ],
             [
              0.1111111111111111,
              "#46039f"
             ],
             [
              0.2222222222222222,
              "#7201a8"
             ],
             [
              0.3333333333333333,
              "#9c179e"
             ],
             [
              0.4444444444444444,
              "#bd3786"
             ],
             [
              0.5555555555555556,
              "#d8576b"
             ],
             [
              0.6666666666666666,
              "#ed7953"
             ],
             [
              0.7777777777777778,
              "#fb9f3a"
             ],
             [
              0.8888888888888888,
              "#fdca26"
             ],
             [
              1,
              "#f0f921"
             ]
            ],
            "type": "heatmapgl"
           }
          ],
          "histogram": [
           {
            "marker": {
             "pattern": {
              "fillmode": "overlay",
              "size": 10,
              "solidity": 0.2
             }
            },
            "type": "histogram"
           }
          ],
          "histogram2d": [
           {
            "colorbar": {
             "outlinewidth": 0,
             "ticks": ""
            },
            "colorscale": [
             [
              0,
              "#0d0887"
             ],
             [
              0.1111111111111111,
              "#46039f"
             ],
             [
              0.2222222222222222,
              "#7201a8"
             ],
             [
              0.3333333333333333,
              "#9c179e"
             ],
             [
              0.4444444444444444,
              "#bd3786"
             ],
             [
              0.5555555555555556,
              "#d8576b"
             ],
             [
              0.6666666666666666,
              "#ed7953"
             ],
             [
              0.7777777777777778,
              "#fb9f3a"
             ],
             [
              0.8888888888888888,
              "#fdca26"
             ],
             [
              1,
              "#f0f921"
             ]
            ],
            "type": "histogram2d"
           }
          ],
          "histogram2dcontour": [
           {
            "colorbar": {
             "outlinewidth": 0,
             "ticks": ""
            },
            "colorscale": [
             [
              0,
              "#0d0887"
             ],
             [
              0.1111111111111111,
              "#46039f"
             ],
             [
              0.2222222222222222,
              "#7201a8"
             ],
             [
              0.3333333333333333,
              "#9c179e"
             ],
             [
              0.4444444444444444,
              "#bd3786"
             ],
             [
              0.5555555555555556,
              "#d8576b"
             ],
             [
              0.6666666666666666,
              "#ed7953"
             ],
             [
              0.7777777777777778,
              "#fb9f3a"
             ],
             [
              0.8888888888888888,
              "#fdca26"
             ],
             [
              1,
              "#f0f921"
             ]
            ],
            "type": "histogram2dcontour"
           }
          ],
          "mesh3d": [
           {
            "colorbar": {
             "outlinewidth": 0,
             "ticks": ""
            },
            "type": "mesh3d"
           }
          ],
          "parcoords": [
           {
            "line": {
             "colorbar": {
              "outlinewidth": 0,
              "ticks": ""
             }
            },
            "type": "parcoords"
           }
          ],
          "pie": [
           {
            "automargin": true,
            "type": "pie"
           }
          ],
          "scatter": [
           {
            "fillpattern": {
             "fillmode": "overlay",
             "size": 10,
             "solidity": 0.2
            },
            "type": "scatter"
           }
          ],
          "scatter3d": [
           {
            "line": {
             "colorbar": {
              "outlinewidth": 0,
              "ticks": ""
             }
            },
            "marker": {
             "colorbar": {
              "outlinewidth": 0,
              "ticks": ""
             }
            },
            "type": "scatter3d"
           }
          ],
          "scattercarpet": [
           {
            "marker": {
             "colorbar": {
              "outlinewidth": 0,
              "ticks": ""
             }
            },
            "type": "scattercarpet"
           }
          ],
          "scattergeo": [
           {
            "marker": {
             "colorbar": {
              "outlinewidth": 0,
              "ticks": ""
             }
            },
            "type": "scattergeo"
           }
          ],
          "scattergl": [
           {
            "marker": {
             "colorbar": {
              "outlinewidth": 0,
              "ticks": ""
             }
            },
            "type": "scattergl"
           }
          ],
          "scattermapbox": [
           {
            "marker": {
             "colorbar": {
              "outlinewidth": 0,
              "ticks": ""
             }
            },
            "type": "scattermapbox"
           }
          ],
          "scatterpolar": [
           {
            "marker": {
             "colorbar": {
              "outlinewidth": 0,
              "ticks": ""
             }
            },
            "type": "scatterpolar"
           }
          ],
          "scatterpolargl": [
           {
            "marker": {
             "colorbar": {
              "outlinewidth": 0,
              "ticks": ""
             }
            },
            "type": "scatterpolargl"
           }
          ],
          "scatterternary": [
           {
            "marker": {
             "colorbar": {
              "outlinewidth": 0,
              "ticks": ""
             }
            },
            "type": "scatterternary"
           }
          ],
          "surface": [
           {
            "colorbar": {
             "outlinewidth": 0,
             "ticks": ""
            },
            "colorscale": [
             [
              0,
              "#0d0887"
             ],
             [
              0.1111111111111111,
              "#46039f"
             ],
             [
              0.2222222222222222,
              "#7201a8"
             ],
             [
              0.3333333333333333,
              "#9c179e"
             ],
             [
              0.4444444444444444,
              "#bd3786"
             ],
             [
              0.5555555555555556,
              "#d8576b"
             ],
             [
              0.6666666666666666,
              "#ed7953"
             ],
             [
              0.7777777777777778,
              "#fb9f3a"
             ],
             [
              0.8888888888888888,
              "#fdca26"
             ],
             [
              1,
              "#f0f921"
             ]
            ],
            "type": "surface"
           }
          ],
          "table": [
           {
            "cells": {
             "fill": {
              "color": "#EBF0F8"
             },
             "line": {
              "color": "white"
             }
            },
            "header": {
             "fill": {
              "color": "#C8D4E3"
             },
             "line": {
              "color": "white"
             }
            },
            "type": "table"
           }
          ]
         },
         "layout": {
          "annotationdefaults": {
           "arrowcolor": "#2a3f5f",
           "arrowhead": 0,
           "arrowwidth": 1
          },
          "autotypenumbers": "strict",
          "coloraxis": {
           "colorbar": {
            "outlinewidth": 0,
            "ticks": ""
           }
          },
          "colorscale": {
           "diverging": [
            [
             0,
             "#8e0152"
            ],
            [
             0.1,
             "#c51b7d"
            ],
            [
             0.2,
             "#de77ae"
            ],
            [
             0.3,
             "#f1b6da"
            ],
            [
             0.4,
             "#fde0ef"
            ],
            [
             0.5,
             "#f7f7f7"
            ],
            [
             0.6,
             "#e6f5d0"
            ],
            [
             0.7,
             "#b8e186"
            ],
            [
             0.8,
             "#7fbc41"
            ],
            [
             0.9,
             "#4d9221"
            ],
            [
             1,
             "#276419"
            ]
           ],
           "sequential": [
            [
             0,
             "#0d0887"
            ],
            [
             0.1111111111111111,
             "#46039f"
            ],
            [
             0.2222222222222222,
             "#7201a8"
            ],
            [
             0.3333333333333333,
             "#9c179e"
            ],
            [
             0.4444444444444444,
             "#bd3786"
            ],
            [
             0.5555555555555556,
             "#d8576b"
            ],
            [
             0.6666666666666666,
             "#ed7953"
            ],
            [
             0.7777777777777778,
             "#fb9f3a"
            ],
            [
             0.8888888888888888,
             "#fdca26"
            ],
            [
             1,
             "#f0f921"
            ]
           ],
           "sequentialminus": [
            [
             0,
             "#0d0887"
            ],
            [
             0.1111111111111111,
             "#46039f"
            ],
            [
             0.2222222222222222,
             "#7201a8"
            ],
            [
             0.3333333333333333,
             "#9c179e"
            ],
            [
             0.4444444444444444,
             "#bd3786"
            ],
            [
             0.5555555555555556,
             "#d8576b"
            ],
            [
             0.6666666666666666,
             "#ed7953"
            ],
            [
             0.7777777777777778,
             "#fb9f3a"
            ],
            [
             0.8888888888888888,
             "#fdca26"
            ],
            [
             1,
             "#f0f921"
            ]
           ]
          },
          "colorway": [
           "#636efa",
           "#EF553B",
           "#00cc96",
           "#ab63fa",
           "#FFA15A",
           "#19d3f3",
           "#FF6692",
           "#B6E880",
           "#FF97FF",
           "#FECB52"
          ],
          "font": {
           "color": "#2a3f5f"
          },
          "geo": {
           "bgcolor": "white",
           "lakecolor": "white",
           "landcolor": "white",
           "showlakes": true,
           "showland": true,
           "subunitcolor": "#C8D4E3"
          },
          "hoverlabel": {
           "align": "left"
          },
          "hovermode": "closest",
          "mapbox": {
           "style": "light"
          },
          "paper_bgcolor": "white",
          "plot_bgcolor": "white",
          "polar": {
           "angularaxis": {
            "gridcolor": "#EBF0F8",
            "linecolor": "#EBF0F8",
            "ticks": ""
           },
           "bgcolor": "white",
           "radialaxis": {
            "gridcolor": "#EBF0F8",
            "linecolor": "#EBF0F8",
            "ticks": ""
           }
          },
          "scene": {
           "xaxis": {
            "backgroundcolor": "white",
            "gridcolor": "#DFE8F3",
            "gridwidth": 2,
            "linecolor": "#EBF0F8",
            "showbackground": true,
            "ticks": "",
            "zerolinecolor": "#EBF0F8"
           },
           "yaxis": {
            "backgroundcolor": "white",
            "gridcolor": "#DFE8F3",
            "gridwidth": 2,
            "linecolor": "#EBF0F8",
            "showbackground": true,
            "ticks": "",
            "zerolinecolor": "#EBF0F8"
           },
           "zaxis": {
            "backgroundcolor": "white",
            "gridcolor": "#DFE8F3",
            "gridwidth": 2,
            "linecolor": "#EBF0F8",
            "showbackground": true,
            "ticks": "",
            "zerolinecolor": "#EBF0F8"
           }
          },
          "shapedefaults": {
           "line": {
            "color": "#2a3f5f"
           }
          },
          "ternary": {
           "aaxis": {
            "gridcolor": "#DFE8F3",
            "linecolor": "#A2B1C6",
            "ticks": ""
           },
           "baxis": {
            "gridcolor": "#DFE8F3",
            "linecolor": "#A2B1C6",
            "ticks": ""
           },
           "bgcolor": "white",
           "caxis": {
            "gridcolor": "#DFE8F3",
            "linecolor": "#A2B1C6",
            "ticks": ""
           }
          },
          "title": {
           "x": 0.05
          },
          "xaxis": {
           "automargin": true,
           "gridcolor": "#EBF0F8",
           "linecolor": "#EBF0F8",
           "ticks": "",
           "title": {
            "standoff": 15
           },
           "zerolinecolor": "#EBF0F8",
           "zerolinewidth": 2
          },
          "yaxis": {
           "automargin": true,
           "gridcolor": "#EBF0F8",
           "linecolor": "#EBF0F8",
           "ticks": "",
           "title": {
            "standoff": 15
           },
           "zerolinecolor": "#EBF0F8",
           "zerolinewidth": 2
          }
         }
        },
        "xaxis": {
         "anchor": "y",
         "domain": [
          0,
          1
         ],
         "showticklabels": true,
         "visible": true
        },
        "yaxis": {
         "anchor": "x",
         "domain": [
          0,
          1
         ]
        }
       }
      }
     },
     "metadata": {},
     "output_type": "display_data"
    }
   ],
   "source": [
    "plot_series(df, fc, level=[99], engine='plotly', max_insample_length=12*4)"
   ]
  }
 ],
 "metadata": {
  "kernelspec": {
   "display_name": "python3",
   "language": "python",
   "name": "python3"
  }
 },
 "nbformat": 4,
 "nbformat_minor": 4
}
