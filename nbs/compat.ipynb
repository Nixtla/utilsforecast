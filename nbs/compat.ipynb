{
 "cells": [
  {
   "cell_type": "code",
   "execution_count": null,
   "id": "6aa4425a-554f-40e5-a30f-d4e99dcc8f62",
   "metadata": {},
   "outputs": [],
   "source": [
    "#| default_exp compat"
   ]
  },
  {
   "cell_type": "code",
   "execution_count": null,
   "id": "4eae8ee3-8089-4d25-abaf-bd616fa9d50c",
   "metadata": {},
   "outputs": [],
   "source": [
    "#| export\n",
    "from typing import Union\n",
    "\n",
    "import pandas as pd"
   ]
  },
  {
   "cell_type": "code",
   "execution_count": null,
   "id": "f146de23-c730-4465-82f3-487322988a7b",
   "metadata": {},
   "outputs": [],
   "source": [
    "#| export\n",
    "try:\n",
    "    from polars import DataFrame as pl_DataFrame\n",
    "    from polars import Series as pl_Series\n",
    "\n",
    "    POLARS_INSTALLED = True\n",
    "except ImportError:\n",
    "    class pl_DataFrame:  # type: ignore\n",
    "        ...\n",
    "\n",
    "    class pl_Series:  # type: ignore\n",
    "        ...\n",
    "\n",
    "    POLARS_INSTALLED = False\n",
    "\n",
    "try:\n",
    "    import plotly  # noqa: F401\n",
    "\n",
    "    PLOTLY_INSTALLED = True\n",
    "except ImportError:\n",
    "    PLOTLY_INSTALLED = False\n",
    "\n",
    "try:\n",
    "    import plotly_resampler  # noqa: F401\n",
    "\n",
    "    PLOTLY_RESAMPLER_INSTALLED = True\n",
    "except ImportError:\n",
    "    PLOTLY_RESAMPLER_INSTALLED = False\n",
    "\n",
    "DataFrame = Union[pd.DataFrame, pl_DataFrame]"
   ]
  }
 ],
 "metadata": {
  "kernelspec": {
   "display_name": "python3",
   "language": "python",
   "name": "python3"
  }
 },
 "nbformat": 4,
 "nbformat_minor": 5
}
