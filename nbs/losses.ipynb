{
 "cells": [
  {
   "cell_type": "code",
   "execution_count": null,
   "metadata": {},
   "outputs": [],
   "source": [
    "#| default_exp losses"
   ]
  },
  {
   "cell_type": "markdown",
   "metadata": {},
   "source": [
    "# Losses\n",
    "\n",
    "> Loss functions for model evaluation.\n",
    "> "
   ]
  },
  {
   "cell_type": "markdown",
   "metadata": {},
   "source": [
    "> The most important train signal is the forecast error, which is the difference between the observed value $y_{\\tau}$ and the prediction $\\hat{y}_{\\tau}$, at time $y_{\\tau}$:\n",
    "> \n",
    "> $$ e_{\\tau} = y_{\\tau}-\\hat{y}_{\\tau} \\qquad \\qquad \\tau \\in \\{t+1,\\dots,t+H \\} $$\n",
    "> \n",
    "> The train loss summarizes the forecast errors in different evaluation metrics."
   ]
  },
  {
   "cell_type": "code",
   "execution_count": null,
   "metadata": {},
   "outputs": [],
   "source": [
    "#| export\n",
    "from functools import wraps\n",
    "from typing import Callable, List, Optional, Union\n",
    "\n",
    "import numpy as np\n",
    "import pandas as pd\n",
    "\n",
    "from utilsforecast.compat import DataFrame"
   ]
  },
  {
   "cell_type": "code",
   "execution_count": null,
   "metadata": {},
   "outputs": [],
   "source": [
    "#| hide\n",
    "import warnings\n",
    "\n",
    "from nbdev import show_doc"
   ]
  },
  {
   "cell_type": "code",
   "execution_count": null,
   "metadata": {},
   "outputs": [],
   "source": [
    "#| hide\n",
    "warnings.filterwarnings('ignore', message='Unknown section References')"
   ]
  },
  {
   "cell_type": "code",
   "execution_count": null,
   "metadata": {},
   "outputs": [],
   "source": [
    "#| exporti\n",
    "def _divide_no_nan(a: np.ndarray, b: np.ndarray) -> np.ndarray:\n",
    "    \"\"\"Auxiliary funtion to handle divide by 0\"\"\"\n",
    "    out_dtype = np.result_type(np.float32, a.dtype, b.dtype)\n",
    "    return np.divide(a, b, out=np.zeros(a.shape, dtype=out_dtype), where=b != 0)"
   ]
  },
  {
   "cell_type": "code",
   "execution_count": null,
   "metadata": {},
   "outputs": [],
   "source": [
    "#| exporti\n",
    "def _metric_protections(\n",
    "    y: np.ndarray, y_hat: np.ndarray, weights: Optional[np.ndarray] = None\n",
    ") -> None:\n",
    "    if weights is None:\n",
    "        return\n",
    "    if np.sum(weights) <= 0:\n",
    "        raise ValueError('Sum of weights must be positive')\n",
    "    if y.shape != y_hat.shape:\n",
    "        raise ValueError(f'Wrong y_hat dimension. y_hat shape={y_hat.shape}, y shape={y.shape}')\n",
    "    if weights.shape != y.shape:\n",
    "        raise ValueError(f'Wrong weight dimension. weights shape={weights.shape}, y shape={y.shape}')"
   ]
  },
  {
   "cell_type": "code",
   "execution_count": null,
   "metadata": {},
   "outputs": [],
   "source": [
    "import polars as pl\n",
    "\n",
    "from utilsforecast.data import generate_series"
   ]
  },
  {
   "cell_type": "code",
   "execution_count": null,
   "metadata": {},
   "outputs": [],
   "source": [
    "series = generate_series(10, static_as_categorical=False)\n",
    "rng = np.random.RandomState(0)\n",
    "models = ['model1', 'model2']\n",
    "for model in models:\n",
    "    series[model] = series['y'] * rng.rand(series.shape[0])\n",
    "series_pl = pl.from_pandas(series)"
   ]
  },
  {
   "cell_type": "markdown",
   "metadata": {},
   "source": [
    "# <span style=\"color:DarkOrange\">1. Scale-dependent Errors </span>"
   ]
  },
  {
   "cell_type": "markdown",
   "metadata": {},
   "source": [
    "## Mean Absolute Error (MAE)\n",
    "> $$ \\mathrm{MAE}(\\mathbf{y}_{\\tau}, \\mathbf{\\hat{y}}_{\\tau}) = \\frac{1}{H} \\sum^{t+H}_{\\tau=t+1} |y_{\\tau} - \\hat{y}_{\\tau}| $$"
   ]
  },
  {
   "cell_type": "markdown",
   "metadata": {},
   "source": [
    "![](imgs/losses/mae_loss.png)"
   ]
  },
  {
   "cell_type": "code",
   "execution_count": null,
   "metadata": {},
   "outputs": [],
   "source": [
    "#| exporti\n",
    "def _base_docstring(*args, **kwargs) -> Callable:\n",
    "    base_docstring = \"\"\"\n",
    "\n",
    "    Parameters\n",
    "    ----------\n",
    "    df : pandas or polars DataFrame\n",
    "        Input dataframe with id, times, actuals and predictions.\n",
    "    model_cols : list of str\n",
    "        Columns that identify the models predictions.\n",
    "    id_col : str (default='unique_id')\n",
    "        Column that identifies each serie.\n",
    "    target_col : str (default='y')\n",
    "        Column that contains the target.\n",
    "\n",
    "    Returns\n",
    "    -------\n",
    "    pandas or polars Dataframe\n",
    "        dataframe with the {name} for each id.\n",
    "    \"\"\"\n",
    "    def docstring_decorator(f: Callable):\n",
    "        f.__doc__ = f.__doc__ + base_docstring.format(name=f.__name__.upper())\n",
    "        return f\n",
    "\n",
    "    return docstring_decorator(*args, **kwargs)"
   ]
  },
  {
   "cell_type": "code",
   "execution_count": null,
   "metadata": {},
   "outputs": [],
   "source": [
    "#| export\n",
    "@_base_docstring\n",
    "def mae(\n",
    "    df: DataFrame,\n",
    "    model_cols: List[str],\n",
    "    id_col: str = 'unique_id',\n",
    "    target_col: str = 'y',\n",
    ") -> DataFrame:\n",
    "    \"\"\"Mean Absolute Error (MAE)\n",
    "\n",
    "    MAE measures the relative prediction\n",
    "    accuracy of a forecasting method by calculating the\n",
    "    deviation of the prediction and the true\n",
    "    value at a given time and averages these devations\n",
    "    over the length of the series.\"\"\"\n",
    "    if isinstance(df, pd.DataFrame):\n",
    "        res = (df[model_cols].sub(df[target_col], axis=0)).abs().groupby(df[id_col], observed=True).mean()\n",
    "        res.index.name = id_col\n",
    "        res = res.reset_index()\n",
    "    else:\n",
    "        exprs = [(pl.col(target_col) - pl.col(model_col)).abs().mean().alias(model_col) for model_col in model_cols]\n",
    "        res = df.group_by(id_col).agg(exprs)\n",
    "    return res"
   ]
  },
  {
   "cell_type": "code",
   "execution_count": null,
   "metadata": {},
   "outputs": [
    {
     "data": {
      "text/markdown": [
       "---\n",
       "\n",
       "[source](https://github.com/Nixtla/utilsforecast/blob/main/utilsforecast/losses.py#L36){target=\"_blank\" style=\"float:right; font-size:smaller\"}\n",
       "\n",
       "### mae\n",
       "\n",
       ">      mae\n",
       ">           (df:Union[pandas.core.frame.DataFrame,polars.dataframe.frame.DataFra\n",
       ">           me], model_cols:List[str], id_col:str='unique_id',\n",
       ">           target_col:str='y')\n",
       "\n",
       "Mean Absolute Error (MAE)\n",
       "\n",
       "MAE measures the relative prediction\n",
       "accuracy of a forecasting method by calculating the\n",
       "deviation of the prediction and the true\n",
       "value at a given time and averages these devations\n",
       "over the length of the series.\n",
       "\n",
       "|    | **Type** | **Default** | **Details** |\n",
       "| -- | -------- | ----------- | ----------- |\n",
       "| df | Union |  | Input dataframe with id, times, actuals and predictions. |\n",
       "| model_cols | List |  | Columns that identify the models predictions. |\n",
       "| id_col | str | unique_id | Column that identifies each serie. |\n",
       "| target_col | str | y | Column that contains the target. |\n",
       "| **Returns** | **Union** |  | **dataframe with the MAE for each id.** |"
      ],
      "text/plain": [
       "---\n",
       "\n",
       "[source](https://github.com/Nixtla/utilsforecast/blob/main/utilsforecast/losses.py#L36){target=\"_blank\" style=\"float:right; font-size:smaller\"}\n",
       "\n",
       "### mae\n",
       "\n",
       ">      mae\n",
       ">           (df:Union[pandas.core.frame.DataFrame,polars.dataframe.frame.DataFra\n",
       ">           me], model_cols:List[str], id_col:str='unique_id',\n",
       ">           target_col:str='y')\n",
       "\n",
       "Mean Absolute Error (MAE)\n",
       "\n",
       "MAE measures the relative prediction\n",
       "accuracy of a forecasting method by calculating the\n",
       "deviation of the prediction and the true\n",
       "value at a given time and averages these devations\n",
       "over the length of the series.\n",
       "\n",
       "|    | **Type** | **Default** | **Details** |\n",
       "| -- | -------- | ----------- | ----------- |\n",
       "| df | Union |  | Input dataframe with id, times, actuals and predictions. |\n",
       "| model_cols | List |  | Columns that identify the models predictions. |\n",
       "| id_col | str | unique_id | Column that identifies each serie. |\n",
       "| target_col | str | y | Column that contains the target. |\n",
       "| **Returns** | **Union** |  | **dataframe with the MAE for each id.** |"
      ]
     },
     "execution_count": null,
     "metadata": {},
     "output_type": "execute_result"
    }
   ],
   "source": [
    "show_doc(mae)"
   ]
  },
  {
   "cell_type": "code",
   "execution_count": null,
   "metadata": {},
   "outputs": [
    {
     "data": {
      "text/html": [
       "<div>\n",
       "<style scoped>\n",
       "    .dataframe tbody tr th:only-of-type {\n",
       "        vertical-align: middle;\n",
       "    }\n",
       "\n",
       "    .dataframe tbody tr th {\n",
       "        vertical-align: top;\n",
       "    }\n",
       "\n",
       "    .dataframe thead th {\n",
       "        text-align: right;\n",
       "    }\n",
       "</style>\n",
       "<table border=\"1\" class=\"dataframe\">\n",
       "  <thead>\n",
       "    <tr style=\"text-align: right;\">\n",
       "      <th></th>\n",
       "      <th>unique_id</th>\n",
       "      <th>model1</th>\n",
       "      <th>model2</th>\n",
       "    </tr>\n",
       "  </thead>\n",
       "  <tbody>\n",
       "    <tr>\n",
       "      <th>0</th>\n",
       "      <td>0</td>\n",
       "      <td>1.621445</td>\n",
       "      <td>1.661438</td>\n",
       "    </tr>\n",
       "    <tr>\n",
       "      <th>1</th>\n",
       "      <td>1</td>\n",
       "      <td>1.550644</td>\n",
       "      <td>1.425915</td>\n",
       "    </tr>\n",
       "    <tr>\n",
       "      <th>2</th>\n",
       "      <td>2</td>\n",
       "      <td>1.608086</td>\n",
       "      <td>1.642708</td>\n",
       "    </tr>\n",
       "    <tr>\n",
       "      <th>3</th>\n",
       "      <td>3</td>\n",
       "      <td>1.712587</td>\n",
       "      <td>1.600349</td>\n",
       "    </tr>\n",
       "    <tr>\n",
       "      <th>4</th>\n",
       "      <td>4</td>\n",
       "      <td>1.620040</td>\n",
       "      <td>1.606156</td>\n",
       "    </tr>\n",
       "    <tr>\n",
       "      <th>5</th>\n",
       "      <td>5</td>\n",
       "      <td>1.529447</td>\n",
       "      <td>1.765802</td>\n",
       "    </tr>\n",
       "    <tr>\n",
       "      <th>6</th>\n",
       "      <td>6</td>\n",
       "      <td>1.518084</td>\n",
       "      <td>1.744659</td>\n",
       "    </tr>\n",
       "    <tr>\n",
       "      <th>7</th>\n",
       "      <td>7</td>\n",
       "      <td>1.673386</td>\n",
       "      <td>1.686614</td>\n",
       "    </tr>\n",
       "    <tr>\n",
       "      <th>8</th>\n",
       "      <td>8</td>\n",
       "      <td>1.625683</td>\n",
       "      <td>1.435187</td>\n",
       "    </tr>\n",
       "    <tr>\n",
       "      <th>9</th>\n",
       "      <td>9</td>\n",
       "      <td>1.556535</td>\n",
       "      <td>1.644697</td>\n",
       "    </tr>\n",
       "  </tbody>\n",
       "</table>\n",
       "</div>"
      ],
      "text/plain": [
       "   unique_id    model1    model2\n",
       "0          0  1.621445  1.661438\n",
       "1          1  1.550644  1.425915\n",
       "2          2  1.608086  1.642708\n",
       "3          3  1.712587  1.600349\n",
       "4          4  1.620040  1.606156\n",
       "5          5  1.529447  1.765802\n",
       "6          6  1.518084  1.744659\n",
       "7          7  1.673386  1.686614\n",
       "8          8  1.625683  1.435187\n",
       "9          9  1.556535  1.644697"
      ]
     },
     "execution_count": null,
     "metadata": {},
     "output_type": "execute_result"
    }
   ],
   "source": [
    "mae(series, models)"
   ]
  },
  {
   "cell_type": "code",
   "execution_count": null,
   "metadata": {},
   "outputs": [
    {
     "data": {
      "text/html": [
       "<div><style>\n",
       ".dataframe > thead > tr > th,\n",
       ".dataframe > tbody > tr > td {\n",
       "  text-align: right;\n",
       "  white-space: pre-wrap;\n",
       "}\n",
       "</style>\n",
       "<small>shape: (10, 3)</small><table border=\"1\" class=\"dataframe\"><thead><tr><th>unique_id</th><th>model1</th><th>model2</th></tr><tr><td>i64</td><td>f64</td><td>f64</td></tr></thead><tbody><tr><td>0</td><td>1.621445</td><td>1.661438</td></tr><tr><td>1</td><td>1.550644</td><td>1.425915</td></tr><tr><td>2</td><td>1.608086</td><td>1.642708</td></tr><tr><td>3</td><td>1.712587</td><td>1.600349</td></tr><tr><td>4</td><td>1.62004</td><td>1.606156</td></tr><tr><td>5</td><td>1.529447</td><td>1.765802</td></tr><tr><td>6</td><td>1.518084</td><td>1.744659</td></tr><tr><td>7</td><td>1.673386</td><td>1.686614</td></tr><tr><td>8</td><td>1.625683</td><td>1.435187</td></tr><tr><td>9</td><td>1.556535</td><td>1.644697</td></tr></tbody></table></div>"
      ],
      "text/plain": [
       "shape: (10, 3)\n",
       "┌───────────┬──────────┬──────────┐\n",
       "│ unique_id ┆ model1   ┆ model2   │\n",
       "│ ---       ┆ ---      ┆ ---      │\n",
       "│ i64       ┆ f64      ┆ f64      │\n",
       "╞═══════════╪══════════╪══════════╡\n",
       "│ 0         ┆ 1.621445 ┆ 1.661438 │\n",
       "│ 1         ┆ 1.550644 ┆ 1.425915 │\n",
       "│ 2         ┆ 1.608086 ┆ 1.642708 │\n",
       "│ 3         ┆ 1.712587 ┆ 1.600349 │\n",
       "│ …         ┆ …        ┆ …        │\n",
       "│ 6         ┆ 1.518084 ┆ 1.744659 │\n",
       "│ 7         ┆ 1.673386 ┆ 1.686614 │\n",
       "│ 8         ┆ 1.625683 ┆ 1.435187 │\n",
       "│ 9         ┆ 1.556535 ┆ 1.644697 │\n",
       "└───────────┴──────────┴──────────┘"
      ]
     },
     "execution_count": null,
     "metadata": {},
     "output_type": "execute_result"
    }
   ],
   "source": [
    "mae(series_pl, models).sort('unique_id')"
   ]
  },
  {
   "cell_type": "markdown",
   "metadata": {},
   "source": [
    "## Mean Squared Error\n",
    "> $$ \\mathrm{MSE}(\\mathbf{y}_{\\tau}, \\mathbf{\\hat{y}}_{\\tau}) = \\frac{1}{H} \\sum^{t+H}_{\\tau=t+1} (y_{\\tau} - \\hat{y}_{\\tau})^{2} $$"
   ]
  },
  {
   "cell_type": "markdown",
   "metadata": {},
   "source": [
    "![](imgs/losses/mse_loss.png)"
   ]
  },
  {
   "cell_type": "code",
   "execution_count": null,
   "metadata": {},
   "outputs": [],
   "source": [
    "#| export\n",
    "@_base_docstring\n",
    "def mse(\n",
    "    df: DataFrame,\n",
    "    model_cols: List[str],\n",
    "    id_col: str = 'unique_id',\n",
    "    target_col: str = 'y',\n",
    ") -> DataFrame:\n",
    "    \"\"\"Mean Squared Error (MSE)\n",
    "    \n",
    "    MSE measures the relative prediction\n",
    "    accuracy of a forecasting method by calculating the \n",
    "    squared deviation of the prediction and the true\n",
    "    value at a given time, and averages these devations\n",
    "    over the length of the series.\"\"\"    \n",
    "    if isinstance(df, pd.DataFrame):\n",
    "        res = (df[model_cols].sub(df[target_col], axis=0)).pow(2).groupby(df[id_col], observed=True).mean()\n",
    "        res.index.name = id_col\n",
    "        res = res.reset_index()\n",
    "    else:\n",
    "        exprs = [(pl.col(target_col) - pl.col(model_col)).pow(2).mean().alias(model_col) for model_col in model_cols]        \n",
    "        res = df.group_by(id_col).agg(*exprs)\n",
    "    return res"
   ]
  },
  {
   "cell_type": "code",
   "execution_count": null,
   "metadata": {},
   "outputs": [
    {
     "data": {
      "text/markdown": [
       "---\n",
       "\n",
       "[source](https://github.com/Nixtla/utilsforecast/blob/main/utilsforecast/losses.py#L80){target=\"_blank\" style=\"float:right; font-size:smaller\"}\n",
       "\n",
       "### mse\n",
       "\n",
       ">      mse\n",
       ">           (df:Union[pandas.core.frame.DataFrame,polars.dataframe.frame.DataFra\n",
       ">           me], model_cols:List[str], id_col:str='unique_id',\n",
       ">           target_col:str='y')\n",
       "\n",
       "Mean Squared Error (MSE)\n",
       "\n",
       "MSE measures the relative prediction\n",
       "accuracy of a forecasting method by calculating the \n",
       "squared deviation of the prediction and the true\n",
       "value at a given time, and averages these devations\n",
       "over the length of the series.\n",
       "\n",
       "|    | **Type** | **Default** | **Details** |\n",
       "| -- | -------- | ----------- | ----------- |\n",
       "| df | Union |  | Input dataframe with id, times, actuals and predictions. |\n",
       "| model_cols | List |  | Columns that identify the models predictions. |\n",
       "| id_col | str | unique_id | Column that identifies each serie. |\n",
       "| target_col | str | y | Column that contains the target. |\n",
       "| **Returns** | **Union** |  | **dataframe with the MSE for each id.** |"
      ],
      "text/plain": [
       "---\n",
       "\n",
       "[source](https://github.com/Nixtla/utilsforecast/blob/main/utilsforecast/losses.py#L80){target=\"_blank\" style=\"float:right; font-size:smaller\"}\n",
       "\n",
       "### mse\n",
       "\n",
       ">      mse\n",
       ">           (df:Union[pandas.core.frame.DataFrame,polars.dataframe.frame.DataFra\n",
       ">           me], model_cols:List[str], id_col:str='unique_id',\n",
       ">           target_col:str='y')\n",
       "\n",
       "Mean Squared Error (MSE)\n",
       "\n",
       "MSE measures the relative prediction\n",
       "accuracy of a forecasting method by calculating the \n",
       "squared deviation of the prediction and the true\n",
       "value at a given time, and averages these devations\n",
       "over the length of the series.\n",
       "\n",
       "|    | **Type** | **Default** | **Details** |\n",
       "| -- | -------- | ----------- | ----------- |\n",
       "| df | Union |  | Input dataframe with id, times, actuals and predictions. |\n",
       "| model_cols | List |  | Columns that identify the models predictions. |\n",
       "| id_col | str | unique_id | Column that identifies each serie. |\n",
       "| target_col | str | y | Column that contains the target. |\n",
       "| **Returns** | **Union** |  | **dataframe with the MSE for each id.** |"
      ]
     },
     "execution_count": null,
     "metadata": {},
     "output_type": "execute_result"
    }
   ],
   "source": [
    "show_doc(mse)"
   ]
  },
  {
   "cell_type": "code",
   "execution_count": null,
   "metadata": {},
   "outputs": [
    {
     "data": {
      "text/html": [
       "<div>\n",
       "<style scoped>\n",
       "    .dataframe tbody tr th:only-of-type {\n",
       "        vertical-align: middle;\n",
       "    }\n",
       "\n",
       "    .dataframe tbody tr th {\n",
       "        vertical-align: top;\n",
       "    }\n",
       "\n",
       "    .dataframe thead th {\n",
       "        text-align: right;\n",
       "    }\n",
       "</style>\n",
       "<table border=\"1\" class=\"dataframe\">\n",
       "  <thead>\n",
       "    <tr style=\"text-align: right;\">\n",
       "      <th></th>\n",
       "      <th>unique_id</th>\n",
       "      <th>model1</th>\n",
       "      <th>model2</th>\n",
       "    </tr>\n",
       "  </thead>\n",
       "  <tbody>\n",
       "    <tr>\n",
       "      <th>0</th>\n",
       "      <td>0</td>\n",
       "      <td>4.924752</td>\n",
       "      <td>5.223291</td>\n",
       "    </tr>\n",
       "    <tr>\n",
       "      <th>1</th>\n",
       "      <td>1</td>\n",
       "      <td>4.491915</td>\n",
       "      <td>3.890422</td>\n",
       "    </tr>\n",
       "    <tr>\n",
       "      <th>2</th>\n",
       "      <td>2</td>\n",
       "      <td>4.714431</td>\n",
       "      <td>4.824025</td>\n",
       "    </tr>\n",
       "    <tr>\n",
       "      <th>3</th>\n",
       "      <td>3</td>\n",
       "      <td>5.459162</td>\n",
       "      <td>4.646057</td>\n",
       "    </tr>\n",
       "    <tr>\n",
       "      <th>4</th>\n",
       "      <td>4</td>\n",
       "      <td>4.832107</td>\n",
       "      <td>4.704585</td>\n",
       "    </tr>\n",
       "    <tr>\n",
       "      <th>5</th>\n",
       "      <td>5</td>\n",
       "      <td>4.474070</td>\n",
       "      <td>5.531093</td>\n",
       "    </tr>\n",
       "    <tr>\n",
       "      <th>6</th>\n",
       "      <td>6</td>\n",
       "      <td>4.520140</td>\n",
       "      <td>5.293929</td>\n",
       "    </tr>\n",
       "    <tr>\n",
       "      <th>7</th>\n",
       "      <td>7</td>\n",
       "      <td>5.200671</td>\n",
       "      <td>5.201971</td>\n",
       "    </tr>\n",
       "    <tr>\n",
       "      <th>8</th>\n",
       "      <td>8</td>\n",
       "      <td>4.087936</td>\n",
       "      <td>3.828350</td>\n",
       "    </tr>\n",
       "    <tr>\n",
       "      <th>9</th>\n",
       "      <td>9</td>\n",
       "      <td>4.503553</td>\n",
       "      <td>4.761206</td>\n",
       "    </tr>\n",
       "  </tbody>\n",
       "</table>\n",
       "</div>"
      ],
      "text/plain": [
       "   unique_id    model1    model2\n",
       "0          0  4.924752  5.223291\n",
       "1          1  4.491915  3.890422\n",
       "2          2  4.714431  4.824025\n",
       "3          3  5.459162  4.646057\n",
       "4          4  4.832107  4.704585\n",
       "5          5  4.474070  5.531093\n",
       "6          6  4.520140  5.293929\n",
       "7          7  5.200671  5.201971\n",
       "8          8  4.087936  3.828350\n",
       "9          9  4.503553  4.761206"
      ]
     },
     "execution_count": null,
     "metadata": {},
     "output_type": "execute_result"
    }
   ],
   "source": [
    "mse(series, models)"
   ]
  },
  {
   "cell_type": "code",
   "execution_count": null,
   "metadata": {},
   "outputs": [
    {
     "data": {
      "text/html": [
       "<div><style>\n",
       ".dataframe > thead > tr > th,\n",
       ".dataframe > tbody > tr > td {\n",
       "  text-align: right;\n",
       "  white-space: pre-wrap;\n",
       "}\n",
       "</style>\n",
       "<small>shape: (10, 3)</small><table border=\"1\" class=\"dataframe\"><thead><tr><th>unique_id</th><th>model1</th><th>model2</th></tr><tr><td>i64</td><td>f64</td><td>f64</td></tr></thead><tbody><tr><td>0</td><td>4.924752</td><td>5.223291</td></tr><tr><td>1</td><td>4.491915</td><td>3.890422</td></tr><tr><td>2</td><td>4.714431</td><td>4.824025</td></tr><tr><td>3</td><td>5.459162</td><td>4.646057</td></tr><tr><td>4</td><td>4.832107</td><td>4.704585</td></tr><tr><td>5</td><td>4.47407</td><td>5.531093</td></tr><tr><td>6</td><td>4.52014</td><td>5.293929</td></tr><tr><td>7</td><td>5.200671</td><td>5.201971</td></tr><tr><td>8</td><td>4.087936</td><td>3.82835</td></tr><tr><td>9</td><td>4.503553</td><td>4.761206</td></tr></tbody></table></div>"
      ],
      "text/plain": [
       "shape: (10, 3)\n",
       "┌───────────┬──────────┬──────────┐\n",
       "│ unique_id ┆ model1   ┆ model2   │\n",
       "│ ---       ┆ ---      ┆ ---      │\n",
       "│ i64       ┆ f64      ┆ f64      │\n",
       "╞═══════════╪══════════╪══════════╡\n",
       "│ 0         ┆ 4.924752 ┆ 5.223291 │\n",
       "│ 1         ┆ 4.491915 ┆ 3.890422 │\n",
       "│ 2         ┆ 4.714431 ┆ 4.824025 │\n",
       "│ 3         ┆ 5.459162 ┆ 4.646057 │\n",
       "│ …         ┆ …        ┆ …        │\n",
       "│ 6         ┆ 4.52014  ┆ 5.293929 │\n",
       "│ 7         ┆ 5.200671 ┆ 5.201971 │\n",
       "│ 8         ┆ 4.087936 ┆ 3.82835  │\n",
       "│ 9         ┆ 4.503553 ┆ 4.761206 │\n",
       "└───────────┴──────────┴──────────┘"
      ]
     },
     "execution_count": null,
     "metadata": {},
     "output_type": "execute_result"
    }
   ],
   "source": [
    "mse(series_pl, models).sort('unique_id')"
   ]
  },
  {
   "cell_type": "markdown",
   "metadata": {},
   "source": [
    "## Root Mean Squared Error\n",
    "> $$ \\mathrm{RMSE}(\\mathbf{y}_{\\tau}, \\mathbf{\\hat{y}}_{\\tau}) = \\sqrt{\\frac{1}{H} \\sum^{t+H}_{\\tau=t+1} (y_{\\tau} - \\hat{y}_{\\tau})^{2}} $$"
   ]
  },
  {
   "cell_type": "markdown",
   "metadata": {},
   "source": [
    "![](imgs/losses/rmse_loss.png)"
   ]
  },
  {
   "cell_type": "code",
   "execution_count": null,
   "metadata": {},
   "outputs": [],
   "source": [
    "#| export\n",
    "@_base_docstring\n",
    "def rmse(\n",
    "    df: DataFrame,\n",
    "    model_cols: List[str],\n",
    "    id_col: str = 'unique_id',\n",
    "    target_col: str = 'y',\n",
    ") -> Union[float, np.ndarray]:\n",
    "    \"\"\"Root Mean Squared Error (RMSE)\n",
    "    \n",
    "    RMSE measures the relative prediction\n",
    "    accuracy of a forecasting method by calculating the squared deviation\n",
    "    of the prediction and the observed value at a given time and\n",
    "    averages these devations over the length of the series.\n",
    "    Finally the RMSE will be in the same scale\n",
    "    as the original time series so its comparison with other\n",
    "    series is possible only if they share a common scale. \n",
    "    RMSE has a direct connection to the L2 norm.\"\"\"    \n",
    "    res = mse(df, model_cols, id_col, target_col)\n",
    "    if isinstance(res, pd.DataFrame):\n",
    "        res[model_cols] = res[model_cols].pow(0.5)\n",
    "    else:\n",
    "        import polars as pl\n",
    "\n",
    "        res = res.with_columns(*[pl.col(c).pow(0.5) for c in model_cols])\n",
    "    return res"
   ]
  },
  {
   "cell_type": "code",
   "execution_count": null,
   "metadata": {},
   "outputs": [
    {
     "data": {
      "text/markdown": [
       "---\n",
       "\n",
       "[source](https://github.com/Nixtla/utilsforecast/blob/main/utilsforecast/losses.py#L126){target=\"_blank\" style=\"float:right; font-size:smaller\"}\n",
       "\n",
       "### rmse\n",
       "\n",
       ">      rmse\n",
       ">            (df:Union[pandas.core.frame.DataFrame,polars.dataframe.frame.DataFr\n",
       ">            ame], model_cols:List[str], id_col:str='unique_id',\n",
       ">            target_col:str='y')\n",
       "\n",
       "Root Mean Squared Error (RMSE)\n",
       "\n",
       "RMSE measures the relative prediction\n",
       "accuracy of a forecasting method by calculating the squared deviation\n",
       "of the prediction and the observed value at a given time and\n",
       "averages these devations over the length of the series.\n",
       "Finally the RMSE will be in the same scale\n",
       "as the original time series so its comparison with other\n",
       "series is possible only if they share a common scale. \n",
       "RMSE has a direct connection to the L2 norm.\n",
       "\n",
       "|    | **Type** | **Default** | **Details** |\n",
       "| -- | -------- | ----------- | ----------- |\n",
       "| df | Union |  | Input dataframe with id, times, actuals and predictions. |\n",
       "| model_cols | List |  | Columns that identify the models predictions. |\n",
       "| id_col | str | unique_id | Column that identifies each serie. |\n",
       "| target_col | str | y | Column that contains the target. |\n",
       "| **Returns** | **Union** |  | **dataframe with the RMSE for each id.** |"
      ],
      "text/plain": [
       "---\n",
       "\n",
       "[source](https://github.com/Nixtla/utilsforecast/blob/main/utilsforecast/losses.py#L126){target=\"_blank\" style=\"float:right; font-size:smaller\"}\n",
       "\n",
       "### rmse\n",
       "\n",
       ">      rmse\n",
       ">            (df:Union[pandas.core.frame.DataFrame,polars.dataframe.frame.DataFr\n",
       ">            ame], model_cols:List[str], id_col:str='unique_id',\n",
       ">            target_col:str='y')\n",
       "\n",
       "Root Mean Squared Error (RMSE)\n",
       "\n",
       "RMSE measures the relative prediction\n",
       "accuracy of a forecasting method by calculating the squared deviation\n",
       "of the prediction and the observed value at a given time and\n",
       "averages these devations over the length of the series.\n",
       "Finally the RMSE will be in the same scale\n",
       "as the original time series so its comparison with other\n",
       "series is possible only if they share a common scale. \n",
       "RMSE has a direct connection to the L2 norm.\n",
       "\n",
       "|    | **Type** | **Default** | **Details** |\n",
       "| -- | -------- | ----------- | ----------- |\n",
       "| df | Union |  | Input dataframe with id, times, actuals and predictions. |\n",
       "| model_cols | List |  | Columns that identify the models predictions. |\n",
       "| id_col | str | unique_id | Column that identifies each serie. |\n",
       "| target_col | str | y | Column that contains the target. |\n",
       "| **Returns** | **Union** |  | **dataframe with the RMSE for each id.** |"
      ]
     },
     "execution_count": null,
     "metadata": {},
     "output_type": "execute_result"
    }
   ],
   "source": [
    "show_doc(rmse)"
   ]
  },
  {
   "cell_type": "code",
   "execution_count": null,
   "metadata": {},
   "outputs": [
    {
     "data": {
      "text/html": [
       "<div>\n",
       "<style scoped>\n",
       "    .dataframe tbody tr th:only-of-type {\n",
       "        vertical-align: middle;\n",
       "    }\n",
       "\n",
       "    .dataframe tbody tr th {\n",
       "        vertical-align: top;\n",
       "    }\n",
       "\n",
       "    .dataframe thead th {\n",
       "        text-align: right;\n",
       "    }\n",
       "</style>\n",
       "<table border=\"1\" class=\"dataframe\">\n",
       "  <thead>\n",
       "    <tr style=\"text-align: right;\">\n",
       "      <th></th>\n",
       "      <th>unique_id</th>\n",
       "      <th>model1</th>\n",
       "      <th>model2</th>\n",
       "    </tr>\n",
       "  </thead>\n",
       "  <tbody>\n",
       "    <tr>\n",
       "      <th>0</th>\n",
       "      <td>0</td>\n",
       "      <td>2.219178</td>\n",
       "      <td>2.285452</td>\n",
       "    </tr>\n",
       "    <tr>\n",
       "      <th>1</th>\n",
       "      <td>1</td>\n",
       "      <td>2.119414</td>\n",
       "      <td>1.972415</td>\n",
       "    </tr>\n",
       "    <tr>\n",
       "      <th>2</th>\n",
       "      <td>2</td>\n",
       "      <td>2.171274</td>\n",
       "      <td>2.196366</td>\n",
       "    </tr>\n",
       "    <tr>\n",
       "      <th>3</th>\n",
       "      <td>3</td>\n",
       "      <td>2.336485</td>\n",
       "      <td>2.155471</td>\n",
       "    </tr>\n",
       "    <tr>\n",
       "      <th>4</th>\n",
       "      <td>4</td>\n",
       "      <td>2.198205</td>\n",
       "      <td>2.169005</td>\n",
       "    </tr>\n",
       "    <tr>\n",
       "      <th>5</th>\n",
       "      <td>5</td>\n",
       "      <td>2.115200</td>\n",
       "      <td>2.351828</td>\n",
       "    </tr>\n",
       "    <tr>\n",
       "      <th>6</th>\n",
       "      <td>6</td>\n",
       "      <td>2.126062</td>\n",
       "      <td>2.300854</td>\n",
       "    </tr>\n",
       "    <tr>\n",
       "      <th>7</th>\n",
       "      <td>7</td>\n",
       "      <td>2.280498</td>\n",
       "      <td>2.280783</td>\n",
       "    </tr>\n",
       "    <tr>\n",
       "      <th>8</th>\n",
       "      <td>8</td>\n",
       "      <td>2.021865</td>\n",
       "      <td>1.956617</td>\n",
       "    </tr>\n",
       "    <tr>\n",
       "      <th>9</th>\n",
       "      <td>9</td>\n",
       "      <td>2.122158</td>\n",
       "      <td>2.182019</td>\n",
       "    </tr>\n",
       "  </tbody>\n",
       "</table>\n",
       "</div>"
      ],
      "text/plain": [
       "   unique_id    model1    model2\n",
       "0          0  2.219178  2.285452\n",
       "1          1  2.119414  1.972415\n",
       "2          2  2.171274  2.196366\n",
       "3          3  2.336485  2.155471\n",
       "4          4  2.198205  2.169005\n",
       "5          5  2.115200  2.351828\n",
       "6          6  2.126062  2.300854\n",
       "7          7  2.280498  2.280783\n",
       "8          8  2.021865  1.956617\n",
       "9          9  2.122158  2.182019"
      ]
     },
     "execution_count": null,
     "metadata": {},
     "output_type": "execute_result"
    }
   ],
   "source": [
    "rmse(series, models)"
   ]
  },
  {
   "cell_type": "code",
   "execution_count": null,
   "metadata": {},
   "outputs": [
    {
     "data": {
      "text/html": [
       "<div><style>\n",
       ".dataframe > thead > tr > th,\n",
       ".dataframe > tbody > tr > td {\n",
       "  text-align: right;\n",
       "  white-space: pre-wrap;\n",
       "}\n",
       "</style>\n",
       "<small>shape: (10, 3)</small><table border=\"1\" class=\"dataframe\"><thead><tr><th>unique_id</th><th>model1</th><th>model2</th></tr><tr><td>i64</td><td>f64</td><td>f64</td></tr></thead><tbody><tr><td>0</td><td>2.219178</td><td>2.285452</td></tr><tr><td>1</td><td>2.119414</td><td>1.972415</td></tr><tr><td>2</td><td>2.171274</td><td>2.196366</td></tr><tr><td>3</td><td>2.336485</td><td>2.155471</td></tr><tr><td>4</td><td>2.198205</td><td>2.169005</td></tr><tr><td>5</td><td>2.1152</td><td>2.351828</td></tr><tr><td>6</td><td>2.126062</td><td>2.300854</td></tr><tr><td>7</td><td>2.280498</td><td>2.280783</td></tr><tr><td>8</td><td>2.021865</td><td>1.956617</td></tr><tr><td>9</td><td>2.122158</td><td>2.182019</td></tr></tbody></table></div>"
      ],
      "text/plain": [
       "shape: (10, 3)\n",
       "┌───────────┬──────────┬──────────┐\n",
       "│ unique_id ┆ model1   ┆ model2   │\n",
       "│ ---       ┆ ---      ┆ ---      │\n",
       "│ i64       ┆ f64      ┆ f64      │\n",
       "╞═══════════╪══════════╪══════════╡\n",
       "│ 0         ┆ 2.219178 ┆ 2.285452 │\n",
       "│ 1         ┆ 2.119414 ┆ 1.972415 │\n",
       "│ 2         ┆ 2.171274 ┆ 2.196366 │\n",
       "│ 3         ┆ 2.336485 ┆ 2.155471 │\n",
       "│ …         ┆ …        ┆ …        │\n",
       "│ 6         ┆ 2.126062 ┆ 2.300854 │\n",
       "│ 7         ┆ 2.280498 ┆ 2.280783 │\n",
       "│ 8         ┆ 2.021865 ┆ 1.956617 │\n",
       "│ 9         ┆ 2.122158 ┆ 2.182019 │\n",
       "└───────────┴──────────┴──────────┘"
      ]
     },
     "execution_count": null,
     "metadata": {},
     "output_type": "execute_result"
    }
   ],
   "source": [
    "rmse(series_pl, models).sort('unique_id')"
   ]
  },
  {
   "cell_type": "markdown",
   "metadata": {},
   "source": [
    "# <span style=\"color:DarkOrange\">2. Percentage Errors </span>"
   ]
  },
  {
   "cell_type": "markdown",
   "metadata": {},
   "source": [
    "## Mean Absolute Percentage Error\n",
    "> $$ \\mathrm{MAPE}(\\mathbf{y}_{\\tau}, \\mathbf{\\hat{y}}_{\\tau}) = \\frac{1}{H} \\sum^{t+H}_{\\tau=t+1} \\frac{|y_{\\tau}-\\hat{y}_{\\tau}|}{|y_{\\tau}|} $$"
   ]
  },
  {
   "cell_type": "markdown",
   "metadata": {},
   "source": [
    "![](imgs/losses/mape_loss.png)"
   ]
  },
  {
   "cell_type": "code",
   "execution_count": null,
   "metadata": {},
   "outputs": [],
   "source": [
    "#| export\n",
    "@_base_docstring\n",
    "def mape(\n",
    "    df: DataFrame,\n",
    "    model_cols: List[str],\n",
    "    id_col: str = 'unique_id',\n",
    "    target_col: str = 'y',\n",
    ") -> Union[float, np.ndarray]:\n",
    "    \"\"\"Mean Absolute Percentage Error (MAPE)\n",
    "    \n",
    "    MAPE measures the relative prediction\n",
    "    accuracy of a forecasting method by calculating the percentual deviation\n",
    "    of the prediction and the observed value at a given time and\n",
    "    averages these devations over the length of the series.\n",
    "    The closer to zero an observed value is, the higher penalty MAPE loss\n",
    "    assigns to the corresponding error.\"\"\"\n",
    "    if isinstance(df, pd.DataFrame):\n",
    "        res = df[model_cols].sub(df[target_col], axis=0).abs().div(df[target_col].abs(), axis=0).groupby(df[id_col], observed=True).mean()\n",
    "        res.index.name = id_col\n",
    "        res = res.reset_index()\n",
    "    else:\n",
    "        exprs = [(pl.col(target_col).sub(pl.col(model_col)).abs() / pl.col(target_col).abs()).mean().alias(model_col) for model_col in model_cols]        \n",
    "        res = df.group_by(id_col).agg(*exprs)\n",
    "    return res"
   ]
  },
  {
   "cell_type": "code",
   "execution_count": null,
   "metadata": {},
   "outputs": [
    {
     "data": {
      "text/markdown": [
       "---\n",
       "\n",
       "[source](https://github.com/Nixtla/utilsforecast/blob/main/utilsforecast/losses.py#L165){target=\"_blank\" style=\"float:right; font-size:smaller\"}\n",
       "\n",
       "### mape\n",
       "\n",
       ">      mape\n",
       ">            (df:Union[pandas.core.frame.DataFrame,polars.dataframe.frame.DataFr\n",
       ">            ame], model_cols:List[str], id_col:str='unique_id',\n",
       ">            target_col:str='y')\n",
       "\n",
       "Mean Absolute Percentage Error (MAPE)\n",
       "\n",
       "MAPE measures the relative prediction\n",
       "accuracy of a forecasting method by calculating the percentual deviation\n",
       "of the prediction and the observed value at a given time and\n",
       "averages these devations over the length of the series.\n",
       "The closer to zero an observed value is, the higher penalty MAPE loss\n",
       "assigns to the corresponding error.\n",
       "\n",
       "|    | **Type** | **Default** | **Details** |\n",
       "| -- | -------- | ----------- | ----------- |\n",
       "| df | Union |  | Input dataframe with id, times, actuals and predictions. |\n",
       "| model_cols | List |  | Columns that identify the models predictions. |\n",
       "| id_col | str | unique_id | Column that identifies each serie. |\n",
       "| target_col | str | y | Column that contains the target. |\n",
       "| **Returns** | **Union** |  | **dataframe with the MAPE for each id.** |"
      ],
      "text/plain": [
       "---\n",
       "\n",
       "[source](https://github.com/Nixtla/utilsforecast/blob/main/utilsforecast/losses.py#L165){target=\"_blank\" style=\"float:right; font-size:smaller\"}\n",
       "\n",
       "### mape\n",
       "\n",
       ">      mape\n",
       ">            (df:Union[pandas.core.frame.DataFrame,polars.dataframe.frame.DataFr\n",
       ">            ame], model_cols:List[str], id_col:str='unique_id',\n",
       ">            target_col:str='y')\n",
       "\n",
       "Mean Absolute Percentage Error (MAPE)\n",
       "\n",
       "MAPE measures the relative prediction\n",
       "accuracy of a forecasting method by calculating the percentual deviation\n",
       "of the prediction and the observed value at a given time and\n",
       "averages these devations over the length of the series.\n",
       "The closer to zero an observed value is, the higher penalty MAPE loss\n",
       "assigns to the corresponding error.\n",
       "\n",
       "|    | **Type** | **Default** | **Details** |\n",
       "| -- | -------- | ----------- | ----------- |\n",
       "| df | Union |  | Input dataframe with id, times, actuals and predictions. |\n",
       "| model_cols | List |  | Columns that identify the models predictions. |\n",
       "| id_col | str | unique_id | Column that identifies each serie. |\n",
       "| target_col | str | y | Column that contains the target. |\n",
       "| **Returns** | **Union** |  | **dataframe with the MAPE for each id.** |"
      ]
     },
     "execution_count": null,
     "metadata": {},
     "output_type": "execute_result"
    }
   ],
   "source": [
    "show_doc(mape)"
   ]
  },
  {
   "cell_type": "code",
   "execution_count": null,
   "metadata": {},
   "outputs": [
    {
     "data": {
      "text/html": [
       "<div>\n",
       "<style scoped>\n",
       "    .dataframe tbody tr th:only-of-type {\n",
       "        vertical-align: middle;\n",
       "    }\n",
       "\n",
       "    .dataframe tbody tr th {\n",
       "        vertical-align: top;\n",
       "    }\n",
       "\n",
       "    .dataframe thead th {\n",
       "        text-align: right;\n",
       "    }\n",
       "</style>\n",
       "<table border=\"1\" class=\"dataframe\">\n",
       "  <thead>\n",
       "    <tr style=\"text-align: right;\">\n",
       "      <th></th>\n",
       "      <th>unique_id</th>\n",
       "      <th>model1</th>\n",
       "      <th>model2</th>\n",
       "    </tr>\n",
       "  </thead>\n",
       "  <tbody>\n",
       "    <tr>\n",
       "      <th>0</th>\n",
       "      <td>0</td>\n",
       "      <td>0.500683</td>\n",
       "      <td>0.496882</td>\n",
       "    </tr>\n",
       "    <tr>\n",
       "      <th>1</th>\n",
       "      <td>1</td>\n",
       "      <td>0.508226</td>\n",
       "      <td>0.435761</td>\n",
       "    </tr>\n",
       "    <tr>\n",
       "      <th>2</th>\n",
       "      <td>2</td>\n",
       "      <td>0.506888</td>\n",
       "      <td>0.517446</td>\n",
       "    </tr>\n",
       "    <tr>\n",
       "      <th>3</th>\n",
       "      <td>3</td>\n",
       "      <td>0.508849</td>\n",
       "      <td>0.499527</td>\n",
       "    </tr>\n",
       "    <tr>\n",
       "      <th>4</th>\n",
       "      <td>4</td>\n",
       "      <td>0.505346</td>\n",
       "      <td>0.497153</td>\n",
       "    </tr>\n",
       "    <tr>\n",
       "      <th>5</th>\n",
       "      <td>5</td>\n",
       "      <td>0.474170</td>\n",
       "      <td>0.522293</td>\n",
       "    </tr>\n",
       "    <tr>\n",
       "      <th>6</th>\n",
       "      <td>6</td>\n",
       "      <td>0.468427</td>\n",
       "      <td>0.544866</td>\n",
       "    </tr>\n",
       "    <tr>\n",
       "      <th>7</th>\n",
       "      <td>7</td>\n",
       "      <td>0.510691</td>\n",
       "      <td>0.514513</td>\n",
       "    </tr>\n",
       "    <tr>\n",
       "      <th>8</th>\n",
       "      <td>8</td>\n",
       "      <td>0.499559</td>\n",
       "      <td>0.463213</td>\n",
       "    </tr>\n",
       "    <tr>\n",
       "      <th>9</th>\n",
       "      <td>9</td>\n",
       "      <td>0.482473</td>\n",
       "      <td>0.512871</td>\n",
       "    </tr>\n",
       "  </tbody>\n",
       "</table>\n",
       "</div>"
      ],
      "text/plain": [
       "   unique_id    model1    model2\n",
       "0          0  0.500683  0.496882\n",
       "1          1  0.508226  0.435761\n",
       "2          2  0.506888  0.517446\n",
       "3          3  0.508849  0.499527\n",
       "4          4  0.505346  0.497153\n",
       "5          5  0.474170  0.522293\n",
       "6          6  0.468427  0.544866\n",
       "7          7  0.510691  0.514513\n",
       "8          8  0.499559  0.463213\n",
       "9          9  0.482473  0.512871"
      ]
     },
     "execution_count": null,
     "metadata": {},
     "output_type": "execute_result"
    }
   ],
   "source": [
    "mape(series, models)"
   ]
  },
  {
   "cell_type": "code",
   "execution_count": null,
   "metadata": {},
   "outputs": [
    {
     "data": {
      "text/html": [
       "<div><style>\n",
       ".dataframe > thead > tr > th,\n",
       ".dataframe > tbody > tr > td {\n",
       "  text-align: right;\n",
       "  white-space: pre-wrap;\n",
       "}\n",
       "</style>\n",
       "<small>shape: (10, 3)</small><table border=\"1\" class=\"dataframe\"><thead><tr><th>unique_id</th><th>model1</th><th>model2</th></tr><tr><td>i64</td><td>f64</td><td>f64</td></tr></thead><tbody><tr><td>0</td><td>0.500683</td><td>0.496882</td></tr><tr><td>1</td><td>0.508226</td><td>0.435761</td></tr><tr><td>2</td><td>0.506888</td><td>0.517446</td></tr><tr><td>3</td><td>0.508849</td><td>0.499527</td></tr><tr><td>4</td><td>0.505346</td><td>0.497153</td></tr><tr><td>5</td><td>0.47417</td><td>0.522293</td></tr><tr><td>6</td><td>0.468427</td><td>0.544866</td></tr><tr><td>7</td><td>0.510691</td><td>0.514513</td></tr><tr><td>8</td><td>0.499559</td><td>0.463213</td></tr><tr><td>9</td><td>0.482473</td><td>0.512871</td></tr></tbody></table></div>"
      ],
      "text/plain": [
       "shape: (10, 3)\n",
       "┌───────────┬──────────┬──────────┐\n",
       "│ unique_id ┆ model1   ┆ model2   │\n",
       "│ ---       ┆ ---      ┆ ---      │\n",
       "│ i64       ┆ f64      ┆ f64      │\n",
       "╞═══════════╪══════════╪══════════╡\n",
       "│ 0         ┆ 0.500683 ┆ 0.496882 │\n",
       "│ 1         ┆ 0.508226 ┆ 0.435761 │\n",
       "│ 2         ┆ 0.506888 ┆ 0.517446 │\n",
       "│ 3         ┆ 0.508849 ┆ 0.499527 │\n",
       "│ …         ┆ …        ┆ …        │\n",
       "│ 6         ┆ 0.468427 ┆ 0.544866 │\n",
       "│ 7         ┆ 0.510691 ┆ 0.514513 │\n",
       "│ 8         ┆ 0.499559 ┆ 0.463213 │\n",
       "│ 9         ┆ 0.482473 ┆ 0.512871 │\n",
       "└───────────┴──────────┴──────────┘"
      ]
     },
     "execution_count": null,
     "metadata": {},
     "output_type": "execute_result"
    }
   ],
   "source": [
    "mape(series_pl, models).sort('unique_id')"
   ]
  },
  {
   "cell_type": "markdown",
   "metadata": {},
   "source": [
    "## Symmetric Mean Absolute Percentage Error\n",
    "> $$ \\mathrm{SMAPE}_{2}(\\mathbf{y}_{\\tau}, \\mathbf{\\hat{y}}_{\\tau}) = \\frac{1}{H} \\sum^{t+H}_{\\tau=t+1} \\frac{|y_{\\tau}-\\hat{y}_{\\tau}|}{|y_{\\tau}|+|\\hat{y}_{\\tau}|} $$"
   ]
  },
  {
   "cell_type": "code",
   "execution_count": null,
   "metadata": {},
   "outputs": [],
   "source": [
    "#| export\n",
    "@_base_docstring\n",
    "def smape(\n",
    "    df: DataFrame,\n",
    "    model_cols: List[str],\n",
    "    id_col: str = 'unique_id',\n",
    "    target_col: str = 'y',\n",
    ") -> Union[float, np.ndarray]:\n",
    "    \"\"\"Symmetric Mean Absolute Percentage Error (SMAPE)\n",
    "\n",
    "    SMAPE measures the relative prediction\n",
    "    accuracy of a forecasting method by calculating the relative deviation\n",
    "    of the prediction and the observed value scaled by the sum of the\n",
    "    absolute values for the prediction and observed value at a\n",
    "    given time, then averages these devations over the length\n",
    "    of the series. This allows the SMAPE to have bounds between\n",
    "    0% and 200% which is desireble compared to normal MAPE that\n",
    "    may be undetermined when the target is zero.\"\"\"\n",
    "    if isinstance(df, pd.DataFrame):\n",
    "        delta_y = df[model_cols].sub(df[target_col], axis=0).abs()\n",
    "        scale = df[model_cols].abs().add(df[target_col].abs(), axis=0)\n",
    "        raw = delta_y.div(scale).fillna(0)\n",
    "        res = raw.groupby(df[id_col], observed=True).mean()\n",
    "        res.index.name = id_col\n",
    "        res = res.reset_index()\n",
    "    else:\n",
    "        exprs = [(pl.col(model_col).sub(pl.col(target_col)).abs().truediv(pl.col(model_col).abs().add(pl.col(target_col).abs()))).fill_nan(0).alias(model_col) for model_col in model_cols]\n",
    "        res = df.select([id_col, *exprs]).group_by(id_col).mean()\n",
    "    return res"
   ]
  },
  {
   "cell_type": "code",
   "execution_count": null,
   "metadata": {},
   "outputs": [
    {
     "data": {
      "text/markdown": [
       "---\n",
       "\n",
       "[source](https://github.com/Nixtla/utilsforecast/blob/main/utilsforecast/losses.py#L209){target=\"_blank\" style=\"float:right; font-size:smaller\"}\n",
       "\n",
       "### smape\n",
       "\n",
       ">      smape\n",
       ">             (df:Union[pandas.core.frame.DataFrame,polars.dataframe.frame.DataF\n",
       ">             rame], model_cols:List[str], id_col:str='unique_id',\n",
       ">             target_col:str='y')\n",
       "\n",
       "Symmetric Mean Absolute Percentage Error (SMAPE)\n",
       "\n",
       "SMAPE measures the relative prediction\n",
       "accuracy of a forecasting method by calculating the relative deviation\n",
       "of the prediction and the observed value scaled by the sum of the\n",
       "absolute values for the prediction and observed value at a\n",
       "given time, then averages these devations over the length\n",
       "of the series. This allows the SMAPE to have bounds between\n",
       "0% and 200% which is desireble compared to normal MAPE that\n",
       "may be undetermined when the target is zero.\n",
       "\n",
       "|    | **Type** | **Default** | **Details** |\n",
       "| -- | -------- | ----------- | ----------- |\n",
       "| df | Union |  | Input dataframe with id, times, actuals and predictions. |\n",
       "| model_cols | List |  | Columns that identify the models predictions. |\n",
       "| id_col | str | unique_id | Column that identifies each serie. |\n",
       "| target_col | str | y | Column that contains the target. |\n",
       "| **Returns** | **Union** |  | **dataframe with the SMAPE for each id.** |"
      ],
      "text/plain": [
       "---\n",
       "\n",
       "[source](https://github.com/Nixtla/utilsforecast/blob/main/utilsforecast/losses.py#L209){target=\"_blank\" style=\"float:right; font-size:smaller\"}\n",
       "\n",
       "### smape\n",
       "\n",
       ">      smape\n",
       ">             (df:Union[pandas.core.frame.DataFrame,polars.dataframe.frame.DataF\n",
       ">             rame], model_cols:List[str], id_col:str='unique_id',\n",
       ">             target_col:str='y')\n",
       "\n",
       "Symmetric Mean Absolute Percentage Error (SMAPE)\n",
       "\n",
       "SMAPE measures the relative prediction\n",
       "accuracy of a forecasting method by calculating the relative deviation\n",
       "of the prediction and the observed value scaled by the sum of the\n",
       "absolute values for the prediction and observed value at a\n",
       "given time, then averages these devations over the length\n",
       "of the series. This allows the SMAPE to have bounds between\n",
       "0% and 200% which is desireble compared to normal MAPE that\n",
       "may be undetermined when the target is zero.\n",
       "\n",
       "|    | **Type** | **Default** | **Details** |\n",
       "| -- | -------- | ----------- | ----------- |\n",
       "| df | Union |  | Input dataframe with id, times, actuals and predictions. |\n",
       "| model_cols | List |  | Columns that identify the models predictions. |\n",
       "| id_col | str | unique_id | Column that identifies each serie. |\n",
       "| target_col | str | y | Column that contains the target. |\n",
       "| **Returns** | **Union** |  | **dataframe with the SMAPE for each id.** |"
      ]
     },
     "execution_count": null,
     "metadata": {},
     "output_type": "execute_result"
    }
   ],
   "source": [
    "show_doc(smape)"
   ]
  },
  {
   "cell_type": "code",
   "execution_count": null,
   "metadata": {},
   "outputs": [
    {
     "data": {
      "text/html": [
       "<div>\n",
       "<style scoped>\n",
       "    .dataframe tbody tr th:only-of-type {\n",
       "        vertical-align: middle;\n",
       "    }\n",
       "\n",
       "    .dataframe tbody tr th {\n",
       "        vertical-align: top;\n",
       "    }\n",
       "\n",
       "    .dataframe thead th {\n",
       "        text-align: right;\n",
       "    }\n",
       "</style>\n",
       "<table border=\"1\" class=\"dataframe\">\n",
       "  <thead>\n",
       "    <tr style=\"text-align: right;\">\n",
       "      <th></th>\n",
       "      <th>unique_id</th>\n",
       "      <th>model1</th>\n",
       "      <th>model2</th>\n",
       "    </tr>\n",
       "  </thead>\n",
       "  <tbody>\n",
       "    <tr>\n",
       "      <th>0</th>\n",
       "      <td>0</td>\n",
       "      <td>0.385889</td>\n",
       "      <td>0.383957</td>\n",
       "    </tr>\n",
       "    <tr>\n",
       "      <th>1</th>\n",
       "      <td>1</td>\n",
       "      <td>0.400748</td>\n",
       "      <td>0.320797</td>\n",
       "    </tr>\n",
       "    <tr>\n",
       "      <th>2</th>\n",
       "      <td>2</td>\n",
       "      <td>0.394142</td>\n",
       "      <td>0.399449</td>\n",
       "    </tr>\n",
       "    <tr>\n",
       "      <th>3</th>\n",
       "      <td>3</td>\n",
       "      <td>0.395298</td>\n",
       "      <td>0.387304</td>\n",
       "    </tr>\n",
       "    <tr>\n",
       "      <th>4</th>\n",
       "      <td>4</td>\n",
       "      <td>0.392635</td>\n",
       "      <td>0.383696</td>\n",
       "    </tr>\n",
       "    <tr>\n",
       "      <th>5</th>\n",
       "      <td>5</td>\n",
       "      <td>0.365222</td>\n",
       "      <td>0.407219</td>\n",
       "    </tr>\n",
       "    <tr>\n",
       "      <th>6</th>\n",
       "      <td>6</td>\n",
       "      <td>0.360065</td>\n",
       "      <td>0.426810</td>\n",
       "    </tr>\n",
       "    <tr>\n",
       "      <th>7</th>\n",
       "      <td>7</td>\n",
       "      <td>0.399843</td>\n",
       "      <td>0.398527</td>\n",
       "    </tr>\n",
       "    <tr>\n",
       "      <th>8</th>\n",
       "      <td>8</td>\n",
       "      <td>0.372206</td>\n",
       "      <td>0.344200</td>\n",
       "    </tr>\n",
       "    <tr>\n",
       "      <th>9</th>\n",
       "      <td>9</td>\n",
       "      <td>0.367905</td>\n",
       "      <td>0.394384</td>\n",
       "    </tr>\n",
       "  </tbody>\n",
       "</table>\n",
       "</div>"
      ],
      "text/plain": [
       "   unique_id    model1    model2\n",
       "0          0  0.385889  0.383957\n",
       "1          1  0.400748  0.320797\n",
       "2          2  0.394142  0.399449\n",
       "3          3  0.395298  0.387304\n",
       "4          4  0.392635  0.383696\n",
       "5          5  0.365222  0.407219\n",
       "6          6  0.360065  0.426810\n",
       "7          7  0.399843  0.398527\n",
       "8          8  0.372206  0.344200\n",
       "9          9  0.367905  0.394384"
      ]
     },
     "execution_count": null,
     "metadata": {},
     "output_type": "execute_result"
    }
   ],
   "source": [
    "smape(series, models)"
   ]
  },
  {
   "cell_type": "code",
   "execution_count": null,
   "metadata": {},
   "outputs": [
    {
     "data": {
      "text/html": [
       "<div><style>\n",
       ".dataframe > thead > tr > th,\n",
       ".dataframe > tbody > tr > td {\n",
       "  text-align: right;\n",
       "  white-space: pre-wrap;\n",
       "}\n",
       "</style>\n",
       "<small>shape: (10, 3)</small><table border=\"1\" class=\"dataframe\"><thead><tr><th>unique_id</th><th>model1</th><th>model2</th></tr><tr><td>i64</td><td>f64</td><td>f64</td></tr></thead><tbody><tr><td>0</td><td>0.385889</td><td>0.383957</td></tr><tr><td>1</td><td>0.400748</td><td>0.320797</td></tr><tr><td>2</td><td>0.394142</td><td>0.399449</td></tr><tr><td>3</td><td>0.395298</td><td>0.387304</td></tr><tr><td>4</td><td>0.392635</td><td>0.383696</td></tr><tr><td>5</td><td>0.365222</td><td>0.407219</td></tr><tr><td>6</td><td>0.360065</td><td>0.42681</td></tr><tr><td>7</td><td>0.399843</td><td>0.398527</td></tr><tr><td>8</td><td>0.372206</td><td>0.3442</td></tr><tr><td>9</td><td>0.367905</td><td>0.394384</td></tr></tbody></table></div>"
      ],
      "text/plain": [
       "shape: (10, 3)\n",
       "┌───────────┬──────────┬──────────┐\n",
       "│ unique_id ┆ model1   ┆ model2   │\n",
       "│ ---       ┆ ---      ┆ ---      │\n",
       "│ i64       ┆ f64      ┆ f64      │\n",
       "╞═══════════╪══════════╪══════════╡\n",
       "│ 0         ┆ 0.385889 ┆ 0.383957 │\n",
       "│ 1         ┆ 0.400748 ┆ 0.320797 │\n",
       "│ 2         ┆ 0.394142 ┆ 0.399449 │\n",
       "│ 3         ┆ 0.395298 ┆ 0.387304 │\n",
       "│ …         ┆ …        ┆ …        │\n",
       "│ 6         ┆ 0.360065 ┆ 0.42681  │\n",
       "│ 7         ┆ 0.399843 ┆ 0.398527 │\n",
       "│ 8         ┆ 0.372206 ┆ 0.3442   │\n",
       "│ 9         ┆ 0.367905 ┆ 0.394384 │\n",
       "└───────────┴──────────┴──────────┘"
      ]
     },
     "execution_count": null,
     "metadata": {},
     "output_type": "execute_result"
    }
   ],
   "source": [
    "smape(series_pl, models).sort('unique_id')"
   ]
  },
  {
   "cell_type": "markdown",
   "metadata": {},
   "source": [
    "# <span style=\"color:DarkOrange\">3. Scale-independent Errors </span>"
   ]
  },
  {
   "cell_type": "markdown",
   "metadata": {},
   "source": [
    "## Mean Absolute Scaled Error\n",
    "> $$ \\mathrm{MASE}(\\mathbf{y}_{\\tau}, \\mathbf{\\hat{y}}_{\\tau}, \\mathbf{\\hat{y}}^{season}_{\\tau}) = \n",
    "        \\frac{1}{H} \\sum^{t+H}_{\\tau=t+1} \\frac{|y_{\\tau}-\\hat{y}_{\\tau}|}{\\mathrm{MAE}(\\mathbf{y}_{\\tau}, \\mathbf{\\hat{y}}^{season}_{\\tau})} $$"
   ]
  },
  {
   "cell_type": "markdown",
   "metadata": {},
   "source": [
    "![](imgs/losses/mase_loss.png)"
   ]
  },
  {
   "cell_type": "code",
   "execution_count": null,
   "metadata": {},
   "outputs": [],
   "source": [
    "#| export\n",
    "@_base_docstring\n",
    "def mase(\n",
    "    df: DataFrame,\n",
    "    model_cols: List[str],\n",
    "    seasonality: int,\n",
    "    train_df: DataFrame,\n",
    "    id_col: str = 'unique_id',\n",
    "    target_col: str = 'y',\n",
    ") -> DataFrame:\n",
    "    \"\"\"Mean Absolute Scaled Error (MASE)\n",
    "    \n",
    "    MASE measures the relative prediction\n",
    "    accuracy of a forecasting method by comparinng the mean absolute errors\n",
    "    of the prediction and the observed value against the mean\n",
    "    absolute errors of the seasonal naive model.\n",
    "    The MASE partially composed the Overall Weighted Average (OWA), \n",
    "    used in the M4 Competition.\"\"\"    \n",
    "    if isinstance(df, pd.DataFrame):\n",
    "        res = df[model_cols].sub(df[target_col], axis=0).abs().groupby(df[id_col], observed=True).mean()\n",
    "        # assume train_df is sorted\n",
    "        lagged = train_df.groupby(id_col, observed=True)[target_col].shift(seasonality)\n",
    "        scale = (train_df[target_col] - lagged).abs().groupby(train_df[id_col], observed=True).mean()\n",
    "        res = res.div(scale, axis=0)\n",
    "        res.index.name = id_col\n",
    "        res = res.reset_index()\n",
    "    else:\n",
    "        exprs = [(pl.col(target_col).sub(pl.col(model_col)).abs()).mean().alias(model_col) for model_col in model_cols]\n",
    "        res = df.group_by(id_col).agg(*exprs) \n",
    "        # assume train_df is sorted\n",
    "        expr = (pl.col(target_col).sub(pl.col(target_col).shift(seasonality)).abs()).mean().alias('scale')\n",
    "        scale = train_df.group_by(id_col).agg(expr)\n",
    "        res = res.join(scale, on=id_col, how='left').select([id_col, *[(pl.col(model_col) / pl.col('scale')).alias(model_col) for model_col in model_cols]])\n",
    "    return res"
   ]
  },
  {
   "cell_type": "code",
   "execution_count": null,
   "metadata": {},
   "outputs": [
    {
     "data": {
      "text/markdown": [
       "---\n",
       "\n",
       "[source](https://github.com/Nixtla/utilsforecast/blob/main/utilsforecast/losses.py#L260){target=\"_blank\" style=\"float:right; font-size:smaller\"}\n",
       "\n",
       "### mase\n",
       "\n",
       ">      mase\n",
       ">            (df:Union[pandas.core.frame.DataFrame,polars.dataframe.frame.DataFr\n",
       ">            ame], model_cols:List[str], seasonality:int, train_df:Union[pandas.\n",
       ">            core.frame.DataFrame,polars.dataframe.frame.DataFrame],\n",
       ">            id_col:str='unique_id', target_col:str='y')\n",
       "\n",
       "Mean Absolute Scaled Error (MASE)\n",
       "\n",
       "MASE measures the relative prediction\n",
       "accuracy of a forecasting method by comparinng the mean absolute errors\n",
       "of the prediction and the observed value against the mean\n",
       "absolute errors of the seasonal naive model.\n",
       "The MASE partially composed the Overall Weighted Average (OWA), \n",
       "used in the M4 Competition.\n",
       "\n",
       "|    | **Type** | **Default** | **Details** |\n",
       "| -- | -------- | ----------- | ----------- |\n",
       "| df | Union |  | Input dataframe with id, times, actuals and predictions. |\n",
       "| model_cols | List |  | Columns that identify the models predictions. |\n",
       "| seasonality | int |  |  |\n",
       "| train_df | Union |  |  |\n",
       "| id_col | str | unique_id | Column that identifies each serie. |\n",
       "| target_col | str | y | Column that contains the target. |\n",
       "| **Returns** | **Union** |  | **dataframe with the MASE for each id.** |"
      ],
      "text/plain": [
       "---\n",
       "\n",
       "[source](https://github.com/Nixtla/utilsforecast/blob/main/utilsforecast/losses.py#L260){target=\"_blank\" style=\"float:right; font-size:smaller\"}\n",
       "\n",
       "### mase\n",
       "\n",
       ">      mase\n",
       ">            (df:Union[pandas.core.frame.DataFrame,polars.dataframe.frame.DataFr\n",
       ">            ame], model_cols:List[str], seasonality:int, train_df:Union[pandas.\n",
       ">            core.frame.DataFrame,polars.dataframe.frame.DataFrame],\n",
       ">            id_col:str='unique_id', target_col:str='y')\n",
       "\n",
       "Mean Absolute Scaled Error (MASE)\n",
       "\n",
       "MASE measures the relative prediction\n",
       "accuracy of a forecasting method by comparinng the mean absolute errors\n",
       "of the prediction and the observed value against the mean\n",
       "absolute errors of the seasonal naive model.\n",
       "The MASE partially composed the Overall Weighted Average (OWA), \n",
       "used in the M4 Competition.\n",
       "\n",
       "|    | **Type** | **Default** | **Details** |\n",
       "| -- | -------- | ----------- | ----------- |\n",
       "| df | Union |  | Input dataframe with id, times, actuals and predictions. |\n",
       "| model_cols | List |  | Columns that identify the models predictions. |\n",
       "| seasonality | int |  |  |\n",
       "| train_df | Union |  |  |\n",
       "| id_col | str | unique_id | Column that identifies each serie. |\n",
       "| target_col | str | y | Column that contains the target. |\n",
       "| **Returns** | **Union** |  | **dataframe with the MASE for each id.** |"
      ]
     },
     "execution_count": null,
     "metadata": {},
     "output_type": "execute_result"
    }
   ],
   "source": [
    "show_doc(mase)"
   ]
  },
  {
   "cell_type": "code",
   "execution_count": null,
   "metadata": {},
   "outputs": [
    {
     "data": {
      "text/html": [
       "<div>\n",
       "<style scoped>\n",
       "    .dataframe tbody tr th:only-of-type {\n",
       "        vertical-align: middle;\n",
       "    }\n",
       "\n",
       "    .dataframe tbody tr th {\n",
       "        vertical-align: top;\n",
       "    }\n",
       "\n",
       "    .dataframe thead th {\n",
       "        text-align: right;\n",
       "    }\n",
       "</style>\n",
       "<table border=\"1\" class=\"dataframe\">\n",
       "  <thead>\n",
       "    <tr style=\"text-align: right;\">\n",
       "      <th></th>\n",
       "      <th>unique_id</th>\n",
       "      <th>model1</th>\n",
       "      <th>model2</th>\n",
       "    </tr>\n",
       "  </thead>\n",
       "  <tbody>\n",
       "    <tr>\n",
       "      <th>0</th>\n",
       "      <td>0</td>\n",
       "      <td>10.108787</td>\n",
       "      <td>10.358125</td>\n",
       "    </tr>\n",
       "    <tr>\n",
       "      <th>1</th>\n",
       "      <td>1</td>\n",
       "      <td>8.942334</td>\n",
       "      <td>8.223041</td>\n",
       "    </tr>\n",
       "    <tr>\n",
       "      <th>2</th>\n",
       "      <td>2</td>\n",
       "      <td>9.382295</td>\n",
       "      <td>9.584296</td>\n",
       "    </tr>\n",
       "    <tr>\n",
       "      <th>3</th>\n",
       "      <td>3</td>\n",
       "      <td>10.709936</td>\n",
       "      <td>10.008035</td>\n",
       "    </tr>\n",
       "    <tr>\n",
       "      <th>4</th>\n",
       "      <td>4</td>\n",
       "      <td>9.304687</td>\n",
       "      <td>9.224945</td>\n",
       "    </tr>\n",
       "    <tr>\n",
       "      <th>5</th>\n",
       "      <td>5</td>\n",
       "      <td>8.907966</td>\n",
       "      <td>10.284571</td>\n",
       "    </tr>\n",
       "    <tr>\n",
       "      <th>6</th>\n",
       "      <td>6</td>\n",
       "      <td>8.513493</td>\n",
       "      <td>9.784138</td>\n",
       "    </tr>\n",
       "    <tr>\n",
       "      <th>7</th>\n",
       "      <td>7</td>\n",
       "      <td>10.174744</td>\n",
       "      <td>10.255175</td>\n",
       "    </tr>\n",
       "    <tr>\n",
       "      <th>8</th>\n",
       "      <td>8</td>\n",
       "      <td>11.217429</td>\n",
       "      <td>9.902984</td>\n",
       "    </tr>\n",
       "    <tr>\n",
       "      <th>9</th>\n",
       "      <td>9</td>\n",
       "      <td>8.979968</td>\n",
       "      <td>9.488590</td>\n",
       "    </tr>\n",
       "  </tbody>\n",
       "</table>\n",
       "</div>"
      ],
      "text/plain": [
       "   unique_id     model1     model2\n",
       "0          0  10.108787  10.358125\n",
       "1          1   8.942334   8.223041\n",
       "2          2   9.382295   9.584296\n",
       "3          3  10.709936  10.008035\n",
       "4          4   9.304687   9.224945\n",
       "5          5   8.907966  10.284571\n",
       "6          6   8.513493   9.784138\n",
       "7          7  10.174744  10.255175\n",
       "8          8  11.217429   9.902984\n",
       "9          9   8.979968   9.488590"
      ]
     },
     "execution_count": null,
     "metadata": {},
     "output_type": "execute_result"
    }
   ],
   "source": [
    "mase(series, models, 7, series)"
   ]
  },
  {
   "cell_type": "code",
   "execution_count": null,
   "metadata": {},
   "outputs": [
    {
     "data": {
      "text/html": [
       "<div><style>\n",
       ".dataframe > thead > tr > th,\n",
       ".dataframe > tbody > tr > td {\n",
       "  text-align: right;\n",
       "  white-space: pre-wrap;\n",
       "}\n",
       "</style>\n",
       "<small>shape: (10, 3)</small><table border=\"1\" class=\"dataframe\"><thead><tr><th>unique_id</th><th>model1</th><th>model2</th></tr><tr><td>i64</td><td>f64</td><td>f64</td></tr></thead><tbody><tr><td>0</td><td>10.108787</td><td>10.358125</td></tr><tr><td>1</td><td>8.942334</td><td>8.223041</td></tr><tr><td>2</td><td>9.382295</td><td>9.584296</td></tr><tr><td>3</td><td>10.709936</td><td>10.008035</td></tr><tr><td>4</td><td>9.304687</td><td>9.224945</td></tr><tr><td>5</td><td>8.907966</td><td>10.284571</td></tr><tr><td>6</td><td>8.513493</td><td>9.784138</td></tr><tr><td>7</td><td>10.174744</td><td>10.255175</td></tr><tr><td>8</td><td>11.217429</td><td>9.902984</td></tr><tr><td>9</td><td>8.979968</td><td>9.48859</td></tr></tbody></table></div>"
      ],
      "text/plain": [
       "shape: (10, 3)\n",
       "┌───────────┬───────────┬───────────┐\n",
       "│ unique_id ┆ model1    ┆ model2    │\n",
       "│ ---       ┆ ---       ┆ ---       │\n",
       "│ i64       ┆ f64       ┆ f64       │\n",
       "╞═══════════╪═══════════╪═══════════╡\n",
       "│ 0         ┆ 10.108787 ┆ 10.358125 │\n",
       "│ 1         ┆ 8.942334  ┆ 8.223041  │\n",
       "│ 2         ┆ 9.382295  ┆ 9.584296  │\n",
       "│ 3         ┆ 10.709936 ┆ 10.008035 │\n",
       "│ …         ┆ …         ┆ …         │\n",
       "│ 6         ┆ 8.513493  ┆ 9.784138  │\n",
       "│ 7         ┆ 10.174744 ┆ 10.255175 │\n",
       "│ 8         ┆ 11.217429 ┆ 9.902984  │\n",
       "│ 9         ┆ 8.979968  ┆ 9.48859   │\n",
       "└───────────┴───────────┴───────────┘"
      ]
     },
     "execution_count": null,
     "metadata": {},
     "output_type": "execute_result"
    }
   ],
   "source": [
    "mase(series_pl, models, 7, series_pl).sort('unique_id')"
   ]
  },
  {
   "cell_type": "raw",
   "metadata": {},
   "source": [
    "m5_y_train = pl.read_parquet('m5_y_train.parquet')\n",
    "m5_y_test = pl.read_parquet('m5_y_train.parquet')\n",
    "m5_y_test = m5_y_test.with_columns((pl.col('quantity_sold') * np.random.rand(m5_y_test.shape[0])).alias('model1'))\n",
    "m5_y_train_pd = m5_y_train.to_pandas()\n",
    "m5_y_test_pd = m5_y_test.to_pandas()"
   ]
  },
  {
   "cell_type": "raw",
   "metadata": {},
   "source": [
    "%time mase(m5_y_test_pd, ['model1'], 7, m5_y_train_pd, id_col='id', target_col='quantity_sold')"
   ]
  },
  {
   "cell_type": "raw",
   "metadata": {},
   "source": [
    "%time mase(m5_y_test, ['model1'], 7, m5_y_train, id_col='id', target_col='quantity_sold').sort('id').head()"
   ]
  },
  {
   "cell_type": "markdown",
   "metadata": {},
   "source": [
    "## Relative Mean Absolute Error\n",
    "> $$ \\mathrm{RMAE}(\\mathbf{y}_{\\tau}, \\mathbf{\\hat{y}}_{\\tau}, \\mathbf{\\hat{y}}^{base}_{\\tau}) = \\frac{1}{H} \\sum^{t+H}_{\\tau=t+1} \\frac{|y_{\\tau}-\\hat{y}_{\\tau}|}{\\mathrm{MAE}(\\mathbf{y}_{\\tau}, \\mathbf{\\hat{y}}^{base}_{\\tau})} $$"
   ]
  },
  {
   "cell_type": "markdown",
   "metadata": {},
   "source": [
    "![](imgs/losses/rmae_loss.png)"
   ]
  },
  {
   "cell_type": "code",
   "execution_count": null,
   "metadata": {},
   "outputs": [],
   "source": [
    "#| export\n",
    "def rmae(\n",
    "    df: DataFrame,\n",
    "    model_cols1: List[str],\n",
    "    model_cols2: List[str],\n",
    "    id_col: str = 'unique_id',\n",
    "    target_col: str = 'y',\n",
    ") -> DataFrame:\n",
    "    \"\"\"Relative Mean Absolute Error (RMAE)\n",
    "    \n",
    "    Calculates the RAME between two sets of forecasts (from two different forecasting methods).\n",
    "    A number smaller than one implies that the forecast in the \n",
    "    numerator is better than the forecast in the denominator.\"\"\"\n",
    "    numerator = mae(df, model_cols1, id_col, target_col)\n",
    "    denominator = mae(df, model_cols2, id_col, target_col)\n",
    "    if isinstance(numerator, pd.DataFrame):\n",
    "        res = numerator.merge(denominator, on=id_col, suffixes=('', '_denominator'))\n",
    "        out_cols = [id_col]\n",
    "        for m1, m2 in zip(model_cols1, model_cols2):\n",
    "            col_name = f'{m1}_div_{m2}'\n",
    "            res[col_name] = res[m1] / res[f'{m2}_denominator']\n",
    "            out_cols.append(col_name)\n",
    "        res = res[out_cols]\n",
    "    else:\n",
    "        res = numerator.join(denominator, on=id_col, suffix='_denominator')\n",
    "        res = res.select([id_col, *[pl.col(m1).truediv(pl.col(f'{m2}_denominator')).alias(f'{m1}_div_{m2}') for m1, m2 in zip(model_cols1, model_cols2)]])\n",
    "    return res"
   ]
  },
  {
   "cell_type": "code",
   "execution_count": null,
   "metadata": {},
   "outputs": [
    {
     "data": {
      "text/markdown": [
       "---\n",
       "\n",
       "[source](https://github.com/Nixtla/utilsforecast/blob/main/utilsforecast/losses.py#L315){target=\"_blank\" style=\"float:right; font-size:smaller\"}\n",
       "\n",
       "### rmae\n",
       "\n",
       ">      rmae\n",
       ">            (df:Union[pandas.core.frame.DataFrame,polars.dataframe.frame.DataFr\n",
       ">            ame], model_cols1:List[str], model_cols2:List[str],\n",
       ">            id_col:str='unique_id', target_col:str='y')\n",
       "\n",
       "Relative Mean Absolute Error (RMAE)\n",
       "\n",
       "Calculates the RAME between two sets of forecasts (from two different forecasting methods).\n",
       "A number smaller than one implies that the forecast in the \n",
       "numerator is better than the forecast in the denominator."
      ],
      "text/plain": [
       "---\n",
       "\n",
       "[source](https://github.com/Nixtla/utilsforecast/blob/main/utilsforecast/losses.py#L315){target=\"_blank\" style=\"float:right; font-size:smaller\"}\n",
       "\n",
       "### rmae\n",
       "\n",
       ">      rmae\n",
       ">            (df:Union[pandas.core.frame.DataFrame,polars.dataframe.frame.DataFr\n",
       ">            ame], model_cols1:List[str], model_cols2:List[str],\n",
       ">            id_col:str='unique_id', target_col:str='y')\n",
       "\n",
       "Relative Mean Absolute Error (RMAE)\n",
       "\n",
       "Calculates the RAME between two sets of forecasts (from two different forecasting methods).\n",
       "A number smaller than one implies that the forecast in the \n",
       "numerator is better than the forecast in the denominator."
      ]
     },
     "execution_count": null,
     "metadata": {},
     "output_type": "execute_result"
    }
   ],
   "source": [
    "show_doc(rmae)"
   ]
  },
  {
   "cell_type": "code",
   "execution_count": null,
   "metadata": {},
   "outputs": [
    {
     "data": {
      "text/html": [
       "<div>\n",
       "<style scoped>\n",
       "    .dataframe tbody tr th:only-of-type {\n",
       "        vertical-align: middle;\n",
       "    }\n",
       "\n",
       "    .dataframe tbody tr th {\n",
       "        vertical-align: top;\n",
       "    }\n",
       "\n",
       "    .dataframe thead th {\n",
       "        text-align: right;\n",
       "    }\n",
       "</style>\n",
       "<table border=\"1\" class=\"dataframe\">\n",
       "  <thead>\n",
       "    <tr style=\"text-align: right;\">\n",
       "      <th></th>\n",
       "      <th>unique_id</th>\n",
       "      <th>model1_div_model2</th>\n",
       "      <th>model2_div_model1</th>\n",
       "    </tr>\n",
       "  </thead>\n",
       "  <tbody>\n",
       "    <tr>\n",
       "      <th>0</th>\n",
       "      <td>0</td>\n",
       "      <td>0.975928</td>\n",
       "      <td>1.024665</td>\n",
       "    </tr>\n",
       "    <tr>\n",
       "      <th>1</th>\n",
       "      <td>1</td>\n",
       "      <td>1.087473</td>\n",
       "      <td>0.919563</td>\n",
       "    </tr>\n",
       "    <tr>\n",
       "      <th>2</th>\n",
       "      <td>2</td>\n",
       "      <td>0.978924</td>\n",
       "      <td>1.021530</td>\n",
       "    </tr>\n",
       "    <tr>\n",
       "      <th>3</th>\n",
       "      <td>3</td>\n",
       "      <td>1.070134</td>\n",
       "      <td>0.934463</td>\n",
       "    </tr>\n",
       "    <tr>\n",
       "      <th>4</th>\n",
       "      <td>4</td>\n",
       "      <td>1.008644</td>\n",
       "      <td>0.991430</td>\n",
       "    </tr>\n",
       "    <tr>\n",
       "      <th>5</th>\n",
       "      <td>5</td>\n",
       "      <td>0.866149</td>\n",
       "      <td>1.154536</td>\n",
       "    </tr>\n",
       "    <tr>\n",
       "      <th>6</th>\n",
       "      <td>6</td>\n",
       "      <td>0.870132</td>\n",
       "      <td>1.149251</td>\n",
       "    </tr>\n",
       "    <tr>\n",
       "      <th>7</th>\n",
       "      <td>7</td>\n",
       "      <td>0.992157</td>\n",
       "      <td>1.007905</td>\n",
       "    </tr>\n",
       "    <tr>\n",
       "      <th>8</th>\n",
       "      <td>8</td>\n",
       "      <td>1.132732</td>\n",
       "      <td>0.882821</td>\n",
       "    </tr>\n",
       "    <tr>\n",
       "      <th>9</th>\n",
       "      <td>9</td>\n",
       "      <td>0.946397</td>\n",
       "      <td>1.056640</td>\n",
       "    </tr>\n",
       "  </tbody>\n",
       "</table>\n",
       "</div>"
      ],
      "text/plain": [
       "   unique_id  model1_div_model2  model2_div_model1\n",
       "0          0           0.975928           1.024665\n",
       "1          1           1.087473           0.919563\n",
       "2          2           0.978924           1.021530\n",
       "3          3           1.070134           0.934463\n",
       "4          4           1.008644           0.991430\n",
       "5          5           0.866149           1.154536\n",
       "6          6           0.870132           1.149251\n",
       "7          7           0.992157           1.007905\n",
       "8          8           1.132732           0.882821\n",
       "9          9           0.946397           1.056640"
      ]
     },
     "execution_count": null,
     "metadata": {},
     "output_type": "execute_result"
    }
   ],
   "source": [
    "rmae(series, models, list(reversed(models)))"
   ]
  },
  {
   "cell_type": "code",
   "execution_count": null,
   "metadata": {},
   "outputs": [
    {
     "data": {
      "text/html": [
       "<div><style>\n",
       ".dataframe > thead > tr > th,\n",
       ".dataframe > tbody > tr > td {\n",
       "  text-align: right;\n",
       "  white-space: pre-wrap;\n",
       "}\n",
       "</style>\n",
       "<small>shape: (10, 3)</small><table border=\"1\" class=\"dataframe\"><thead><tr><th>unique_id</th><th>model1_div_model2</th><th>model2_div_model1</th></tr><tr><td>i64</td><td>f64</td><td>f64</td></tr></thead><tbody><tr><td>0</td><td>0.975928</td><td>1.024665</td></tr><tr><td>1</td><td>1.087473</td><td>0.919563</td></tr><tr><td>2</td><td>0.978924</td><td>1.02153</td></tr><tr><td>3</td><td>1.070134</td><td>0.934463</td></tr><tr><td>4</td><td>1.008644</td><td>0.99143</td></tr><tr><td>5</td><td>0.866149</td><td>1.154536</td></tr><tr><td>6</td><td>0.870132</td><td>1.149251</td></tr><tr><td>7</td><td>0.992157</td><td>1.007905</td></tr><tr><td>8</td><td>1.132732</td><td>0.882821</td></tr><tr><td>9</td><td>0.946397</td><td>1.05664</td></tr></tbody></table></div>"
      ],
      "text/plain": [
       "shape: (10, 3)\n",
       "┌───────────┬───────────────────┬───────────────────┐\n",
       "│ unique_id ┆ model1_div_model2 ┆ model2_div_model1 │\n",
       "│ ---       ┆ ---               ┆ ---               │\n",
       "│ i64       ┆ f64               ┆ f64               │\n",
       "╞═══════════╪═══════════════════╪═══════════════════╡\n",
       "│ 0         ┆ 0.975928          ┆ 1.024665          │\n",
       "│ 1         ┆ 1.087473          ┆ 0.919563          │\n",
       "│ 2         ┆ 0.978924          ┆ 1.02153           │\n",
       "│ 3         ┆ 1.070134          ┆ 0.934463          │\n",
       "│ …         ┆ …                 ┆ …                 │\n",
       "│ 6         ┆ 0.870132          ┆ 1.149251          │\n",
       "│ 7         ┆ 0.992157          ┆ 1.007905          │\n",
       "│ 8         ┆ 1.132732          ┆ 0.882821          │\n",
       "│ 9         ┆ 0.946397          ┆ 1.05664           │\n",
       "└───────────┴───────────────────┴───────────────────┘"
      ]
     },
     "execution_count": null,
     "metadata": {},
     "output_type": "execute_result"
    }
   ],
   "source": [
    "rmae(series_pl, models, list(reversed(models))).sort('unique_id')"
   ]
  },
  {
   "cell_type": "markdown",
   "metadata": {},
   "source": [
    "# <span style=\"color:DarkOrange\">4. Probabilistic Errors </span>"
   ]
  },
  {
   "cell_type": "markdown",
   "metadata": {},
   "source": [
    "## Quantile Loss\n",
    "> $$ \\mathrm{QL}(\\mathbf{y}_{\\tau}, \\mathbf{\\hat{y}}^{(q)}_{\\tau}) = \n",
    "        \\frac{1}{H} \\sum^{t+H}_{\\tau=t+1} \n",
    "        \\Big( (1-q)\\,( \\hat{y}^{(q)}_{\\tau} - y_{\\tau} )_{+} \n",
    "        + q\\,( y_{\\tau} - \\hat{y}^{(q)}_{\\tau} )_{+} \\Big) $$"
   ]
  },
  {
   "cell_type": "markdown",
   "metadata": {},
   "source": [
    "![](imgs/losses/q_loss.png)"
   ]
  },
  {
   "cell_type": "code",
   "execution_count": null,
   "metadata": {},
   "outputs": [],
   "source": [
    "#| export\n",
    "@_base_docstring\n",
    "def quantile_loss(\n",
    "    df: DataFrame,\n",
    "    model_cols: List[str],\n",
    "    id_col: str = 'unique_id',\n",
    "    target_col: str = 'y',\n",
    ") -> DataFrame:\n",
    "    \"\"\"Quantile Loss (QL)\n",
    "    \n",
    "    QL measures the deviation of a quantile forecast.\n",
    "    By weighting the absolute deviation in a non symmetric way, the\n",
    "    loss pays more attention to under or over estimation.    \n",
    "    A common value for q is 0.5 for the deviation from the median.\"\"\"\n",
    "    _metric_protections(y, y_hat, weights)\n",
    "\n",
    "    delta_y = y - y_hat\n",
    "    loss = np.maximum(q * delta_y, (q - 1) * delta_y)\n",
    "\n",
    "    if weights is not None:\n",
    "        quantile_loss = np.average(loss[~np.isnan(loss)], \n",
    "                             weights=weights[~np.isnan(loss)],\n",
    "                             axis=axis)\n",
    "    else:\n",
    "        quantile_loss = np.nanmean(loss, axis=axis)\n",
    "        \n",
    "    return quantile_loss"
   ]
  },
  {
   "cell_type": "code",
   "execution_count": null,
   "metadata": {},
   "outputs": [
    {
     "data": {
      "text/markdown": [
       "---\n",
       "\n",
       "[source](https://github.com/Nixtla/utilsforecast/blob/main/utilsforecast/losses.py#L355){target=\"_blank\" style=\"float:right; font-size:smaller\"}\n",
       "\n",
       "### quantile_loss\n",
       "\n",
       ">      quantile_loss\n",
       ">                     (df:Union[pandas.core.frame.DataFrame,polars.dataframe.fra\n",
       ">                     me.DataFrame], model_cols:List[str],\n",
       ">                     id_col:str='unique_id', target_col:str='y')\n",
       "\n",
       "Quantile Loss (QL)\n",
       "\n",
       "QL measures the deviation of a quantile forecast.\n",
       "By weighting the absolute deviation in a non symmetric way, the\n",
       "loss pays more attention to under or over estimation.    \n",
       "A common value for q is 0.5 for the deviation from the median.\n",
       "\n",
       "|    | **Type** | **Default** | **Details** |\n",
       "| -- | -------- | ----------- | ----------- |\n",
       "| df | Union |  | Input dataframe with id, times, actuals and predictions. |\n",
       "| model_cols | List |  | Columns that identify the models predictions. |\n",
       "| id_col | str | unique_id | Column that identifies each serie. |\n",
       "| target_col | str | y | Column that contains the target. |\n",
       "| **Returns** | **Union** |  | **dataframe with the QUANTILE_LOSS for each id.** |"
      ],
      "text/plain": [
       "---\n",
       "\n",
       "[source](https://github.com/Nixtla/utilsforecast/blob/main/utilsforecast/losses.py#L355){target=\"_blank\" style=\"float:right; font-size:smaller\"}\n",
       "\n",
       "### quantile_loss\n",
       "\n",
       ">      quantile_loss\n",
       ">                     (df:Union[pandas.core.frame.DataFrame,polars.dataframe.fra\n",
       ">                     me.DataFrame], model_cols:List[str],\n",
       ">                     id_col:str='unique_id', target_col:str='y')\n",
       "\n",
       "Quantile Loss (QL)\n",
       "\n",
       "QL measures the deviation of a quantile forecast.\n",
       "By weighting the absolute deviation in a non symmetric way, the\n",
       "loss pays more attention to under or over estimation.    \n",
       "A common value for q is 0.5 for the deviation from the median.\n",
       "\n",
       "|    | **Type** | **Default** | **Details** |\n",
       "| -- | -------- | ----------- | ----------- |\n",
       "| df | Union |  | Input dataframe with id, times, actuals and predictions. |\n",
       "| model_cols | List |  | Columns that identify the models predictions. |\n",
       "| id_col | str | unique_id | Column that identifies each serie. |\n",
       "| target_col | str | y | Column that contains the target. |\n",
       "| **Returns** | **Union** |  | **dataframe with the QUANTILE_LOSS for each id.** |"
      ]
     },
     "execution_count": null,
     "metadata": {},
     "output_type": "execute_result"
    }
   ],
   "source": [
    "show_doc(quantile_loss)"
   ]
  },
  {
   "cell_type": "markdown",
   "metadata": {},
   "source": [
    "## Multi-Quantile Loss\n",
    "> $$ \\mathrm{MQL}(\\mathbf{y}_{\\tau},\n",
    "                    [\\mathbf{\\hat{y}}^{(q_{1})}_{\\tau}, ... ,\\hat{y}^{(q_{n})}_{\\tau}]) = \n",
    "       \\frac{1}{n} \\sum_{q_{i}} \\mathrm{QL}(\\mathbf{y}_{\\tau}, \\mathbf{\\hat{y}}^{(q_{i})}_{\\tau}) $$"
   ]
  },
  {
   "cell_type": "markdown",
   "metadata": {},
   "source": [
    "![](imgs/losses/mq_loss.png)"
   ]
  },
  {
   "cell_type": "code",
   "execution_count": null,
   "metadata": {},
   "outputs": [],
   "source": [
    "#| export\n",
    "def mqloss(\n",
    "    y: np.ndarray,\n",
    "    y_hat: np.ndarray, \n",
    "    quantiles: np.ndarray, \n",
    "    weights: Optional[np.ndarray] = None,\n",
    "    axis: Optional[int] = None\n",
    ") -> Union[float, np.ndarray]:\n",
    "    \"\"\" Multi-Quantile loss (MQL)\n",
    "    \n",
    "    MQL calculates the average multi-quantile Loss for\n",
    "    a given set of quantiles, based on the absolute \n",
    "    difference between predicted quantiles and observed values.\n",
    "\n",
    "    The limit behavior of MQL allows to measure the accuracy \n",
    "    of a full predictive distribution $\\mathbf{\\hat{F}}_{\\\\tau}$ with \n",
    "    the continuous ranked probability score (CRPS). This can be achieved \n",
    "    through a numerical integration technique, that discretizes the quantiles \n",
    "    and treats the CRPS integral with a left Riemann approximation, averaging over \n",
    "    uniformly distanced quantiles.    \n",
    "\n",
    "    Parameters\n",
    "    ----------\n",
    "    y : numpy array\n",
    "        Observed values.\n",
    "    y_hat : numpy array\n",
    "        Predicted values.    \n",
    "    quantiles : numpy array\n",
    "        Quantiles to compare against.\n",
    "    weights : numpy array, optional (default=None)\n",
    "        Weights for weighted average.\n",
    "    axis : int, optional (default=None)\n",
    "        Axis or axes along which to average a. \n",
    "        The default, axis=None, will average over all of the elements of \n",
    "        the input array. If axis is negative it counts from the last to first.\n",
    "\n",
    "    Returns\n",
    "    -------\n",
    "    numpy array or double\n",
    "        MQL along the specified axis.\n",
    "\n",
    "    References\n",
    "    ----------\n",
    "    [1] https://www.jstor.org/stable/2629907\n",
    "    \"\"\" \n",
    "    if weights is None: weights = np.ones(y.shape)\n",
    "        \n",
    "    _metric_protections(y, y_hat, weights)\n",
    "    n_q = len(quantiles)\n",
    "    \n",
    "    y_rep  = np.expand_dims(y, axis=-1)\n",
    "    error  = y_rep - y_hat\n",
    "    mqloss = np.maximum(quantiles * error, (quantiles - 1) * error)\n",
    "    \n",
    "    # Match y/weights dimensions and compute weighted average\n",
    "    weights = np.repeat(np.expand_dims(weights, axis=-1), repeats=n_q, axis=-1)\n",
    "    mqloss  = np.average(mqloss, weights=weights, axis=axis)\n",
    "\n",
    "    return mqloss"
   ]
  },
  {
   "cell_type": "code",
   "execution_count": null,
   "metadata": {},
   "outputs": [
    {
     "data": {
      "text/markdown": [
       "---\n",
       "\n",
       "[source](https://github.com/Nixtla/utilsforecast/blob/main/utilsforecast/losses.py#L404){target=\"_blank\" style=\"float:right; font-size:smaller\"}\n",
       "\n",
       "### mqloss\n",
       "\n",
       ">      mqloss (y:numpy.ndarray, y_hat:numpy.ndarray, quantiles:numpy.ndarray,\n",
       ">              weights:Optional[numpy.ndarray]=None, axis:Optional[int]=None)\n",
       "\n",
       "Multi-Quantile loss (MQL)\n",
       "\n",
       "MQL calculates the average multi-quantile Loss for\n",
       "a given set of quantiles, based on the absolute \n",
       "difference between predicted quantiles and observed values.\n",
       "\n",
       "The limit behavior of MQL allows to measure the accuracy \n",
       "of a full predictive distribution $\\mathbf{\\hat{F}}_{\\tau}$ with \n",
       "the continuous ranked probability score (CRPS). This can be achieved \n",
       "through a numerical integration technique, that discretizes the quantiles \n",
       "and treats the CRPS integral with a left Riemann approximation, averaging over \n",
       "uniformly distanced quantiles.\n",
       "\n",
       "|    | **Type** | **Default** | **Details** |\n",
       "| -- | -------- | ----------- | ----------- |\n",
       "| y | ndarray |  | Observed values. |\n",
       "| y_hat | ndarray |  | Predicted values.     |\n",
       "| quantiles | ndarray |  | Quantiles to compare against. |\n",
       "| weights | Optional | None | Weights for weighted average. |\n",
       "| axis | Optional | None | Axis or axes along which to average a. <br>The default, axis=None, will average over all of the elements of <br>the input array. If axis is negative it counts from the last to first. |\n",
       "| **Returns** | **Union** |  | **MQL along the specified axis.** |"
      ],
      "text/plain": [
       "---\n",
       "\n",
       "[source](https://github.com/Nixtla/utilsforecast/blob/main/utilsforecast/losses.py#L404){target=\"_blank\" style=\"float:right; font-size:smaller\"}\n",
       "\n",
       "### mqloss\n",
       "\n",
       ">      mqloss (y:numpy.ndarray, y_hat:numpy.ndarray, quantiles:numpy.ndarray,\n",
       ">              weights:Optional[numpy.ndarray]=None, axis:Optional[int]=None)\n",
       "\n",
       "Multi-Quantile loss (MQL)\n",
       "\n",
       "MQL calculates the average multi-quantile Loss for\n",
       "a given set of quantiles, based on the absolute \n",
       "difference between predicted quantiles and observed values.\n",
       "\n",
       "The limit behavior of MQL allows to measure the accuracy \n",
       "of a full predictive distribution $\\mathbf{\\hat{F}}_{\\tau}$ with \n",
       "the continuous ranked probability score (CRPS). This can be achieved \n",
       "through a numerical integration technique, that discretizes the quantiles \n",
       "and treats the CRPS integral with a left Riemann approximation, averaging over \n",
       "uniformly distanced quantiles.\n",
       "\n",
       "|    | **Type** | **Default** | **Details** |\n",
       "| -- | -------- | ----------- | ----------- |\n",
       "| y | ndarray |  | Observed values. |\n",
       "| y_hat | ndarray |  | Predicted values.     |\n",
       "| quantiles | ndarray |  | Quantiles to compare against. |\n",
       "| weights | Optional | None | Weights for weighted average. |\n",
       "| axis | Optional | None | Axis or axes along which to average a. <br>The default, axis=None, will average over all of the elements of <br>the input array. If axis is negative it counts from the last to first. |\n",
       "| **Returns** | **Union** |  | **MQL along the specified axis.** |"
      ]
     },
     "execution_count": null,
     "metadata": {},
     "output_type": "execute_result"
    }
   ],
   "source": [
    "show_doc(mqloss)"
   ]
  },
  {
   "cell_type": "markdown",
   "metadata": {},
   "source": [
    "## Coverage"
   ]
  },
  {
   "cell_type": "code",
   "execution_count": null,
   "metadata": {},
   "outputs": [],
   "source": [
    "#| export\n",
    "def coverage(\n",
    "    y: np.ndarray,\n",
    "    y_hat_lo: np.ndarray,\n",
    "    y_hat_hi: np.ndarray, \n",
    ") -> Union[float, np.ndarray]:\n",
    "    \"\"\"\n",
    "    Coverage of y with y_hat_lo and y_hat_hi. \n",
    "    \n",
    "    Parameters\n",
    "    ----------\n",
    "    y : numpy array\n",
    "        Observed values.\n",
    "    y_hat_lo : numpy array\n",
    "        Lower prediction interval.\n",
    "    y_hat_hi : numpy array\n",
    "        Higher prediction interval.\n",
    "\n",
    "    Returns\n",
    "    -------\n",
    "    numpy array or double\n",
    "        Coverage of y_hat\n",
    "\n",
    "    References\n",
    "    ----------\n",
    "    [1] https://www.jstor.org/stable/2629907            \n",
    "    \"\"\" \n",
    "    return 100 * np.logical_and(y>=y_hat_lo, y<=y_hat_hi).mean()"
   ]
  },
  {
   "cell_type": "code",
   "execution_count": null,
   "metadata": {},
   "outputs": [
    {
     "data": {
      "text/markdown": [
       "---\n",
       "\n",
       "[source](https://github.com/Nixtla/utilsforecast/blob/main/utilsforecast/losses.py#L465){target=\"_blank\" style=\"float:right; font-size:smaller\"}\n",
       "\n",
       "### coverage\n",
       "\n",
       ">      coverage (y:numpy.ndarray, y_hat_lo:numpy.ndarray,\n",
       ">                y_hat_hi:numpy.ndarray)\n",
       "\n",
       "Coverage of y with y_hat_lo and y_hat_hi.\n",
       "\n",
       "|    | **Type** | **Details** |\n",
       "| -- | -------- | ----------- |\n",
       "| y | ndarray | Observed values. |\n",
       "| y_hat_lo | ndarray | Lower prediction interval. |\n",
       "| y_hat_hi | ndarray | Higher prediction interval. |\n",
       "| **Returns** | **Union** | **Coverage of y_hat** |"
      ],
      "text/plain": [
       "---\n",
       "\n",
       "[source](https://github.com/Nixtla/utilsforecast/blob/main/utilsforecast/losses.py#L465){target=\"_blank\" style=\"float:right; font-size:smaller\"}\n",
       "\n",
       "### coverage\n",
       "\n",
       ">      coverage (y:numpy.ndarray, y_hat_lo:numpy.ndarray,\n",
       ">                y_hat_hi:numpy.ndarray)\n",
       "\n",
       "Coverage of y with y_hat_lo and y_hat_hi.\n",
       "\n",
       "|    | **Type** | **Details** |\n",
       "| -- | -------- | ----------- |\n",
       "| y | ndarray | Observed values. |\n",
       "| y_hat_lo | ndarray | Lower prediction interval. |\n",
       "| y_hat_hi | ndarray | Higher prediction interval. |\n",
       "| **Returns** | **Union** | **Coverage of y_hat** |"
      ]
     },
     "execution_count": null,
     "metadata": {},
     "output_type": "execute_result"
    }
   ],
   "source": [
    "show_doc(coverage)"
   ]
  },
  {
   "cell_type": "markdown",
   "metadata": {},
   "source": [
    "## Calibration"
   ]
  },
  {
   "cell_type": "code",
   "execution_count": null,
   "metadata": {},
   "outputs": [],
   "source": [
    "#| export\n",
    "def calibration(\n",
    "    y: np.ndarray,\n",
    "    y_hat_hi: np.ndarray, \n",
    ") -> Union[float, np.ndarray]:\n",
    "    \"\"\"\n",
    "    Fraction of y that is lower than y_hat_hi. \n",
    "    \n",
    "    Parameters\n",
    "    ----------\n",
    "    y : numpy array\n",
    "        Observed values.\n",
    "    y_hat_hi : numpy array\n",
    "        Higher prediction interval.\n",
    "\n",
    "    Returns\n",
    "    -------\n",
    "    numpy array or double\n",
    "        Calibration of y_hat\n",
    "        \n",
    "    References\n",
    "    ----------\n",
    "    [1] https://www.jstor.org/stable/2629907            \n",
    "    \"\"\" \n",
    "    return (y<=y_hat_hi).mean()"
   ]
  },
  {
   "cell_type": "code",
   "execution_count": null,
   "metadata": {},
   "outputs": [
    {
     "data": {
      "text/markdown": [
       "---\n",
       "\n",
       "[source](https://github.com/Nixtla/utilsforecast/blob/main/utilsforecast/losses.py#L494){target=\"_blank\" style=\"float:right; font-size:smaller\"}\n",
       "\n",
       "### calibration\n",
       "\n",
       ">      calibration (y:numpy.ndarray, y_hat_hi:numpy.ndarray)\n",
       "\n",
       "Fraction of y that is lower than y_hat_hi.\n",
       "\n",
       "|    | **Type** | **Details** |\n",
       "| -- | -------- | ----------- |\n",
       "| y | ndarray | Observed values. |\n",
       "| y_hat_hi | ndarray | Higher prediction interval. |\n",
       "| **Returns** | **Union** | **Calibration of y_hat** |"
      ],
      "text/plain": [
       "---\n",
       "\n",
       "[source](https://github.com/Nixtla/utilsforecast/blob/main/utilsforecast/losses.py#L494){target=\"_blank\" style=\"float:right; font-size:smaller\"}\n",
       "\n",
       "### calibration\n",
       "\n",
       ">      calibration (y:numpy.ndarray, y_hat_hi:numpy.ndarray)\n",
       "\n",
       "Fraction of y that is lower than y_hat_hi.\n",
       "\n",
       "|    | **Type** | **Details** |\n",
       "| -- | -------- | ----------- |\n",
       "| y | ndarray | Observed values. |\n",
       "| y_hat_hi | ndarray | Higher prediction interval. |\n",
       "| **Returns** | **Union** | **Calibration of y_hat** |"
      ]
     },
     "execution_count": null,
     "metadata": {},
     "output_type": "execute_result"
    }
   ],
   "source": [
    "show_doc(calibration)"
   ]
  },
  {
   "cell_type": "markdown",
   "metadata": {},
   "source": [
    "## CRPS\n",
    "> $$ \\mathrm{sCRPS}(\\hat{F}_{\\tau}, \\mathbf{y}_{\\tau}) = \\frac{2}{N} \\sum_{i}\n",
    "    \\int^{1}_{0}\n",
    "    \\frac{\\mathrm{QL}(\\hat{F}_{i,\\tau}, y_{i,\\tau})_{q}}{\\sum_{i} | y_{i,\\tau} |} dq $$\n",
    ">\n",
    "> Where $\\hat{F}_{\\tau}$ is the an estimated multivariate distribution, and $y_{i,\\tau}$\n",
    "    are its realizations. "
   ]
  },
  {
   "cell_type": "code",
   "execution_count": null,
   "metadata": {},
   "outputs": [],
   "source": [
    "#| export\n",
    "def scaled_crps(\n",
    "    y: np.ndarray,\n",
    "    y_hat: np.ndarray, \n",
    "    quantiles: np.ndarray, \n",
    "    weights: Optional[np.ndarray] = None,\n",
    "    axis: Optional[int] = None\n",
    ") -> Union[float, np.ndarray]:\n",
    "    \"\"\"Scaled Continues Ranked Probability Score\n",
    "    \n",
    "    Calculates a scaled variation of the CRPS, as proposed by Rangapuram (2021),\n",
    "    to measure the accuracy of predicted quantiles `y_hat` compared to the observation `y`.\n",
    "    This metric averages percentual weighted absolute deviations as \n",
    "    defined by the quantile losses.\n",
    "\n",
    "\n",
    "    Parameters\n",
    "    ----------\n",
    "    y : numpy array\n",
    "        Observed values.\n",
    "    y_hat : numpy array\n",
    "        Predicted values.    \n",
    "    quantiles : numpy array\n",
    "        Quantiles to compare against.\n",
    "    weights : numpy array, optional (default=None)\n",
    "        Weights for weighted average.\n",
    "    axis : int, optional (default=None)\n",
    "        Axis or axes along which to average a. \n",
    "        The default, axis=None, will average over all of the elements of \n",
    "        the input array. If axis is negative it counts from the last to first.\n",
    "\n",
    "    Returns\n",
    "    -------\n",
    "    numpy array or double.\n",
    "        Scaled crps along the specified axis.\n",
    "\n",
    "    References\n",
    "    ----------\n",
    "    [1] https://proceedings.mlr.press/v139/rangapuram21a.html      \n",
    "    \"\"\" \n",
    "    eps = np.finfo(float).eps\n",
    "    norm  = np.sum(np.abs(y))\n",
    "    loss  = mqloss(y=y, y_hat=y_hat, quantiles=quantiles, weights=weights, axis=axis)\n",
    "    loss  = 2 * loss * np.sum(np.ones(y.shape)) / (norm + eps)\n",
    "    return loss"
   ]
  },
  {
   "cell_type": "code",
   "execution_count": null,
   "metadata": {},
   "outputs": [
    {
     "data": {
      "text/markdown": [
       "---\n",
       "\n",
       "[source](https://github.com/Nixtla/utilsforecast/blob/main/utilsforecast/losses.py#L520){target=\"_blank\" style=\"float:right; font-size:smaller\"}\n",
       "\n",
       "### scaled_crps\n",
       "\n",
       ">      scaled_crps (y:numpy.ndarray, y_hat:numpy.ndarray,\n",
       ">                   quantiles:numpy.ndarray,\n",
       ">                   weights:Optional[numpy.ndarray]=None,\n",
       ">                   axis:Optional[int]=None)\n",
       "\n",
       "Scaled Continues Ranked Probability Score\n",
       "\n",
       "Calculates a scaled variation of the CRPS, as proposed by Rangapuram (2021),\n",
       "to measure the accuracy of predicted quantiles `y_hat` compared to the observation `y`.\n",
       "This metric averages percentual weighted absolute deviations as \n",
       "defined by the quantile losses.\n",
       "\n",
       "|    | **Type** | **Default** | **Details** |\n",
       "| -- | -------- | ----------- | ----------- |\n",
       "| y | ndarray |  | Observed values. |\n",
       "| y_hat | ndarray |  | Predicted values.     |\n",
       "| quantiles | ndarray |  | Quantiles to compare against. |\n",
       "| weights | Optional | None | Weights for weighted average. |\n",
       "| axis | Optional | None | Axis or axes along which to average a. <br>The default, axis=None, will average over all of the elements of <br>the input array. If axis is negative it counts from the last to first. |\n",
       "| **Returns** | **Union** |  | **Scaled crps along the specified axis.** |"
      ],
      "text/plain": [
       "---\n",
       "\n",
       "[source](https://github.com/Nixtla/utilsforecast/blob/main/utilsforecast/losses.py#L520){target=\"_blank\" style=\"float:right; font-size:smaller\"}\n",
       "\n",
       "### scaled_crps\n",
       "\n",
       ">      scaled_crps (y:numpy.ndarray, y_hat:numpy.ndarray,\n",
       ">                   quantiles:numpy.ndarray,\n",
       ">                   weights:Optional[numpy.ndarray]=None,\n",
       ">                   axis:Optional[int]=None)\n",
       "\n",
       "Scaled Continues Ranked Probability Score\n",
       "\n",
       "Calculates a scaled variation of the CRPS, as proposed by Rangapuram (2021),\n",
       "to measure the accuracy of predicted quantiles `y_hat` compared to the observation `y`.\n",
       "This metric averages percentual weighted absolute deviations as \n",
       "defined by the quantile losses.\n",
       "\n",
       "|    | **Type** | **Default** | **Details** |\n",
       "| -- | -------- | ----------- | ----------- |\n",
       "| y | ndarray |  | Observed values. |\n",
       "| y_hat | ndarray |  | Predicted values.     |\n",
       "| quantiles | ndarray |  | Quantiles to compare against. |\n",
       "| weights | Optional | None | Weights for weighted average. |\n",
       "| axis | Optional | None | Axis or axes along which to average a. <br>The default, axis=None, will average over all of the elements of <br>the input array. If axis is negative it counts from the last to first. |\n",
       "| **Returns** | **Union** |  | **Scaled crps along the specified axis.** |"
      ]
     },
     "execution_count": null,
     "metadata": {},
     "output_type": "execute_result"
    }
   ],
   "source": [
    "show_doc(scaled_crps)"
   ]
  }
 ],
 "metadata": {
  "kernelspec": {
   "display_name": "python3",
   "language": "python",
   "name": "python3"
  }
 },
 "nbformat": 4,
 "nbformat_minor": 4
}
