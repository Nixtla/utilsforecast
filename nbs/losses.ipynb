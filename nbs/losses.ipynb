{
 "cells": [
  {
   "cell_type": "code",
   "execution_count": null,
   "metadata": {},
   "outputs": [],
   "source": [
    "#| default_exp losses\n",
    "#| all_polars"
   ]
  },
  {
   "cell_type": "markdown",
   "metadata": {},
   "source": [
    "# Losses\n",
    "\n",
    "> Loss functions for model evaluation.\n",
    "> "
   ]
  },
  {
   "cell_type": "markdown",
   "metadata": {},
   "source": [
    "The most important train signal is the forecast error, which is the difference between the observed value $y_{\\tau}$ and the prediction $\\hat{y}_{\\tau}$, at time $y_{\\tau}$:\n",
    "\n",
    "$$\n",
    "e_{\\tau} = y_{\\tau}-\\hat{y}_{\\tau} \\qquad \\qquad \\tau \\in \\{t+1,\\dots,t+H \\}\n",
    "$$\n",
    "\n",
    "The train loss summarizes the forecast errors in different evaluation metrics."
   ]
  },
  {
   "cell_type": "code",
   "execution_count": null,
   "metadata": {},
   "outputs": [],
   "source": [
    "#| export\n",
    "from typing import Callable, Dict, List, Optional, Union\n",
    "\n",
    "import numpy as np\n",
    "import pandas as pd\n",
    "\n",
    "import utilsforecast.processing as ufp\n",
    "from utilsforecast.compat import DataFrame, pl"
   ]
  },
  {
   "cell_type": "code",
   "execution_count": null,
   "metadata": {},
   "outputs": [],
   "source": [
    "#| hide\n",
    "import re\n",
    "import warnings\n",
    "\n",
    "from nbdev import show_doc\n",
    "\n",
    "from utilsforecast.compat import POLARS_INSTALLED"
   ]
  },
  {
   "cell_type": "code",
   "execution_count": null,
   "metadata": {},
   "outputs": [],
   "source": [
    "#| hide\n",
    "warnings.filterwarnings('ignore', message='Unknown section References')"
   ]
  },
  {
   "cell_type": "code",
   "execution_count": null,
   "metadata": {},
   "outputs": [],
   "source": [
    "from utilsforecast.data import generate_series"
   ]
  },
  {
   "cell_type": "code",
   "execution_count": null,
   "metadata": {},
   "outputs": [],
   "source": [
    "models = ['model0', 'model1']\n",
    "series = generate_series(10, n_models=2, level=[80])"
   ]
  },
  {
   "cell_type": "code",
   "execution_count": null,
   "metadata": {},
   "outputs": [],
   "source": [
    "#| polars\n",
    "series_pl = generate_series(10, n_models=2, level=[80], engine='polars')"
   ]
  },
  {
   "cell_type": "markdown",
   "metadata": {},
   "source": [
    "## 1. Scale-dependent Errors"
   ]
  },
  {
   "cell_type": "markdown",
   "metadata": {},
   "source": [
    "### Mean Absolute Error (MAE)\n",
    "\n",
    "$$\n",
    "\\mathrm{MAE}(\\mathbf{y}_{\\tau}, \\mathbf{\\hat{y}}_{\\tau}) = \\frac{1}{H} \\sum^{t+H}_{\\tau=t+1} |y_{\\tau} - \\hat{y}_{\\tau}|\n",
    "$$"
   ]
  },
  {
   "cell_type": "markdown",
   "metadata": {},
   "source": [
    "![](imgs/losses/mae_loss.png)"
   ]
  },
  {
   "cell_type": "code",
   "execution_count": null,
   "metadata": {},
   "outputs": [],
   "source": [
    "#| exporti\n",
    "def _base_docstring(*args, **kwargs) -> Callable:\n",
    "    base_docstring = \"\"\"\n",
    "\n",
    "    Parameters\n",
    "    ----------\n",
    "    df : pandas or polars DataFrame\n",
    "        Input dataframe with id, actual values and predictions.\n",
    "    models : list of str\n",
    "        Columns that identify the models predictions.\n",
    "    id_col : str (default='unique_id')\n",
    "        Column that identifies each serie.\n",
    "    target_col : str (default='y')\n",
    "        Column that contains the target.\n",
    "\n",
    "    Returns\n",
    "    -------\n",
    "    pandas or polars Dataframe\n",
    "        dataframe with one row per id and one column per model.\n",
    "    \"\"\"\n",
    "    def docstring_decorator(f: Callable):\n",
    "        if f.__doc__ is not None:\n",
    "            f.__doc__ += base_docstring\n",
    "        return f\n",
    "\n",
    "    return docstring_decorator(*args, **kwargs)"
   ]
  },
  {
   "cell_type": "code",
   "execution_count": null,
   "metadata": {},
   "outputs": [],
   "source": [
    "#| export\n",
    "class NotSet: ...\n",
    "\n",
    "NOT_SET = NotSet()\n",
    "AGG_BY = Optional[Union[str, List[str], List[Optional[List[str]]], NotSet]]"
   ]
  },
  {
   "cell_type": "code",
   "execution_count": null,
   "metadata": {},
   "outputs": [],
   "source": [
    "#| exporti\n",
    "def _aggregate(\n",
    "    df: DataFrame, models: List[str], id_col: str, agg_by: AGG_BY\n",
    ") -> Union[DataFrame, pd.Series]:\n",
    "    aggs = {m: 'mean' for m in models}\n",
    "    if agg_by == NOT_SET:\n",
    "        res = ufp.group_by_agg(df, id_col, aggs, maintain_order=True)\n",
    "    elif (\n",
    "        isinstance(agg_by, str)\n",
    "        or (isinstance(agg_by, list) and isinstance(agg_by[0], str))\n",
    "    ):\n",
    "        res = ufp.group_by_agg(df, agg_by, aggs, maintain_order=True)\n",
    "    elif isinstance(agg_by, list):\n",
    "        res = df\n",
    "        for by in agg_by:\n",
    "            res = _aggregate(res, models, id_col, by)\n",
    "    elif agg_by is None:\n",
    "        res = df[models].mean()\n",
    "        if isinstance(res, pd.Series):\n",
    "            res = res.to_frame().T\n",
    "    else:\n",
    "        raise ValueError(\n",
    "            \"`agg_by` must be str, list of str, list of list of str or `None`. \"\n",
    "            f\"got: {type(agg_by)}\"\n",
    "        )\n",
    "    return res"
   ]
  },
  {
   "cell_type": "code",
   "execution_count": null,
   "metadata": {},
   "outputs": [],
   "source": [
    "#| export\n",
    "@_base_docstring\n",
    "def mae(\n",
    "    df: DataFrame,\n",
    "    models: List[str],\n",
    "    id_col: str = 'unique_id',\n",
    "    target_col: str = 'y',\n",
    "    agg_by: AGG_BY = NOT_SET,\n",
    ") -> Union[DataFrame, pd.Series]:\n",
    "    \"\"\"Mean Absolute Error (MAE)\n",
    "\n",
    "    MAE measures the relative prediction\n",
    "    accuracy of a forecasting method by calculating the\n",
    "    deviation of the prediction and the true\n",
    "    value at a given time and averages these devations\n",
    "    over the length of the series.\"\"\"\n",
    "    df = ufp.copy_if_pandas(df, deep=False)\n",
    "    if isinstance(df, pd.DataFrame):\n",
    "        df[models] = df[models].sub(df[target_col], axis=0).abs()\n",
    "    else:\n",
    "        def gen_expr(model):\n",
    "            return pl.col(target_col).sub(pl.col(model)).abs().alias(model)\n",
    "\n",
    "        df = df.with_columns(*[gen_expr(m) for m in models])\n",
    "    return _aggregate(df=df, models=models, id_col=id_col, agg_by=agg_by)"
   ]
  },
  {
   "cell_type": "code",
   "execution_count": null,
   "metadata": {},
   "outputs": [],
   "source": [
    "series2 = pd.concat([series.assign(w=0), series.assign(w=1)])"
   ]
  },
  {
   "cell_type": "code",
   "execution_count": null,
   "metadata": {},
   "outputs": [
    {
     "data": {
      "text/html": [
       "<div>\n",
       "<style scoped>\n",
       "    .dataframe tbody tr th:only-of-type {\n",
       "        vertical-align: middle;\n",
       "    }\n",
       "\n",
       "    .dataframe tbody tr th {\n",
       "        vertical-align: top;\n",
       "    }\n",
       "\n",
       "    .dataframe thead th {\n",
       "        text-align: right;\n",
       "    }\n",
       "</style>\n",
       "<table border=\"1\" class=\"dataframe\">\n",
       "  <thead>\n",
       "    <tr style=\"text-align: right;\">\n",
       "      <th></th>\n",
       "      <th>unique_id</th>\n",
       "      <th>model0</th>\n",
       "      <th>model1</th>\n",
       "    </tr>\n",
       "  </thead>\n",
       "  <tbody>\n",
       "    <tr>\n",
       "      <th>0</th>\n",
       "      <td>0</td>\n",
       "      <td>0.158108</td>\n",
       "      <td>0.163246</td>\n",
       "    </tr>\n",
       "    <tr>\n",
       "      <th>1</th>\n",
       "      <td>1</td>\n",
       "      <td>0.160109</td>\n",
       "      <td>0.143805</td>\n",
       "    </tr>\n",
       "    <tr>\n",
       "      <th>2</th>\n",
       "      <td>2</td>\n",
       "      <td>0.159815</td>\n",
       "      <td>0.170510</td>\n",
       "    </tr>\n",
       "    <tr>\n",
       "      <th>3</th>\n",
       "      <td>3</td>\n",
       "      <td>0.168537</td>\n",
       "      <td>0.161595</td>\n",
       "    </tr>\n",
       "    <tr>\n",
       "      <th>4</th>\n",
       "      <td>4</td>\n",
       "      <td>0.170182</td>\n",
       "      <td>0.163329</td>\n",
       "    </tr>\n",
       "    <tr>\n",
       "      <th>5</th>\n",
       "      <td>5</td>\n",
       "      <td>0.165729</td>\n",
       "      <td>0.165845</td>\n",
       "    </tr>\n",
       "    <tr>\n",
       "      <th>6</th>\n",
       "      <td>6</td>\n",
       "      <td>0.166688</td>\n",
       "      <td>0.155721</td>\n",
       "    </tr>\n",
       "    <tr>\n",
       "      <th>7</th>\n",
       "      <td>7</td>\n",
       "      <td>0.154513</td>\n",
       "      <td>0.162503</td>\n",
       "    </tr>\n",
       "    <tr>\n",
       "      <th>8</th>\n",
       "      <td>8</td>\n",
       "      <td>0.152352</td>\n",
       "      <td>0.173123</td>\n",
       "    </tr>\n",
       "    <tr>\n",
       "      <th>9</th>\n",
       "      <td>9</td>\n",
       "      <td>0.156832</td>\n",
       "      <td>0.163132</td>\n",
       "    </tr>\n",
       "  </tbody>\n",
       "</table>\n",
       "</div>"
      ],
      "text/plain": [
       "  unique_id    model0    model1\n",
       "0         0  0.158108  0.163246\n",
       "1         1  0.160109  0.143805\n",
       "2         2  0.159815  0.170510\n",
       "3         3  0.168537  0.161595\n",
       "4         4  0.170182  0.163329\n",
       "5         5  0.165729  0.165845\n",
       "6         6  0.166688  0.155721\n",
       "7         7  0.154513  0.162503\n",
       "8         8  0.152352  0.173123\n",
       "9         9  0.156832  0.163132"
      ]
     },
     "execution_count": null,
     "metadata": {},
     "output_type": "execute_result"
    }
   ],
   "source": [
    "mae(series, models)"
   ]
  },
  {
   "cell_type": "code",
   "execution_count": null,
   "metadata": {},
   "outputs": [
    {
     "data": {
      "text/html": [
       "<div>\n",
       "<style scoped>\n",
       "    .dataframe tbody tr th:only-of-type {\n",
       "        vertical-align: middle;\n",
       "    }\n",
       "\n",
       "    .dataframe tbody tr th {\n",
       "        vertical-align: top;\n",
       "    }\n",
       "\n",
       "    .dataframe thead th {\n",
       "        text-align: right;\n",
       "    }\n",
       "</style>\n",
       "<table border=\"1\" class=\"dataframe\">\n",
       "  <thead>\n",
       "    <tr style=\"text-align: right;\">\n",
       "      <th></th>\n",
       "      <th>model0</th>\n",
       "      <th>model1</th>\n",
       "    </tr>\n",
       "  </thead>\n",
       "  <tbody>\n",
       "    <tr>\n",
       "      <th>0</th>\n",
       "      <td>0.161286</td>\n",
       "      <td>0.162281</td>\n",
       "    </tr>\n",
       "  </tbody>\n",
       "</table>\n",
       "</div>"
      ],
      "text/plain": [
       "     model0    model1\n",
       "0  0.161286  0.162281"
      ]
     },
     "execution_count": null,
     "metadata": {},
     "output_type": "execute_result"
    }
   ],
   "source": [
    "mae(series2, models, agg_by=[['w', 'unique_id'], None])"
   ]
  },
  {
   "cell_type": "code",
   "execution_count": null,
   "metadata": {},
   "outputs": [
    {
     "data": {
      "text/html": [
       "<div>\n",
       "<style scoped>\n",
       "    .dataframe tbody tr th:only-of-type {\n",
       "        vertical-align: middle;\n",
       "    }\n",
       "\n",
       "    .dataframe tbody tr th {\n",
       "        vertical-align: top;\n",
       "    }\n",
       "\n",
       "    .dataframe thead th {\n",
       "        text-align: right;\n",
       "    }\n",
       "</style>\n",
       "<table border=\"1\" class=\"dataframe\">\n",
       "  <thead>\n",
       "    <tr style=\"text-align: right;\">\n",
       "      <th></th>\n",
       "      <th>model0</th>\n",
       "      <th>model1</th>\n",
       "    </tr>\n",
       "  </thead>\n",
       "  <tbody>\n",
       "    <tr>\n",
       "      <th>0</th>\n",
       "      <td>0.161286</td>\n",
       "      <td>0.162281</td>\n",
       "    </tr>\n",
       "  </tbody>\n",
       "</table>\n",
       "</div>"
      ],
      "text/plain": [
       "     model0    model1\n",
       "0  0.161286  0.162281"
      ]
     },
     "execution_count": null,
     "metadata": {},
     "output_type": "execute_result"
    }
   ],
   "source": [
    "mae(series2, models, agg_by=['w', 'unique_id'])[models].mean().to_frame().T"
   ]
  },
  {
   "cell_type": "code",
   "execution_count": null,
   "metadata": {},
   "outputs": [
    {
     "data": {
      "text/html": [
       "<div>\n",
       "<style scoped>\n",
       "    .dataframe tbody tr th:only-of-type {\n",
       "        vertical-align: middle;\n",
       "    }\n",
       "\n",
       "    .dataframe tbody tr th {\n",
       "        vertical-align: top;\n",
       "    }\n",
       "\n",
       "    .dataframe thead th {\n",
       "        text-align: right;\n",
       "    }\n",
       "</style>\n",
       "<table border=\"1\" class=\"dataframe\">\n",
       "  <thead>\n",
       "    <tr style=\"text-align: right;\">\n",
       "      <th></th>\n",
       "      <th>model0</th>\n",
       "      <th>model1</th>\n",
       "    </tr>\n",
       "  </thead>\n",
       "  <tbody>\n",
       "    <tr>\n",
       "      <th>0</th>\n",
       "      <td>0.161286</td>\n",
       "      <td>0.162281</td>\n",
       "    </tr>\n",
       "  </tbody>\n",
       "</table>\n",
       "</div>"
      ],
      "text/plain": [
       "     model0    model1\n",
       "0  0.161286  0.162281"
      ]
     },
     "execution_count": null,
     "metadata": {},
     "output_type": "execute_result"
    }
   ],
   "source": [
    "mae(series, models, agg_by=[['unique_id'], None])"
   ]
  },
  {
   "cell_type": "code",
   "execution_count": null,
   "metadata": {},
   "outputs": [
    {
     "data": {
      "text/html": [
       "<div>\n",
       "<style scoped>\n",
       "    .dataframe tbody tr th:only-of-type {\n",
       "        vertical-align: middle;\n",
       "    }\n",
       "\n",
       "    .dataframe tbody tr th {\n",
       "        vertical-align: top;\n",
       "    }\n",
       "\n",
       "    .dataframe thead th {\n",
       "        text-align: right;\n",
       "    }\n",
       "</style>\n",
       "<table border=\"1\" class=\"dataframe\">\n",
       "  <thead>\n",
       "    <tr style=\"text-align: right;\">\n",
       "      <th></th>\n",
       "      <th>model0</th>\n",
       "      <th>model1</th>\n",
       "    </tr>\n",
       "  </thead>\n",
       "  <tbody>\n",
       "    <tr>\n",
       "      <th>0</th>\n",
       "      <td>0.161286</td>\n",
       "      <td>0.162281</td>\n",
       "    </tr>\n",
       "  </tbody>\n",
       "</table>\n",
       "</div>"
      ],
      "text/plain": [
       "     model0    model1\n",
       "0  0.161286  0.162281"
      ]
     },
     "execution_count": null,
     "metadata": {},
     "output_type": "execute_result"
    }
   ],
   "source": [
    "mae(series, models)[models].mean().to_frame().T"
   ]
  },
  {
   "cell_type": "code",
   "execution_count": null,
   "metadata": {},
   "outputs": [
    {
     "data": {
      "text/html": [
       "<div>\n",
       "<style scoped>\n",
       "    .dataframe tbody tr th:only-of-type {\n",
       "        vertical-align: middle;\n",
       "    }\n",
       "\n",
       "    .dataframe tbody tr th {\n",
       "        vertical-align: top;\n",
       "    }\n",
       "\n",
       "    .dataframe thead th {\n",
       "        text-align: right;\n",
       "    }\n",
       "</style>\n",
       "<table border=\"1\" class=\"dataframe\">\n",
       "  <thead>\n",
       "    <tr style=\"text-align: right;\">\n",
       "      <th></th>\n",
       "      <th>model0</th>\n",
       "      <th>model1</th>\n",
       "    </tr>\n",
       "  </thead>\n",
       "  <tbody>\n",
       "    <tr>\n",
       "      <th>0</th>\n",
       "      <td>0.162216</td>\n",
       "      <td>0.162466</td>\n",
       "    </tr>\n",
       "  </tbody>\n",
       "</table>\n",
       "</div>"
      ],
      "text/plain": [
       "     model0    model1\n",
       "0  0.162216  0.162466"
      ]
     },
     "execution_count": null,
     "metadata": {},
     "output_type": "execute_result"
    }
   ],
   "source": [
    "mae(series, models, agg_by=None)"
   ]
  },
  {
   "cell_type": "code",
   "execution_count": null,
   "metadata": {},
   "outputs": [
    {
     "data": {
      "text/html": [
       "<div><style>\n",
       ".dataframe > thead > tr,\n",
       ".dataframe > tbody > tr {\n",
       "  text-align: right;\n",
       "  white-space: pre-wrap;\n",
       "}\n",
       "</style>\n",
       "<small>shape: (1, 2)</small><table border=\"1\" class=\"dataframe\"><thead><tr><th>model0</th><th>model1</th></tr><tr><td>f64</td><td>f64</td></tr></thead><tbody><tr><td>0.162216</td><td>0.162466</td></tr></tbody></table></div>"
      ],
      "text/plain": [
       "shape: (1, 2)\n",
       "┌──────────┬──────────┐\n",
       "│ model0   ┆ model1   │\n",
       "│ ---      ┆ ---      │\n",
       "│ f64      ┆ f64      │\n",
       "╞══════════╪══════════╡\n",
       "│ 0.162216 ┆ 0.162466 │\n",
       "└──────────┴──────────┘"
      ]
     },
     "execution_count": null,
     "metadata": {},
     "output_type": "execute_result"
    }
   ],
   "source": [
    "mae(series_pl, models, agg_by=None)"
   ]
  },
  {
   "cell_type": "code",
   "execution_count": null,
   "metadata": {},
   "outputs": [
    {
     "data": {
      "text/markdown": [
       "---\n",
       "\n",
       "[source](https://github.com/Nixtla/utilsforecast/blob/main/utilsforecast/losses.py#L80){target=\"_blank\" style=\"float:right; font-size:smaller\"}\n",
       "\n",
       "#### mae\n",
       "\n",
       ">      mae\n",
       ">           (df:Union[pandas.core.frame.DataFrame,polars.dataframe.frame.DataFra\n",
       ">           me], models:List[str], id_col:str='unique_id', target_col:str='y', a\n",
       ">           gg_by:Union[str,List[str],List[Optional[List[str]]],__main__.NotSet,\n",
       ">           NoneType]=<__main__.NotSet object>)\n",
       "\n",
       "*Mean Absolute Error (MAE)\n",
       "\n",
       "MAE measures the relative prediction\n",
       "accuracy of a forecasting method by calculating the\n",
       "deviation of the prediction and the true\n",
       "value at a given time and averages these devations\n",
       "over the length of the series.*\n",
       "\n",
       "|    | **Type** | **Default** | **Details** |\n",
       "| -- | -------- | ----------- | ----------- |\n",
       "| df | Union |  | Input dataframe with id, actual values and predictions. |\n",
       "| models | List |  | Columns that identify the models predictions. |\n",
       "| id_col | str | unique_id | Column that identifies each serie. |\n",
       "| target_col | str | y | Column that contains the target. |\n",
       "| agg_by | Union | <__main__.NotSet object> |  |\n",
       "| **Returns** | **Union** |  | **dataframe with one row per id and one column per model.** |"
      ],
      "text/plain": [
       "---\n",
       "\n",
       "[source](https://github.com/Nixtla/utilsforecast/blob/main/utilsforecast/losses.py#L80){target=\"_blank\" style=\"float:right; font-size:smaller\"}\n",
       "\n",
       "#### mae\n",
       "\n",
       ">      mae\n",
       ">           (df:Union[pandas.core.frame.DataFrame,polars.dataframe.frame.DataFra\n",
       ">           me], models:List[str], id_col:str='unique_id', target_col:str='y', a\n",
       ">           gg_by:Union[str,List[str],List[Optional[List[str]]],__main__.NotSet,\n",
       ">           NoneType]=<__main__.NotSet object>)\n",
       "\n",
       "*Mean Absolute Error (MAE)\n",
       "\n",
       "MAE measures the relative prediction\n",
       "accuracy of a forecasting method by calculating the\n",
       "deviation of the prediction and the true\n",
       "value at a given time and averages these devations\n",
       "over the length of the series.*\n",
       "\n",
       "|    | **Type** | **Default** | **Details** |\n",
       "| -- | -------- | ----------- | ----------- |\n",
       "| df | Union |  | Input dataframe with id, actual values and predictions. |\n",
       "| models | List |  | Columns that identify the models predictions. |\n",
       "| id_col | str | unique_id | Column that identifies each serie. |\n",
       "| target_col | str | y | Column that contains the target. |\n",
       "| agg_by | Union | <__main__.NotSet object> |  |\n",
       "| **Returns** | **Union** |  | **dataframe with one row per id and one column per model.** |"
      ]
     },
     "execution_count": null,
     "metadata": {},
     "output_type": "execute_result"
    }
   ],
   "source": [
    "show_doc(mae, title_level=4)"
   ]
  },
  {
   "cell_type": "code",
   "execution_count": null,
   "metadata": {},
   "outputs": [],
   "source": [
    "def pd_vs_pl(pd_df, pl_df, models):\n",
    "    np.testing.assert_allclose(\n",
    "        pd_df[models].to_numpy(),\n",
    "        pl_df.sort('unique_id').select(models).to_numpy(),\n",
    "    )"
   ]
  },
  {
   "cell_type": "code",
   "execution_count": null,
   "metadata": {},
   "outputs": [],
   "source": [
    "#| polars\n",
    "pd_vs_pl(\n",
    "    mae(series, models),\n",
    "    mae(series_pl, models),\n",
    "    models,\n",
    ")"
   ]
  },
  {
   "cell_type": "markdown",
   "metadata": {},
   "source": [
    "### Mean Squared Error\n",
    "\n",
    "$$\n",
    "\\mathrm{MSE}(\\mathbf{y}_{\\tau}, \\mathbf{\\hat{y}}_{\\tau}) = \\frac{1}{H} \\sum^{t+H}_{\\tau=t+1} (y_{\\tau} - \\hat{y}_{\\tau})^{2}\n",
    "$$"
   ]
  },
  {
   "cell_type": "markdown",
   "metadata": {},
   "source": [
    "![](imgs/losses/mse_loss.png)"
   ]
  },
  {
   "cell_type": "code",
   "execution_count": null,
   "metadata": {},
   "outputs": [],
   "source": [
    "#| export\n",
    "@_base_docstring\n",
    "def mse(\n",
    "    df: DataFrame,\n",
    "    models: List[str],\n",
    "    id_col: str = 'unique_id',\n",
    "    target_col: str = 'y',\n",
    "    agg_by: AGG_BY = NOT_SET,\n",
    ") -> Union[DataFrame, pd.Series]:\n",
    "    \"\"\"Mean Squared Error (MSE)\n",
    "    \n",
    "    MSE measures the relative prediction\n",
    "    accuracy of a forecasting method by calculating the \n",
    "    squared deviation of the prediction and the true\n",
    "    value at a given time, and averages these devations\n",
    "    over the length of the series.\"\"\"\n",
    "    df = ufp.copy_if_pandas(df, deep=False)\n",
    "    if isinstance(df, pd.DataFrame):\n",
    "        df[models] = df[models].sub(df[target_col], axis=0).pow(2)\n",
    "    else:\n",
    "        def gen_expr(model):\n",
    "            return pl.col(target_col).sub(pl.col(model)).pow(2).alias(model)\n",
    "\n",
    "        df = df.with_columns(*[gen_expr(m) for m in models])\n",
    "    return _aggregate(df=df, models=models, id_col=id_col, agg_by=agg_by)"
   ]
  },
  {
   "cell_type": "code",
   "execution_count": null,
   "metadata": {},
   "outputs": [
    {
     "data": {
      "text/markdown": [
       "---\n",
       "\n",
       "[source](https://github.com/Nixtla/utilsforecast/blob/main/utilsforecast/losses.py#L107){target=\"_blank\" style=\"float:right; font-size:smaller\"}\n",
       "\n",
       "#### mse\n",
       "\n",
       ">      mse\n",
       ">           (df:Union[pandas.core.frame.DataFrame,polars.dataframe.frame.DataFra\n",
       ">           me], models:List[str], id_col:str='unique_id', target_col:str='y', a\n",
       ">           gg_by:Union[str,List[str],List[Optional[List[str]]],__main__.NotSet,\n",
       ">           NoneType]=<__main__.NotSet object>)\n",
       "\n",
       "*Mean Squared Error (MSE)\n",
       "\n",
       "MSE measures the relative prediction\n",
       "accuracy of a forecasting method by calculating the \n",
       "squared deviation of the prediction and the true\n",
       "value at a given time, and averages these devations\n",
       "over the length of the series.*\n",
       "\n",
       "|    | **Type** | **Default** | **Details** |\n",
       "| -- | -------- | ----------- | ----------- |\n",
       "| df | Union |  | Input dataframe with id, actual values and predictions. |\n",
       "| models | List |  | Columns that identify the models predictions. |\n",
       "| id_col | str | unique_id | Column that identifies each serie. |\n",
       "| target_col | str | y | Column that contains the target. |\n",
       "| agg_by | Union | <__main__.NotSet object> |  |\n",
       "| **Returns** | **Union** |  | **dataframe with one row per id and one column per model.** |"
      ],
      "text/plain": [
       "---\n",
       "\n",
       "[source](https://github.com/Nixtla/utilsforecast/blob/main/utilsforecast/losses.py#L107){target=\"_blank\" style=\"float:right; font-size:smaller\"}\n",
       "\n",
       "#### mse\n",
       "\n",
       ">      mse\n",
       ">           (df:Union[pandas.core.frame.DataFrame,polars.dataframe.frame.DataFra\n",
       ">           me], models:List[str], id_col:str='unique_id', target_col:str='y', a\n",
       ">           gg_by:Union[str,List[str],List[Optional[List[str]]],__main__.NotSet,\n",
       ">           NoneType]=<__main__.NotSet object>)\n",
       "\n",
       "*Mean Squared Error (MSE)\n",
       "\n",
       "MSE measures the relative prediction\n",
       "accuracy of a forecasting method by calculating the \n",
       "squared deviation of the prediction and the true\n",
       "value at a given time, and averages these devations\n",
       "over the length of the series.*\n",
       "\n",
       "|    | **Type** | **Default** | **Details** |\n",
       "| -- | -------- | ----------- | ----------- |\n",
       "| df | Union |  | Input dataframe with id, actual values and predictions. |\n",
       "| models | List |  | Columns that identify the models predictions. |\n",
       "| id_col | str | unique_id | Column that identifies each serie. |\n",
       "| target_col | str | y | Column that contains the target. |\n",
       "| agg_by | Union | <__main__.NotSet object> |  |\n",
       "| **Returns** | **Union** |  | **dataframe with one row per id and one column per model.** |"
      ]
     },
     "execution_count": null,
     "metadata": {},
     "output_type": "execute_result"
    }
   ],
   "source": [
    "show_doc(mse, title_level=4)"
   ]
  },
  {
   "cell_type": "code",
   "execution_count": null,
   "metadata": {},
   "outputs": [
    {
     "data": {
      "text/html": [
       "<div>\n",
       "<style scoped>\n",
       "    .dataframe tbody tr th:only-of-type {\n",
       "        vertical-align: middle;\n",
       "    }\n",
       "\n",
       "    .dataframe tbody tr th {\n",
       "        vertical-align: top;\n",
       "    }\n",
       "\n",
       "    .dataframe thead th {\n",
       "        text-align: right;\n",
       "    }\n",
       "</style>\n",
       "<table border=\"1\" class=\"dataframe\">\n",
       "  <thead>\n",
       "    <tr style=\"text-align: right;\">\n",
       "      <th></th>\n",
       "      <th>model0</th>\n",
       "      <th>model1</th>\n",
       "    </tr>\n",
       "  </thead>\n",
       "  <tbody>\n",
       "    <tr>\n",
       "      <th>0</th>\n",
       "      <td>0.048653</td>\n",
       "      <td>0.049198</td>\n",
       "    </tr>\n",
       "  </tbody>\n",
       "</table>\n",
       "</div>"
      ],
      "text/plain": [
       "     model0    model1\n",
       "0  0.048653  0.049198"
      ]
     },
     "execution_count": null,
     "metadata": {},
     "output_type": "execute_result"
    }
   ],
   "source": [
    "mse(series, models, agg_by=[['unique_id'], None])"
   ]
  },
  {
   "cell_type": "code",
   "execution_count": null,
   "metadata": {},
   "outputs": [],
   "source": [
    "#| polars\n",
    "pd_vs_pl(\n",
    "    mse(series, models),\n",
    "    mse(series_pl, models),\n",
    "    models,\n",
    ")"
   ]
  },
  {
   "cell_type": "markdown",
   "metadata": {},
   "source": [
    "### Root Mean Squared Error\n",
    "\n",
    "$$\n",
    "\\mathrm{RMSE}(\\mathbf{y}_{\\tau}, \\mathbf{\\hat{y}}_{\\tau}) = \\sqrt{\\frac{1}{H} \\sum^{t+H}_{\\tau=t+1} (y_{\\tau} - \\hat{y}_{\\tau})^{2}}\n",
    "$$"
   ]
  },
  {
   "cell_type": "markdown",
   "metadata": {},
   "source": [
    "![](imgs/losses/rmse_loss.png)"
   ]
  },
  {
   "cell_type": "code",
   "execution_count": null,
   "metadata": {},
   "outputs": [],
   "source": [
    "#| export\n",
    "@_base_docstring\n",
    "def rmse(\n",
    "    df: DataFrame,\n",
    "    models: List[str],\n",
    "    id_col: str = 'unique_id',\n",
    "    target_col: str = 'y',\n",
    "    agg_by: AGG_BY = NOT_SET,\n",
    ") -> Union[DataFrame, pd.Series]:\n",
    "    \"\"\"Root Mean Squared Error (RMSE)\n",
    "    \n",
    "    RMSE measures the relative prediction\n",
    "    accuracy of a forecasting method by calculating the squared deviation\n",
    "    of the prediction and the observed value at a given time and\n",
    "    averages these devations over the length of the series.\n",
    "    Finally the RMSE will be in the same scale\n",
    "    as the original time series so its comparison with other\n",
    "    series is possible only if they share a common scale. \n",
    "    RMSE has a direct connection to the L2 norm.\"\"\"\n",
    "    if agg_by == NOT_SET or agg_by is None or (isinstance(agg_by, list) and not isinstance(agg_by[0], list)):\n",
    "        res = mse(df, models, id_col, target_col, agg_by)\n",
    "        remaining_aggs = []\n",
    "    else:\n",
    "        res = mse(df, models, id_col, target_col, agg_by[0])\n",
    "        remaining_aggs = agg_by[1:]\n",
    "    if isinstance(res, (pd.DataFrame, pd.Series)):\n",
    "        res[models] = res[models].pow(0.5)\n",
    "    else:\n",
    "        res = res.with_columns(*[pl.col(c).pow(0.5) for c in models])\n",
    "    if remaining_aggs:\n",
    "        res = _aggregate(res, models, id_col, remaining_aggs)\n",
    "    return res"
   ]
  },
  {
   "cell_type": "code",
   "execution_count": null,
   "metadata": {},
   "outputs": [
    {
     "data": {
      "text/html": [
       "<div>\n",
       "<style scoped>\n",
       "    .dataframe tbody tr th:only-of-type {\n",
       "        vertical-align: middle;\n",
       "    }\n",
       "\n",
       "    .dataframe tbody tr th {\n",
       "        vertical-align: top;\n",
       "    }\n",
       "\n",
       "    .dataframe thead th {\n",
       "        text-align: right;\n",
       "    }\n",
       "</style>\n",
       "<table border=\"1\" class=\"dataframe\">\n",
       "  <thead>\n",
       "    <tr style=\"text-align: right;\">\n",
       "      <th></th>\n",
       "      <th>unique_id</th>\n",
       "      <th>model0</th>\n",
       "      <th>model1</th>\n",
       "    </tr>\n",
       "  </thead>\n",
       "  <tbody>\n",
       "    <tr>\n",
       "      <th>0</th>\n",
       "      <td>0</td>\n",
       "      <td>0.215680</td>\n",
       "      <td>0.221793</td>\n",
       "    </tr>\n",
       "    <tr>\n",
       "      <th>1</th>\n",
       "      <td>1</td>\n",
       "      <td>0.228856</td>\n",
       "      <td>0.199390</td>\n",
       "    </tr>\n",
       "    <tr>\n",
       "      <th>2</th>\n",
       "      <td>2</td>\n",
       "      <td>0.213222</td>\n",
       "      <td>0.236165</td>\n",
       "    </tr>\n",
       "    <tr>\n",
       "      <th>3</th>\n",
       "      <td>3</td>\n",
       "      <td>0.227837</td>\n",
       "      <td>0.217415</td>\n",
       "    </tr>\n",
       "    <tr>\n",
       "      <th>4</th>\n",
       "      <td>4</td>\n",
       "      <td>0.234706</td>\n",
       "      <td>0.220761</td>\n",
       "    </tr>\n",
       "    <tr>\n",
       "      <th>5</th>\n",
       "      <td>5</td>\n",
       "      <td>0.222982</td>\n",
       "      <td>0.221940</td>\n",
       "    </tr>\n",
       "    <tr>\n",
       "      <th>6</th>\n",
       "      <td>6</td>\n",
       "      <td>0.229617</td>\n",
       "      <td>0.215380</td>\n",
       "    </tr>\n",
       "    <tr>\n",
       "      <th>7</th>\n",
       "      <td>7</td>\n",
       "      <td>0.211507</td>\n",
       "      <td>0.220508</td>\n",
       "    </tr>\n",
       "    <tr>\n",
       "      <th>8</th>\n",
       "      <td>8</td>\n",
       "      <td>0.200869</td>\n",
       "      <td>0.241552</td>\n",
       "    </tr>\n",
       "    <tr>\n",
       "      <th>9</th>\n",
       "      <td>9</td>\n",
       "      <td>0.218295</td>\n",
       "      <td>0.220528</td>\n",
       "    </tr>\n",
       "  </tbody>\n",
       "</table>\n",
       "</div>"
      ],
      "text/plain": [
       "  unique_id    model0    model1\n",
       "0         0  0.215680  0.221793\n",
       "1         1  0.228856  0.199390\n",
       "2         2  0.213222  0.236165\n",
       "3         3  0.227837  0.217415\n",
       "4         4  0.234706  0.220761\n",
       "5         5  0.222982  0.221940\n",
       "6         6  0.229617  0.215380\n",
       "7         7  0.211507  0.220508\n",
       "8         8  0.200869  0.241552\n",
       "9         9  0.218295  0.220528"
      ]
     },
     "execution_count": null,
     "metadata": {},
     "output_type": "execute_result"
    }
   ],
   "source": [
    "rmse(series, models)"
   ]
  },
  {
   "cell_type": "code",
   "execution_count": null,
   "metadata": {},
   "outputs": [
    {
     "data": {
      "text/html": [
       "<div>\n",
       "<style scoped>\n",
       "    .dataframe tbody tr th:only-of-type {\n",
       "        vertical-align: middle;\n",
       "    }\n",
       "\n",
       "    .dataframe tbody tr th {\n",
       "        vertical-align: top;\n",
       "    }\n",
       "\n",
       "    .dataframe thead th {\n",
       "        text-align: right;\n",
       "    }\n",
       "</style>\n",
       "<table border=\"1\" class=\"dataframe\">\n",
       "  <thead>\n",
       "    <tr style=\"text-align: right;\">\n",
       "      <th></th>\n",
       "      <th>model0</th>\n",
       "      <th>model1</th>\n",
       "    </tr>\n",
       "  </thead>\n",
       "  <tbody>\n",
       "    <tr>\n",
       "      <th>0</th>\n",
       "      <td>0.220357</td>\n",
       "      <td>0.221543</td>\n",
       "    </tr>\n",
       "  </tbody>\n",
       "</table>\n",
       "</div>"
      ],
      "text/plain": [
       "     model0    model1\n",
       "0  0.220357  0.221543"
      ]
     },
     "execution_count": null,
     "metadata": {},
     "output_type": "execute_result"
    }
   ],
   "source": [
    "rmse(series, models, agg_by=[['unique_id'], None])"
   ]
  },
  {
   "cell_type": "code",
   "execution_count": null,
   "metadata": {},
   "outputs": [
    {
     "data": {
      "text/plain": [
       "model0    0.220357\n",
       "model1    0.221543\n",
       "dtype: float64"
      ]
     },
     "execution_count": null,
     "metadata": {},
     "output_type": "execute_result"
    }
   ],
   "source": [
    "rmse(series, models)[models].mean()"
   ]
  },
  {
   "cell_type": "code",
   "execution_count": null,
   "metadata": {},
   "outputs": [
    {
     "data": {
      "text/html": [
       "<div><style>\n",
       ".dataframe > thead > tr,\n",
       ".dataframe > tbody > tr {\n",
       "  text-align: right;\n",
       "  white-space: pre-wrap;\n",
       "}\n",
       "</style>\n",
       "<small>shape: (1, 2)</small><table border=\"1\" class=\"dataframe\"><thead><tr><th>model0</th><th>model1</th></tr><tr><td>f64</td><td>f64</td></tr></thead><tbody><tr><td>0.220357</td><td>0.221543</td></tr></tbody></table></div>"
      ],
      "text/plain": [
       "shape: (1, 2)\n",
       "┌──────────┬──────────┐\n",
       "│ model0   ┆ model1   │\n",
       "│ ---      ┆ ---      │\n",
       "│ f64      ┆ f64      │\n",
       "╞══════════╪══════════╡\n",
       "│ 0.220357 ┆ 0.221543 │\n",
       "└──────────┴──────────┘"
      ]
     },
     "execution_count": null,
     "metadata": {},
     "output_type": "execute_result"
    }
   ],
   "source": [
    "rmse(series_pl, models)[models].mean()"
   ]
  },
  {
   "cell_type": "code",
   "execution_count": null,
   "metadata": {},
   "outputs": [
    {
     "data": {
      "text/markdown": [
       "---\n",
       "\n",
       "[source](https://github.com/Nixtla/utilsforecast/blob/main/utilsforecast/losses.py#L134){target=\"_blank\" style=\"float:right; font-size:smaller\"}\n",
       "\n",
       "#### rmse\n",
       "\n",
       ">      rmse\n",
       ">            (df:Union[pandas.core.frame.DataFrame,polars.dataframe.frame.DataFr\n",
       ">            ame], models:List[str], id_col:str='unique_id', target_col:str='y',\n",
       ">            agg_by:Union[str,List[str],List[Optional[List[str]]],__main__.NotSe\n",
       ">            t,NoneType]=<__main__.NotSet object>)\n",
       "\n",
       "*Root Mean Squared Error (RMSE)\n",
       "\n",
       "RMSE measures the relative prediction\n",
       "accuracy of a forecasting method by calculating the squared deviation\n",
       "of the prediction and the observed value at a given time and\n",
       "averages these devations over the length of the series.\n",
       "Finally the RMSE will be in the same scale\n",
       "as the original time series so its comparison with other\n",
       "series is possible only if they share a common scale. \n",
       "RMSE has a direct connection to the L2 norm.*\n",
       "\n",
       "|    | **Type** | **Default** | **Details** |\n",
       "| -- | -------- | ----------- | ----------- |\n",
       "| df | Union |  | Input dataframe with id, actual values and predictions. |\n",
       "| models | List |  | Columns that identify the models predictions. |\n",
       "| id_col | str | unique_id | Column that identifies each serie. |\n",
       "| target_col | str | y | Column that contains the target. |\n",
       "| agg_by | Union | <__main__.NotSet object> |  |\n",
       "| **Returns** | **Union** |  | **dataframe with one row per id and one column per model.** |"
      ],
      "text/plain": [
       "---\n",
       "\n",
       "[source](https://github.com/Nixtla/utilsforecast/blob/main/utilsforecast/losses.py#L134){target=\"_blank\" style=\"float:right; font-size:smaller\"}\n",
       "\n",
       "#### rmse\n",
       "\n",
       ">      rmse\n",
       ">            (df:Union[pandas.core.frame.DataFrame,polars.dataframe.frame.DataFr\n",
       ">            ame], models:List[str], id_col:str='unique_id', target_col:str='y',\n",
       ">            agg_by:Union[str,List[str],List[Optional[List[str]]],__main__.NotSe\n",
       ">            t,NoneType]=<__main__.NotSet object>)\n",
       "\n",
       "*Root Mean Squared Error (RMSE)\n",
       "\n",
       "RMSE measures the relative prediction\n",
       "accuracy of a forecasting method by calculating the squared deviation\n",
       "of the prediction and the observed value at a given time and\n",
       "averages these devations over the length of the series.\n",
       "Finally the RMSE will be in the same scale\n",
       "as the original time series so its comparison with other\n",
       "series is possible only if they share a common scale. \n",
       "RMSE has a direct connection to the L2 norm.*\n",
       "\n",
       "|    | **Type** | **Default** | **Details** |\n",
       "| -- | -------- | ----------- | ----------- |\n",
       "| df | Union |  | Input dataframe with id, actual values and predictions. |\n",
       "| models | List |  | Columns that identify the models predictions. |\n",
       "| id_col | str | unique_id | Column that identifies each serie. |\n",
       "| target_col | str | y | Column that contains the target. |\n",
       "| agg_by | Union | <__main__.NotSet object> |  |\n",
       "| **Returns** | **Union** |  | **dataframe with one row per id and one column per model.** |"
      ]
     },
     "execution_count": null,
     "metadata": {},
     "output_type": "execute_result"
    }
   ],
   "source": [
    "show_doc(rmse, title_level=4)"
   ]
  },
  {
   "cell_type": "code",
   "execution_count": null,
   "metadata": {},
   "outputs": [],
   "source": [
    "#| polars\n",
    "pd_vs_pl(\n",
    "    rmse(series, models),\n",
    "    rmse(series_pl, models),\n",
    "    models,\n",
    ")"
   ]
  },
  {
   "cell_type": "markdown",
   "metadata": {},
   "source": [
    "## 2. Percentage Errors"
   ]
  },
  {
   "cell_type": "markdown",
   "metadata": {},
   "source": [
    "### Mean Absolute Percentage Error\n",
    "\n",
    "$$\n",
    "\\mathrm{MAPE}(\\mathbf{y}_{\\tau}, \\mathbf{\\hat{y}}_{\\tau}) = \\frac{1}{H} \\sum^{t+H}_{\\tau=t+1} \\frac{|y_{\\tau}-\\hat{y}_{\\tau}|}{|y_{\\tau}|}\n",
    "$$"
   ]
  },
  {
   "cell_type": "markdown",
   "metadata": {},
   "source": [
    "![](imgs/losses/mape_loss.png)"
   ]
  },
  {
   "cell_type": "code",
   "execution_count": null,
   "metadata": {},
   "outputs": [],
   "source": [
    "#| exporti\n",
    "def _zero_to_nan(series: Union[pd.Series, 'pl.Expr']) -> Union[pd.Series, 'pl.Expr']:\n",
    "    if isinstance(series, pd.Series):\n",
    "        res = series.replace(0, np.nan)\n",
    "    else:\n",
    "        res = (\n",
    "            pl.when(series == 0)\n",
    "            .then(float('nan'))\n",
    "            .otherwise(series.abs())\n",
    "        )\n",
    "    return res"
   ]
  },
  {
   "cell_type": "code",
   "execution_count": null,
   "metadata": {},
   "outputs": [],
   "source": [
    "#| export\n",
    "@_base_docstring\n",
    "def mape(\n",
    "    df: DataFrame,\n",
    "    models: List[str],\n",
    "    id_col: str = 'unique_id',\n",
    "    target_col: str = 'y',\n",
    "    agg_by: AGG_BY = NOT_SET,\n",
    ") -> Union[DataFrame, pd.Series]:\n",
    "    \"\"\"Mean Absolute Percentage Error (MAPE)\n",
    "    \n",
    "    MAPE measures the relative prediction\n",
    "    accuracy of a forecasting method by calculating the percentual deviation\n",
    "    of the prediction and the observed value at a given time and\n",
    "    averages these devations over the length of the series.\n",
    "    The closer to zero an observed value is, the higher penalty MAPE loss\n",
    "    assigns to the corresponding error.\"\"\"\n",
    "    df = ufp.copy_if_pandas(df, deep=False)\n",
    "    if isinstance(df, pd.DataFrame):\n",
    "        df[models] = (\n",
    "            df[models]\n",
    "            .sub(df[target_col], axis=0)\n",
    "            .abs()\n",
    "            .div(_zero_to_nan(df[target_col].abs()), axis=0)\n",
    "        )\n",
    "    else:\n",
    "        def gen_expr(model):\n",
    "            abs_err = pl.col(target_col).sub(pl.col(model)).abs()\n",
    "            abs_target = _zero_to_nan(pl.col(target_col))\n",
    "            ratio = abs_err.truediv(abs_target).alias(model)\n",
    "            return ratio.fill_nan(None)\n",
    "\n",
    "        df = df.with_columns(*[gen_expr(m) for m in models])\n",
    "    return _aggregate(df=df, models=models, id_col=id_col, agg_by=agg_by)"
   ]
  },
  {
   "cell_type": "code",
   "execution_count": null,
   "metadata": {},
   "outputs": [
    {
     "data": {
      "text/markdown": [
       "---\n",
       "\n",
       "[source](https://github.com/Nixtla/utilsforecast/blob/main/utilsforecast/losses.py#L179){target=\"_blank\" style=\"float:right; font-size:smaller\"}\n",
       "\n",
       "#### mape\n",
       "\n",
       ">      mape\n",
       ">            (df:Union[pandas.core.frame.DataFrame,polars.dataframe.frame.DataFr\n",
       ">            ame], models:List[str], id_col:str='unique_id', target_col:str='y',\n",
       ">            agg_by:Union[str,List[str],List[Optional[List[str]]],__main__.NotSe\n",
       ">            t,NoneType]=<__main__.NotSet object>)\n",
       "\n",
       "*Mean Absolute Percentage Error (MAPE)\n",
       "\n",
       "MAPE measures the relative prediction\n",
       "accuracy of a forecasting method by calculating the percentual deviation\n",
       "of the prediction and the observed value at a given time and\n",
       "averages these devations over the length of the series.\n",
       "The closer to zero an observed value is, the higher penalty MAPE loss\n",
       "assigns to the corresponding error.*\n",
       "\n",
       "|    | **Type** | **Default** | **Details** |\n",
       "| -- | -------- | ----------- | ----------- |\n",
       "| df | Union |  | Input dataframe with id, actual values and predictions. |\n",
       "| models | List |  | Columns that identify the models predictions. |\n",
       "| id_col | str | unique_id | Column that identifies each serie. |\n",
       "| target_col | str | y | Column that contains the target. |\n",
       "| agg_by | Union | <__main__.NotSet object> |  |\n",
       "| **Returns** | **Union** |  | **dataframe with one row per id and one column per model.** |"
      ],
      "text/plain": [
       "---\n",
       "\n",
       "[source](https://github.com/Nixtla/utilsforecast/blob/main/utilsforecast/losses.py#L179){target=\"_blank\" style=\"float:right; font-size:smaller\"}\n",
       "\n",
       "#### mape\n",
       "\n",
       ">      mape\n",
       ">            (df:Union[pandas.core.frame.DataFrame,polars.dataframe.frame.DataFr\n",
       ">            ame], models:List[str], id_col:str='unique_id', target_col:str='y',\n",
       ">            agg_by:Union[str,List[str],List[Optional[List[str]]],__main__.NotSe\n",
       ">            t,NoneType]=<__main__.NotSet object>)\n",
       "\n",
       "*Mean Absolute Percentage Error (MAPE)\n",
       "\n",
       "MAPE measures the relative prediction\n",
       "accuracy of a forecasting method by calculating the percentual deviation\n",
       "of the prediction and the observed value at a given time and\n",
       "averages these devations over the length of the series.\n",
       "The closer to zero an observed value is, the higher penalty MAPE loss\n",
       "assigns to the corresponding error.*\n",
       "\n",
       "|    | **Type** | **Default** | **Details** |\n",
       "| -- | -------- | ----------- | ----------- |\n",
       "| df | Union |  | Input dataframe with id, actual values and predictions. |\n",
       "| models | List |  | Columns that identify the models predictions. |\n",
       "| id_col | str | unique_id | Column that identifies each serie. |\n",
       "| target_col | str | y | Column that contains the target. |\n",
       "| agg_by | Union | <__main__.NotSet object> |  |\n",
       "| **Returns** | **Union** |  | **dataframe with one row per id and one column per model.** |"
      ]
     },
     "execution_count": null,
     "metadata": {},
     "output_type": "execute_result"
    }
   ],
   "source": [
    "show_doc(mape, title_level=4)"
   ]
  },
  {
   "cell_type": "code",
   "execution_count": null,
   "metadata": {},
   "outputs": [],
   "source": [
    "#| polars\n",
    "pd_vs_pl(\n",
    "    mape(series, models),\n",
    "    mape(series_pl, models),\n",
    "    models,\n",
    ")"
   ]
  },
  {
   "cell_type": "markdown",
   "metadata": {},
   "source": [
    "### Symmetric Mean Absolute Percentage Error\n",
    "\n",
    "$$\n",
    "\\mathrm{SMAPE}_{2}(\\mathbf{y}_{\\tau}, \\mathbf{\\hat{y}}_{\\tau}) = \\frac{1}{H} \\sum^{t+H}_{\\tau=t+1} \\frac{|y_{\\tau}-\\hat{y}_{\\tau}|}{|y_{\\tau}|+|\\hat{y}_{\\tau}|}\n",
    "$$"
   ]
  },
  {
   "cell_type": "code",
   "execution_count": null,
   "metadata": {},
   "outputs": [],
   "source": [
    "#| export\n",
    "@_base_docstring\n",
    "def smape(\n",
    "    df: DataFrame,\n",
    "    models: List[str],\n",
    "    id_col: str = 'unique_id',\n",
    "    target_col: str = 'y',\n",
    "    agg_by: AGG_BY = NOT_SET,\n",
    ") -> Union[DataFrame, pd.Series]:\n",
    "    \"\"\"Symmetric Mean Absolute Percentage Error (SMAPE)\n",
    "\n",
    "    SMAPE measures the relative prediction\n",
    "    accuracy of a forecasting method by calculating the relative deviation\n",
    "    of the prediction and the observed value scaled by the sum of the\n",
    "    absolute values for the prediction and observed value at a\n",
    "    given time, then averages these devations over the length\n",
    "    of the series. This allows the SMAPE to have bounds between\n",
    "    0% and 100% which is desirable compared to normal MAPE that\n",
    "    may be undetermined when the target is zero.\"\"\"\n",
    "    df = ufp.copy_if_pandas(df, deep=False)\n",
    "    if isinstance(df, pd.DataFrame):\n",
    "        delta_y = df[models].sub(df[target_col], axis=0).abs()\n",
    "        scale = df[models].abs().add(df[target_col].abs(), axis=0)\n",
    "        df[models] = delta_y.div(scale).fillna(0)\n",
    "    else:\n",
    "        def gen_expr(model):\n",
    "            abs_err = pl.col(model).sub(pl.col(target_col)).abs()\n",
    "            denominator = _zero_to_nan(pl.col(model).abs().add(pl.col(target_col)).abs())\n",
    "            ratio = abs_err.truediv(denominator).alias(model)\n",
    "            return ratio.fill_nan(0)\n",
    "\n",
    "        df = df.with_columns(*[gen_expr(m) for m in models])\n",
    "    return _aggregate(df=df, models=models, id_col=id_col, agg_by=agg_by)"
   ]
  },
  {
   "cell_type": "code",
   "execution_count": null,
   "metadata": {},
   "outputs": [
    {
     "data": {
      "text/markdown": [
       "---\n",
       "\n",
       "[source](https://github.com/Nixtla/utilsforecast/blob/main/utilsforecast/losses.py#L215){target=\"_blank\" style=\"float:right; font-size:smaller\"}\n",
       "\n",
       "#### smape\n",
       "\n",
       ">      smape\n",
       ">             (df:Union[pandas.core.frame.DataFrame,polars.dataframe.frame.DataF\n",
       ">             rame], models:List[str], id_col:str='unique_id',\n",
       ">             target_col:str='y', agg_by:Union[str,List[str],List[Optional[List[\n",
       ">             str]]],__main__.NotSet,NoneType]=<__main__.NotSet object at\n",
       ">             0x7f0c605e09a0>)\n",
       "\n",
       "*Symmetric Mean Absolute Percentage Error (SMAPE)\n",
       "\n",
       "SMAPE measures the relative prediction\n",
       "accuracy of a forecasting method by calculating the relative deviation\n",
       "of the prediction and the observed value scaled by the sum of the\n",
       "absolute values for the prediction and observed value at a\n",
       "given time, then averages these devations over the length\n",
       "of the series. This allows the SMAPE to have bounds between\n",
       "0% and 100% which is desirable compared to normal MAPE that\n",
       "may be undetermined when the target is zero.*\n",
       "\n",
       "|    | **Type** | **Default** | **Details** |\n",
       "| -- | -------- | ----------- | ----------- |\n",
       "| df | Union |  | Input dataframe with id, actual values and predictions. |\n",
       "| models | List |  | Columns that identify the models predictions. |\n",
       "| id_col | str | unique_id | Column that identifies each serie. |\n",
       "| target_col | str | y | Column that contains the target. |\n",
       "| agg_by | Union | <__main__.NotSet object> |  |\n",
       "| **Returns** | **Union** |  | **dataframe with one row per id and one column per model.** |"
      ],
      "text/plain": [
       "---\n",
       "\n",
       "[source](https://github.com/Nixtla/utilsforecast/blob/main/utilsforecast/losses.py#L215){target=\"_blank\" style=\"float:right; font-size:smaller\"}\n",
       "\n",
       "#### smape\n",
       "\n",
       ">      smape\n",
       ">             (df:Union[pandas.core.frame.DataFrame,polars.dataframe.frame.DataF\n",
       ">             rame], models:List[str], id_col:str='unique_id',\n",
       ">             target_col:str='y', agg_by:Union[str,List[str],List[Optional[List[\n",
       ">             str]]],__main__.NotSet,NoneType]=<__main__.NotSet object at\n",
       ">             0x7f0c605e09a0>)\n",
       "\n",
       "*Symmetric Mean Absolute Percentage Error (SMAPE)\n",
       "\n",
       "SMAPE measures the relative prediction\n",
       "accuracy of a forecasting method by calculating the relative deviation\n",
       "of the prediction and the observed value scaled by the sum of the\n",
       "absolute values for the prediction and observed value at a\n",
       "given time, then averages these devations over the length\n",
       "of the series. This allows the SMAPE to have bounds between\n",
       "0% and 100% which is desirable compared to normal MAPE that\n",
       "may be undetermined when the target is zero.*\n",
       "\n",
       "|    | **Type** | **Default** | **Details** |\n",
       "| -- | -------- | ----------- | ----------- |\n",
       "| df | Union |  | Input dataframe with id, actual values and predictions. |\n",
       "| models | List |  | Columns that identify the models predictions. |\n",
       "| id_col | str | unique_id | Column that identifies each serie. |\n",
       "| target_col | str | y | Column that contains the target. |\n",
       "| agg_by | Union | <__main__.NotSet object> |  |\n",
       "| **Returns** | **Union** |  | **dataframe with one row per id and one column per model.** |"
      ]
     },
     "execution_count": null,
     "metadata": {},
     "output_type": "execute_result"
    }
   ],
   "source": [
    "show_doc(smape, title_level=4)"
   ]
  },
  {
   "cell_type": "code",
   "execution_count": null,
   "metadata": {},
   "outputs": [],
   "source": [
    "#| polars\n",
    "pd_vs_pl(\n",
    "    smape(series, models),\n",
    "    smape(series_pl, models),\n",
    "    models,\n",
    ")"
   ]
  },
  {
   "cell_type": "markdown",
   "metadata": {},
   "source": [
    "## 3. Scale-independent Errors"
   ]
  },
  {
   "cell_type": "markdown",
   "metadata": {},
   "source": [
    "### Mean Absolute Scaled Error\n",
    "\n",
    "$$\n",
    "\\mathrm{MASE}(\\mathbf{y}_{\\tau}, \\mathbf{\\hat{y}}_{\\tau}, \\mathbf{\\hat{y}}^{season}_{\\tau}) = \n",
    "\\frac{1}{H} \\sum^{t+H}_{\\tau=t+1} \\frac{|y_{\\tau}-\\hat{y}_{\\tau}|}{\\mathrm{MAE}(\\mathbf{y}_{\\tau}, \\mathbf{\\hat{y}}^{season}_{\\tau})}\n",
    "$$"
   ]
  },
  {
   "cell_type": "markdown",
   "metadata": {},
   "source": [
    "![](imgs/losses/mase_loss.png)"
   ]
  },
  {
   "cell_type": "code",
   "execution_count": null,
   "metadata": {},
   "outputs": [],
   "source": [
    "#| export\n",
    "def mase(\n",
    "    df: DataFrame,\n",
    "    models: List[str],\n",
    "    seasonality: int,\n",
    "    train_df: DataFrame,\n",
    "    id_col: str = 'unique_id',\n",
    "    target_col: str = 'y',\n",
    "    agg_by: AGG_BY = NOT_SET,\n",
    ") -> Union[DataFrame, pd.Series]:\n",
    "    \"\"\"Mean Absolute Scaled Error (MASE)\n",
    "    \n",
    "    MASE measures the relative prediction\n",
    "    accuracy of a forecasting method by comparinng the mean absolute errors\n",
    "    of the prediction and the observed value against the mean\n",
    "    absolute errors of the seasonal naive model.\n",
    "    The MASE partially composed the Overall Weighted Average (OWA), \n",
    "    used in the M4 Competition.\n",
    "\n",
    "    Parameters\n",
    "    ----------\n",
    "    df : pandas or polars DataFrame\n",
    "        Input dataframe with id, actuals and predictions.\n",
    "    models : list of str\n",
    "        Columns that identify the models predictions.\n",
    "    seasonality : int\n",
    "        Main frequency of the time series;\n",
    "        Hourly 24, Daily 7, Weekly 52, Monthly 12, Quarterly 4, Yearly 1.\n",
    "    train_df : pandas or polars DataFrame\n",
    "        Training dataframe with id and actual values. Must be sorted by time.\n",
    "    id_col : str (default='unique_id')\n",
    "        Column that identifies each serie.\n",
    "    target_col : str (default='y')\n",
    "        Column that contains the target.\n",
    "\n",
    "    Returns\n",
    "    -------\n",
    "    pandas or polars Dataframe\n",
    "        dataframe with one row per id and one column per model.\n",
    "\n",
    "    References\n",
    "    ----------\n",
    "    [1] https://robjhyndman.com/papers/mase.pdf        \n",
    "    \"\"\"\n",
    "    mean_abs_err = mae(df, models, id_col, target_col, agg_by)\n",
    "    if isinstance(train_df, pd.DataFrame):\n",
    "        # assume train_df is sorted\n",
    "        lagged = train_df.groupby(id_col, observed=True)[target_col].shift(seasonality)\n",
    "        scale = ufp.copy_if_pandas(train_df, deep=False)\n",
    "        scale['_scale'] = scale[target_col].sub(lagged).abs()\n",
    "    else:\n",
    "        # assume train_df is sorted\n",
    "        lagged = pl.col(target_col).shift(seasonality).over(id_col)\n",
    "        scale = train_df.with_columns(\n",
    "            pl.col(target_col).sub(lagged).abs().alias('_scale')\n",
    "        )\n",
    "    scale = _aggregate(scale, models=['_scale'], id_col=id_col, agg_by=agg_by)\n",
    "    join_cols = [c for c in mean_abs_err.columns if c not in models]\n",
    "    if join_cols:\n",
    "        res = ufp.join(mean_abs_err, scale, on=join_cols)\n",
    "    else:\n",
    "        res = ufp.horizontal_concat([mean_abs_err, scale])\n",
    "    if isinstance(res, pd.DataFrame):\n",
    "        res[models] = res[models].div(res['_scale'], axis=0)\n",
    "    else:\n",
    "        res = res.with_columns(*[pl.col(m) / pl.col('_scale') for m in models])\n",
    "    return ufp.drop_columns(res, ['_scale'])"
   ]
  },
  {
   "cell_type": "code",
   "execution_count": null,
   "metadata": {},
   "outputs": [
    {
     "data": {
      "text/html": [
       "<div>\n",
       "<style scoped>\n",
       "    .dataframe tbody tr th:only-of-type {\n",
       "        vertical-align: middle;\n",
       "    }\n",
       "\n",
       "    .dataframe tbody tr th {\n",
       "        vertical-align: top;\n",
       "    }\n",
       "\n",
       "    .dataframe thead th {\n",
       "        text-align: right;\n",
       "    }\n",
       "</style>\n",
       "<table border=\"1\" class=\"dataframe\">\n",
       "  <thead>\n",
       "    <tr style=\"text-align: right;\">\n",
       "      <th></th>\n",
       "      <th>unique_id</th>\n",
       "      <th>model0</th>\n",
       "      <th>model1</th>\n",
       "    </tr>\n",
       "  </thead>\n",
       "  <tbody>\n",
       "    <tr>\n",
       "      <th>0</th>\n",
       "      <td>0</td>\n",
       "      <td>0.985713</td>\n",
       "      <td>1.017747</td>\n",
       "    </tr>\n",
       "    <tr>\n",
       "      <th>1</th>\n",
       "      <td>1</td>\n",
       "      <td>0.923322</td>\n",
       "      <td>0.829304</td>\n",
       "    </tr>\n",
       "    <tr>\n",
       "      <th>2</th>\n",
       "      <td>2</td>\n",
       "      <td>0.932431</td>\n",
       "      <td>0.994832</td>\n",
       "    </tr>\n",
       "    <tr>\n",
       "      <th>3</th>\n",
       "      <td>3</td>\n",
       "      <td>1.053972</td>\n",
       "      <td>1.010562</td>\n",
       "    </tr>\n",
       "    <tr>\n",
       "      <th>4</th>\n",
       "      <td>4</td>\n",
       "      <td>0.977438</td>\n",
       "      <td>0.938081</td>\n",
       "    </tr>\n",
       "    <tr>\n",
       "      <th>5</th>\n",
       "      <td>5</td>\n",
       "      <td>0.965258</td>\n",
       "      <td>0.965930</td>\n",
       "    </tr>\n",
       "    <tr>\n",
       "      <th>6</th>\n",
       "      <td>6</td>\n",
       "      <td>0.934797</td>\n",
       "      <td>0.873294</td>\n",
       "    </tr>\n",
       "    <tr>\n",
       "      <th>7</th>\n",
       "      <td>7</td>\n",
       "      <td>0.939488</td>\n",
       "      <td>0.988070</td>\n",
       "    </tr>\n",
       "    <tr>\n",
       "      <th>8</th>\n",
       "      <td>8</td>\n",
       "      <td>1.051247</td>\n",
       "      <td>1.194574</td>\n",
       "    </tr>\n",
       "    <tr>\n",
       "      <th>9</th>\n",
       "      <td>9</td>\n",
       "      <td>0.904797</td>\n",
       "      <td>0.941142</td>\n",
       "    </tr>\n",
       "  </tbody>\n",
       "</table>\n",
       "</div>"
      ],
      "text/plain": [
       "  unique_id    model0    model1\n",
       "0         0  0.985713  1.017747\n",
       "1         1  0.923322  0.829304\n",
       "2         2  0.932431  0.994832\n",
       "3         3  1.053972  1.010562\n",
       "4         4  0.977438  0.938081\n",
       "5         5  0.965258  0.965930\n",
       "6         6  0.934797  0.873294\n",
       "7         7  0.939488  0.988070\n",
       "8         8  1.051247  1.194574\n",
       "9         9  0.904797  0.941142"
      ]
     },
     "execution_count": null,
     "metadata": {},
     "output_type": "execute_result"
    }
   ],
   "source": [
    "mase(series, models, seasonality=7, train_df=series)"
   ]
  },
  {
   "cell_type": "code",
   "execution_count": null,
   "metadata": {},
   "outputs": [
    {
     "data": {
      "text/html": [
       "<div>\n",
       "<style scoped>\n",
       "    .dataframe tbody tr th:only-of-type {\n",
       "        vertical-align: middle;\n",
       "    }\n",
       "\n",
       "    .dataframe tbody tr th {\n",
       "        vertical-align: top;\n",
       "    }\n",
       "\n",
       "    .dataframe thead th {\n",
       "        text-align: right;\n",
       "    }\n",
       "</style>\n",
       "<table border=\"1\" class=\"dataframe\">\n",
       "  <thead>\n",
       "    <tr style=\"text-align: right;\">\n",
       "      <th></th>\n",
       "      <th>model0</th>\n",
       "      <th>model1</th>\n",
       "    </tr>\n",
       "  </thead>\n",
       "  <tbody>\n",
       "    <tr>\n",
       "      <th>0</th>\n",
       "      <td>0.960597</td>\n",
       "      <td>0.962081</td>\n",
       "    </tr>\n",
       "  </tbody>\n",
       "</table>\n",
       "</div>"
      ],
      "text/plain": [
       "     model0    model1\n",
       "0  0.960597  0.962081"
      ]
     },
     "execution_count": null,
     "metadata": {},
     "output_type": "execute_result"
    }
   ],
   "source": [
    "mase(series, models, seasonality=7, train_df=series, agg_by=None)"
   ]
  },
  {
   "cell_type": "code",
   "execution_count": null,
   "metadata": {},
   "outputs": [
    {
     "data": {
      "text/html": [
       "<div>\n",
       "<style scoped>\n",
       "    .dataframe tbody tr th:only-of-type {\n",
       "        vertical-align: middle;\n",
       "    }\n",
       "\n",
       "    .dataframe tbody tr th {\n",
       "        vertical-align: top;\n",
       "    }\n",
       "\n",
       "    .dataframe thead th {\n",
       "        text-align: right;\n",
       "    }\n",
       "</style>\n",
       "<table border=\"1\" class=\"dataframe\">\n",
       "  <thead>\n",
       "    <tr style=\"text-align: right;\">\n",
       "      <th></th>\n",
       "      <th>model0</th>\n",
       "      <th>model1</th>\n",
       "    </tr>\n",
       "  </thead>\n",
       "  <tbody>\n",
       "    <tr>\n",
       "      <th>0</th>\n",
       "      <td>0.964661</td>\n",
       "      <td>0.97061</td>\n",
       "    </tr>\n",
       "  </tbody>\n",
       "</table>\n",
       "</div>"
      ],
      "text/plain": [
       "     model0   model1\n",
       "0  0.964661  0.97061"
      ]
     },
     "execution_count": null,
     "metadata": {},
     "output_type": "execute_result"
    }
   ],
   "source": [
    "mase(series, models, seasonality=7, train_df=series, agg_by=[['unique_id'], None])"
   ]
  },
  {
   "cell_type": "code",
   "execution_count": null,
   "metadata": {},
   "outputs": [
    {
     "data": {
      "text/markdown": [
       "---\n",
       "\n",
       "[source](https://github.com/Nixtla/utilsforecast/blob/main/utilsforecast/losses.py#L251){target=\"_blank\" style=\"float:right; font-size:smaller\"}\n",
       "\n",
       "#### mase\n",
       "\n",
       ">      mase\n",
       ">            (df:Union[pandas.core.frame.DataFrame,polars.dataframe.frame.DataFr\n",
       ">            ame], models:List[str], seasonality:int, train_df:Union[pandas.core\n",
       ">            .frame.DataFrame,polars.dataframe.frame.DataFrame],\n",
       ">            id_col:str='unique_id', target_col:str='y', agg_by:Union[str,List[s\n",
       ">            tr],List[Optional[List[str]]],__main__.NotSet,NoneType]=<__main__.N\n",
       ">            otSet object at 0x7f0c605e09a0>)\n",
       "\n",
       "*Mean Absolute Scaled Error (MASE)\n",
       "\n",
       "MASE measures the relative prediction\n",
       "accuracy of a forecasting method by comparinng the mean absolute errors\n",
       "of the prediction and the observed value against the mean\n",
       "absolute errors of the seasonal naive model.\n",
       "The MASE partially composed the Overall Weighted Average (OWA), \n",
       "used in the M4 Competition.*\n",
       "\n",
       "|    | **Type** | **Default** | **Details** |\n",
       "| -- | -------- | ----------- | ----------- |\n",
       "| df | Union |  | Input dataframe with id, actuals and predictions. |\n",
       "| models | List |  | Columns that identify the models predictions. |\n",
       "| seasonality | int |  | Main frequency of the time series;<br>Hourly 24, Daily 7, Weekly 52, Monthly 12, Quarterly 4, Yearly 1. |\n",
       "| train_df | Union |  | Training dataframe with id and actual values. Must be sorted by time. |\n",
       "| id_col | str | unique_id | Column that identifies each serie. |\n",
       "| target_col | str | y | Column that contains the target. |\n",
       "| agg_by | Union | <__main__.NotSet object> |  |\n",
       "| **Returns** | **Union** |  | **dataframe with one row per id and one column per model.** |"
      ],
      "text/plain": [
       "---\n",
       "\n",
       "[source](https://github.com/Nixtla/utilsforecast/blob/main/utilsforecast/losses.py#L251){target=\"_blank\" style=\"float:right; font-size:smaller\"}\n",
       "\n",
       "#### mase\n",
       "\n",
       ">      mase\n",
       ">            (df:Union[pandas.core.frame.DataFrame,polars.dataframe.frame.DataFr\n",
       ">            ame], models:List[str], seasonality:int, train_df:Union[pandas.core\n",
       ">            .frame.DataFrame,polars.dataframe.frame.DataFrame],\n",
       ">            id_col:str='unique_id', target_col:str='y', agg_by:Union[str,List[s\n",
       ">            tr],List[Optional[List[str]]],__main__.NotSet,NoneType]=<__main__.N\n",
       ">            otSet object at 0x7f0c605e09a0>)\n",
       "\n",
       "*Mean Absolute Scaled Error (MASE)\n",
       "\n",
       "MASE measures the relative prediction\n",
       "accuracy of a forecasting method by comparinng the mean absolute errors\n",
       "of the prediction and the observed value against the mean\n",
       "absolute errors of the seasonal naive model.\n",
       "The MASE partially composed the Overall Weighted Average (OWA), \n",
       "used in the M4 Competition.*\n",
       "\n",
       "|    | **Type** | **Default** | **Details** |\n",
       "| -- | -------- | ----------- | ----------- |\n",
       "| df | Union |  | Input dataframe with id, actuals and predictions. |\n",
       "| models | List |  | Columns that identify the models predictions. |\n",
       "| seasonality | int |  | Main frequency of the time series;<br>Hourly 24, Daily 7, Weekly 52, Monthly 12, Quarterly 4, Yearly 1. |\n",
       "| train_df | Union |  | Training dataframe with id and actual values. Must be sorted by time. |\n",
       "| id_col | str | unique_id | Column that identifies each serie. |\n",
       "| target_col | str | y | Column that contains the target. |\n",
       "| agg_by | Union | <__main__.NotSet object> |  |\n",
       "| **Returns** | **Union** |  | **dataframe with one row per id and one column per model.** |"
      ]
     },
     "execution_count": null,
     "metadata": {},
     "output_type": "execute_result"
    }
   ],
   "source": [
    "show_doc(mase, title_level=4)"
   ]
  },
  {
   "cell_type": "code",
   "execution_count": null,
   "metadata": {},
   "outputs": [],
   "source": [
    "#| polars\n",
    "pd_vs_pl(\n",
    "    mase(series, models, 7, series),\n",
    "    mase(series_pl, models, 7, series_pl),\n",
    "    models,\n",
    ")"
   ]
  },
  {
   "cell_type": "markdown",
   "metadata": {},
   "source": [
    "### Relative Mean Absolute Error\n",
    "\n",
    "$$\n",
    "\\mathrm{RMAE}(\\mathbf{y}_{\\tau}, \\mathbf{\\hat{y}}_{\\tau}, \\mathbf{\\hat{y}}^{base}_{\\tau}) = \\frac{1}{H} \\sum^{t+H}_{\\tau=t+1} \\frac{|y_{\\tau}-\\hat{y}_{\\tau}|}{\\mathrm{MAE}(\\mathbf{y}_{\\tau}, \\mathbf{\\hat{y}}^{base}_{\\tau})}\n",
    "$$"
   ]
  },
  {
   "cell_type": "markdown",
   "metadata": {},
   "source": [
    "![](imgs/losses/rmae_loss.png)"
   ]
  },
  {
   "cell_type": "code",
   "execution_count": null,
   "metadata": {},
   "outputs": [],
   "source": [
    "#| export\n",
    "def rmae(\n",
    "    df: DataFrame,\n",
    "    models: List[str],\n",
    "    baseline_models: List[str],\n",
    "    id_col: str = 'unique_id',\n",
    "    target_col: str = 'y',\n",
    "    agg_by: AGG_BY = NOT_SET,\n",
    ") -> DataFrame:\n",
    "    \"\"\"Relative Mean Absolute Error (RMAE)\n",
    "    \n",
    "    Calculates the RAME between two sets of forecasts (from two different forecasting methods).\n",
    "    A number smaller than one implies that the forecast in the \n",
    "    numerator is better than the forecast in the denominator.\n",
    "\n",
    "    Parameters\n",
    "    ----------\n",
    "    df : pandas or polars DataFrame\n",
    "        Input dataframe with id, times, actuals and predictions.\n",
    "    models : list of str\n",
    "        Columns that identify the models predictions.\n",
    "    baseline_models : list of str\n",
    "        Columns that identify the baseline models predictions.\n",
    "    id_col : str (default='unique_id')\n",
    "        Column that identifies each serie.\n",
    "    target_col : str (default='y')\n",
    "        Column that contains the target.\n",
    "\n",
    "    Returns\n",
    "    -------\n",
    "    pandas or polars Dataframe\n",
    "        dataframe with one row per id and one column per model.\n",
    "    \"\"\"\n",
    "    numerator = mae(df, models, id_col, target_col, agg_by)\n",
    "    denominator = mae(df, baseline_models, id_col, target_col, agg_by)\n",
    "    denom_rename = {m: f'{m}_denominator' for m in models}\n",
    "    denominator = ufp.rename(denominator, denom_rename)\n",
    "    join_cols = [c for c in numerator.columns if c not in models]\n",
    "    if join_cols:\n",
    "        res = ufp.join(numerator, denominator, on=join_cols)\n",
    "    else:\n",
    "        res = ufp.horizontal_concat([numerator, denominator])\n",
    "    if isinstance(numerator, pd.DataFrame):\n",
    "        for model, baseline in zip(models, baseline_models):\n",
    "            col_name = f'{model}_div_{baseline}'\n",
    "            res[col_name] = res[model].div(_zero_to_nan(res[f'{baseline}_denominator'])).fillna(0)\n",
    "    else:\n",
    "        def gen_expr(model, baseline):\n",
    "            denominator = _zero_to_nan(pl.col(f'{baseline}_denominator'))\n",
    "            return pl.col(model).truediv(denominator).fill_nan(0).alias(f'{model}_div_{baseline}')\n",
    "\n",
    "        exprs = [gen_expr(m1, m2) for m1, m2 in zip(models, baseline_models)]\n",
    "        res = res.with_columns(*exprs)\n",
    "    model_cols = [\n",
    "        f'{model}_div_{baseline}' for model, baseline in zip(models, baseline_models)\n",
    "    ]\n",
    "    return res[join_cols + model_cols]"
   ]
  },
  {
   "cell_type": "code",
   "execution_count": null,
   "metadata": {},
   "outputs": [
    {
     "data": {
      "text/markdown": [
       "---\n",
       "\n",
       "[source](https://github.com/Nixtla/utilsforecast/blob/main/utilsforecast/losses.py#L319){target=\"_blank\" style=\"float:right; font-size:smaller\"}\n",
       "\n",
       "#### rmae\n",
       "\n",
       ">      rmae\n",
       ">            (df:Union[pandas.core.frame.DataFrame,polars.dataframe.frame.DataFr\n",
       ">            ame], models:List[str], baseline_models:List[str],\n",
       ">            id_col:str='unique_id', target_col:str='y', agg_by:Union[str,List[s\n",
       ">            tr],List[Optional[List[str]]],__main__.NotSet,NoneType]=<__main__.N\n",
       ">            otSet object at 0x7f0c605e09a0>)\n",
       "\n",
       "*Relative Mean Absolute Error (RMAE)\n",
       "\n",
       "Calculates the RAME between two sets of forecasts (from two different forecasting methods).\n",
       "A number smaller than one implies that the forecast in the \n",
       "numerator is better than the forecast in the denominator.*\n",
       "\n",
       "|    | **Type** | **Default** | **Details** |\n",
       "| -- | -------- | ----------- | ----------- |\n",
       "| df | Union |  | Input dataframe with id, times, actuals and predictions. |\n",
       "| models | List |  | Columns that identify the models predictions. |\n",
       "| baseline_models | List |  | Columns that identify the baseline models predictions. |\n",
       "| id_col | str | unique_id | Column that identifies each serie. |\n",
       "| target_col | str | y | Column that contains the target. |\n",
       "| agg_by | Union | <__main__.NotSet object> |  |\n",
       "| **Returns** | **Union** |  | **dataframe with one row per id and one column per model.** |"
      ],
      "text/plain": [
       "---\n",
       "\n",
       "[source](https://github.com/Nixtla/utilsforecast/blob/main/utilsforecast/losses.py#L319){target=\"_blank\" style=\"float:right; font-size:smaller\"}\n",
       "\n",
       "#### rmae\n",
       "\n",
       ">      rmae\n",
       ">            (df:Union[pandas.core.frame.DataFrame,polars.dataframe.frame.DataFr\n",
       ">            ame], models:List[str], baseline_models:List[str],\n",
       ">            id_col:str='unique_id', target_col:str='y', agg_by:Union[str,List[s\n",
       ">            tr],List[Optional[List[str]]],__main__.NotSet,NoneType]=<__main__.N\n",
       ">            otSet object at 0x7f0c605e09a0>)\n",
       "\n",
       "*Relative Mean Absolute Error (RMAE)\n",
       "\n",
       "Calculates the RAME between two sets of forecasts (from two different forecasting methods).\n",
       "A number smaller than one implies that the forecast in the \n",
       "numerator is better than the forecast in the denominator.*\n",
       "\n",
       "|    | **Type** | **Default** | **Details** |\n",
       "| -- | -------- | ----------- | ----------- |\n",
       "| df | Union |  | Input dataframe with id, times, actuals and predictions. |\n",
       "| models | List |  | Columns that identify the models predictions. |\n",
       "| baseline_models | List |  | Columns that identify the baseline models predictions. |\n",
       "| id_col | str | unique_id | Column that identifies each serie. |\n",
       "| target_col | str | y | Column that contains the target. |\n",
       "| agg_by | Union | <__main__.NotSet object> |  |\n",
       "| **Returns** | **Union** |  | **dataframe with one row per id and one column per model.** |"
      ]
     },
     "execution_count": null,
     "metadata": {},
     "output_type": "execute_result"
    }
   ],
   "source": [
    "show_doc(rmae, title_level=4)"
   ]
  },
  {
   "cell_type": "code",
   "execution_count": null,
   "metadata": {},
   "outputs": [],
   "source": [
    "#| polars\n",
    "pd_vs_pl(\n",
    "    rmae(series, models, list(reversed(models))),\n",
    "    rmae(series_pl, models, list(reversed(models))),\n",
    "    [f'{m1}_div_{m2}' for m1, m2 in zip(models, reversed(models))],\n",
    ")"
   ]
  },
  {
   "cell_type": "markdown",
   "metadata": {},
   "source": [
    "## 4. Probabilistic Errors"
   ]
  },
  {
   "cell_type": "markdown",
   "metadata": {},
   "source": [
    "### Quantile Loss\n",
    "\n",
    "$$\n",
    "\\mathrm{QL}(\\mathbf{y}_{\\tau}, \\mathbf{\\hat{y}}^{(q)}_{\\tau}) = \n",
    "\\frac{1}{H} \\sum^{t+H}_{\\tau=t+1} \n",
    "\\Big( (1-q)\\,( \\hat{y}^{(q)}_{\\tau} - y_{\\tau} )_{+} \n",
    "+ q\\,( y_{\\tau} - \\hat{y}^{(q)}_{\\tau} )_{+} \\Big)\n",
    "$$"
   ]
  },
  {
   "cell_type": "markdown",
   "metadata": {},
   "source": [
    "![](imgs/losses/q_loss.png)"
   ]
  },
  {
   "cell_type": "code",
   "execution_count": null,
   "metadata": {},
   "outputs": [],
   "source": [
    "#| export\n",
    "def quantile_loss(\n",
    "    df: DataFrame,\n",
    "    models: Dict[str, str],\n",
    "    q: float = 0.5,\n",
    "    id_col: str = 'unique_id',\n",
    "    target_col: str = 'y',\n",
    "    agg_by: AGG_BY = NOT_SET,\n",
    ") -> DataFrame:\n",
    "    \"\"\"Quantile Loss (QL)\n",
    "\n",
    "    QL measures the deviation of a quantile forecast.\n",
    "    By weighting the absolute deviation in a non symmetric way, the\n",
    "    loss pays more attention to under or over estimation.    \n",
    "    A common value for q is 0.5 for the deviation from the median.\n",
    "\n",
    "    Parameters\n",
    "    ----------\n",
    "    df : pandas or polars DataFrame\n",
    "        Input dataframe with id, times, actuals and predictions.\n",
    "    models : dict from str to str\n",
    "        Mapping from model name to the model predictions for the specified quantile.\n",
    "    q : float (default=0.5)\n",
    "        Quantile for the predictions' comparison.\n",
    "    id_col : str (default='unique_id')\n",
    "        Column that identifies each serie.\n",
    "    target_col : str (default='y')\n",
    "        Column that contains the target.\n",
    "\n",
    "    Returns\n",
    "    -------\n",
    "    pandas or polars Dataframe\n",
    "        dataframe with one row per id and one column per model.\n",
    "    \"\"\"\n",
    "    model_names = list(models.keys())\n",
    "    model_preds = list(models.values())\n",
    "    df = ufp.copy_if_pandas(df, deep=False)\n",
    "    if isinstance(df, pd.DataFrame):\n",
    "        df[model_preds] = -df[model_preds].sub(df[target_col], axis=0)\n",
    "        df[model_names] = np.maximum(q * df[model_preds], (q - 1) * df[model_preds])\n",
    "    else:\n",
    "        def gen_expr(model_name, pred_col):\n",
    "            delta_y = pl.col(target_col).sub(pl.col(pred_col))\n",
    "            try:\n",
    "                col_max = pl.max_horizontal([q * delta_y, (q - 1) * delta_y])\n",
    "            except AttributeError:\n",
    "                col_max = pl.max([q * delta_y, (q - 1) * delta_y])\n",
    "            return col_max.alias(model_name)\n",
    "\n",
    "        df = df.with_columns(*[gen_expr(name, pred) for name, pred in models.items()])\n",
    "    return _aggregate(df, model_names, id_col, agg_by)"
   ]
  },
  {
   "cell_type": "code",
   "execution_count": null,
   "metadata": {},
   "outputs": [
    {
     "data": {
      "text/markdown": [
       "---\n",
       "\n",
       "[source](https://github.com/Nixtla/utilsforecast/blob/main/utilsforecast/losses.py#L379){target=\"_blank\" style=\"float:right; font-size:smaller\"}\n",
       "\n",
       "#### quantile_loss\n",
       "\n",
       ">      quantile_loss\n",
       ">                     (df:Union[pandas.core.frame.DataFrame,polars.dataframe.fra\n",
       ">                     me.DataFrame], models:Dict[str,str], q:float=0.5,\n",
       ">                     id_col:str='unique_id', target_col:str='y', agg_by:Union[s\n",
       ">                     tr,List[str],List[Optional[List[str]]],__main__.NotSet,Non\n",
       ">                     eType]=<__main__.NotSet object>)\n",
       "\n",
       "*Quantile Loss (QL)\n",
       "\n",
       "QL measures the deviation of a quantile forecast.\n",
       "By weighting the absolute deviation in a non symmetric way, the\n",
       "loss pays more attention to under or over estimation.    \n",
       "A common value for q is 0.5 for the deviation from the median.*\n",
       "\n",
       "|    | **Type** | **Default** | **Details** |\n",
       "| -- | -------- | ----------- | ----------- |\n",
       "| df | Union |  | Input dataframe with id, times, actuals and predictions. |\n",
       "| models | Dict |  | Mapping from model name to the model predictions for the specified quantile. |\n",
       "| q | float | 0.5 | Quantile for the predictions' comparison. |\n",
       "| id_col | str | unique_id | Column that identifies each serie. |\n",
       "| target_col | str | y | Column that contains the target. |\n",
       "| agg_by | Union | <__main__.NotSet object> |  |\n",
       "| **Returns** | **Union** |  | **dataframe with one row per id and one column per model.** |"
      ],
      "text/plain": [
       "---\n",
       "\n",
       "[source](https://github.com/Nixtla/utilsforecast/blob/main/utilsforecast/losses.py#L379){target=\"_blank\" style=\"float:right; font-size:smaller\"}\n",
       "\n",
       "#### quantile_loss\n",
       "\n",
       ">      quantile_loss\n",
       ">                     (df:Union[pandas.core.frame.DataFrame,polars.dataframe.fra\n",
       ">                     me.DataFrame], models:Dict[str,str], q:float=0.5,\n",
       ">                     id_col:str='unique_id', target_col:str='y', agg_by:Union[s\n",
       ">                     tr,List[str],List[Optional[List[str]]],__main__.NotSet,Non\n",
       ">                     eType]=<__main__.NotSet object>)\n",
       "\n",
       "*Quantile Loss (QL)\n",
       "\n",
       "QL measures the deviation of a quantile forecast.\n",
       "By weighting the absolute deviation in a non symmetric way, the\n",
       "loss pays more attention to under or over estimation.    \n",
       "A common value for q is 0.5 for the deviation from the median.*\n",
       "\n",
       "|    | **Type** | **Default** | **Details** |\n",
       "| -- | -------- | ----------- | ----------- |\n",
       "| df | Union |  | Input dataframe with id, times, actuals and predictions. |\n",
       "| models | Dict |  | Mapping from model name to the model predictions for the specified quantile. |\n",
       "| q | float | 0.5 | Quantile for the predictions' comparison. |\n",
       "| id_col | str | unique_id | Column that identifies each serie. |\n",
       "| target_col | str | y | Column that contains the target. |\n",
       "| agg_by | Union | <__main__.NotSet object> |  |\n",
       "| **Returns** | **Union** |  | **dataframe with one row per id and one column per model.** |"
      ]
     },
     "execution_count": null,
     "metadata": {},
     "output_type": "execute_result"
    }
   ],
   "source": [
    "show_doc(quantile_loss, title_level=4)"
   ]
  },
  {
   "cell_type": "code",
   "execution_count": null,
   "metadata": {},
   "outputs": [],
   "source": [
    "#| hide\n",
    "df = pd.DataFrame({\n",
    "    \"unique_id\": [0, 1, 2],\n",
    "    \"y\": [1.0, 2.0, 3.0],\n",
    "    \"overestimation\": [2.0, 3.0, 4.0], # y + 1.\n",
    "    \"underestimation\": [0.0, 1.0, 2.0], # y - 1.\n",
    "})\n",
    "df[\"unique_id\"] = df[\"unique_id\"].astype(\"category\")\n",
    "df = pd.concat([df, df.assign(unique_id=2)]).reset_index(drop=True)\n",
    "\n",
    "ql_models_test = [\"overestimation\", \"underestimation\"]\n",
    "quantiles = np.array([0.1, 0.9])\n",
    "\n",
    "for q in quantiles:\n",
    "    ql_df = quantile_loss(df, models=dict(zip(ql_models_test, ql_models_test)), q=q)\n",
    "    # for overestimation, delta_y = y - y_hat = -1 so ql = max(-q, -(q-1)) \n",
    "    assert all(max(-q, -(q - 1)) == ql for ql in ql_df[\"overestimation\"])\n",
    "    # for underestimation, delta_y = y - y_hat = 1, so ql = max(q, q-1)\n",
    "    assert all(max(q, q - 1) == ql for ql in ql_df[\"underestimation\"])"
   ]
  },
  {
   "cell_type": "code",
   "execution_count": null,
   "metadata": {},
   "outputs": [],
   "source": [
    "#| hide\n",
    "#| polars\n",
    "q_models = {\n",
    "    0.1: {\n",
    "        'model0': 'model0-lo-80',\n",
    "        'model1': 'model1-lo-80',\n",
    "    },\n",
    "    0.9: {\n",
    "        'model0': 'model0-hi-80',\n",
    "        'model1': 'model1-hi-80',\n",
    "    },\n",
    "}\n",
    "\n",
    "for q in quantiles:\n",
    "    pd_vs_pl(\n",
    "        quantile_loss(series, q_models[q], q=q),\n",
    "        quantile_loss(series_pl, q_models[q], q=q),\n",
    "        models,\n",
    "    )"
   ]
  },
  {
   "cell_type": "markdown",
   "metadata": {},
   "source": [
    "### Multi-Quantile Loss\n",
    "\n",
    "$$\n",
    "\\mathrm{MQL}(\\mathbf{y}_{\\tau},\n",
    "[\\mathbf{\\hat{y}}^{(q_{1})}_{\\tau}, ... ,\\hat{y}^{(q_{n})}_{\\tau}]) = \n",
    "\\frac{1}{n} \\sum_{q_{i}} \\mathrm{QL}(\\mathbf{y}_{\\tau}, \\mathbf{\\hat{y}}^{(q_{i})}_{\\tau})\n",
    "$$"
   ]
  },
  {
   "cell_type": "markdown",
   "metadata": {},
   "source": [
    "![](imgs/losses/mq_loss.png)"
   ]
  },
  {
   "cell_type": "code",
   "execution_count": null,
   "metadata": {},
   "outputs": [],
   "source": [
    "#| export\n",
    "def mqloss(\n",
    "    df: DataFrame,\n",
    "    models: Dict[str, List[str]],\n",
    "    quantiles: np.ndarray,\n",
    "    id_col: str = 'unique_id',\n",
    "    target_col: str = 'y',\n",
    "    agg_by: AGG_BY = NOT_SET,\n",
    ") -> DataFrame:\n",
    "    \"\"\"Multi-Quantile loss (MQL)\n",
    "    \n",
    "    MQL calculates the average multi-quantile Loss for\n",
    "    a given set of quantiles, based on the absolute \n",
    "    difference between predicted quantiles and observed values.\n",
    "\n",
    "    The limit behavior of MQL allows to measure the accuracy \n",
    "    of a full predictive distribution $\\mathbf{\\hat{F}}_{\\\\tau}$ with \n",
    "    the continuous ranked probability score (CRPS). This can be achieved \n",
    "    through a numerical integration technique, that discretizes the quantiles \n",
    "    and treats the CRPS integral with a left Riemann approximation, averaging over \n",
    "    uniformly distanced quantiles.\n",
    "\n",
    "    Parameters\n",
    "    ----------\n",
    "    df : pandas or polars DataFrame\n",
    "        Input dataframe with id, times, actuals and predictions.\n",
    "    models : dict from str to list of str\n",
    "        Mapping from model name to the model predictions for each quantile.\n",
    "    quantiles : numpy array\n",
    "        Quantiles to compare against.\n",
    "    id_col : str (default='unique_id')\n",
    "        Column that identifies each serie.\n",
    "    target_col : str (default='y')\n",
    "        Column that contains the target.\n",
    "\n",
    "    Returns\n",
    "    -------\n",
    "    pandas or polars Dataframe\n",
    "        dataframe with one row per id and one column per model.\n",
    "\n",
    "    References\n",
    "    ----------\n",
    "    [1] https://www.jstor.org/stable/2629907\n",
    "    \"\"\"\n",
    "    error = np.empty((df.shape[0], quantiles.size))\n",
    "    df = ufp.copy_if_pandas(df)\n",
    "    for model, predictions in models.items():\n",
    "        for j, q_preds in enumerate(predictions):\n",
    "            error[:, j] = (df[target_col] - df[q_preds]).to_numpy()\n",
    "        loss = np.maximum(error * quantiles, error * (quantiles - 1)).mean(axis=1)\n",
    "        df = ufp.assign_columns(df, model, loss)\n",
    "    return _aggregate(df, list(models.keys()), id_col, agg_by)"
   ]
  },
  {
   "cell_type": "code",
   "execution_count": null,
   "metadata": {},
   "outputs": [
    {
     "data": {
      "text/markdown": [
       "---\n",
       "\n",
       "[source](https://github.com/Nixtla/utilsforecast/blob/main/utilsforecast/losses.py#L441){target=\"_blank\" style=\"float:right; font-size:smaller\"}\n",
       "\n",
       "#### mqloss\n",
       "\n",
       ">      mqloss\n",
       ">              (df:Union[pandas.core.frame.DataFrame,polars.dataframe.frame.Data\n",
       ">              Frame], models:Dict[str,List[str]], quantiles:numpy.ndarray,\n",
       ">              id_col:str='unique_id', target_col:str='y', agg_by:Union[str,List\n",
       ">              [str],List[Optional[List[str]]],__main__.NotSet,NoneType]=<__main\n",
       ">              __.NotSet object at 0x7f0c605e09a0>)\n",
       "\n",
       "*Multi-Quantile loss (MQL)\n",
       "\n",
       "MQL calculates the average multi-quantile Loss for\n",
       "a given set of quantiles, based on the absolute \n",
       "difference between predicted quantiles and observed values.\n",
       "\n",
       "The limit behavior of MQL allows to measure the accuracy \n",
       "of a full predictive distribution $\\mathbf{\\hat{F}}_{\\tau}$ with \n",
       "the continuous ranked probability score (CRPS). This can be achieved \n",
       "through a numerical integration technique, that discretizes the quantiles \n",
       "and treats the CRPS integral with a left Riemann approximation, averaging over \n",
       "uniformly distanced quantiles.*\n",
       "\n",
       "|    | **Type** | **Default** | **Details** |\n",
       "| -- | -------- | ----------- | ----------- |\n",
       "| df | Union |  | Input dataframe with id, times, actuals and predictions. |\n",
       "| models | Dict |  | Mapping from model name to the model predictions for each quantile. |\n",
       "| quantiles | ndarray |  | Quantiles to compare against. |\n",
       "| id_col | str | unique_id | Column that identifies each serie. |\n",
       "| target_col | str | y | Column that contains the target. |\n",
       "| agg_by | Union | <__main__.NotSet object> |  |\n",
       "| **Returns** | **Union** |  | **dataframe with one row per id and one column per model.** |"
      ],
      "text/plain": [
       "---\n",
       "\n",
       "[source](https://github.com/Nixtla/utilsforecast/blob/main/utilsforecast/losses.py#L441){target=\"_blank\" style=\"float:right; font-size:smaller\"}\n",
       "\n",
       "#### mqloss\n",
       "\n",
       ">      mqloss\n",
       ">              (df:Union[pandas.core.frame.DataFrame,polars.dataframe.frame.Data\n",
       ">              Frame], models:Dict[str,List[str]], quantiles:numpy.ndarray,\n",
       ">              id_col:str='unique_id', target_col:str='y', agg_by:Union[str,List\n",
       ">              [str],List[Optional[List[str]]],__main__.NotSet,NoneType]=<__main\n",
       ">              __.NotSet object at 0x7f0c605e09a0>)\n",
       "\n",
       "*Multi-Quantile loss (MQL)\n",
       "\n",
       "MQL calculates the average multi-quantile Loss for\n",
       "a given set of quantiles, based on the absolute \n",
       "difference between predicted quantiles and observed values.\n",
       "\n",
       "The limit behavior of MQL allows to measure the accuracy \n",
       "of a full predictive distribution $\\mathbf{\\hat{F}}_{\\tau}$ with \n",
       "the continuous ranked probability score (CRPS). This can be achieved \n",
       "through a numerical integration technique, that discretizes the quantiles \n",
       "and treats the CRPS integral with a left Riemann approximation, averaging over \n",
       "uniformly distanced quantiles.*\n",
       "\n",
       "|    | **Type** | **Default** | **Details** |\n",
       "| -- | -------- | ----------- | ----------- |\n",
       "| df | Union |  | Input dataframe with id, times, actuals and predictions. |\n",
       "| models | Dict |  | Mapping from model name to the model predictions for each quantile. |\n",
       "| quantiles | ndarray |  | Quantiles to compare against. |\n",
       "| id_col | str | unique_id | Column that identifies each serie. |\n",
       "| target_col | str | y | Column that contains the target. |\n",
       "| agg_by | Union | <__main__.NotSet object> |  |\n",
       "| **Returns** | **Union** |  | **dataframe with one row per id and one column per model.** |"
      ]
     },
     "execution_count": null,
     "metadata": {},
     "output_type": "execute_result"
    }
   ],
   "source": [
    "show_doc(mqloss, title_level=4)"
   ]
  },
  {
   "cell_type": "code",
   "execution_count": null,
   "metadata": {},
   "outputs": [],
   "source": [
    "#| hide\n",
    "#| polars\n",
    "mq_models = {\n",
    "    'model0': ['model0-lo-80', 'model0-hi-80'],\n",
    "    'model1': ['model1-lo-80', 'model1-hi-80'],\n",
    "}\n",
    "\n",
    "expected = pd.concat(\n",
    "    [\n",
    "        quantile_loss(series, models=q_models[q], q=q)\n",
    "        for i, q in enumerate(quantiles)\n",
    "    ]\n",
    ").groupby('unique_id', observed=True, as_index=False).mean()\n",
    "actual = mqloss(\n",
    "    series,\n",
    "    models=mq_models,\n",
    "    quantiles=quantiles,\n",
    ")\n",
    "pd.testing.assert_frame_equal(actual, expected)"
   ]
  },
  {
   "cell_type": "code",
   "execution_count": null,
   "metadata": {},
   "outputs": [],
   "source": [
    "#| polars\n",
    "pd_vs_pl(\n",
    "    mqloss(series, mq_models, quantiles=quantiles),\n",
    "    mqloss(series_pl, mq_models, quantiles=quantiles),\n",
    "    models,\n",
    ")"
   ]
  },
  {
   "cell_type": "code",
   "execution_count": null,
   "metadata": {},
   "outputs": [],
   "source": [
    "#| hide\n",
    "#| polars\n",
    "for series_df in [series, series_pl]:\n",
    "    if isinstance(series_df, pd.DataFrame):\n",
    "        df_test = series_df.assign(unique_id=lambda df: df[\"unique_id\"].astype(str))\n",
    "    else:\n",
    "        df_test = series_df.with_columns(pl.col(\"unique_id\").cast(pl.Utf8))\n",
    "    mql_df = mqloss(\n",
    "        df_test,\n",
    "        mq_models, \n",
    "        quantiles=quantiles,\n",
    "    )\n",
    "    assert mql_df.shape == (series[\"unique_id\"].nunique(), 1 + len(models))\n",
    "    if isinstance(mql_df, pd.DataFrame):\n",
    "        null_vals = mql_df.isna().sum().sum()\n",
    "    else:\n",
    "        null_vals = series_df.select(pl.all().is_null().sum()).sum_horizontal()\n",
    "    assert null_vals.item() == 0"
   ]
  },
  {
   "cell_type": "markdown",
   "metadata": {},
   "source": [
    "### Coverage"
   ]
  },
  {
   "cell_type": "code",
   "execution_count": null,
   "metadata": {},
   "outputs": [],
   "source": [
    "#| export\n",
    "def coverage(\n",
    "    df: DataFrame,\n",
    "    models: List[str],\n",
    "    level: int,\n",
    "    id_col: str = 'unique_id',\n",
    "    target_col: str = 'y',\n",
    "    agg_by: AGG_BY = NOT_SET,\n",
    ") -> DataFrame:\n",
    "    \"\"\"Coverage of y with y_hat_lo and y_hat_hi.\n",
    "\n",
    "    Parameters\n",
    "    ----------\n",
    "    df : pandas or polars DataFrame\n",
    "        Input dataframe with id, times, actuals and predictions.\n",
    "    models : list of str\n",
    "        Columns that identify the models predictions.\n",
    "    level : int\n",
    "        Confidence level used for intervals.\n",
    "    id_col : str (default='unique_id')\n",
    "        Column that identifies each serie.\n",
    "    target_col : str (default='y')\n",
    "        Column that contains the target.\n",
    "\n",
    "    Returns\n",
    "    -------\n",
    "    pandas or polars Dataframe\n",
    "        dataframe with one row per id and one column per model.\n",
    "\n",
    "    References\n",
    "    ----------\n",
    "    [1] https://www.jstor.org/stable/2629907        \n",
    "    \"\"\"\n",
    "    df = ufp.copy_if_pandas(df, deep=False)\n",
    "    if isinstance(df, pd.DataFrame):\n",
    "        for model in models:\n",
    "            df[model] = df[target_col].between(df[f'{model}-lo-{level}'], df[f'{model}-hi-{level}'])\n",
    "    else:\n",
    "        def gen_expr(model):\n",
    "            return pl.col(target_col).is_between(pl.col(f'{model}-lo-{level}'), pl.col(f'{model}-hi-{level}')).alias(model)\n",
    "\n",
    "        df = df.with_columns(*[gen_expr(m) for m in models])\n",
    "    return _aggregate(df, models, id_col, agg_by)"
   ]
  },
  {
   "cell_type": "code",
   "execution_count": null,
   "metadata": {},
   "outputs": [
    {
     "data": {
      "text/markdown": [
       "---\n",
       "\n",
       "[source](https://github.com/Nixtla/utilsforecast/blob/main/utilsforecast/losses.py#L500){target=\"_blank\" style=\"float:right; font-size:smaller\"}\n",
       "\n",
       "#### coverage\n",
       "\n",
       ">      coverage\n",
       ">                (df:Union[pandas.core.frame.DataFrame,polars.dataframe.frame.Da\n",
       ">                taFrame], models:List[str], level:int, id_col:str='unique_id',\n",
       ">                target_col:str='y', agg_by:Union[str,List[str],List[Optional[Li\n",
       ">                st[str]]],__main__.NotSet,NoneType]=<__main__.NotSet object at\n",
       ">                0x7f0c605e09a0>)\n",
       "\n",
       "*Coverage of y with y_hat_lo and y_hat_hi.*\n",
       "\n",
       "|    | **Type** | **Default** | **Details** |\n",
       "| -- | -------- | ----------- | ----------- |\n",
       "| df | Union |  | Input dataframe with id, times, actuals and predictions. |\n",
       "| models | List |  | Columns that identify the models predictions. |\n",
       "| level | int |  | Confidence level used for intervals. |\n",
       "| id_col | str | unique_id | Column that identifies each serie. |\n",
       "| target_col | str | y | Column that contains the target. |\n",
       "| agg_by | Union | <__main__.NotSet object> |  |\n",
       "| **Returns** | **Union** |  | **dataframe with one row per id and one column per model.** |"
      ],
      "text/plain": [
       "---\n",
       "\n",
       "[source](https://github.com/Nixtla/utilsforecast/blob/main/utilsforecast/losses.py#L500){target=\"_blank\" style=\"float:right; font-size:smaller\"}\n",
       "\n",
       "#### coverage\n",
       "\n",
       ">      coverage\n",
       ">                (df:Union[pandas.core.frame.DataFrame,polars.dataframe.frame.Da\n",
       ">                taFrame], models:List[str], level:int, id_col:str='unique_id',\n",
       ">                target_col:str='y', agg_by:Union[str,List[str],List[Optional[Li\n",
       ">                st[str]]],__main__.NotSet,NoneType]=<__main__.NotSet object at\n",
       ">                0x7f0c605e09a0>)\n",
       "\n",
       "*Coverage of y with y_hat_lo and y_hat_hi.*\n",
       "\n",
       "|    | **Type** | **Default** | **Details** |\n",
       "| -- | -------- | ----------- | ----------- |\n",
       "| df | Union |  | Input dataframe with id, times, actuals and predictions. |\n",
       "| models | List |  | Columns that identify the models predictions. |\n",
       "| level | int |  | Confidence level used for intervals. |\n",
       "| id_col | str | unique_id | Column that identifies each serie. |\n",
       "| target_col | str | y | Column that contains the target. |\n",
       "| agg_by | Union | <__main__.NotSet object> |  |\n",
       "| **Returns** | **Union** |  | **dataframe with one row per id and one column per model.** |"
      ]
     },
     "execution_count": null,
     "metadata": {},
     "output_type": "execute_result"
    }
   ],
   "source": [
    "show_doc(coverage, title_level=4)"
   ]
  },
  {
   "cell_type": "code",
   "execution_count": null,
   "metadata": {},
   "outputs": [],
   "source": [
    "#| polars\n",
    "pd_vs_pl(\n",
    "    coverage(series, models, 80),\n",
    "    coverage(series_pl, models, 80),\n",
    "    models,\n",
    ")"
   ]
  },
  {
   "cell_type": "markdown",
   "metadata": {},
   "source": [
    "### Calibration"
   ]
  },
  {
   "cell_type": "code",
   "execution_count": null,
   "metadata": {},
   "outputs": [],
   "source": [
    "#| export\n",
    "def calibration(\n",
    "    df: DataFrame,\n",
    "    models: Dict[str, str],\n",
    "    id_col: str = 'unique_id',\n",
    "    target_col: str = 'y',\n",
    "    agg_by: AGG_BY = NOT_SET,\n",
    ") -> DataFrame:\n",
    "    \"\"\"\n",
    "    Fraction of y that is lower than the model's predictions. \n",
    "    \n",
    "    Parameters\n",
    "    ----------\n",
    "    df : pandas or polars DataFrame\n",
    "        Input dataframe with id, times, actuals and predictions.\n",
    "    models : dict from str to str\n",
    "        Mapping from model name to the model predictions.\n",
    "    id_col : str (default='unique_id')\n",
    "        Column that identifies each serie.\n",
    "    target_col : str (default='y')\n",
    "        Column that contains the target.\n",
    "\n",
    "    Returns\n",
    "    -------\n",
    "    pandas or polars Dataframe\n",
    "        dataframe with one row per id and one column per model.\n",
    "        \n",
    "    References\n",
    "    ----------\n",
    "    [1] https://www.jstor.org/stable/2629907            \n",
    "    \"\"\"\n",
    "    df = ufp.copy_if_pandas(df, deep=False)\n",
    "    if isinstance(df, pd.DataFrame):\n",
    "        for name, preds in models.items():\n",
    "            df[name] = df[target_col].le(df[preds])\n",
    "    else:\n",
    "        def gen_expr(model_name, q_preds):\n",
    "            return pl.col(target_col).le(pl.col(q_preds)).alias(model_name)\n",
    "\n",
    "        df = df.with_columns(*[gen_expr(name, pred) for name, pred in models.items()])\n",
    "    return _aggregate(df, list(models.keys()), id_col, agg_by)    "
   ]
  },
  {
   "cell_type": "code",
   "execution_count": null,
   "metadata": {},
   "outputs": [
    {
     "data": {
      "text/markdown": [
       "---\n",
       "\n",
       "[source](https://github.com/Nixtla/utilsforecast/blob/main/utilsforecast/losses.py#L559){target=\"_blank\" style=\"float:right; font-size:smaller\"}\n",
       "\n",
       "#### calibration\n",
       "\n",
       ">      calibration\n",
       ">                   (df:Union[pandas.core.frame.DataFrame,polars.dataframe.frame\n",
       ">                   .DataFrame], models:Dict[str,str], id_col:str='unique_id',\n",
       ">                   target_col:str='y', agg_by:Union[str,List[str],List[Optional\n",
       ">                   [List[str]]],__main__.NotSet,NoneType]=<__main__.NotSet\n",
       ">                   object at 0x7f0c605e09a0>)\n",
       "\n",
       "*Fraction of y that is lower than the model's predictions.*\n",
       "\n",
       "|    | **Type** | **Default** | **Details** |\n",
       "| -- | -------- | ----------- | ----------- |\n",
       "| df | Union |  | Input dataframe with id, times, actuals and predictions. |\n",
       "| models | Dict |  | Mapping from model name to the model predictions. |\n",
       "| id_col | str | unique_id | Column that identifies each serie. |\n",
       "| target_col | str | y | Column that contains the target. |\n",
       "| agg_by | Union | <__main__.NotSet object> |  |\n",
       "| **Returns** | **Union** |  | **dataframe with one row per id and one column per model.** |"
      ],
      "text/plain": [
       "---\n",
       "\n",
       "[source](https://github.com/Nixtla/utilsforecast/blob/main/utilsforecast/losses.py#L559){target=\"_blank\" style=\"float:right; font-size:smaller\"}\n",
       "\n",
       "#### calibration\n",
       "\n",
       ">      calibration\n",
       ">                   (df:Union[pandas.core.frame.DataFrame,polars.dataframe.frame\n",
       ">                   .DataFrame], models:Dict[str,str], id_col:str='unique_id',\n",
       ">                   target_col:str='y', agg_by:Union[str,List[str],List[Optional\n",
       ">                   [List[str]]],__main__.NotSet,NoneType]=<__main__.NotSet\n",
       ">                   object at 0x7f0c605e09a0>)\n",
       "\n",
       "*Fraction of y that is lower than the model's predictions.*\n",
       "\n",
       "|    | **Type** | **Default** | **Details** |\n",
       "| -- | -------- | ----------- | ----------- |\n",
       "| df | Union |  | Input dataframe with id, times, actuals and predictions. |\n",
       "| models | Dict |  | Mapping from model name to the model predictions. |\n",
       "| id_col | str | unique_id | Column that identifies each serie. |\n",
       "| target_col | str | y | Column that contains the target. |\n",
       "| agg_by | Union | <__main__.NotSet object> |  |\n",
       "| **Returns** | **Union** |  | **dataframe with one row per id and one column per model.** |"
      ]
     },
     "execution_count": null,
     "metadata": {},
     "output_type": "execute_result"
    }
   ],
   "source": [
    "show_doc(calibration, title_level=4)"
   ]
  },
  {
   "cell_type": "code",
   "execution_count": null,
   "metadata": {},
   "outputs": [],
   "source": [
    "#| polars\n",
    "pd_vs_pl(\n",
    "    calibration(series, q_models[0.9]),\n",
    "    calibration(series_pl, q_models[0.9]),\n",
    "    models,\n",
    ")"
   ]
  },
  {
   "cell_type": "markdown",
   "metadata": {},
   "source": [
    "### CRPS\n",
    "\n",
    "$$\n",
    "\\mathrm{sCRPS}(\\hat{F}_{\\tau}, \\mathbf{y}_{\\tau}) = \\frac{2}{N} \\sum_{i}\n",
    "\\int^{1}_{0} \\frac{\\mathrm{QL}(\\hat{F}_{i,\\tau}, y_{i,\\tau})_{q}}{\\sum_{i} | y_{i,\\tau} |} dq\n",
    "$$\n",
    "\n",
    "Where $\\hat{F}_{\\tau}$ is the an estimated multivariate distribution, and $y_{i,\\tau}$ are its realizations. "
   ]
  },
  {
   "cell_type": "code",
   "execution_count": null,
   "metadata": {},
   "outputs": [],
   "source": [
    "#| export\n",
    "def scaled_crps(\n",
    "    df: DataFrame,\n",
    "    models: Dict[str, List[str]],\n",
    "    quantiles: np.ndarray,\n",
    "    id_col: str = 'unique_id',\n",
    "    target_col: str = 'y',\n",
    "    agg_by: AGG_BY = NOT_SET,\n",
    ") -> DataFrame:\n",
    "    \"\"\"Scaled Continues Ranked Probability Score\n",
    "    \n",
    "    Calculates a scaled variation of the CRPS, as proposed by Rangapuram (2021),\n",
    "    to measure the accuracy of predicted quantiles `y_hat` compared to the observation `y`.\n",
    "    This metric averages percentual weighted absolute deviations as \n",
    "    defined by the quantile losses.\n",
    "    \n",
    "    Parameters\n",
    "    ----------\n",
    "    df : pandas or polars DataFrame\n",
    "        Input dataframe with id, times, actuals and predictions.\n",
    "    models : dict from str to list of str\n",
    "        Mapping from model name to the model predictions for each quantile.\n",
    "    quantiles : numpy array\n",
    "        Quantiles to compare against.\n",
    "    id_col : str (default='unique_id')\n",
    "        Column that identifies each serie.\n",
    "    target_col : str (default='y')\n",
    "        Column that contains the target.\n",
    "\n",
    "    Returns\n",
    "    -------\n",
    "    pandas or polars Dataframe\n",
    "        dataframe with one row per id and one column per model.\n",
    "\n",
    "    References\n",
    "    ----------\n",
    "    [1] https://proceedings.mlr.press/v139/rangapuram21a.html        \n",
    "    \"\"\"\n",
    "    eps = np.finfo(float).eps\n",
    "    quantiles = np.asarray(quantiles)\n",
    "    loss = mqloss(df, models, quantiles, id_col, target_col, NOT_SET)\n",
    "    sizes = ufp.counts_by_id(df, id_col)\n",
    "    if isinstance(loss, pd.DataFrame):\n",
    "        loss = loss.set_index(id_col)\n",
    "        sizes = sizes.set_index(id_col)\n",
    "        assert isinstance(df, pd.DataFrame)\n",
    "        norm = df[target_col].abs().groupby(df[id_col], observed=True).sum()\n",
    "        res = 2 * loss.mul(sizes['counts'], axis=0).div(norm + eps, axis=0)\n",
    "    else:\n",
    "        def gen_expr(model):\n",
    "            return (2 * pl.col(model) * pl.col('counts') / (pl.col('norm') + eps)).alias(model)\n",
    "\n",
    "        grouped_df = ufp.group_by(df, id_col)\n",
    "        norm = grouped_df.agg(pl.col(target_col).abs().sum().alias('norm'))\n",
    "        exprs = [gen_expr(m) for m in models.keys()]\n",
    "        res = loss.join(sizes, on=id_col).join(norm, on=id_col)\n",
    "        res = res.select([id_col, *exprs])\n",
    "        res = ufp.group_by(res, id_col, maintain_order=True).mean()\n",
    "    return _aggregate(res, list(models.keys()), id_col, agg_by)"
   ]
  },
  {
   "cell_type": "code",
   "execution_count": null,
   "metadata": {},
   "outputs": [
    {
     "data": {
      "text/markdown": [
       "---\n",
       "\n",
       "[source](https://github.com/Nixtla/utilsforecast/blob/main/utilsforecast/losses.py#L609){target=\"_blank\" style=\"float:right; font-size:smaller\"}\n",
       "\n",
       "#### scaled_crps\n",
       "\n",
       ">      scaled_crps\n",
       ">                   (df:Union[pandas.core.frame.DataFrame,polars.dataframe.frame\n",
       ">                   .DataFrame], models:Dict[str,List[str]],\n",
       ">                   quantiles:numpy.ndarray, id_col:str='unique_id',\n",
       ">                   target_col:str='y', agg_by:Union[str,List[str],List[Optional\n",
       ">                   [List[str]]],__main__.NotSet,NoneType]=<__main__.NotSet\n",
       ">                   object at 0x7f0c605e09a0>)\n",
       "\n",
       "*Scaled Continues Ranked Probability Score\n",
       "\n",
       "Calculates a scaled variation of the CRPS, as proposed by Rangapuram (2021),\n",
       "to measure the accuracy of predicted quantiles `y_hat` compared to the observation `y`.\n",
       "This metric averages percentual weighted absolute deviations as \n",
       "defined by the quantile losses.*\n",
       "\n",
       "|    | **Type** | **Default** | **Details** |\n",
       "| -- | -------- | ----------- | ----------- |\n",
       "| df | Union |  | Input dataframe with id, times, actuals and predictions. |\n",
       "| models | Dict |  | Mapping from model name to the model predictions for each quantile. |\n",
       "| quantiles | ndarray |  | Quantiles to compare against. |\n",
       "| id_col | str | unique_id | Column that identifies each serie. |\n",
       "| target_col | str | y | Column that contains the target. |\n",
       "| agg_by | Union | <__main__.NotSet object> |  |\n",
       "| **Returns** | **Union** |  | **dataframe with one row per id and one column per model.** |"
      ],
      "text/plain": [
       "---\n",
       "\n",
       "[source](https://github.com/Nixtla/utilsforecast/blob/main/utilsforecast/losses.py#L609){target=\"_blank\" style=\"float:right; font-size:smaller\"}\n",
       "\n",
       "#### scaled_crps\n",
       "\n",
       ">      scaled_crps\n",
       ">                   (df:Union[pandas.core.frame.DataFrame,polars.dataframe.frame\n",
       ">                   .DataFrame], models:Dict[str,List[str]],\n",
       ">                   quantiles:numpy.ndarray, id_col:str='unique_id',\n",
       ">                   target_col:str='y', agg_by:Union[str,List[str],List[Optional\n",
       ">                   [List[str]]],__main__.NotSet,NoneType]=<__main__.NotSet\n",
       ">                   object at 0x7f0c605e09a0>)\n",
       "\n",
       "*Scaled Continues Ranked Probability Score\n",
       "\n",
       "Calculates a scaled variation of the CRPS, as proposed by Rangapuram (2021),\n",
       "to measure the accuracy of predicted quantiles `y_hat` compared to the observation `y`.\n",
       "This metric averages percentual weighted absolute deviations as \n",
       "defined by the quantile losses.*\n",
       "\n",
       "|    | **Type** | **Default** | **Details** |\n",
       "| -- | -------- | ----------- | ----------- |\n",
       "| df | Union |  | Input dataframe with id, times, actuals and predictions. |\n",
       "| models | Dict |  | Mapping from model name to the model predictions for each quantile. |\n",
       "| quantiles | ndarray |  | Quantiles to compare against. |\n",
       "| id_col | str | unique_id | Column that identifies each serie. |\n",
       "| target_col | str | y | Column that contains the target. |\n",
       "| agg_by | Union | <__main__.NotSet object> |  |\n",
       "| **Returns** | **Union** |  | **dataframe with one row per id and one column per model.** |"
      ]
     },
     "execution_count": null,
     "metadata": {},
     "output_type": "execute_result"
    }
   ],
   "source": [
    "show_doc(scaled_crps, title_level=4)"
   ]
  },
  {
   "cell_type": "code",
   "execution_count": null,
   "metadata": {},
   "outputs": [],
   "source": [
    "#| polars\n",
    "pd_vs_pl(\n",
    "    scaled_crps(series, mq_models, quantiles),\n",
    "    scaled_crps(series_pl, mq_models, quantiles),\n",
    "    models,\n",
    ")"
   ]
  }
 ],
 "metadata": {
  "kernelspec": {
   "display_name": "python3",
   "language": "python",
   "name": "python3"
  }
 },
 "nbformat": 4,
 "nbformat_minor": 4
}
