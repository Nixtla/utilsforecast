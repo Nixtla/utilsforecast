{
 "cells": [
  {
   "cell_type": "code",
   "execution_count": null,
   "metadata": {},
   "outputs": [],
   "source": [
    "#| default_exp losses"
   ]
  },
  {
   "cell_type": "markdown",
   "metadata": {},
   "source": [
    "# Losses\n",
    "\n",
    "> NumPy loss functions for model evaluation.\n",
    "> "
   ]
  },
  {
   "cell_type": "markdown",
   "metadata": {},
   "source": [
    "> The most important train signal is the forecast error, which is the difference between the observed value $y_{\\tau}$ and the prediction $\\hat{y}_{\\tau}$, at time $y_{\\tau}$:\n",
    "> \n",
    "> $$ e_{\\tau} = y_{\\tau}-\\hat{y}_{\\tau} \\qquad \\qquad \\tau \\in \\{t+1,\\dots,t+H \\} $$\n",
    "> \n",
    "> The train loss summarizes the forecast errors in different evaluation metrics."
   ]
  },
  {
   "cell_type": "code",
   "execution_count": null,
   "metadata": {},
   "outputs": [],
   "source": [
    "#| export\n",
    "from typing import Optional, Union\n",
    "\n",
    "import numpy as np"
   ]
  },
  {
   "cell_type": "code",
   "execution_count": null,
   "metadata": {},
   "outputs": [],
   "source": [
    "#| hide\n",
    "import warnings\n",
    "\n",
    "from nbdev import show_doc"
   ]
  },
  {
   "cell_type": "code",
   "execution_count": null,
   "metadata": {},
   "outputs": [],
   "source": [
    "#| hide\n",
    "warnings.filterwarnings('ignore', message='Unknown section References')"
   ]
  },
  {
   "cell_type": "code",
   "execution_count": null,
   "metadata": {},
   "outputs": [],
   "source": [
    "#| exporti\n",
    "def _divide_no_nan(a: np.ndarray, b: np.ndarray) -> np.ndarray:\n",
    "    \"\"\"Auxiliary funtion to handle divide by 0\"\"\"\n",
    "    out_dtype = np.result_type(np.float32, a.dtype, b.dtype)\n",
    "    return np.divide(a, b, out=np.zeros(a.shape, dtype=out_dtype), where=b!=0)"
   ]
  },
  {
   "cell_type": "code",
   "execution_count": null,
   "metadata": {},
   "outputs": [],
   "source": [
    "#| exporti\n",
    "def _metric_protections(\n",
    "    y: np.ndarray, y_hat: np.ndarray, weights: Optional[np.ndarray] = None\n",
    ") -> None:\n",
    "    if weights is None:\n",
    "        return\n",
    "    if np.sum(weights) <= 0:\n",
    "        raise ValueError('Sum of weights must be positive')\n",
    "    if y.shape != y_hat.shape:\n",
    "        raise ValueError(f'Wrong y_hat dimension. y_hat shape={y_hat.shape}, y shape={y.shape}')\n",
    "    if weights.shape != y.shape:\n",
    "        raise ValueError(f'Wrong weight dimension. weights shape={weights.shape}, y shape={y.shape}')"
   ]
  },
  {
   "cell_type": "markdown",
   "metadata": {},
   "source": [
    "# <span style=\"color:DarkOrange\">1. Scale-dependent Errors </span>"
   ]
  },
  {
   "cell_type": "markdown",
   "metadata": {},
   "source": [
    "## Mean Absolute Error (MAE)\n",
    "> $$ \\mathrm{MAE}(\\mathbf{y}_{\\tau}, \\mathbf{\\hat{y}}_{\\tau}) = \\frac{1}{H} \\sum^{t+H}_{\\tau=t+1} |y_{\\tau} - \\hat{y}_{\\tau}| $$"
   ]
  },
  {
   "cell_type": "markdown",
   "metadata": {},
   "source": [
    "![](imgs/losses/mae_loss.png)"
   ]
  },
  {
   "cell_type": "code",
   "execution_count": null,
   "metadata": {},
   "outputs": [],
   "source": [
    "#| export\n",
    "def mae(\n",
    "    y: np.ndarray,\n",
    "    y_hat: np.ndarray,\n",
    "    weights: Optional[np.ndarray] = None,\n",
    "    axis: Optional[int] = None\n",
    ") -> Union[float, np.ndarray]:\n",
    "    \"\"\"Mean Absolute Error (MAE)\n",
    "\n",
    "    MAE measures the relative prediction\n",
    "    accuracy of a forecasting method by calculating the\n",
    "    deviation of the prediction and the true\n",
    "    value at a given time and averages these devations\n",
    "    over the length of the series.\n",
    "\n",
    "    Parameters\n",
    "    ----------\n",
    "    y : numpy array\n",
    "        Observed values.\n",
    "    y_hat : numpy array\n",
    "        Predicted values.\n",
    "    weights : numpy array, optional (default=None)\n",
    "        Weights for weighted average.\n",
    "    axis : int, optional (default=None)\n",
    "        Axis or axes along which to average a. \n",
    "        The default, axis=None, will average over all of the elements of \n",
    "        the input array. If axis is negative it counts from last to first.\n",
    "\n",
    "    Returns\n",
    "    -------\n",
    "    numpy array or double\n",
    "        MAE along the specified axis.\n",
    "    \"\"\"\n",
    "    _metric_protections(y, y_hat, weights)\n",
    "    \n",
    "    delta_y = np.abs(y - y_hat)\n",
    "    if weights is not None:\n",
    "        mae = np.average(delta_y[~np.isnan(delta_y)], \n",
    "                         weights=weights[~np.isnan(delta_y)],\n",
    "                         axis=axis)\n",
    "    else:\n",
    "        mae = np.nanmean(delta_y, axis=axis)\n",
    "    return mae"
   ]
  },
  {
   "cell_type": "code",
   "execution_count": null,
   "metadata": {},
   "outputs": [
    {
     "data": {
      "text/markdown": [
       "---\n",
       "\n",
       "[source](https://github.com/Nixtla/utilsforecast/blob/main/utilsforecast/losses.py#L36){target=\"_blank\" style=\"float:right; font-size:smaller\"}\n",
       "\n",
       "### mae\n",
       "\n",
       ">      mae (y:numpy.ndarray, y_hat:numpy.ndarray,\n",
       ">           weights:Optional[numpy.ndarray]=None, axis:Optional[int]=None)\n",
       "\n",
       "Mean Absolute Error (MAE)\n",
       "\n",
       "MAE measures the relative prediction\n",
       "accuracy of a forecasting method by calculating the\n",
       "deviation of the prediction and the true\n",
       "value at a given time and averages these devations\n",
       "over the length of the series.\n",
       "\n",
       "|    | **Type** | **Default** | **Details** |\n",
       "| -- | -------- | ----------- | ----------- |\n",
       "| y | ndarray |  | Observed values. |\n",
       "| y_hat | ndarray |  | Predicted values. |\n",
       "| weights | Optional | None | Weights for weighted average. |\n",
       "| axis | Optional | None | Axis or axes along which to average a. <br>The default, axis=None, will average over all of the elements of <br>the input array. If axis is negative it counts from last to first. |\n",
       "| **Returns** | **Union** |  | **MAE along the specified axis.** |"
      ],
      "text/plain": [
       "---\n",
       "\n",
       "[source](https://github.com/Nixtla/utilsforecast/blob/main/utilsforecast/losses.py#L36){target=\"_blank\" style=\"float:right; font-size:smaller\"}\n",
       "\n",
       "### mae\n",
       "\n",
       ">      mae (y:numpy.ndarray, y_hat:numpy.ndarray,\n",
       ">           weights:Optional[numpy.ndarray]=None, axis:Optional[int]=None)\n",
       "\n",
       "Mean Absolute Error (MAE)\n",
       "\n",
       "MAE measures the relative prediction\n",
       "accuracy of a forecasting method by calculating the\n",
       "deviation of the prediction and the true\n",
       "value at a given time and averages these devations\n",
       "over the length of the series.\n",
       "\n",
       "|    | **Type** | **Default** | **Details** |\n",
       "| -- | -------- | ----------- | ----------- |\n",
       "| y | ndarray |  | Observed values. |\n",
       "| y_hat | ndarray |  | Predicted values. |\n",
       "| weights | Optional | None | Weights for weighted average. |\n",
       "| axis | Optional | None | Axis or axes along which to average a. <br>The default, axis=None, will average over all of the elements of <br>the input array. If axis is negative it counts from last to first. |\n",
       "| **Returns** | **Union** |  | **MAE along the specified axis.** |"
      ]
     },
     "execution_count": null,
     "metadata": {},
     "output_type": "execute_result"
    }
   ],
   "source": [
    "show_doc(mae)"
   ]
  },
  {
   "cell_type": "markdown",
   "metadata": {},
   "source": [
    "## Mean Squared Error\n",
    "> $$ \\mathrm{MSE}(\\mathbf{y}_{\\tau}, \\mathbf{\\hat{y}}_{\\tau}) = \\frac{1}{H} \\sum^{t+H}_{\\tau=t+1} (y_{\\tau} - \\hat{y}_{\\tau})^{2} $$"
   ]
  },
  {
   "cell_type": "markdown",
   "metadata": {},
   "source": [
    "![](imgs/losses/mse_loss.png)"
   ]
  },
  {
   "cell_type": "code",
   "execution_count": null,
   "metadata": {},
   "outputs": [],
   "source": [
    "#| export\n",
    "def mse(\n",
    "    y: np.ndarray,\n",
    "    y_hat: np.ndarray, \n",
    "    weights: Optional[np.ndarray] = None,\n",
    "    axis: Optional[int] = None\n",
    ") -> Union[float, np.ndarray]:\n",
    "    \"\"\"Mean Squared Error (MSE)\n",
    "    \n",
    "    MSE measures the relative prediction\n",
    "    accuracy of a forecasting method by calculating the \n",
    "    squared deviation of the prediction and the true\n",
    "    value at a given time, and averages these devations\n",
    "    over the length of the series.\n",
    "    \n",
    "    Parameters\n",
    "    ----------\n",
    "    y : numpy array\n",
    "        Actual test values.\n",
    "    y_hat : numpy array\n",
    "        Predicted values.\n",
    "    weights : numpy array, optional (default=None)\n",
    "        Weights for weighted average.\n",
    "    axis : int, optional (default=None)\n",
    "        Axis or axes along which to average a. \n",
    "        The default, axis=None, will average over all of the \n",
    "        elements of the input array. If axis is negative it counts \n",
    "        from the last to the first axis.\n",
    "\n",
    "    Returns\n",
    "    -------\n",
    "    numpy array or double\n",
    "        MSE along the specified axis.\n",
    "    \"\"\"\n",
    "    _metric_protections(y, y_hat, weights)\n",
    "\n",
    "    delta_y = np.square(y - y_hat)\n",
    "    if weights is not None:\n",
    "        mse = np.average(delta_y[~np.isnan(delta_y)], \n",
    "                         weights=weights[~np.isnan(delta_y)], \n",
    "                         axis=axis)\n",
    "    else:\n",
    "        mse = np.nanmean(delta_y, axis=axis)\n",
    "        \n",
    "    return mse"
   ]
  },
  {
   "cell_type": "code",
   "execution_count": null,
   "metadata": {},
   "outputs": [
    {
     "data": {
      "text/markdown": [
       "---\n",
       "\n",
       "[source](https://github.com/Nixtla/utilsforecast/blob/main/utilsforecast/losses.py#L80){target=\"_blank\" style=\"float:right; font-size:smaller\"}\n",
       "\n",
       "### mse\n",
       "\n",
       ">      mse (y:numpy.ndarray, y_hat:numpy.ndarray,\n",
       ">           weights:Optional[numpy.ndarray]=None, axis:Optional[int]=None)\n",
       "\n",
       "Mean Squared Error (MSE)\n",
       "\n",
       "MSE measures the relative prediction\n",
       "accuracy of a forecasting method by calculating the \n",
       "squared deviation of the prediction and the true\n",
       "value at a given time, and averages these devations\n",
       "over the length of the series.\n",
       "\n",
       "|    | **Type** | **Default** | **Details** |\n",
       "| -- | -------- | ----------- | ----------- |\n",
       "| y | ndarray |  | Actual test values. |\n",
       "| y_hat | ndarray |  | Predicted values. |\n",
       "| weights | Optional | None | Weights for weighted average. |\n",
       "| axis | Optional | None | Axis or axes along which to average a. <br>The default, axis=None, will average over all of the <br>elements of the input array. If axis is negative it counts <br>from the last to the first axis. |\n",
       "| **Returns** | **Union** |  | **MSE along the specified axis.** |"
      ],
      "text/plain": [
       "---\n",
       "\n",
       "[source](https://github.com/Nixtla/utilsforecast/blob/main/utilsforecast/losses.py#L80){target=\"_blank\" style=\"float:right; font-size:smaller\"}\n",
       "\n",
       "### mse\n",
       "\n",
       ">      mse (y:numpy.ndarray, y_hat:numpy.ndarray,\n",
       ">           weights:Optional[numpy.ndarray]=None, axis:Optional[int]=None)\n",
       "\n",
       "Mean Squared Error (MSE)\n",
       "\n",
       "MSE measures the relative prediction\n",
       "accuracy of a forecasting method by calculating the \n",
       "squared deviation of the prediction and the true\n",
       "value at a given time, and averages these devations\n",
       "over the length of the series.\n",
       "\n",
       "|    | **Type** | **Default** | **Details** |\n",
       "| -- | -------- | ----------- | ----------- |\n",
       "| y | ndarray |  | Actual test values. |\n",
       "| y_hat | ndarray |  | Predicted values. |\n",
       "| weights | Optional | None | Weights for weighted average. |\n",
       "| axis | Optional | None | Axis or axes along which to average a. <br>The default, axis=None, will average over all of the <br>elements of the input array. If axis is negative it counts <br>from the last to the first axis. |\n",
       "| **Returns** | **Union** |  | **MSE along the specified axis.** |"
      ]
     },
     "execution_count": null,
     "metadata": {},
     "output_type": "execute_result"
    }
   ],
   "source": [
    "show_doc(mse)"
   ]
  },
  {
   "cell_type": "markdown",
   "metadata": {},
   "source": [
    "## Root Mean Squared Error\n",
    "> $$ \\mathrm{RMSE}(\\mathbf{y}_{\\tau}, \\mathbf{\\hat{y}}_{\\tau}) = \\sqrt{\\frac{1}{H} \\sum^{t+H}_{\\tau=t+1} (y_{\\tau} - \\hat{y}_{\\tau})^{2}} $$"
   ]
  },
  {
   "cell_type": "markdown",
   "metadata": {},
   "source": [
    "![](imgs/losses/rmse_loss.png)"
   ]
  },
  {
   "cell_type": "code",
   "execution_count": null,
   "metadata": {},
   "outputs": [],
   "source": [
    "#| export\n",
    "def rmse(\n",
    "    y: np.ndarray,\n",
    "    y_hat: np.ndarray,\n",
    "    weights: Optional[np.ndarray] = None,\n",
    "    axis: Optional[int] = None\n",
    ") -> Union[float, np.ndarray]:\n",
    "    \"\"\"Root Mean Squared Error (RMSE)\n",
    "    \n",
    "    RMSE measures the relative prediction\n",
    "    accuracy of a forecasting method by calculating the squared deviation\n",
    "    of the prediction and the observed value at a given time and\n",
    "    averages these devations over the length of the series.\n",
    "    Finally the RMSE will be in the same scale\n",
    "    as the original time series so its comparison with other\n",
    "    series is possible only if they share a common scale. \n",
    "    RMSE has a direct connection to the L2 norm.\n",
    "\n",
    "    Parameters\n",
    "    ----------\n",
    "    y : numpy array\n",
    "        Observed values.\n",
    "    y_hat : numpy array\n",
    "        Predicted values.    \n",
    "    weights : numpy array, optional (default=None)\n",
    "        Weights for weighted average.\n",
    "    axis : int, optional (default=None)\n",
    "        Axis or axes along which to average a. \n",
    "        The default, axis=None, will average over all of the elements of \n",
    "        the input array. If axis is negative it counts from the last to first.\n",
    "\n",
    "    Returns\n",
    "    -------\n",
    "    numpy array or double\n",
    "        RMSE along the specified axis.\n",
    "    \"\"\"\n",
    "\n",
    "    return np.sqrt(mse(y, y_hat, weights, axis))"
   ]
  },
  {
   "cell_type": "code",
   "execution_count": null,
   "metadata": {},
   "outputs": [
    {
     "data": {
      "text/markdown": [
       "---\n",
       "\n",
       "[source](https://github.com/Nixtla/utilsforecast/blob/main/utilsforecast/losses.py#L126){target=\"_blank\" style=\"float:right; font-size:smaller\"}\n",
       "\n",
       "### rmse\n",
       "\n",
       ">      rmse (y:numpy.ndarray, y_hat:numpy.ndarray,\n",
       ">            weights:Optional[numpy.ndarray]=None, axis:Optional[int]=None)\n",
       "\n",
       "Root Mean Squared Error (RMSE)\n",
       "\n",
       "RMSE measures the relative prediction\n",
       "accuracy of a forecasting method by calculating the squared deviation\n",
       "of the prediction and the observed value at a given time and\n",
       "averages these devations over the length of the series.\n",
       "Finally the RMSE will be in the same scale\n",
       "as the original time series so its comparison with other\n",
       "series is possible only if they share a common scale. \n",
       "RMSE has a direct connection to the L2 norm.\n",
       "\n",
       "|    | **Type** | **Default** | **Details** |\n",
       "| -- | -------- | ----------- | ----------- |\n",
       "| y | ndarray |  | Observed values. |\n",
       "| y_hat | ndarray |  | Predicted values.     |\n",
       "| weights | Optional | None | Weights for weighted average. |\n",
       "| axis | Optional | None | Axis or axes along which to average a. <br>The default, axis=None, will average over all of the elements of <br>the input array. If axis is negative it counts from the last to first. |\n",
       "| **Returns** | **Union** |  | **RMSE along the specified axis.** |"
      ],
      "text/plain": [
       "---\n",
       "\n",
       "[source](https://github.com/Nixtla/utilsforecast/blob/main/utilsforecast/losses.py#L126){target=\"_blank\" style=\"float:right; font-size:smaller\"}\n",
       "\n",
       "### rmse\n",
       "\n",
       ">      rmse (y:numpy.ndarray, y_hat:numpy.ndarray,\n",
       ">            weights:Optional[numpy.ndarray]=None, axis:Optional[int]=None)\n",
       "\n",
       "Root Mean Squared Error (RMSE)\n",
       "\n",
       "RMSE measures the relative prediction\n",
       "accuracy of a forecasting method by calculating the squared deviation\n",
       "of the prediction and the observed value at a given time and\n",
       "averages these devations over the length of the series.\n",
       "Finally the RMSE will be in the same scale\n",
       "as the original time series so its comparison with other\n",
       "series is possible only if they share a common scale. \n",
       "RMSE has a direct connection to the L2 norm.\n",
       "\n",
       "|    | **Type** | **Default** | **Details** |\n",
       "| -- | -------- | ----------- | ----------- |\n",
       "| y | ndarray |  | Observed values. |\n",
       "| y_hat | ndarray |  | Predicted values.     |\n",
       "| weights | Optional | None | Weights for weighted average. |\n",
       "| axis | Optional | None | Axis or axes along which to average a. <br>The default, axis=None, will average over all of the elements of <br>the input array. If axis is negative it counts from the last to first. |\n",
       "| **Returns** | **Union** |  | **RMSE along the specified axis.** |"
      ]
     },
     "execution_count": null,
     "metadata": {},
     "output_type": "execute_result"
    }
   ],
   "source": [
    "show_doc(rmse)"
   ]
  },
  {
   "cell_type": "markdown",
   "metadata": {},
   "source": [
    "# <span style=\"color:DarkOrange\">2. Percentage Errors </span>"
   ]
  },
  {
   "cell_type": "markdown",
   "metadata": {},
   "source": [
    "## Mean Absolute Percentage Error\n",
    "> $$ \\mathrm{MAPE}(\\mathbf{y}_{\\tau}, \\mathbf{\\hat{y}}_{\\tau}) = \\frac{1}{H} \\sum^{t+H}_{\\tau=t+1} \\frac{|y_{\\tau}-\\hat{y}_{\\tau}|}{|y_{\\tau}|} $$"
   ]
  },
  {
   "cell_type": "markdown",
   "metadata": {},
   "source": [
    "![](imgs/losses/mape_loss.png)"
   ]
  },
  {
   "cell_type": "code",
   "execution_count": null,
   "metadata": {},
   "outputs": [],
   "source": [
    "#| export\n",
    "def mape(\n",
    "    y: np.ndarray,\n",
    "    y_hat: np.ndarray, \n",
    "    weights: Optional[np.ndarray] = None,\n",
    "    axis: Optional[int] = None\n",
    ") -> Union[float, np.ndarray]:\n",
    "    \"\"\"Mean Absolute Percentage Error (MAPE)\n",
    "    \n",
    "    MAPE measures the relative prediction\n",
    "    accuracy of a forecasting method by calculating the percentual deviation\n",
    "    of the prediction and the observed value at a given time and\n",
    "    averages these devations over the length of the series.\n",
    "    The closer to zero an observed value is, the higher penalty MAPE loss\n",
    "    assigns to the corresponding error.\n",
    "    \n",
    "    Parameters\n",
    "    ----------\n",
    "    y : numpy array\n",
    "        Observed values.\n",
    "    y_hat : numpy array\n",
    "        Predicted values.    \n",
    "    weights : numpy array, optional (default=None)\n",
    "        Weights for weighted average.\n",
    "    axis : int, optional (default=None)\n",
    "        Axis or axes along which to average a. \n",
    "        The default, axis=None, will average over all of the elements of \n",
    "        the input array. If axis is negative it counts from the last to first.\n",
    "\n",
    "    Returns\n",
    "    -------\n",
    "    numpy array or double\n",
    "        MAPE along the specified axis.\n",
    "    \"\"\"\n",
    "    _metric_protections(y, y_hat, weights)\n",
    "        \n",
    "    delta_y = np.abs(y - y_hat)\n",
    "    scale = np.abs(y)\n",
    "    mape = _divide_no_nan(delta_y, scale)\n",
    "    mape = np.average(mape, weights=weights, axis=axis)\n",
    "    mape = 100 * mape\n",
    "    \n",
    "    return mape"
   ]
  },
  {
   "cell_type": "code",
   "execution_count": null,
   "metadata": {},
   "outputs": [
    {
     "data": {
      "text/markdown": [
       "---\n",
       "\n",
       "[source](https://github.com/Nixtla/utilsforecast/blob/main/utilsforecast/losses.py#L165){target=\"_blank\" style=\"float:right; font-size:smaller\"}\n",
       "\n",
       "### mape\n",
       "\n",
       ">      mape (y:numpy.ndarray, y_hat:numpy.ndarray,\n",
       ">            weights:Optional[numpy.ndarray]=None, axis:Optional[int]=None)\n",
       "\n",
       "Mean Absolute Percentage Error (MAPE)\n",
       "\n",
       "MAPE measures the relative prediction\n",
       "accuracy of a forecasting method by calculating the percentual deviation\n",
       "of the prediction and the observed value at a given time and\n",
       "averages these devations over the length of the series.\n",
       "The closer to zero an observed value is, the higher penalty MAPE loss\n",
       "assigns to the corresponding error.\n",
       "\n",
       "|    | **Type** | **Default** | **Details** |\n",
       "| -- | -------- | ----------- | ----------- |\n",
       "| y | ndarray |  | Observed values. |\n",
       "| y_hat | ndarray |  | Predicted values.     |\n",
       "| weights | Optional | None | Weights for weighted average. |\n",
       "| axis | Optional | None | Axis or axes along which to average a. <br>The default, axis=None, will average over all of the elements of <br>the input array. If axis is negative it counts from the last to first. |\n",
       "| **Returns** | **Union** |  | **MAPE along the specified axis.** |"
      ],
      "text/plain": [
       "---\n",
       "\n",
       "[source](https://github.com/Nixtla/utilsforecast/blob/main/utilsforecast/losses.py#L165){target=\"_blank\" style=\"float:right; font-size:smaller\"}\n",
       "\n",
       "### mape\n",
       "\n",
       ">      mape (y:numpy.ndarray, y_hat:numpy.ndarray,\n",
       ">            weights:Optional[numpy.ndarray]=None, axis:Optional[int]=None)\n",
       "\n",
       "Mean Absolute Percentage Error (MAPE)\n",
       "\n",
       "MAPE measures the relative prediction\n",
       "accuracy of a forecasting method by calculating the percentual deviation\n",
       "of the prediction and the observed value at a given time and\n",
       "averages these devations over the length of the series.\n",
       "The closer to zero an observed value is, the higher penalty MAPE loss\n",
       "assigns to the corresponding error.\n",
       "\n",
       "|    | **Type** | **Default** | **Details** |\n",
       "| -- | -------- | ----------- | ----------- |\n",
       "| y | ndarray |  | Observed values. |\n",
       "| y_hat | ndarray |  | Predicted values.     |\n",
       "| weights | Optional | None | Weights for weighted average. |\n",
       "| axis | Optional | None | Axis or axes along which to average a. <br>The default, axis=None, will average over all of the elements of <br>the input array. If axis is negative it counts from the last to first. |\n",
       "| **Returns** | **Union** |  | **MAPE along the specified axis.** |"
      ]
     },
     "execution_count": null,
     "metadata": {},
     "output_type": "execute_result"
    }
   ],
   "source": [
    "show_doc(mape)"
   ]
  },
  {
   "cell_type": "markdown",
   "metadata": {},
   "source": [
    "## Symmetric Mean Absolute Percentage Error\n",
    "> $$ \\mathrm{SMAPE}_{2}(\\mathbf{y}_{\\tau}, \\mathbf{\\hat{y}}_{\\tau}) = \\frac{1}{H} \\sum^{t+H}_{\\tau=t+1} \\frac{|y_{\\tau}-\\hat{y}_{\\tau}|}{|y_{\\tau}|+|\\hat{y}_{\\tau}|} $$"
   ]
  },
  {
   "cell_type": "code",
   "execution_count": null,
   "metadata": {},
   "outputs": [],
   "source": [
    "#| export\n",
    "def smape(\n",
    "    y: np.ndarray,\n",
    "    y_hat: np.ndarray,\n",
    "    weights: Optional[np.ndarray] = None,\n",
    "    axis: Optional[int] = None\n",
    ") -> Union[float, np.ndarray]:\n",
    "    \"\"\"Symmetric Mean Absolute Percentage Error (SMAPE)\n",
    "\n",
    "    SMAPE measures the relative prediction\n",
    "    accuracy of a forecasting method by calculating the relative deviation\n",
    "    of the prediction and the observed value scaled by the sum of the\n",
    "    absolute values for the prediction and observed value at a\n",
    "    given time, then averages these devations over the length\n",
    "    of the series. This allows the SMAPE to have bounds between\n",
    "    0% and 200% which is desireble compared to normal MAPE that\n",
    "    may be undetermined when the target is zero.\n",
    "\n",
    "    \n",
    "    Parameters\n",
    "    ----------\n",
    "    y : numpy array\n",
    "        Observed values.\n",
    "    y_hat : numpy array\n",
    "        Predicted values.    \n",
    "    weights : numpy array, optional (default=None)\n",
    "        Weights for weighted average.\n",
    "    axis : None or int, optional (default=None)\n",
    "        Axis or axes along which to average a. \n",
    "        The default, axis=None, will average over all of the elements of \n",
    "        the input array. If axis is negative it counts from the last to first.\n",
    "\n",
    "    Returns\n",
    "    -------\n",
    "    numpy array or double\n",
    "        SMAPE along the specified axis.\n",
    "    \"\"\"\n",
    "    _metric_protections(y, y_hat, weights)\n",
    "        \n",
    "    delta_y = np.abs(y - y_hat)\n",
    "    scale = np.abs(y) + np.abs(y_hat)\n",
    "    smape = _divide_no_nan(delta_y, scale)\n",
    "    smape = 200 * np.average(smape, weights=weights, axis=axis)\n",
    "    \n",
    "    if isinstance(smape, float):\n",
    "        assert smape <= 200, 'SMAPE should be lower than 200'\n",
    "    else:\n",
    "        assert all(smape <= 200), 'SMAPE should be lower than 200'\n",
    "    \n",
    "    return smape"
   ]
  },
  {
   "cell_type": "code",
   "execution_count": null,
   "metadata": {},
   "outputs": [
    {
     "data": {
      "text/markdown": [
       "---\n",
       "\n",
       "[source](https://github.com/Nixtla/utilsforecast/blob/main/utilsforecast/losses.py#L209){target=\"_blank\" style=\"float:right; font-size:smaller\"}\n",
       "\n",
       "### smape\n",
       "\n",
       ">      smape (y:numpy.ndarray, y_hat:numpy.ndarray,\n",
       ">             weights:Optional[numpy.ndarray]=None, axis:Optional[int]=None)\n",
       "\n",
       "Symmetric Mean Absolute Percentage Error (SMAPE)\n",
       "\n",
       "SMAPE measures the relative prediction\n",
       "accuracy of a forecasting method by calculating the relative deviation\n",
       "of the prediction and the observed value scaled by the sum of the\n",
       "absolute values for the prediction and observed value at a\n",
       "given time, then averages these devations over the length\n",
       "of the series. This allows the SMAPE to have bounds between\n",
       "0% and 200% which is desireble compared to normal MAPE that\n",
       "may be undetermined when the target is zero.\n",
       "\n",
       "|    | **Type** | **Default** | **Details** |\n",
       "| -- | -------- | ----------- | ----------- |\n",
       "| y | ndarray |  | Observed values. |\n",
       "| y_hat | ndarray |  | Predicted values.     |\n",
       "| weights | Optional | None | Weights for weighted average. |\n",
       "| axis | Optional | None | Axis or axes along which to average a. <br>The default, axis=None, will average over all of the elements of <br>the input array. If axis is negative it counts from the last to first. |\n",
       "| **Returns** | **Union** |  | **SMAPE along the specified axis.** |"
      ],
      "text/plain": [
       "---\n",
       "\n",
       "[source](https://github.com/Nixtla/utilsforecast/blob/main/utilsforecast/losses.py#L209){target=\"_blank\" style=\"float:right; font-size:smaller\"}\n",
       "\n",
       "### smape\n",
       "\n",
       ">      smape (y:numpy.ndarray, y_hat:numpy.ndarray,\n",
       ">             weights:Optional[numpy.ndarray]=None, axis:Optional[int]=None)\n",
       "\n",
       "Symmetric Mean Absolute Percentage Error (SMAPE)\n",
       "\n",
       "SMAPE measures the relative prediction\n",
       "accuracy of a forecasting method by calculating the relative deviation\n",
       "of the prediction and the observed value scaled by the sum of the\n",
       "absolute values for the prediction and observed value at a\n",
       "given time, then averages these devations over the length\n",
       "of the series. This allows the SMAPE to have bounds between\n",
       "0% and 200% which is desireble compared to normal MAPE that\n",
       "may be undetermined when the target is zero.\n",
       "\n",
       "|    | **Type** | **Default** | **Details** |\n",
       "| -- | -------- | ----------- | ----------- |\n",
       "| y | ndarray |  | Observed values. |\n",
       "| y_hat | ndarray |  | Predicted values.     |\n",
       "| weights | Optional | None | Weights for weighted average. |\n",
       "| axis | Optional | None | Axis or axes along which to average a. <br>The default, axis=None, will average over all of the elements of <br>the input array. If axis is negative it counts from the last to first. |\n",
       "| **Returns** | **Union** |  | **SMAPE along the specified axis.** |"
      ]
     },
     "execution_count": null,
     "metadata": {},
     "output_type": "execute_result"
    }
   ],
   "source": [
    "show_doc(smape)"
   ]
  },
  {
   "cell_type": "markdown",
   "metadata": {},
   "source": [
    "# <span style=\"color:DarkOrange\">3. Scale-independent Errors </span>"
   ]
  },
  {
   "cell_type": "markdown",
   "metadata": {},
   "source": [
    "## Mean Absolute Scaled Error\n",
    "> $$ \\mathrm{MASE}(\\mathbf{y}_{\\tau}, \\mathbf{\\hat{y}}_{\\tau}, \\mathbf{\\hat{y}}^{season}_{\\tau}) = \n",
    "        \\frac{1}{H} \\sum^{t+H}_{\\tau=t+1} \\frac{|y_{\\tau}-\\hat{y}_{\\tau}|}{\\mathrm{MAE}(\\mathbf{y}_{\\tau}, \\mathbf{\\hat{y}}^{season}_{\\tau})} $$"
   ]
  },
  {
   "cell_type": "markdown",
   "metadata": {},
   "source": [
    "![](imgs/losses/mase_loss.png)"
   ]
  },
  {
   "cell_type": "code",
   "execution_count": null,
   "metadata": {},
   "outputs": [],
   "source": [
    "#| export\n",
    "def mase(\n",
    "    y: np.ndarray,\n",
    "    y_hat: np.ndarray,\n",
    "    y_train: np.ndarray,\n",
    "    seasonality: int,\n",
    "    weights: Optional[np.ndarray] = None,\n",
    "    axis: Optional[int] = None\n",
    ") -> Union[float, np.ndarray]:\n",
    "    \"\"\"Mean Absolute Scaled Error (MASE)\n",
    "    \n",
    "    MASE measures the relative prediction\n",
    "    accuracy of a forecasting method by comparinng the mean absolute errors\n",
    "    of the prediction and the observed value against the mean\n",
    "    absolute errors of the seasonal naive model.\n",
    "    The MASE partially composed the Overall Weighted Average (OWA), \n",
    "    used in the M4 Competition.\n",
    "\n",
    "    Parameters\n",
    "    ----------\n",
    "    y : numpy array\n",
    "        Observed values.\n",
    "    y_hat : numpy array\n",
    "        Predicted values.   \n",
    "    y_train : numpy array\n",
    "        Actual insample Seasonal Naive predictions.\n",
    "    seasonality : int\n",
    "        Main frequency of the time series;\n",
    "        Hourly 24, Daily 7, Weekly 52, Monthly 12, Quarterly 4, Yearly 1.\n",
    "    weights : numpy array, optional (default=None)\n",
    "        Weights for weighted average.\n",
    "    axis : int, optional (default=None)\n",
    "        Axis or axes along which to average a. \n",
    "        The default, axis=None, will average over all of the elements of \n",
    "        the input array. If axis is negative it counts from the last to first.\n",
    "\n",
    "    Returns\n",
    "    -------\n",
    "    numpy array or double\n",
    "        MASE along the specified axis.\n",
    "\n",
    "    References\n",
    "    ----------\n",
    "    [1] https://robjhyndman.com/papers/mase.pdf\n",
    "    \"\"\"    \n",
    "    delta_y = np.abs(y - y_hat)\n",
    "    delta_y = np.average(delta_y, weights=weights, axis=axis)\n",
    "    \n",
    "    scale = np.abs(y_train[:-seasonality] - y_train[seasonality:])\n",
    "    scale = np.average(scale, axis=axis)\n",
    "    \n",
    "    mase = delta_y / scale\n",
    "    \n",
    "    return mase"
   ]
  },
  {
   "cell_type": "code",
   "execution_count": null,
   "metadata": {},
   "outputs": [
    {
     "data": {
      "text/markdown": [
       "---\n",
       "\n",
       "[source](https://github.com/Nixtla/utilsforecast/blob/main/utilsforecast/losses.py#L260){target=\"_blank\" style=\"float:right; font-size:smaller\"}\n",
       "\n",
       "### mase\n",
       "\n",
       ">      mase (y:numpy.ndarray, y_hat:numpy.ndarray, y_train:numpy.ndarray,\n",
       ">            seasonality:int, weights:Optional[numpy.ndarray]=None,\n",
       ">            axis:Optional[int]=None)\n",
       "\n",
       "Mean Absolute Scaled Error (MASE)\n",
       "\n",
       "MASE measures the relative prediction\n",
       "accuracy of a forecasting method by comparinng the mean absolute errors\n",
       "of the prediction and the observed value against the mean\n",
       "absolute errors of the seasonal naive model.\n",
       "The MASE partially composed the Overall Weighted Average (OWA), \n",
       "used in the M4 Competition.\n",
       "\n",
       "|    | **Type** | **Default** | **Details** |\n",
       "| -- | -------- | ----------- | ----------- |\n",
       "| y | ndarray |  | Observed values. |\n",
       "| y_hat | ndarray |  | Predicted values.    |\n",
       "| y_train | ndarray |  | Actual insample Seasonal Naive predictions. |\n",
       "| seasonality | int |  | Main frequency of the time series;<br>Hourly 24, Daily 7, Weekly 52, Monthly 12, Quarterly 4, Yearly 1. |\n",
       "| weights | Optional | None | Weights for weighted average. |\n",
       "| axis | Optional | None | Axis or axes along which to average a. <br>The default, axis=None, will average over all of the elements of <br>the input array. If axis is negative it counts from the last to first. |\n",
       "| **Returns** | **Union** |  | **MASE along the specified axis.** |"
      ],
      "text/plain": [
       "---\n",
       "\n",
       "[source](https://github.com/Nixtla/utilsforecast/blob/main/utilsforecast/losses.py#L260){target=\"_blank\" style=\"float:right; font-size:smaller\"}\n",
       "\n",
       "### mase\n",
       "\n",
       ">      mase (y:numpy.ndarray, y_hat:numpy.ndarray, y_train:numpy.ndarray,\n",
       ">            seasonality:int, weights:Optional[numpy.ndarray]=None,\n",
       ">            axis:Optional[int]=None)\n",
       "\n",
       "Mean Absolute Scaled Error (MASE)\n",
       "\n",
       "MASE measures the relative prediction\n",
       "accuracy of a forecasting method by comparinng the mean absolute errors\n",
       "of the prediction and the observed value against the mean\n",
       "absolute errors of the seasonal naive model.\n",
       "The MASE partially composed the Overall Weighted Average (OWA), \n",
       "used in the M4 Competition.\n",
       "\n",
       "|    | **Type** | **Default** | **Details** |\n",
       "| -- | -------- | ----------- | ----------- |\n",
       "| y | ndarray |  | Observed values. |\n",
       "| y_hat | ndarray |  | Predicted values.    |\n",
       "| y_train | ndarray |  | Actual insample Seasonal Naive predictions. |\n",
       "| seasonality | int |  | Main frequency of the time series;<br>Hourly 24, Daily 7, Weekly 52, Monthly 12, Quarterly 4, Yearly 1. |\n",
       "| weights | Optional | None | Weights for weighted average. |\n",
       "| axis | Optional | None | Axis or axes along which to average a. <br>The default, axis=None, will average over all of the elements of <br>the input array. If axis is negative it counts from the last to first. |\n",
       "| **Returns** | **Union** |  | **MASE along the specified axis.** |"
      ]
     },
     "execution_count": null,
     "metadata": {},
     "output_type": "execute_result"
    }
   ],
   "source": [
    "show_doc(mase)"
   ]
  },
  {
   "cell_type": "markdown",
   "metadata": {},
   "source": [
    "## Relative Mean Absolute Error\n",
    "> $$ \\mathrm{RMAE}(\\mathbf{y}_{\\tau}, \\mathbf{\\hat{y}}_{\\tau}, \\mathbf{\\hat{y}}^{base}_{\\tau}) = \\frac{1}{H} \\sum^{t+H}_{\\tau=t+1} \\frac{|y_{\\tau}-\\hat{y}_{\\tau}|}{\\mathrm{MAE}(\\mathbf{y}_{\\tau}, \\mathbf{\\hat{y}}^{base}_{\\tau})} $$"
   ]
  },
  {
   "cell_type": "markdown",
   "metadata": {},
   "source": [
    "![](imgs/losses/rmae_loss.png)"
   ]
  },
  {
   "cell_type": "code",
   "execution_count": null,
   "metadata": {},
   "outputs": [],
   "source": [
    "#| export\n",
    "def rmae(\n",
    "    y: np.ndarray,\n",
    "    y_hat1: np.ndarray,\n",
    "    y_hat2: np.ndarray,\n",
    "    weights: Optional[np.ndarray] = None,\n",
    "    axis: Optional[int] = None\n",
    ") -> Union[float, np.ndarray]:\n",
    "    \"\"\"Relative Mean Absolute Error (RMAE)\n",
    "    \n",
    "    Calculates the RAME between two sets of forecasts (from two different forecasting methods).\n",
    "    A number smaller than one implies that the forecast in the \n",
    "    numerator is better than the forecast in the denominator.\n",
    "    \n",
    "    Parameters\n",
    "    ----------\n",
    "    y : numpy array\n",
    "        Observed values.\n",
    "    y_hat1 : numpy array\n",
    "        Predicted values of first model.\n",
    "    y_hat2 : numpy array\n",
    "        Predicted values of baseline model.\n",
    "    weights : numpy array, optional (default=None)\n",
    "        Weights for weighted average.\n",
    "    axis : int, optional (default=None)\n",
    "        Axis or axes along which to average a.\n",
    "        The default, axis=None, will average over all of the elements of\n",
    "        the input array. If axis is negative it counts from the last to first.\n",
    "\n",
    "    Returns\n",
    "    -------\n",
    "    numpy array or double\n",
    "        RMAE along the specified axis.\n",
    "    \"\"\"\n",
    "    numerator = mae(y=y, y_hat=y_hat1, weights=weights, axis=axis)\n",
    "    denominator = mae(y=y, y_hat=y_hat2, weights=weights, axis=axis)\n",
    "    rmae = numerator / denominator\n",
    "    \n",
    "    return rmae"
   ]
  },
  {
   "cell_type": "code",
   "execution_count": null,
   "metadata": {},
   "outputs": [
    {
     "data": {
      "text/markdown": [
       "---\n",
       "\n",
       "[source](https://github.com/Nixtla/utilsforecast/blob/main/utilsforecast/losses.py#L315){target=\"_blank\" style=\"float:right; font-size:smaller\"}\n",
       "\n",
       "### rmae\n",
       "\n",
       ">      rmae (y:numpy.ndarray, y_hat1:numpy.ndarray, y_hat2:numpy.ndarray,\n",
       ">            weights:Optional[numpy.ndarray]=None, axis:Optional[int]=None)\n",
       "\n",
       "Relative Mean Absolute Error (RMAE)\n",
       "\n",
       "Calculates the RAME between two sets of forecasts (from two different forecasting methods).\n",
       "A number smaller than one implies that the forecast in the \n",
       "numerator is better than the forecast in the denominator.\n",
       "\n",
       "|    | **Type** | **Default** | **Details** |\n",
       "| -- | -------- | ----------- | ----------- |\n",
       "| y | ndarray |  | Observed values. |\n",
       "| y_hat1 | ndarray |  | Predicted values of first model. |\n",
       "| y_hat2 | ndarray |  | Predicted values of baseline model. |\n",
       "| weights | Optional | None | Weights for weighted average. |\n",
       "| axis | Optional | None | Axis or axes along which to average a.<br>The default, axis=None, will average over all of the elements of<br>the input array. If axis is negative it counts from the last to first. |\n",
       "| **Returns** | **Union** |  | **RMAE along the specified axis.** |"
      ],
      "text/plain": [
       "---\n",
       "\n",
       "[source](https://github.com/Nixtla/utilsforecast/blob/main/utilsforecast/losses.py#L315){target=\"_blank\" style=\"float:right; font-size:smaller\"}\n",
       "\n",
       "### rmae\n",
       "\n",
       ">      rmae (y:numpy.ndarray, y_hat1:numpy.ndarray, y_hat2:numpy.ndarray,\n",
       ">            weights:Optional[numpy.ndarray]=None, axis:Optional[int]=None)\n",
       "\n",
       "Relative Mean Absolute Error (RMAE)\n",
       "\n",
       "Calculates the RAME between two sets of forecasts (from two different forecasting methods).\n",
       "A number smaller than one implies that the forecast in the \n",
       "numerator is better than the forecast in the denominator.\n",
       "\n",
       "|    | **Type** | **Default** | **Details** |\n",
       "| -- | -------- | ----------- | ----------- |\n",
       "| y | ndarray |  | Observed values. |\n",
       "| y_hat1 | ndarray |  | Predicted values of first model. |\n",
       "| y_hat2 | ndarray |  | Predicted values of baseline model. |\n",
       "| weights | Optional | None | Weights for weighted average. |\n",
       "| axis | Optional | None | Axis or axes along which to average a.<br>The default, axis=None, will average over all of the elements of<br>the input array. If axis is negative it counts from the last to first. |\n",
       "| **Returns** | **Union** |  | **RMAE along the specified axis.** |"
      ]
     },
     "execution_count": null,
     "metadata": {},
     "output_type": "execute_result"
    }
   ],
   "source": [
    "show_doc(rmae)"
   ]
  },
  {
   "cell_type": "markdown",
   "metadata": {},
   "source": [
    "# <span style=\"color:DarkOrange\">4. Probabilistic Errors </span>"
   ]
  },
  {
   "cell_type": "markdown",
   "metadata": {},
   "source": [
    "## Quantile Loss\n",
    "> $$ \\mathrm{QL}(\\mathbf{y}_{\\tau}, \\mathbf{\\hat{y}}^{(q)}_{\\tau}) = \n",
    "        \\frac{1}{H} \\sum^{t+H}_{\\tau=t+1} \n",
    "        \\Big( (1-q)\\,( \\hat{y}^{(q)}_{\\tau} - y_{\\tau} )_{+} \n",
    "        + q\\,( y_{\\tau} - \\hat{y}^{(q)}_{\\tau} )_{+} \\Big) $$"
   ]
  },
  {
   "cell_type": "markdown",
   "metadata": {},
   "source": [
    "![](imgs/losses/q_loss.png)"
   ]
  },
  {
   "cell_type": "code",
   "execution_count": null,
   "metadata": {},
   "outputs": [],
   "source": [
    "#| export\n",
    "def quantile_loss(\n",
    "    y: np.ndarray,\n",
    "    y_hat: np.ndarray,\n",
    "    q: float = 0.5, \n",
    "    weights: Optional[np.ndarray] = None,\n",
    "    axis: Optional[int] = None\n",
    ") -> Union[float, np.ndarray]:\n",
    "    \"\"\"Quantile Loss (QL)\n",
    "    \n",
    "    QL measures the deviation of a quantile forecast.\n",
    "    By weighting the absolute deviation in a non symmetric way, the\n",
    "    loss pays more attention to under or over estimation.    \n",
    "    A common value for q is 0.5 for the deviation from the median.       \n",
    "            \n",
    "    Parameters\n",
    "    ----------\n",
    "    y : numpy array\n",
    "        Observed values.\n",
    "    y_hat : numpy array\n",
    "        Predicted values.    \n",
    "    q : float (default=0.5)\n",
    "        Quantile for the predictions' comparison.\n",
    "    weights : numpy array, optional (default=None)\n",
    "        Weights for weighted average.\n",
    "    axis : int, optional (default=None)\n",
    "        Axis or axes along which to average a. \n",
    "        The default, axis=None, will average over all of the elements of \n",
    "        the input array. If axis is negative it counts from the last to first.\n",
    "\n",
    "    Returns\n",
    "    -------\n",
    "    numpy array or double\n",
    "        QL along the specified axis.\n",
    "    \"\"\"\n",
    "    _metric_protections(y, y_hat, weights)\n",
    "\n",
    "    delta_y = y - y_hat\n",
    "    loss = np.maximum(q * delta_y, (q - 1) * delta_y)\n",
    "\n",
    "    if weights is not None:\n",
    "        quantile_loss = np.average(loss[~np.isnan(loss)], \n",
    "                             weights=weights[~np.isnan(loss)],\n",
    "                             axis=axis)\n",
    "    else:\n",
    "        quantile_loss = np.nanmean(loss, axis=axis)\n",
    "        \n",
    "    return quantile_loss"
   ]
  },
  {
   "cell_type": "code",
   "execution_count": null,
   "metadata": {},
   "outputs": [
    {
     "data": {
      "text/markdown": [
       "---\n",
       "\n",
       "[source](https://github.com/Nixtla/utilsforecast/blob/main/utilsforecast/losses.py#L355){target=\"_blank\" style=\"float:right; font-size:smaller\"}\n",
       "\n",
       "### quantile_loss\n",
       "\n",
       ">      quantile_loss (y:numpy.ndarray, y_hat:numpy.ndarray, q:float=0.5,\n",
       ">                     weights:Optional[numpy.ndarray]=None,\n",
       ">                     axis:Optional[int]=None)\n",
       "\n",
       "Quantile Loss (QL)\n",
       "\n",
       "QL measures the deviation of a quantile forecast.\n",
       "By weighting the absolute deviation in a non symmetric way, the\n",
       "loss pays more attention to under or over estimation.    \n",
       "A common value for q is 0.5 for the deviation from the median.\n",
       "\n",
       "|    | **Type** | **Default** | **Details** |\n",
       "| -- | -------- | ----------- | ----------- |\n",
       "| y | ndarray |  | Observed values. |\n",
       "| y_hat | ndarray |  | Predicted values.     |\n",
       "| q | float | 0.5 | Quantile for the predictions' comparison. |\n",
       "| weights | Optional | None | Weights for weighted average. |\n",
       "| axis | Optional | None | Axis or axes along which to average a. <br>The default, axis=None, will average over all of the elements of <br>the input array. If axis is negative it counts from the last to first. |\n",
       "| **Returns** | **Union** |  | **QL along the specified axis.** |"
      ],
      "text/plain": [
       "---\n",
       "\n",
       "[source](https://github.com/Nixtla/utilsforecast/blob/main/utilsforecast/losses.py#L355){target=\"_blank\" style=\"float:right; font-size:smaller\"}\n",
       "\n",
       "### quantile_loss\n",
       "\n",
       ">      quantile_loss (y:numpy.ndarray, y_hat:numpy.ndarray, q:float=0.5,\n",
       ">                     weights:Optional[numpy.ndarray]=None,\n",
       ">                     axis:Optional[int]=None)\n",
       "\n",
       "Quantile Loss (QL)\n",
       "\n",
       "QL measures the deviation of a quantile forecast.\n",
       "By weighting the absolute deviation in a non symmetric way, the\n",
       "loss pays more attention to under or over estimation.    \n",
       "A common value for q is 0.5 for the deviation from the median.\n",
       "\n",
       "|    | **Type** | **Default** | **Details** |\n",
       "| -- | -------- | ----------- | ----------- |\n",
       "| y | ndarray |  | Observed values. |\n",
       "| y_hat | ndarray |  | Predicted values.     |\n",
       "| q | float | 0.5 | Quantile for the predictions' comparison. |\n",
       "| weights | Optional | None | Weights for weighted average. |\n",
       "| axis | Optional | None | Axis or axes along which to average a. <br>The default, axis=None, will average over all of the elements of <br>the input array. If axis is negative it counts from the last to first. |\n",
       "| **Returns** | **Union** |  | **QL along the specified axis.** |"
      ]
     },
     "execution_count": null,
     "metadata": {},
     "output_type": "execute_result"
    }
   ],
   "source": [
    "show_doc(quantile_loss)"
   ]
  },
  {
   "cell_type": "markdown",
   "metadata": {},
   "source": [
    "## Multi-Quantile Loss\n",
    "> $$ \\mathrm{MQL}(\\mathbf{y}_{\\tau},\n",
    "                    [\\mathbf{\\hat{y}}^{(q_{1})}_{\\tau}, ... ,\\hat{y}^{(q_{n})}_{\\tau}]) = \n",
    "       \\frac{1}{n} \\sum_{q_{i}} \\mathrm{QL}(\\mathbf{y}_{\\tau}, \\mathbf{\\hat{y}}^{(q_{i})}_{\\tau}) $$"
   ]
  },
  {
   "cell_type": "markdown",
   "metadata": {},
   "source": [
    "![](imgs/losses/mq_loss.png)"
   ]
  },
  {
   "cell_type": "code",
   "execution_count": null,
   "metadata": {},
   "outputs": [],
   "source": [
    "#| export\n",
    "def mqloss(\n",
    "    y: np.ndarray,\n",
    "    y_hat: np.ndarray, \n",
    "    quantiles: np.ndarray, \n",
    "    weights: Optional[np.ndarray] = None,\n",
    "    axis: Optional[int] = None\n",
    ") -> Union[float, np.ndarray]:\n",
    "    \"\"\" Multi-Quantile loss (MQL)\n",
    "    \n",
    "    MQL calculates the average multi-quantile Loss for\n",
    "    a given set of quantiles, based on the absolute \n",
    "    difference between predicted quantiles and observed values.\n",
    "\n",
    "    The limit behavior of MQL allows to measure the accuracy \n",
    "    of a full predictive distribution $\\mathbf{\\hat{F}}_{\\\\tau}$ with \n",
    "    the continuous ranked probability score (CRPS). This can be achieved \n",
    "    through a numerical integration technique, that discretizes the quantiles \n",
    "    and treats the CRPS integral with a left Riemann approximation, averaging over \n",
    "    uniformly distanced quantiles.    \n",
    "\n",
    "    Parameters\n",
    "    ----------\n",
    "    y : numpy array\n",
    "        Observed values.\n",
    "    y_hat : numpy array\n",
    "        Predicted values.    \n",
    "    quantiles : numpy array\n",
    "        Quantiles to compare against.\n",
    "    weights : numpy array, optional (default=None)\n",
    "        Weights for weighted average.\n",
    "    axis : int, optional (default=None)\n",
    "        Axis or axes along which to average a. \n",
    "        The default, axis=None, will average over all of the elements of \n",
    "        the input array. If axis is negative it counts from the last to first.\n",
    "\n",
    "    Returns\n",
    "    -------\n",
    "    numpy array or double\n",
    "        MQL along the specified axis.\n",
    "\n",
    "    References\n",
    "    ----------\n",
    "    [1] https://www.jstor.org/stable/2629907\n",
    "    \"\"\" \n",
    "    if weights is None: weights = np.ones(y.shape)\n",
    "        \n",
    "    _metric_protections(y, y_hat, weights)\n",
    "    n_q = len(quantiles)\n",
    "    \n",
    "    y_rep  = np.expand_dims(y, axis=-1)\n",
    "    error  = y_rep - y_hat\n",
    "    mqloss = np.maximum(quantiles * error, (quantiles - 1) * error)\n",
    "    \n",
    "    # Match y/weights dimensions and compute weighted average\n",
    "    weights = np.repeat(np.expand_dims(weights, axis=-1), repeats=n_q, axis=-1)\n",
    "    mqloss  = np.average(mqloss, weights=weights, axis=axis)\n",
    "\n",
    "    return mqloss"
   ]
  },
  {
   "cell_type": "code",
   "execution_count": null,
   "metadata": {},
   "outputs": [
    {
     "data": {
      "text/markdown": [
       "---\n",
       "\n",
       "[source](https://github.com/Nixtla/utilsforecast/blob/main/utilsforecast/losses.py#L404){target=\"_blank\" style=\"float:right; font-size:smaller\"}\n",
       "\n",
       "### mqloss\n",
       "\n",
       ">      mqloss (y:numpy.ndarray, y_hat:numpy.ndarray, quantiles:numpy.ndarray,\n",
       ">              weights:Optional[numpy.ndarray]=None, axis:Optional[int]=None)\n",
       "\n",
       "Multi-Quantile loss (MQL)\n",
       "\n",
       "MQL calculates the average multi-quantile Loss for\n",
       "a given set of quantiles, based on the absolute \n",
       "difference between predicted quantiles and observed values.\n",
       "\n",
       "The limit behavior of MQL allows to measure the accuracy \n",
       "of a full predictive distribution $\\mathbf{\\hat{F}}_{\\tau}$ with \n",
       "the continuous ranked probability score (CRPS). This can be achieved \n",
       "through a numerical integration technique, that discretizes the quantiles \n",
       "and treats the CRPS integral with a left Riemann approximation, averaging over \n",
       "uniformly distanced quantiles.\n",
       "\n",
       "|    | **Type** | **Default** | **Details** |\n",
       "| -- | -------- | ----------- | ----------- |\n",
       "| y | ndarray |  | Observed values. |\n",
       "| y_hat | ndarray |  | Predicted values.     |\n",
       "| quantiles | ndarray |  | Quantiles to compare against. |\n",
       "| weights | Optional | None | Weights for weighted average. |\n",
       "| axis | Optional | None | Axis or axes along which to average a. <br>The default, axis=None, will average over all of the elements of <br>the input array. If axis is negative it counts from the last to first. |\n",
       "| **Returns** | **Union** |  | **MQL along the specified axis.** |"
      ],
      "text/plain": [
       "---\n",
       "\n",
       "[source](https://github.com/Nixtla/utilsforecast/blob/main/utilsforecast/losses.py#L404){target=\"_blank\" style=\"float:right; font-size:smaller\"}\n",
       "\n",
       "### mqloss\n",
       "\n",
       ">      mqloss (y:numpy.ndarray, y_hat:numpy.ndarray, quantiles:numpy.ndarray,\n",
       ">              weights:Optional[numpy.ndarray]=None, axis:Optional[int]=None)\n",
       "\n",
       "Multi-Quantile loss (MQL)\n",
       "\n",
       "MQL calculates the average multi-quantile Loss for\n",
       "a given set of quantiles, based on the absolute \n",
       "difference between predicted quantiles and observed values.\n",
       "\n",
       "The limit behavior of MQL allows to measure the accuracy \n",
       "of a full predictive distribution $\\mathbf{\\hat{F}}_{\\tau}$ with \n",
       "the continuous ranked probability score (CRPS). This can be achieved \n",
       "through a numerical integration technique, that discretizes the quantiles \n",
       "and treats the CRPS integral with a left Riemann approximation, averaging over \n",
       "uniformly distanced quantiles.\n",
       "\n",
       "|    | **Type** | **Default** | **Details** |\n",
       "| -- | -------- | ----------- | ----------- |\n",
       "| y | ndarray |  | Observed values. |\n",
       "| y_hat | ndarray |  | Predicted values.     |\n",
       "| quantiles | ndarray |  | Quantiles to compare against. |\n",
       "| weights | Optional | None | Weights for weighted average. |\n",
       "| axis | Optional | None | Axis or axes along which to average a. <br>The default, axis=None, will average over all of the elements of <br>the input array. If axis is negative it counts from the last to first. |\n",
       "| **Returns** | **Union** |  | **MQL along the specified axis.** |"
      ]
     },
     "execution_count": null,
     "metadata": {},
     "output_type": "execute_result"
    }
   ],
   "source": [
    "show_doc(mqloss)"
   ]
  },
  {
   "cell_type": "markdown",
   "metadata": {},
   "source": [
    "## Coverage"
   ]
  },
  {
   "cell_type": "code",
   "execution_count": null,
   "metadata": {},
   "outputs": [],
   "source": [
    "#| export\n",
    "def coverage(\n",
    "    y: np.ndarray,\n",
    "    y_hat_lo: np.ndarray,\n",
    "    y_hat_hi: np.ndarray, \n",
    ") -> Union[float, np.ndarray]:\n",
    "    \"\"\"\n",
    "    Coverage of y with y_hat_lo and y_hat_hi. \n",
    "    \n",
    "    Parameters\n",
    "    ----------\n",
    "    y : numpy array\n",
    "        Observed values.\n",
    "    y_hat_lo : numpy array\n",
    "        Lower prediction interval.\n",
    "    y_hat_hi : numpy array\n",
    "        Higher prediction interval.\n",
    "\n",
    "    Returns\n",
    "    -------\n",
    "    numpy array or double\n",
    "        Coverage of y_hat\n",
    "\n",
    "    References\n",
    "    ----------\n",
    "    [1] https://www.jstor.org/stable/2629907            \n",
    "    \"\"\" \n",
    "    return 100 * np.logical_and(y>=y_hat_lo, y<=y_hat_hi).mean()"
   ]
  },
  {
   "cell_type": "code",
   "execution_count": null,
   "metadata": {},
   "outputs": [
    {
     "data": {
      "text/markdown": [
       "---\n",
       "\n",
       "[source](https://github.com/Nixtla/utilsforecast/blob/main/utilsforecast/losses.py#L465){target=\"_blank\" style=\"float:right; font-size:smaller\"}\n",
       "\n",
       "### coverage\n",
       "\n",
       ">      coverage (y:numpy.ndarray, y_hat_lo:numpy.ndarray,\n",
       ">                y_hat_hi:numpy.ndarray)\n",
       "\n",
       "Coverage of y with y_hat_lo and y_hat_hi.\n",
       "\n",
       "|    | **Type** | **Details** |\n",
       "| -- | -------- | ----------- |\n",
       "| y | ndarray | Observed values. |\n",
       "| y_hat_lo | ndarray | Lower prediction interval. |\n",
       "| y_hat_hi | ndarray | Higher prediction interval. |\n",
       "| **Returns** | **Union** | **Coverage of y_hat** |"
      ],
      "text/plain": [
       "---\n",
       "\n",
       "[source](https://github.com/Nixtla/utilsforecast/blob/main/utilsforecast/losses.py#L465){target=\"_blank\" style=\"float:right; font-size:smaller\"}\n",
       "\n",
       "### coverage\n",
       "\n",
       ">      coverage (y:numpy.ndarray, y_hat_lo:numpy.ndarray,\n",
       ">                y_hat_hi:numpy.ndarray)\n",
       "\n",
       "Coverage of y with y_hat_lo and y_hat_hi.\n",
       "\n",
       "|    | **Type** | **Details** |\n",
       "| -- | -------- | ----------- |\n",
       "| y | ndarray | Observed values. |\n",
       "| y_hat_lo | ndarray | Lower prediction interval. |\n",
       "| y_hat_hi | ndarray | Higher prediction interval. |\n",
       "| **Returns** | **Union** | **Coverage of y_hat** |"
      ]
     },
     "execution_count": null,
     "metadata": {},
     "output_type": "execute_result"
    }
   ],
   "source": [
    "show_doc(coverage)"
   ]
  },
  {
   "cell_type": "markdown",
   "metadata": {},
   "source": [
    "## Calibration"
   ]
  },
  {
   "cell_type": "code",
   "execution_count": null,
   "metadata": {},
   "outputs": [],
   "source": [
    "#| export\n",
    "def calibration(\n",
    "    y: np.ndarray,\n",
    "    y_hat_hi: np.ndarray, \n",
    ") -> Union[float, np.ndarray]:\n",
    "    \"\"\"\n",
    "    Fraction of y that is lower than y_hat_hi. \n",
    "    \n",
    "    Parameters\n",
    "    ----------\n",
    "    y : numpy array\n",
    "        Observed values.\n",
    "    y_hat_hi : numpy array\n",
    "        Higher prediction interval.\n",
    "\n",
    "    Returns\n",
    "    -------\n",
    "    numpy array or double\n",
    "        Calibration of y_hat\n",
    "        \n",
    "    References\n",
    "    ----------\n",
    "    [1] https://www.jstor.org/stable/2629907            \n",
    "    \"\"\" \n",
    "    return (y<=y_hat_hi).mean()"
   ]
  },
  {
   "cell_type": "code",
   "execution_count": null,
   "metadata": {},
   "outputs": [
    {
     "data": {
      "text/markdown": [
       "---\n",
       "\n",
       "[source](https://github.com/Nixtla/utilsforecast/blob/main/utilsforecast/losses.py#L494){target=\"_blank\" style=\"float:right; font-size:smaller\"}\n",
       "\n",
       "### calibration\n",
       "\n",
       ">      calibration (y:numpy.ndarray, y_hat_hi:numpy.ndarray)\n",
       "\n",
       "Fraction of y that is lower than y_hat_hi.\n",
       "\n",
       "|    | **Type** | **Details** |\n",
       "| -- | -------- | ----------- |\n",
       "| y | ndarray | Observed values. |\n",
       "| y_hat_hi | ndarray | Higher prediction interval. |\n",
       "| **Returns** | **Union** | **Calibration of y_hat** |"
      ],
      "text/plain": [
       "---\n",
       "\n",
       "[source](https://github.com/Nixtla/utilsforecast/blob/main/utilsforecast/losses.py#L494){target=\"_blank\" style=\"float:right; font-size:smaller\"}\n",
       "\n",
       "### calibration\n",
       "\n",
       ">      calibration (y:numpy.ndarray, y_hat_hi:numpy.ndarray)\n",
       "\n",
       "Fraction of y that is lower than y_hat_hi.\n",
       "\n",
       "|    | **Type** | **Details** |\n",
       "| -- | -------- | ----------- |\n",
       "| y | ndarray | Observed values. |\n",
       "| y_hat_hi | ndarray | Higher prediction interval. |\n",
       "| **Returns** | **Union** | **Calibration of y_hat** |"
      ]
     },
     "execution_count": null,
     "metadata": {},
     "output_type": "execute_result"
    }
   ],
   "source": [
    "show_doc(calibration)"
   ]
  },
  {
   "cell_type": "markdown",
   "metadata": {},
   "source": [
    "## CRPS\n",
    "> $$ \\mathrm{sCRPS}(\\hat{F}_{\\tau}, \\mathbf{y}_{\\tau}) = \\frac{2}{N} \\sum_{i}\n",
    "    \\int^{1}_{0}\n",
    "    \\frac{\\mathrm{QL}(\\hat{F}_{i,\\tau}, y_{i,\\tau})_{q}}{\\sum_{i} | y_{i,\\tau} |} dq $$\n",
    ">\n",
    "> Where $\\hat{F}_{\\tau}$ is the an estimated multivariate distribution, and $y_{i,\\tau}$\n",
    "    are its realizations. "
   ]
  },
  {
   "cell_type": "code",
   "execution_count": null,
   "metadata": {},
   "outputs": [],
   "source": [
    "#| export\n",
    "def scaled_crps(\n",
    "    y: np.ndarray,\n",
    "    y_hat: np.ndarray, \n",
    "    quantiles: np.ndarray, \n",
    "    weights: Optional[np.ndarray] = None,\n",
    "    axis: Optional[int] = None\n",
    ") -> Union[float, np.ndarray]:\n",
    "    \"\"\"Scaled Continues Ranked Probability Score\n",
    "    \n",
    "    Calculates a scaled variation of the CRPS, as proposed by Rangapuram (2021),\n",
    "    to measure the accuracy of predicted quantiles `y_hat` compared to the observation `y`.\n",
    "    This metric averages percentual weighted absolute deviations as \n",
    "    defined by the quantile losses.\n",
    "\n",
    "\n",
    "    Parameters\n",
    "    ----------\n",
    "    y : numpy array\n",
    "        Observed values.\n",
    "    y_hat : numpy array\n",
    "        Predicted values.    \n",
    "    quantiles : numpy array\n",
    "        Quantiles to compare against.\n",
    "    weights : numpy array, optional (default=None)\n",
    "        Weights for weighted average.\n",
    "    axis : int, optional (default=None)\n",
    "        Axis or axes along which to average a. \n",
    "        The default, axis=None, will average over all of the elements of \n",
    "        the input array. If axis is negative it counts from the last to first.\n",
    "\n",
    "    Returns\n",
    "    -------\n",
    "    numpy array or double.\n",
    "        Scaled crps along the specified axis.\n",
    "\n",
    "    References\n",
    "    ----------\n",
    "    [1] https://proceedings.mlr.press/v139/rangapuram21a.html      \n",
    "    \"\"\" \n",
    "    eps = np.finfo(float).eps\n",
    "    norm  = np.sum(np.abs(y))\n",
    "    loss  = mqloss(y=y, y_hat=y_hat, quantiles=quantiles, weights=weights, axis=axis)\n",
    "    loss  = 2 * loss * np.sum(np.ones(y.shape)) / (norm + eps)\n",
    "    return loss"
   ]
  },
  {
   "cell_type": "code",
   "execution_count": null,
   "metadata": {},
   "outputs": [
    {
     "data": {
      "text/markdown": [
       "---\n",
       "\n",
       "[source](https://github.com/Nixtla/utilsforecast/blob/main/utilsforecast/losses.py#L520){target=\"_blank\" style=\"float:right; font-size:smaller\"}\n",
       "\n",
       "### scaled_crps\n",
       "\n",
       ">      scaled_crps (y:numpy.ndarray, y_hat:numpy.ndarray,\n",
       ">                   quantiles:numpy.ndarray,\n",
       ">                   weights:Optional[numpy.ndarray]=None,\n",
       ">                   axis:Optional[int]=None)\n",
       "\n",
       "Scaled Continues Ranked Probability Score\n",
       "\n",
       "Calculates a scaled variation of the CRPS, as proposed by Rangapuram (2021),\n",
       "to measure the accuracy of predicted quantiles `y_hat` compared to the observation `y`.\n",
       "This metric averages percentual weighted absolute deviations as \n",
       "defined by the quantile losses.\n",
       "\n",
       "|    | **Type** | **Default** | **Details** |\n",
       "| -- | -------- | ----------- | ----------- |\n",
       "| y | ndarray |  | Observed values. |\n",
       "| y_hat | ndarray |  | Predicted values.     |\n",
       "| quantiles | ndarray |  | Quantiles to compare against. |\n",
       "| weights | Optional | None | Weights for weighted average. |\n",
       "| axis | Optional | None | Axis or axes along which to average a. <br>The default, axis=None, will average over all of the elements of <br>the input array. If axis is negative it counts from the last to first. |\n",
       "| **Returns** | **Union** |  | **Scaled crps along the specified axis.** |"
      ],
      "text/plain": [
       "---\n",
       "\n",
       "[source](https://github.com/Nixtla/utilsforecast/blob/main/utilsforecast/losses.py#L520){target=\"_blank\" style=\"float:right; font-size:smaller\"}\n",
       "\n",
       "### scaled_crps\n",
       "\n",
       ">      scaled_crps (y:numpy.ndarray, y_hat:numpy.ndarray,\n",
       ">                   quantiles:numpy.ndarray,\n",
       ">                   weights:Optional[numpy.ndarray]=None,\n",
       ">                   axis:Optional[int]=None)\n",
       "\n",
       "Scaled Continues Ranked Probability Score\n",
       "\n",
       "Calculates a scaled variation of the CRPS, as proposed by Rangapuram (2021),\n",
       "to measure the accuracy of predicted quantiles `y_hat` compared to the observation `y`.\n",
       "This metric averages percentual weighted absolute deviations as \n",
       "defined by the quantile losses.\n",
       "\n",
       "|    | **Type** | **Default** | **Details** |\n",
       "| -- | -------- | ----------- | ----------- |\n",
       "| y | ndarray |  | Observed values. |\n",
       "| y_hat | ndarray |  | Predicted values.     |\n",
       "| quantiles | ndarray |  | Quantiles to compare against. |\n",
       "| weights | Optional | None | Weights for weighted average. |\n",
       "| axis | Optional | None | Axis or axes along which to average a. <br>The default, axis=None, will average over all of the elements of <br>the input array. If axis is negative it counts from the last to first. |\n",
       "| **Returns** | **Union** |  | **Scaled crps along the specified axis.** |"
      ]
     },
     "execution_count": null,
     "metadata": {},
     "output_type": "execute_result"
    }
   ],
   "source": [
    "show_doc(scaled_crps)"
   ]
  }
 ],
 "metadata": {
  "kernelspec": {
   "display_name": "python3",
   "language": "python",
   "name": "python3"
  }
 },
 "nbformat": 4,
 "nbformat_minor": 4
}
