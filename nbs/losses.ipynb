{
 "cells": [
  {
   "cell_type": "code",
   "execution_count": null,
   "metadata": {},
   "outputs": [],
   "source": [
    "#| default_exp losses"
   ]
  },
  {
   "cell_type": "markdown",
   "metadata": {},
   "source": [
    "# Losses\n",
    "\n",
    "> Loss functions for model evaluation.\n",
    "> "
   ]
  },
  {
   "cell_type": "markdown",
   "metadata": {},
   "source": [
    "> The most important train signal is the forecast error, which is the difference between the observed value $y_{\\tau}$ and the prediction $\\hat{y}_{\\tau}$, at time $y_{\\tau}$:\n",
    "> \n",
    "> $$ e_{\\tau} = y_{\\tau}-\\hat{y}_{\\tau} \\qquad \\qquad \\tau \\in \\{t+1,\\dots,t+H \\} $$\n",
    "> \n",
    "> The train loss summarizes the forecast errors in different evaluation metrics."
   ]
  },
  {
   "cell_type": "code",
   "execution_count": null,
   "metadata": {},
   "outputs": [],
   "source": [
    "#| export\n",
    "from typing import TYPE_CHECKING, Callable, List, Optional, Union\n",
    "\n",
    "if TYPE_CHECKING:\n",
    "    import polars as pl\n",
    "\n",
    "import numpy as np\n",
    "import pandas as pd\n",
    "\n",
    "from utilsforecast.compat import DataFrame, pl_DataFrame, pl_col"
   ]
  },
  {
   "cell_type": "code",
   "execution_count": null,
   "metadata": {},
   "outputs": [],
   "source": [
    "#| hide\n",
    "import warnings\n",
    "\n",
    "from nbdev import show_doc"
   ]
  },
  {
   "cell_type": "code",
   "execution_count": null,
   "metadata": {},
   "outputs": [],
   "source": [
    "#| hide\n",
    "warnings.filterwarnings('ignore', message='Unknown section References')"
   ]
  },
  {
   "cell_type": "code",
   "execution_count": null,
   "metadata": {},
   "outputs": [],
   "source": [
    "import polars as pl\n",
    "\n",
    "from utilsforecast.data import generate_series"
   ]
  },
  {
   "cell_type": "code",
   "execution_count": null,
   "metadata": {},
   "outputs": [],
   "source": [
    "models = ['model0', 'model1']\n",
    "series = generate_series(10, static_as_categorical=False, n_models=2, level=[80])\n",
    "series_pl = generate_series(10, static_as_categorical=False, n_models=2, level=[80], engine='polars')"
   ]
  },
  {
   "cell_type": "markdown",
   "metadata": {},
   "source": [
    "# <span style=\"color:DarkOrange\">1. Scale-dependent Errors </span>"
   ]
  },
  {
   "cell_type": "markdown",
   "metadata": {},
   "source": [
    "## Mean Absolute Error (MAE)\n",
    "> $$ \\mathrm{MAE}(\\mathbf{y}_{\\tau}, \\mathbf{\\hat{y}}_{\\tau}) = \\frac{1}{H} \\sum^{t+H}_{\\tau=t+1} |y_{\\tau} - \\hat{y}_{\\tau}| $$"
   ]
  },
  {
   "cell_type": "markdown",
   "metadata": {},
   "source": [
    "![](imgs/losses/mae_loss.png)"
   ]
  },
  {
   "cell_type": "code",
   "execution_count": null,
   "metadata": {},
   "outputs": [],
   "source": [
    "#| exporti\n",
    "def _base_docstring(*args, **kwargs) -> Callable:\n",
    "    base_docstring = \"\"\"\n",
    "\n",
    "    Parameters\n",
    "    ----------\n",
    "    df : pandas or polars DataFrame\n",
    "        Input dataframe with id, actual values and predictions.\n",
    "    models : list of str\n",
    "        Columns that identify the models predictions.\n",
    "    id_col : str (default='unique_id')\n",
    "        Column that identifies each serie.\n",
    "    target_col : str (default='y')\n",
    "        Column that contains the target.\n",
    "\n",
    "    Returns\n",
    "    -------\n",
    "    pandas or polars Dataframe\n",
    "        dataframe with one row per id and one column per model.\n",
    "    \"\"\"\n",
    "    def docstring_decorator(f: Callable):\n",
    "        if f.__doc__ is not None:\n",
    "            f.__doc__ += base_docstring\n",
    "        return f\n",
    "\n",
    "    return docstring_decorator(*args, **kwargs)"
   ]
  },
  {
   "cell_type": "code",
   "execution_count": null,
   "metadata": {},
   "outputs": [],
   "source": [
    "#| exporti\n",
    "def _pl_agg_expr(\n",
    "    df: pl_DataFrame,\n",
    "    models: List[str],\n",
    "    id_col: str,\n",
    "    gen_expr: Callable[[str], 'pl.Expr'],\n",
    ") -> pl_DataFrame:\n",
    "    exprs = [gen_expr(model) for model in models]\n",
    "    df = df.select([id_col, *exprs])\n",
    "    try:\n",
    "        res = df.group_by(id_col).mean()\n",
    "    except AttributeError:\n",
    "        res = df.groupby(id_col).mean()\n",
    "    return res"
   ]
  },
  {
   "cell_type": "code",
   "execution_count": null,
   "metadata": {},
   "outputs": [],
   "source": [
    "#| export\n",
    "@_base_docstring\n",
    "def mae(\n",
    "    df: DataFrame,\n",
    "    models: List[str],\n",
    "    id_col: str = 'unique_id',\n",
    "    target_col: str = 'y',\n",
    ") -> DataFrame:\n",
    "    \"\"\"Mean Absolute Error (MAE)\n",
    "\n",
    "    MAE measures the relative prediction\n",
    "    accuracy of a forecasting method by calculating the\n",
    "    deviation of the prediction and the true\n",
    "    value at a given time and averages these devations\n",
    "    over the length of the series.\"\"\"\n",
    "    if isinstance(df, pd.DataFrame):\n",
    "        res = (df[models].sub(df[target_col], axis=0)).abs().groupby(df[id_col], observed=True).mean()\n",
    "        res.index.name = id_col\n",
    "        res = res.reset_index()\n",
    "    else:\n",
    "        def gen_expr(model):\n",
    "            return pl_col(target_col).sub(pl_col(model)).abs().alias(model)\n",
    "\n",
    "        res = _pl_agg_expr(df, models, id_col, gen_expr)\n",
    "    return res"
   ]
  },
  {
   "cell_type": "code",
   "execution_count": null,
   "metadata": {},
   "outputs": [
    {
     "data": {
      "text/markdown": [
       "---\n",
       "\n",
       "[source](https://github.com/Nixtla/utilsforecast/blob/main/utilsforecast/losses.py#L63){target=\"_blank\" style=\"float:right; font-size:smaller\"}\n",
       "\n",
       "### mae\n",
       "\n",
       ">      mae\n",
       ">           (df:Union[pandas.core.frame.DataFrame,polars.dataframe.frame.DataFra\n",
       ">           me], models:List[str], id_col:str='unique_id', target_col:str='y')\n",
       "\n",
       "Mean Absolute Error (MAE)\n",
       "\n",
       "MAE measures the relative prediction\n",
       "accuracy of a forecasting method by calculating the\n",
       "deviation of the prediction and the true\n",
       "value at a given time and averages these devations\n",
       "over the length of the series.\n",
       "\n",
       "|    | **Type** | **Default** | **Details** |\n",
       "| -- | -------- | ----------- | ----------- |\n",
       "| df | Union |  | Input dataframe with id, actual values and predictions. |\n",
       "| models | List |  | Columns that identify the models predictions. |\n",
       "| id_col | str | unique_id | Column that identifies each serie. |\n",
       "| target_col | str | y | Column that contains the target. |\n",
       "| **Returns** | **Union** |  | **dataframe with one row per id and one column per model.** |"
      ],
      "text/plain": [
       "---\n",
       "\n",
       "[source](https://github.com/Nixtla/utilsforecast/blob/main/utilsforecast/losses.py#L63){target=\"_blank\" style=\"float:right; font-size:smaller\"}\n",
       "\n",
       "### mae\n",
       "\n",
       ">      mae\n",
       ">           (df:Union[pandas.core.frame.DataFrame,polars.dataframe.frame.DataFra\n",
       ">           me], models:List[str], id_col:str='unique_id', target_col:str='y')\n",
       "\n",
       "Mean Absolute Error (MAE)\n",
       "\n",
       "MAE measures the relative prediction\n",
       "accuracy of a forecasting method by calculating the\n",
       "deviation of the prediction and the true\n",
       "value at a given time and averages these devations\n",
       "over the length of the series.\n",
       "\n",
       "|    | **Type** | **Default** | **Details** |\n",
       "| -- | -------- | ----------- | ----------- |\n",
       "| df | Union |  | Input dataframe with id, actual values and predictions. |\n",
       "| models | List |  | Columns that identify the models predictions. |\n",
       "| id_col | str | unique_id | Column that identifies each serie. |\n",
       "| target_col | str | y | Column that contains the target. |\n",
       "| **Returns** | **Union** |  | **dataframe with one row per id and one column per model.** |"
      ]
     },
     "execution_count": null,
     "metadata": {},
     "output_type": "execute_result"
    }
   ],
   "source": [
    "show_doc(mae)"
   ]
  },
  {
   "cell_type": "code",
   "execution_count": null,
   "metadata": {},
   "outputs": [],
   "source": [
    "def pd_vs_pl(pd_df, pl_df, models):\n",
    "    np.testing.assert_allclose(\n",
    "        pd_df[models].to_numpy(),\n",
    "        pl_df.sort('unique_id').select(models).to_numpy(),\n",
    "    )"
   ]
  },
  {
   "cell_type": "code",
   "execution_count": null,
   "metadata": {},
   "outputs": [],
   "source": [
    "pd_vs_pl(\n",
    "    mae(series, models),\n",
    "    mae(series_pl, models),\n",
    "    models,\n",
    ")"
   ]
  },
  {
   "cell_type": "markdown",
   "metadata": {},
   "source": [
    "## Mean Squared Error\n",
    "> $$ \\mathrm{MSE}(\\mathbf{y}_{\\tau}, \\mathbf{\\hat{y}}_{\\tau}) = \\frac{1}{H} \\sum^{t+H}_{\\tau=t+1} (y_{\\tau} - \\hat{y}_{\\tau})^{2} $$"
   ]
  },
  {
   "cell_type": "markdown",
   "metadata": {},
   "source": [
    "![](imgs/losses/mse_loss.png)"
   ]
  },
  {
   "cell_type": "code",
   "execution_count": null,
   "metadata": {},
   "outputs": [],
   "source": [
    "#| export\n",
    "@_base_docstring\n",
    "def mse(\n",
    "    df: DataFrame,\n",
    "    models: List[str],\n",
    "    id_col: str = 'unique_id',\n",
    "    target_col: str = 'y',\n",
    ") -> DataFrame:\n",
    "    \"\"\"Mean Squared Error (MSE)\n",
    "    \n",
    "    MSE measures the relative prediction\n",
    "    accuracy of a forecasting method by calculating the \n",
    "    squared deviation of the prediction and the true\n",
    "    value at a given time, and averages these devations\n",
    "    over the length of the series.\"\"\"    \n",
    "    if isinstance(df, pd.DataFrame):\n",
    "        res = (df[models].sub(df[target_col], axis=0)).pow(2).groupby(df[id_col], observed=True).mean()\n",
    "        res.index.name = id_col\n",
    "        res = res.reset_index()\n",
    "    else:\n",
    "        def gen_expr(model):\n",
    "            return pl_col(target_col).sub(pl_col(model)).pow(2).alias(model)\n",
    "\n",
    "        res = _pl_agg_expr(df, models, id_col, gen_expr)\n",
    "    return res"
   ]
  },
  {
   "cell_type": "code",
   "execution_count": null,
   "metadata": {},
   "outputs": [
    {
     "data": {
      "text/markdown": [
       "---\n",
       "\n",
       "[source](https://github.com/Nixtla/utilsforecast/blob/main/utilsforecast/losses.py#L95){target=\"_blank\" style=\"float:right; font-size:smaller\"}\n",
       "\n",
       "### mse\n",
       "\n",
       ">      mse\n",
       ">           (df:Union[pandas.core.frame.DataFrame,polars.dataframe.frame.DataFra\n",
       ">           me], models:List[str], id_col:str='unique_id', target_col:str='y')\n",
       "\n",
       "Mean Squared Error (MSE)\n",
       "\n",
       "MSE measures the relative prediction\n",
       "accuracy of a forecasting method by calculating the \n",
       "squared deviation of the prediction and the true\n",
       "value at a given time, and averages these devations\n",
       "over the length of the series.\n",
       "\n",
       "|    | **Type** | **Default** | **Details** |\n",
       "| -- | -------- | ----------- | ----------- |\n",
       "| df | Union |  | Input dataframe with id, actual values and predictions. |\n",
       "| models | List |  | Columns that identify the models predictions. |\n",
       "| id_col | str | unique_id | Column that identifies each serie. |\n",
       "| target_col | str | y | Column that contains the target. |\n",
       "| **Returns** | **Union** |  | **dataframe with one row per id and one column per model.** |"
      ],
      "text/plain": [
       "---\n",
       "\n",
       "[source](https://github.com/Nixtla/utilsforecast/blob/main/utilsforecast/losses.py#L95){target=\"_blank\" style=\"float:right; font-size:smaller\"}\n",
       "\n",
       "### mse\n",
       "\n",
       ">      mse\n",
       ">           (df:Union[pandas.core.frame.DataFrame,polars.dataframe.frame.DataFra\n",
       ">           me], models:List[str], id_col:str='unique_id', target_col:str='y')\n",
       "\n",
       "Mean Squared Error (MSE)\n",
       "\n",
       "MSE measures the relative prediction\n",
       "accuracy of a forecasting method by calculating the \n",
       "squared deviation of the prediction and the true\n",
       "value at a given time, and averages these devations\n",
       "over the length of the series.\n",
       "\n",
       "|    | **Type** | **Default** | **Details** |\n",
       "| -- | -------- | ----------- | ----------- |\n",
       "| df | Union |  | Input dataframe with id, actual values and predictions. |\n",
       "| models | List |  | Columns that identify the models predictions. |\n",
       "| id_col | str | unique_id | Column that identifies each serie. |\n",
       "| target_col | str | y | Column that contains the target. |\n",
       "| **Returns** | **Union** |  | **dataframe with one row per id and one column per model.** |"
      ]
     },
     "execution_count": null,
     "metadata": {},
     "output_type": "execute_result"
    }
   ],
   "source": [
    "show_doc(mse)"
   ]
  },
  {
   "cell_type": "code",
   "execution_count": null,
   "metadata": {},
   "outputs": [],
   "source": [
    "pd_vs_pl(\n",
    "    mse(series, models),\n",
    "    mse(series_pl, models),\n",
    "    models,\n",
    ")"
   ]
  },
  {
   "cell_type": "markdown",
   "metadata": {},
   "source": [
    "## Root Mean Squared Error\n",
    "> $$ \\mathrm{RMSE}(\\mathbf{y}_{\\tau}, \\mathbf{\\hat{y}}_{\\tau}) = \\sqrt{\\frac{1}{H} \\sum^{t+H}_{\\tau=t+1} (y_{\\tau} - \\hat{y}_{\\tau})^{2}} $$"
   ]
  },
  {
   "cell_type": "markdown",
   "metadata": {},
   "source": [
    "![](imgs/losses/rmse_loss.png)"
   ]
  },
  {
   "cell_type": "code",
   "execution_count": null,
   "metadata": {},
   "outputs": [],
   "source": [
    "#| export\n",
    "@_base_docstring\n",
    "def rmse(\n",
    "    df: DataFrame,\n",
    "    models: List[str],\n",
    "    id_col: str = 'unique_id',\n",
    "    target_col: str = 'y',\n",
    ") -> Union[float, np.ndarray]:\n",
    "    \"\"\"Root Mean Squared Error (RMSE)\n",
    "    \n",
    "    RMSE measures the relative prediction\n",
    "    accuracy of a forecasting method by calculating the squared deviation\n",
    "    of the prediction and the observed value at a given time and\n",
    "    averages these devations over the length of the series.\n",
    "    Finally the RMSE will be in the same scale\n",
    "    as the original time series so its comparison with other\n",
    "    series is possible only if they share a common scale. \n",
    "    RMSE has a direct connection to the L2 norm.\"\"\"    \n",
    "    res = mse(df, models, id_col, target_col)\n",
    "    if isinstance(res, pd.DataFrame):\n",
    "        res[models] = res[models].pow(0.5)\n",
    "    else:\n",
    "        res = res.with_columns(*[pl_col(c).pow(0.5) for c in models])\n",
    "    return res"
   ]
  },
  {
   "cell_type": "code",
   "execution_count": null,
   "metadata": {},
   "outputs": [
    {
     "data": {
      "text/markdown": [
       "---\n",
       "\n",
       "[source](https://github.com/Nixtla/utilsforecast/blob/main/utilsforecast/losses.py#L127){target=\"_blank\" style=\"float:right; font-size:smaller\"}\n",
       "\n",
       "### rmse\n",
       "\n",
       ">      rmse\n",
       ">            (df:Union[pandas.core.frame.DataFrame,polars.dataframe.frame.DataFr\n",
       ">            ame], models:List[str], id_col:str='unique_id', target_col:str='y')\n",
       "\n",
       "Root Mean Squared Error (RMSE)\n",
       "\n",
       "RMSE measures the relative prediction\n",
       "accuracy of a forecasting method by calculating the squared deviation\n",
       "of the prediction and the observed value at a given time and\n",
       "averages these devations over the length of the series.\n",
       "Finally the RMSE will be in the same scale\n",
       "as the original time series so its comparison with other\n",
       "series is possible only if they share a common scale. \n",
       "RMSE has a direct connection to the L2 norm.\n",
       "\n",
       "|    | **Type** | **Default** | **Details** |\n",
       "| -- | -------- | ----------- | ----------- |\n",
       "| df | Union |  | Input dataframe with id, actual values and predictions. |\n",
       "| models | List |  | Columns that identify the models predictions. |\n",
       "| id_col | str | unique_id | Column that identifies each serie. |\n",
       "| target_col | str | y | Column that contains the target. |\n",
       "| **Returns** | **Union** |  | **dataframe with one row per id and one column per model.** |"
      ],
      "text/plain": [
       "---\n",
       "\n",
       "[source](https://github.com/Nixtla/utilsforecast/blob/main/utilsforecast/losses.py#L127){target=\"_blank\" style=\"float:right; font-size:smaller\"}\n",
       "\n",
       "### rmse\n",
       "\n",
       ">      rmse\n",
       ">            (df:Union[pandas.core.frame.DataFrame,polars.dataframe.frame.DataFr\n",
       ">            ame], models:List[str], id_col:str='unique_id', target_col:str='y')\n",
       "\n",
       "Root Mean Squared Error (RMSE)\n",
       "\n",
       "RMSE measures the relative prediction\n",
       "accuracy of a forecasting method by calculating the squared deviation\n",
       "of the prediction and the observed value at a given time and\n",
       "averages these devations over the length of the series.\n",
       "Finally the RMSE will be in the same scale\n",
       "as the original time series so its comparison with other\n",
       "series is possible only if they share a common scale. \n",
       "RMSE has a direct connection to the L2 norm.\n",
       "\n",
       "|    | **Type** | **Default** | **Details** |\n",
       "| -- | -------- | ----------- | ----------- |\n",
       "| df | Union |  | Input dataframe with id, actual values and predictions. |\n",
       "| models | List |  | Columns that identify the models predictions. |\n",
       "| id_col | str | unique_id | Column that identifies each serie. |\n",
       "| target_col | str | y | Column that contains the target. |\n",
       "| **Returns** | **Union** |  | **dataframe with one row per id and one column per model.** |"
      ]
     },
     "execution_count": null,
     "metadata": {},
     "output_type": "execute_result"
    }
   ],
   "source": [
    "show_doc(rmse)"
   ]
  },
  {
   "cell_type": "code",
   "execution_count": null,
   "metadata": {},
   "outputs": [],
   "source": [
    "pd_vs_pl(\n",
    "    rmse(series, models),\n",
    "    rmse(series_pl, models),\n",
    "    models,\n",
    ")"
   ]
  },
  {
   "cell_type": "markdown",
   "metadata": {},
   "source": [
    "# <span style=\"color:DarkOrange\">2. Percentage Errors </span>"
   ]
  },
  {
   "cell_type": "markdown",
   "metadata": {},
   "source": [
    "## Mean Absolute Percentage Error\n",
    "> $$ \\mathrm{MAPE}(\\mathbf{y}_{\\tau}, \\mathbf{\\hat{y}}_{\\tau}) = \\frac{1}{H} \\sum^{t+H}_{\\tau=t+1} \\frac{|y_{\\tau}-\\hat{y}_{\\tau}|}{|y_{\\tau}|} $$"
   ]
  },
  {
   "cell_type": "markdown",
   "metadata": {},
   "source": [
    "![](imgs/losses/mape_loss.png)"
   ]
  },
  {
   "cell_type": "code",
   "execution_count": null,
   "metadata": {},
   "outputs": [],
   "source": [
    "#| exporti\n",
    "def _zero_to_nan(series: Union[pd.Series, 'pl.Expr']) -> Union[pd.Series, 'pl.Expr']:\n",
    "    if isinstance(series, pd.Series):\n",
    "        res = series.replace(0, np.nan)\n",
    "    else:\n",
    "        import polars as pl\n",
    "        \n",
    "        res = (\n",
    "            pl.when(series == 0)\n",
    "            .then(float('nan'))\n",
    "            .otherwise(series.abs())\n",
    "        )\n",
    "    return res"
   ]
  },
  {
   "cell_type": "code",
   "execution_count": null,
   "metadata": {},
   "outputs": [],
   "source": [
    "#| export\n",
    "@_base_docstring\n",
    "def mape(\n",
    "    df: DataFrame,\n",
    "    models: List[str],\n",
    "    id_col: str = 'unique_id',\n",
    "    target_col: str = 'y',\n",
    ") -> Union[float, np.ndarray]:\n",
    "    \"\"\"Mean Absolute Percentage Error (MAPE)\n",
    "    \n",
    "    MAPE measures the relative prediction\n",
    "    accuracy of a forecasting method by calculating the percentual deviation\n",
    "    of the prediction and the observed value at a given time and\n",
    "    averages these devations over the length of the series.\n",
    "    The closer to zero an observed value is, the higher penalty MAPE loss\n",
    "    assigns to the corresponding error.\"\"\"\n",
    "    if isinstance(df, pd.DataFrame):\n",
    "        res = (\n",
    "            df[models]\n",
    "            .sub(df[target_col], axis=0)\n",
    "            .abs()\n",
    "            .div(_zero_to_nan(df[target_col].abs()), axis=0)\n",
    "            .fillna(0)\n",
    "            .groupby(df[id_col], observed=True).mean()\n",
    "        )\n",
    "        res.index.name = id_col\n",
    "        res = res.reset_index()\n",
    "    else:\n",
    "        def gen_expr(model):\n",
    "            abs_err = pl_col(target_col).sub(pl_col(model)).abs()\n",
    "            abs_target = _zero_to_nan(pl_col(target_col))\n",
    "            ratio = abs_err.truediv(abs_target).alias(model)\n",
    "            return ratio.fill_nan(0)\n",
    "\n",
    "        res = _pl_agg_expr(df, models, id_col, gen_expr)\n",
    "    return res"
   ]
  },
  {
   "cell_type": "code",
   "execution_count": null,
   "metadata": {},
   "outputs": [
    {
     "data": {
      "text/markdown": [
       "---\n",
       "\n",
       "[source](https://github.com/Nixtla/utilsforecast/blob/main/utilsforecast/losses.py#L162){target=\"_blank\" style=\"float:right; font-size:smaller\"}\n",
       "\n",
       "### mape\n",
       "\n",
       ">      mape\n",
       ">            (df:Union[pandas.core.frame.DataFrame,polars.dataframe.frame.DataFr\n",
       ">            ame], models:List[str], id_col:str='unique_id', target_col:str='y')\n",
       "\n",
       "Mean Absolute Percentage Error (MAPE)\n",
       "\n",
       "MAPE measures the relative prediction\n",
       "accuracy of a forecasting method by calculating the percentual deviation\n",
       "of the prediction and the observed value at a given time and\n",
       "averages these devations over the length of the series.\n",
       "The closer to zero an observed value is, the higher penalty MAPE loss\n",
       "assigns to the corresponding error.\n",
       "\n",
       "|    | **Type** | **Default** | **Details** |\n",
       "| -- | -------- | ----------- | ----------- |\n",
       "| df | Union |  | Input dataframe with id, actual values and predictions. |\n",
       "| models | List |  | Columns that identify the models predictions. |\n",
       "| id_col | str | unique_id | Column that identifies each serie. |\n",
       "| target_col | str | y | Column that contains the target. |\n",
       "| **Returns** | **Union** |  | **dataframe with one row per id and one column per model.** |"
      ],
      "text/plain": [
       "---\n",
       "\n",
       "[source](https://github.com/Nixtla/utilsforecast/blob/main/utilsforecast/losses.py#L162){target=\"_blank\" style=\"float:right; font-size:smaller\"}\n",
       "\n",
       "### mape\n",
       "\n",
       ">      mape\n",
       ">            (df:Union[pandas.core.frame.DataFrame,polars.dataframe.frame.DataFr\n",
       ">            ame], models:List[str], id_col:str='unique_id', target_col:str='y')\n",
       "\n",
       "Mean Absolute Percentage Error (MAPE)\n",
       "\n",
       "MAPE measures the relative prediction\n",
       "accuracy of a forecasting method by calculating the percentual deviation\n",
       "of the prediction and the observed value at a given time and\n",
       "averages these devations over the length of the series.\n",
       "The closer to zero an observed value is, the higher penalty MAPE loss\n",
       "assigns to the corresponding error.\n",
       "\n",
       "|    | **Type** | **Default** | **Details** |\n",
       "| -- | -------- | ----------- | ----------- |\n",
       "| df | Union |  | Input dataframe with id, actual values and predictions. |\n",
       "| models | List |  | Columns that identify the models predictions. |\n",
       "| id_col | str | unique_id | Column that identifies each serie. |\n",
       "| target_col | str | y | Column that contains the target. |\n",
       "| **Returns** | **Union** |  | **dataframe with one row per id and one column per model.** |"
      ]
     },
     "execution_count": null,
     "metadata": {},
     "output_type": "execute_result"
    }
   ],
   "source": [
    "show_doc(mape)"
   ]
  },
  {
   "cell_type": "code",
   "execution_count": null,
   "metadata": {},
   "outputs": [],
   "source": [
    "pd_vs_pl(\n",
    "    mape(series, models),\n",
    "    mape(series_pl, models),\n",
    "    models,\n",
    ")"
   ]
  },
  {
   "cell_type": "markdown",
   "metadata": {},
   "source": [
    "## Symmetric Mean Absolute Percentage Error\n",
    "> $$ \\mathrm{SMAPE}_{2}(\\mathbf{y}_{\\tau}, \\mathbf{\\hat{y}}_{\\tau}) = \\frac{1}{H} \\sum^{t+H}_{\\tau=t+1} \\frac{|y_{\\tau}-\\hat{y}_{\\tau}|}{|y_{\\tau}|+|\\hat{y}_{\\tau}|} $$"
   ]
  },
  {
   "cell_type": "code",
   "execution_count": null,
   "metadata": {},
   "outputs": [],
   "source": [
    "#| export\n",
    "@_base_docstring\n",
    "def smape(\n",
    "    df: DataFrame,\n",
    "    models: List[str],\n",
    "    id_col: str = 'unique_id',\n",
    "    target_col: str = 'y',\n",
    ") -> Union[float, np.ndarray]:\n",
    "    \"\"\"Symmetric Mean Absolute Percentage Error (SMAPE)\n",
    "\n",
    "    SMAPE measures the relative prediction\n",
    "    accuracy of a forecasting method by calculating the relative deviation\n",
    "    of the prediction and the observed value scaled by the sum of the\n",
    "    absolute values for the prediction and observed value at a\n",
    "    given time, then averages these devations over the length\n",
    "    of the series. This allows the SMAPE to have bounds between\n",
    "    0% and 200% which is desireble compared to normal MAPE that\n",
    "    may be undetermined when the target is zero.\"\"\"\n",
    "    if isinstance(df, pd.DataFrame):\n",
    "        delta_y = df[models].sub(df[target_col], axis=0).abs()\n",
    "        scale = df[models].abs().add(df[target_col].abs(), axis=0)\n",
    "        raw = delta_y.div(scale).fillna(0)\n",
    "        res = raw.groupby(df[id_col], observed=True).mean()\n",
    "        res.index.name = id_col\n",
    "        res = res.reset_index()\n",
    "    else:\n",
    "        def gen_expr(model):\n",
    "            abs_err = pl_col(model).sub(pl_col(target_col)).abs()\n",
    "            denominator = _zero_to_nan(pl_col(model).abs().add(pl_col(target_col)).abs())\n",
    "            ratio = abs_err.truediv(denominator).alias(model)\n",
    "            return ratio.fill_nan(0)\n",
    "\n",
    "        res = _pl_agg_expr(df, models, id_col, gen_expr)\n",
    "    return res"
   ]
  },
  {
   "cell_type": "code",
   "execution_count": null,
   "metadata": {},
   "outputs": [
    {
     "data": {
      "text/markdown": [
       "---\n",
       "\n",
       "[source](https://github.com/Nixtla/utilsforecast/blob/main/utilsforecast/losses.py#L201){target=\"_blank\" style=\"float:right; font-size:smaller\"}\n",
       "\n",
       "### smape\n",
       "\n",
       ">      smape\n",
       ">             (df:Union[pandas.core.frame.DataFrame,polars.dataframe.frame.DataF\n",
       ">             rame], models:List[str], id_col:str='unique_id',\n",
       ">             target_col:str='y')\n",
       "\n",
       "Symmetric Mean Absolute Percentage Error (SMAPE)\n",
       "\n",
       "SMAPE measures the relative prediction\n",
       "accuracy of a forecasting method by calculating the relative deviation\n",
       "of the prediction and the observed value scaled by the sum of the\n",
       "absolute values for the prediction and observed value at a\n",
       "given time, then averages these devations over the length\n",
       "of the series. This allows the SMAPE to have bounds between\n",
       "0% and 200% which is desireble compared to normal MAPE that\n",
       "may be undetermined when the target is zero.\n",
       "\n",
       "|    | **Type** | **Default** | **Details** |\n",
       "| -- | -------- | ----------- | ----------- |\n",
       "| df | Union |  | Input dataframe with id, actual values and predictions. |\n",
       "| models | List |  | Columns that identify the models predictions. |\n",
       "| id_col | str | unique_id | Column that identifies each serie. |\n",
       "| target_col | str | y | Column that contains the target. |\n",
       "| **Returns** | **Union** |  | **dataframe with one row per id and one column per model.** |"
      ],
      "text/plain": [
       "---\n",
       "\n",
       "[source](https://github.com/Nixtla/utilsforecast/blob/main/utilsforecast/losses.py#L201){target=\"_blank\" style=\"float:right; font-size:smaller\"}\n",
       "\n",
       "### smape\n",
       "\n",
       ">      smape\n",
       ">             (df:Union[pandas.core.frame.DataFrame,polars.dataframe.frame.DataF\n",
       ">             rame], models:List[str], id_col:str='unique_id',\n",
       ">             target_col:str='y')\n",
       "\n",
       "Symmetric Mean Absolute Percentage Error (SMAPE)\n",
       "\n",
       "SMAPE measures the relative prediction\n",
       "accuracy of a forecasting method by calculating the relative deviation\n",
       "of the prediction and the observed value scaled by the sum of the\n",
       "absolute values for the prediction and observed value at a\n",
       "given time, then averages these devations over the length\n",
       "of the series. This allows the SMAPE to have bounds between\n",
       "0% and 200% which is desireble compared to normal MAPE that\n",
       "may be undetermined when the target is zero.\n",
       "\n",
       "|    | **Type** | **Default** | **Details** |\n",
       "| -- | -------- | ----------- | ----------- |\n",
       "| df | Union |  | Input dataframe with id, actual values and predictions. |\n",
       "| models | List |  | Columns that identify the models predictions. |\n",
       "| id_col | str | unique_id | Column that identifies each serie. |\n",
       "| target_col | str | y | Column that contains the target. |\n",
       "| **Returns** | **Union** |  | **dataframe with one row per id and one column per model.** |"
      ]
     },
     "execution_count": null,
     "metadata": {},
     "output_type": "execute_result"
    }
   ],
   "source": [
    "show_doc(smape)"
   ]
  },
  {
   "cell_type": "code",
   "execution_count": null,
   "metadata": {},
   "outputs": [],
   "source": [
    "pd_vs_pl(\n",
    "    smape(series, models),\n",
    "    smape(series_pl, models),\n",
    "    models,\n",
    ")"
   ]
  },
  {
   "cell_type": "markdown",
   "metadata": {},
   "source": [
    "# <span style=\"color:DarkOrange\">3. Scale-independent Errors </span>"
   ]
  },
  {
   "cell_type": "markdown",
   "metadata": {},
   "source": [
    "## Mean Absolute Scaled Error\n",
    "> $$ \\mathrm{MASE}(\\mathbf{y}_{\\tau}, \\mathbf{\\hat{y}}_{\\tau}, \\mathbf{\\hat{y}}^{season}_{\\tau}) = \n",
    "        \\frac{1}{H} \\sum^{t+H}_{\\tau=t+1} \\frac{|y_{\\tau}-\\hat{y}_{\\tau}|}{\\mathrm{MAE}(\\mathbf{y}_{\\tau}, \\mathbf{\\hat{y}}^{season}_{\\tau})} $$"
   ]
  },
  {
   "cell_type": "markdown",
   "metadata": {},
   "source": [
    "![](imgs/losses/mase_loss.png)"
   ]
  },
  {
   "cell_type": "code",
   "execution_count": null,
   "metadata": {},
   "outputs": [],
   "source": [
    "#| export\n",
    "def mase(\n",
    "    df: DataFrame,\n",
    "    models: List[str],\n",
    "    seasonality: int,\n",
    "    train_df: DataFrame,\n",
    "    id_col: str = 'unique_id',\n",
    "    target_col: str = 'y',\n",
    ") -> DataFrame:\n",
    "    \"\"\"Mean Absolute Scaled Error (MASE)\n",
    "    \n",
    "    MASE measures the relative prediction\n",
    "    accuracy of a forecasting method by comparinng the mean absolute errors\n",
    "    of the prediction and the observed value against the mean\n",
    "    absolute errors of the seasonal naive model.\n",
    "    The MASE partially composed the Overall Weighted Average (OWA), \n",
    "    used in the M4 Competition.\n",
    "\n",
    "    Parameters\n",
    "    ----------\n",
    "    df : pandas or polars DataFrame\n",
    "        Input dataframe with id, actuals and predictions.\n",
    "    models : list of str\n",
    "        Columns that identify the models predictions.\n",
    "    seasonality : int\n",
    "        Main frequency of the time series;\n",
    "        Hourly 24, Daily 7, Weekly 52, Monthly 12, Quarterly 4, Yearly 1.\n",
    "    train_df : pandas or polars DataFrame\n",
    "        Training dataframe with id and actual values. Must be sorted by time.\n",
    "    id_col : str (default='unique_id')\n",
    "        Column that identifies each serie.\n",
    "    target_col : str (default='y')\n",
    "        Column that contains the target.\n",
    "\n",
    "    Returns\n",
    "    -------\n",
    "    pandas or polars Dataframe\n",
    "        dataframe with one row per id and one column per model.\n",
    "\n",
    "    References\n",
    "    ----------\n",
    "    [1] https://robjhyndman.com/papers/mase.pdf        \n",
    "    \"\"\"\n",
    "    mean_abs_err = mae(df, models, id_col, target_col)\n",
    "    if isinstance(train_df, pd.DataFrame):\n",
    "        mean_abs_err = mean_abs_err.set_index(id_col)\n",
    "        # assume train_df is sorted\n",
    "        lagged = train_df.groupby(id_col, observed=True)[target_col].shift(seasonality)\n",
    "        scale = train_df[target_col].sub(lagged).abs()\n",
    "        scale = scale.groupby(train_df[id_col], observed=True).mean()\n",
    "        res = mean_abs_err.div(_zero_to_nan(scale), axis=0).fillna(0)\n",
    "        res.index.name = id_col\n",
    "        res = res.reset_index()\n",
    "    else:\n",
    "        # assume train_df is sorted\n",
    "        lagged = pl_col(target_col).shift(seasonality).over(id_col)\n",
    "        scale_expr = pl_col(target_col).sub(lagged).abs().alias('scale')\n",
    "        scale = train_df.select([id_col, scale_expr])\n",
    "        try:\n",
    "            scale = scale.group_by(id_col).mean()\n",
    "        except AttributeError:\n",
    "            scale = scale.groupby(id_col).mean()\n",
    "        scale = scale.with_columns(_zero_to_nan(pl_col('scale')))\n",
    "\n",
    "        def gen_expr(model):\n",
    "            return pl_col(model).truediv(pl_col('scale')).fill_nan(0).alias(model)\n",
    "\n",
    "        full_df = mean_abs_err.join(scale, on=id_col, how='left')\n",
    "        res = _pl_agg_expr(full_df, models, id_col, gen_expr)\n",
    "    return res"
   ]
  },
  {
   "cell_type": "code",
   "execution_count": null,
   "metadata": {},
   "outputs": [
    {
     "data": {
      "text/markdown": [
       "---\n",
       "\n",
       "[source](https://github.com/Nixtla/utilsforecast/blob/main/utilsforecast/losses.py#L238){target=\"_blank\" style=\"float:right; font-size:smaller\"}\n",
       "\n",
       "### mase\n",
       "\n",
       ">      mase\n",
       ">            (df:Union[pandas.core.frame.DataFrame,polars.dataframe.frame.DataFr\n",
       ">            ame], models:List[str], seasonality:int, train_df:Union[pandas.core\n",
       ">            .frame.DataFrame,polars.dataframe.frame.DataFrame],\n",
       ">            id_col:str='unique_id', target_col:str='y')\n",
       "\n",
       "Mean Absolute Scaled Error (MASE)\n",
       "\n",
       "MASE measures the relative prediction\n",
       "accuracy of a forecasting method by comparinng the mean absolute errors\n",
       "of the prediction and the observed value against the mean\n",
       "absolute errors of the seasonal naive model.\n",
       "The MASE partially composed the Overall Weighted Average (OWA), \n",
       "used in the M4 Competition.\n",
       "\n",
       "|    | **Type** | **Default** | **Details** |\n",
       "| -- | -------- | ----------- | ----------- |\n",
       "| df | Union |  | Input dataframe with id, actuals and predictions. |\n",
       "| models | List |  | Columns that identify the models predictions. |\n",
       "| seasonality | int |  | Main frequency of the time series;<br>Hourly 24, Daily 7, Weekly 52, Monthly 12, Quarterly 4, Yearly 1. |\n",
       "| train_df | Union |  | Training dataframe with id and actual values. Must be sorted by time. |\n",
       "| id_col | str | unique_id | Column that identifies each serie. |\n",
       "| target_col | str | y | Column that contains the target. |\n",
       "| **Returns** | **Union** |  | **dataframe with one row per id and one column per model.** |"
      ],
      "text/plain": [
       "---\n",
       "\n",
       "[source](https://github.com/Nixtla/utilsforecast/blob/main/utilsforecast/losses.py#L238){target=\"_blank\" style=\"float:right; font-size:smaller\"}\n",
       "\n",
       "### mase\n",
       "\n",
       ">      mase\n",
       ">            (df:Union[pandas.core.frame.DataFrame,polars.dataframe.frame.DataFr\n",
       ">            ame], models:List[str], seasonality:int, train_df:Union[pandas.core\n",
       ">            .frame.DataFrame,polars.dataframe.frame.DataFrame],\n",
       ">            id_col:str='unique_id', target_col:str='y')\n",
       "\n",
       "Mean Absolute Scaled Error (MASE)\n",
       "\n",
       "MASE measures the relative prediction\n",
       "accuracy of a forecasting method by comparinng the mean absolute errors\n",
       "of the prediction and the observed value against the mean\n",
       "absolute errors of the seasonal naive model.\n",
       "The MASE partially composed the Overall Weighted Average (OWA), \n",
       "used in the M4 Competition.\n",
       "\n",
       "|    | **Type** | **Default** | **Details** |\n",
       "| -- | -------- | ----------- | ----------- |\n",
       "| df | Union |  | Input dataframe with id, actuals and predictions. |\n",
       "| models | List |  | Columns that identify the models predictions. |\n",
       "| seasonality | int |  | Main frequency of the time series;<br>Hourly 24, Daily 7, Weekly 52, Monthly 12, Quarterly 4, Yearly 1. |\n",
       "| train_df | Union |  | Training dataframe with id and actual values. Must be sorted by time. |\n",
       "| id_col | str | unique_id | Column that identifies each serie. |\n",
       "| target_col | str | y | Column that contains the target. |\n",
       "| **Returns** | **Union** |  | **dataframe with one row per id and one column per model.** |"
      ]
     },
     "execution_count": null,
     "metadata": {},
     "output_type": "execute_result"
    }
   ],
   "source": [
    "show_doc(mase)"
   ]
  },
  {
   "cell_type": "code",
   "execution_count": null,
   "metadata": {},
   "outputs": [],
   "source": [
    "pd_vs_pl(\n",
    "    mase(series, models, 7, series),\n",
    "    mase(series_pl, models, 7, series_pl),\n",
    "    models,\n",
    ")"
   ]
  },
  {
   "cell_type": "markdown",
   "metadata": {},
   "source": [
    "## Relative Mean Absolute Error\n",
    "> $$ \\mathrm{RMAE}(\\mathbf{y}_{\\tau}, \\mathbf{\\hat{y}}_{\\tau}, \\mathbf{\\hat{y}}^{base}_{\\tau}) = \\frac{1}{H} \\sum^{t+H}_{\\tau=t+1} \\frac{|y_{\\tau}-\\hat{y}_{\\tau}|}{\\mathrm{MAE}(\\mathbf{y}_{\\tau}, \\mathbf{\\hat{y}}^{base}_{\\tau})} $$"
   ]
  },
  {
   "cell_type": "markdown",
   "metadata": {},
   "source": [
    "![](imgs/losses/rmae_loss.png)"
   ]
  },
  {
   "cell_type": "code",
   "execution_count": null,
   "metadata": {},
   "outputs": [],
   "source": [
    "#| export\n",
    "def rmae(\n",
    "    df: DataFrame,\n",
    "    models: List[str],\n",
    "    baseline_models: List[str],\n",
    "    id_col: str = 'unique_id',\n",
    "    target_col: str = 'y',\n",
    ") -> DataFrame:\n",
    "    \"\"\"Relative Mean Absolute Error (RMAE)\n",
    "    \n",
    "    Calculates the RAME between two sets of forecasts (from two different forecasting methods).\n",
    "    A number smaller than one implies that the forecast in the \n",
    "    numerator is better than the forecast in the denominator.\n",
    "\n",
    "    Parameters\n",
    "    ----------\n",
    "    df : pandas or polars DataFrame\n",
    "        Input dataframe with id, times, actuals and predictions.\n",
    "    models : list of str\n",
    "        Columns that identify the models predictions.\n",
    "    baseline_models : list of str\n",
    "        Columns that identify the baseline models predictions.\n",
    "    id_col : str (default='unique_id')\n",
    "        Column that identifies each serie.\n",
    "    target_col : str (default='y')\n",
    "        Column that contains the target.\n",
    "\n",
    "    Returns\n",
    "    -------\n",
    "    pandas or polars Dataframe\n",
    "        dataframe with one row per id and one column per model.\n",
    "    \"\"\"\n",
    "    numerator = mae(df, models, id_col, target_col)\n",
    "    denominator = mae(df, baseline_models, id_col, target_col)\n",
    "    if isinstance(numerator, pd.DataFrame):\n",
    "        res = numerator.merge(denominator, on=id_col, suffixes=('', '_denominator'))\n",
    "        out_cols = [id_col]\n",
    "        for model, baseline in zip(models, baseline_models):\n",
    "            col_name = f'{model}_div_{baseline}'\n",
    "            res[col_name] = res[model].div(_zero_to_nan(res[f'{baseline}_denominator'])).fillna(0)\n",
    "            out_cols.append(col_name)\n",
    "        res = res[out_cols]\n",
    "    else:\n",
    "        def gen_expr(model, baseline):\n",
    "            denominator = _zero_to_nan(pl_col(f'{baseline}_denominator'))\n",
    "            return pl_col(model).truediv(denominator).fill_nan(0).alias(f'{model}_div_{baseline}')\n",
    "        \n",
    "        res = numerator.join(denominator, on=id_col, suffix='_denominator')\n",
    "        exprs = [gen_expr(m1, m2) for m1, m2 in zip(models, baseline_models)]\n",
    "        res = res.select([id_col, *exprs])\n",
    "    return res"
   ]
  },
  {
   "cell_type": "code",
   "execution_count": null,
   "metadata": {},
   "outputs": [
    {
     "data": {
      "text/markdown": [
       "---\n",
       "\n",
       "[source](https://github.com/Nixtla/utilsforecast/blob/main/utilsforecast/losses.py#L309){target=\"_blank\" style=\"float:right; font-size:smaller\"}\n",
       "\n",
       "### rmae\n",
       "\n",
       ">      rmae\n",
       ">            (df:Union[pandas.core.frame.DataFrame,polars.dataframe.frame.DataFr\n",
       ">            ame], models:List[str], baseline_models:List[str],\n",
       ">            id_col:str='unique_id', target_col:str='y')\n",
       "\n",
       "Relative Mean Absolute Error (RMAE)\n",
       "\n",
       "Calculates the RAME between two sets of forecasts (from two different forecasting methods).\n",
       "A number smaller than one implies that the forecast in the \n",
       "numerator is better than the forecast in the denominator.\n",
       "\n",
       "|    | **Type** | **Default** | **Details** |\n",
       "| -- | -------- | ----------- | ----------- |\n",
       "| df | Union |  | Input dataframe with id, times, actuals and predictions. |\n",
       "| models | List |  | Columns that identify the models predictions. |\n",
       "| baseline_models | List |  | Columns that identify the baseline models predictions. |\n",
       "| id_col | str | unique_id | Column that identifies each serie. |\n",
       "| target_col | str | y | Column that contains the target. |\n",
       "| **Returns** | **Union** |  | **dataframe with one row per id and one column per model.** |"
      ],
      "text/plain": [
       "---\n",
       "\n",
       "[source](https://github.com/Nixtla/utilsforecast/blob/main/utilsforecast/losses.py#L309){target=\"_blank\" style=\"float:right; font-size:smaller\"}\n",
       "\n",
       "### rmae\n",
       "\n",
       ">      rmae\n",
       ">            (df:Union[pandas.core.frame.DataFrame,polars.dataframe.frame.DataFr\n",
       ">            ame], models:List[str], baseline_models:List[str],\n",
       ">            id_col:str='unique_id', target_col:str='y')\n",
       "\n",
       "Relative Mean Absolute Error (RMAE)\n",
       "\n",
       "Calculates the RAME between two sets of forecasts (from two different forecasting methods).\n",
       "A number smaller than one implies that the forecast in the \n",
       "numerator is better than the forecast in the denominator.\n",
       "\n",
       "|    | **Type** | **Default** | **Details** |\n",
       "| -- | -------- | ----------- | ----------- |\n",
       "| df | Union |  | Input dataframe with id, times, actuals and predictions. |\n",
       "| models | List |  | Columns that identify the models predictions. |\n",
       "| baseline_models | List |  | Columns that identify the baseline models predictions. |\n",
       "| id_col | str | unique_id | Column that identifies each serie. |\n",
       "| target_col | str | y | Column that contains the target. |\n",
       "| **Returns** | **Union** |  | **dataframe with one row per id and one column per model.** |"
      ]
     },
     "execution_count": null,
     "metadata": {},
     "output_type": "execute_result"
    }
   ],
   "source": [
    "show_doc(rmae)"
   ]
  },
  {
   "cell_type": "code",
   "execution_count": null,
   "metadata": {},
   "outputs": [],
   "source": [
    "pd_vs_pl(\n",
    "    rmae(series, models, list(reversed(models))),\n",
    "    rmae(series_pl, models, list(reversed(models))),\n",
    "    [f'{m1}_div_{m2}' for m1, m2 in zip(models, reversed(models))],\n",
    ")"
   ]
  },
  {
   "cell_type": "markdown",
   "metadata": {},
   "source": [
    "# <span style=\"color:DarkOrange\">4. Probabilistic Errors </span>"
   ]
  },
  {
   "cell_type": "markdown",
   "metadata": {},
   "source": [
    "## Quantile Loss\n",
    "> $$ \\mathrm{QL}(\\mathbf{y}_{\\tau}, \\mathbf{\\hat{y}}^{(q)}_{\\tau}) = \n",
    "        \\frac{1}{H} \\sum^{t+H}_{\\tau=t+1} \n",
    "        \\Big( (1-q)\\,( \\hat{y}^{(q)}_{\\tau} - y_{\\tau} )_{+} \n",
    "        + q\\,( y_{\\tau} - \\hat{y}^{(q)}_{\\tau} )_{+} \\Big) $$"
   ]
  },
  {
   "cell_type": "markdown",
   "metadata": {},
   "source": [
    "![](imgs/losses/q_loss.png)"
   ]
  },
  {
   "cell_type": "code",
   "execution_count": null,
   "metadata": {},
   "outputs": [],
   "source": [
    "#| export\n",
    "def quantile_loss(\n",
    "    df: DataFrame,\n",
    "    models: List[str],\n",
    "    q: float = 0.5,\n",
    "    id_col: str = 'unique_id',\n",
    "    target_col: str = 'y',\n",
    ") -> DataFrame:\n",
    "    \"\"\"Quantile Loss (QL)\n",
    "    \n",
    "    QL measures the deviation of a quantile forecast.\n",
    "    By weighting the absolute deviation in a non symmetric way, the\n",
    "    loss pays more attention to under or over estimation.    \n",
    "    A common value for q is 0.5 for the deviation from the median.\n",
    "\n",
    "    Parameters\n",
    "    ----------\n",
    "    df : pandas or polars DataFrame\n",
    "        Input dataframe with id, times, actuals and predictions.\n",
    "    models : list of str\n",
    "        Columns that identify the models predictions.\n",
    "    q : float (default=0.5)\n",
    "        Quantile for the predictions' comparison.\n",
    "    id_col : str (default='unique_id')\n",
    "        Column that identifies each serie.\n",
    "    target_col : str (default='y')\n",
    "        Column that contains the target.\n",
    "\n",
    "    Returns\n",
    "    -------\n",
    "    pandas or polars Dataframe\n",
    "        dataframe with one row per id and one column per model.\n",
    "    \"\"\"\n",
    "    if isinstance(df, pd.DataFrame):\n",
    "        delta_y = df[models].sub(df[target_col], axis=0).abs()\n",
    "        res = np.maximum(q * delta_y, (q - 1) * delta_y).groupby(df[id_col]).mean()\n",
    "        res.index.name = id_col\n",
    "        res = res.reset_index()\n",
    "    else:\n",
    "        import polars as pl\n",
    "\n",
    "        def gen_expr(model):\n",
    "            delta_y = pl_col(model).sub(pl_col(target_col)).abs()\n",
    "            try:\n",
    "                col_max = pl.max_horizontal([q * delta_y, (q - 1) * delta_y])\n",
    "            except AttributeError:\n",
    "                col_max = pl.max([q * delta_y, (q - 1) * delta_y])\n",
    "            return col_max.alias(model)\n",
    "\n",
    "        res = _pl_agg_expr(df, models, id_col, gen_expr)\n",
    "    return res"
   ]
  },
  {
   "cell_type": "code",
   "execution_count": null,
   "metadata": {},
   "outputs": [
    {
     "data": {
      "text/markdown": [
       "---\n",
       "\n",
       "[source](https://github.com/Nixtla/utilsforecast/blob/main/utilsforecast/losses.py#L369){target=\"_blank\" style=\"float:right; font-size:smaller\"}\n",
       "\n",
       "### quantile_loss\n",
       "\n",
       ">      quantile_loss\n",
       ">                     (df:Union[pandas.core.frame.DataFrame,polars.dataframe.fra\n",
       ">                     me.DataFrame], models:List[str], q:float=0.5,\n",
       ">                     id_col:str='unique_id', target_col:str='y')\n",
       "\n",
       "Quantile Loss (QL)\n",
       "\n",
       "QL measures the deviation of a quantile forecast.\n",
       "By weighting the absolute deviation in a non symmetric way, the\n",
       "loss pays more attention to under or over estimation.    \n",
       "A common value for q is 0.5 for the deviation from the median.\n",
       "\n",
       "|    | **Type** | **Default** | **Details** |\n",
       "| -- | -------- | ----------- | ----------- |\n",
       "| df | Union |  | Input dataframe with id, times, actuals and predictions. |\n",
       "| models | List |  | Columns that identify the models predictions. |\n",
       "| q | float | 0.5 | Quantile for the predictions' comparison. |\n",
       "| id_col | str | unique_id | Column that identifies each serie. |\n",
       "| target_col | str | y | Column that contains the target. |\n",
       "| **Returns** | **Union** |  | **dataframe with one row per id and one column per model.** |"
      ],
      "text/plain": [
       "---\n",
       "\n",
       "[source](https://github.com/Nixtla/utilsforecast/blob/main/utilsforecast/losses.py#L369){target=\"_blank\" style=\"float:right; font-size:smaller\"}\n",
       "\n",
       "### quantile_loss\n",
       "\n",
       ">      quantile_loss\n",
       ">                     (df:Union[pandas.core.frame.DataFrame,polars.dataframe.fra\n",
       ">                     me.DataFrame], models:List[str], q:float=0.5,\n",
       ">                     id_col:str='unique_id', target_col:str='y')\n",
       "\n",
       "Quantile Loss (QL)\n",
       "\n",
       "QL measures the deviation of a quantile forecast.\n",
       "By weighting the absolute deviation in a non symmetric way, the\n",
       "loss pays more attention to under or over estimation.    \n",
       "A common value for q is 0.5 for the deviation from the median.\n",
       "\n",
       "|    | **Type** | **Default** | **Details** |\n",
       "| -- | -------- | ----------- | ----------- |\n",
       "| df | Union |  | Input dataframe with id, times, actuals and predictions. |\n",
       "| models | List |  | Columns that identify the models predictions. |\n",
       "| q | float | 0.5 | Quantile for the predictions' comparison. |\n",
       "| id_col | str | unique_id | Column that identifies each serie. |\n",
       "| target_col | str | y | Column that contains the target. |\n",
       "| **Returns** | **Union** |  | **dataframe with one row per id and one column per model.** |"
      ]
     },
     "execution_count": null,
     "metadata": {},
     "output_type": "execute_result"
    }
   ],
   "source": [
    "show_doc(quantile_loss)"
   ]
  },
  {
   "cell_type": "code",
   "execution_count": null,
   "metadata": {},
   "outputs": [],
   "source": [
    "pd_vs_pl(\n",
    "    quantile_loss(series, models),\n",
    "    quantile_loss(series_pl, models),\n",
    "    models,\n",
    ")"
   ]
  },
  {
   "cell_type": "markdown",
   "metadata": {},
   "source": [
    "## Multi-Quantile Loss\n",
    "> $$ \\mathrm{MQL}(\\mathbf{y}_{\\tau},\n",
    "                    [\\mathbf{\\hat{y}}^{(q_{1})}_{\\tau}, ... ,\\hat{y}^{(q_{n})}_{\\tau}]) = \n",
    "       \\frac{1}{n} \\sum_{q_{i}} \\mathrm{QL}(\\mathbf{y}_{\\tau}, \\mathbf{\\hat{y}}^{(q_{i})}_{\\tau}) $$"
   ]
  },
  {
   "cell_type": "markdown",
   "metadata": {},
   "source": [
    "![](imgs/losses/mq_loss.png)"
   ]
  },
  {
   "cell_type": "code",
   "execution_count": null,
   "metadata": {},
   "outputs": [],
   "source": [
    "#| export\n",
    "def mqloss(\n",
    "    df: DataFrame,\n",
    "    models: List[str],\n",
    "    quantiles: np.ndarray,\n",
    "    id_col: str = 'unique_id',\n",
    "    target_col: str = 'y',\n",
    ") -> DataFrame:\n",
    "    \"\"\"Multi-Quantile loss (MQL)\n",
    "    \n",
    "    MQL calculates the average multi-quantile Loss for\n",
    "    a given set of quantiles, based on the absolute \n",
    "    difference between predicted quantiles and observed values.\n",
    "\n",
    "    The limit behavior of MQL allows to measure the accuracy \n",
    "    of a full predictive distribution $\\mathbf{\\hat{F}}_{\\\\tau}$ with \n",
    "    the continuous ranked probability score (CRPS). This can be achieved \n",
    "    through a numerical integration technique, that discretizes the quantiles \n",
    "    and treats the CRPS integral with a left Riemann approximation, averaging over \n",
    "    uniformly distanced quantiles.\n",
    "\n",
    "    Parameters\n",
    "    ----------\n",
    "    df : pandas or polars DataFrame\n",
    "        Input dataframe with id, times, actuals and predictions.\n",
    "    models : list of str\n",
    "        Columns that identify the models predictions.\n",
    "    quantiles : numpy array\n",
    "        Quantiles to compare against.\n",
    "    id_col : str (default='unique_id')\n",
    "        Column that identifies each serie.\n",
    "    target_col : str (default='y')\n",
    "        Column that contains the target.\n",
    "\n",
    "    Returns\n",
    "    -------\n",
    "    pandas or polars Dataframe\n",
    "        dataframe with one row per id and one column per model.\n",
    "\n",
    "    References\n",
    "    ----------\n",
    "    [1] https://www.jstor.org/stable/2629907        \n",
    "    \"\"\" \n",
    "    res: Optional[DataFrame] = None\n",
    "    quantiles = np.asarray(quantiles)\n",
    "    for model in models:\n",
    "        error = (df[target_col].to_numpy() - df[model].to_numpy()).reshape(-1, 1)\n",
    "        loss = np.maximum(error * quantiles, error * (quantiles - 1)).mean(axis=1)\n",
    "        result = type(df)({model: loss})\n",
    "        try:\n",
    "            result = result.group_by(df[id_col]).mean()\n",
    "        except AttributeError:\n",
    "            result = result.groupby(df[id_col]).mean()\n",
    "        if res is None:\n",
    "            res = result\n",
    "            if isinstance(res, pd.DataFrame):\n",
    "                res.index.name = id_col\n",
    "                res = res.reset_index()\n",
    "        else:\n",
    "            if isinstance(res, pd.DataFrame):\n",
    "                res = pd.concat([res, result], axis=1)\n",
    "            else:\n",
    "                res = res.join(result, on=id_col)\n",
    "    return res"
   ]
  },
  {
   "cell_type": "code",
   "execution_count": null,
   "metadata": {},
   "outputs": [
    {
     "data": {
      "text/markdown": [
       "---\n",
       "\n",
       "[source](https://github.com/Nixtla/utilsforecast/blob/main/utilsforecast/losses.py#L421){target=\"_blank\" style=\"float:right; font-size:smaller\"}\n",
       "\n",
       "### mqloss\n",
       "\n",
       ">      mqloss\n",
       ">              (df:Union[pandas.core.frame.DataFrame,polars.dataframe.frame.Data\n",
       ">              Frame], models:List[str], quantiles:numpy.ndarray,\n",
       ">              id_col:str='unique_id', target_col:str='y')\n",
       "\n",
       "Multi-Quantile loss (MQL)\n",
       "\n",
       "MQL calculates the average multi-quantile Loss for\n",
       "a given set of quantiles, based on the absolute \n",
       "difference between predicted quantiles and observed values.\n",
       "\n",
       "The limit behavior of MQL allows to measure the accuracy \n",
       "of a full predictive distribution $\\mathbf{\\hat{F}}_{\\tau}$ with \n",
       "the continuous ranked probability score (CRPS). This can be achieved \n",
       "through a numerical integration technique, that discretizes the quantiles \n",
       "and treats the CRPS integral with a left Riemann approximation, averaging over \n",
       "uniformly distanced quantiles.\n",
       "\n",
       "|    | **Type** | **Default** | **Details** |\n",
       "| -- | -------- | ----------- | ----------- |\n",
       "| df | Union |  | Input dataframe with id, times, actuals and predictions. |\n",
       "| models | List |  | Columns that identify the models predictions. |\n",
       "| quantiles | ndarray |  | Quantiles to compare against. |\n",
       "| id_col | str | unique_id | Column that identifies each serie. |\n",
       "| target_col | str | y | Column that contains the target. |\n",
       "| **Returns** | **Union** |  | **dataframe with one row per id and one column per model.** |"
      ],
      "text/plain": [
       "---\n",
       "\n",
       "[source](https://github.com/Nixtla/utilsforecast/blob/main/utilsforecast/losses.py#L421){target=\"_blank\" style=\"float:right; font-size:smaller\"}\n",
       "\n",
       "### mqloss\n",
       "\n",
       ">      mqloss\n",
       ">              (df:Union[pandas.core.frame.DataFrame,polars.dataframe.frame.Data\n",
       ">              Frame], models:List[str], quantiles:numpy.ndarray,\n",
       ">              id_col:str='unique_id', target_col:str='y')\n",
       "\n",
       "Multi-Quantile loss (MQL)\n",
       "\n",
       "MQL calculates the average multi-quantile Loss for\n",
       "a given set of quantiles, based on the absolute \n",
       "difference between predicted quantiles and observed values.\n",
       "\n",
       "The limit behavior of MQL allows to measure the accuracy \n",
       "of a full predictive distribution $\\mathbf{\\hat{F}}_{\\tau}$ with \n",
       "the continuous ranked probability score (CRPS). This can be achieved \n",
       "through a numerical integration technique, that discretizes the quantiles \n",
       "and treats the CRPS integral with a left Riemann approximation, averaging over \n",
       "uniformly distanced quantiles.\n",
       "\n",
       "|    | **Type** | **Default** | **Details** |\n",
       "| -- | -------- | ----------- | ----------- |\n",
       "| df | Union |  | Input dataframe with id, times, actuals and predictions. |\n",
       "| models | List |  | Columns that identify the models predictions. |\n",
       "| quantiles | ndarray |  | Quantiles to compare against. |\n",
       "| id_col | str | unique_id | Column that identifies each serie. |\n",
       "| target_col | str | y | Column that contains the target. |\n",
       "| **Returns** | **Union** |  | **dataframe with one row per id and one column per model.** |"
      ]
     },
     "execution_count": null,
     "metadata": {},
     "output_type": "execute_result"
    }
   ],
   "source": [
    "show_doc(mqloss)"
   ]
  },
  {
   "cell_type": "code",
   "execution_count": null,
   "metadata": {},
   "outputs": [],
   "source": [
    "pd_vs_pl(\n",
    "    mqloss(series, models, [0.1, 0.3]),\n",
    "    mqloss(series_pl, models, [0.1, 0.3]),\n",
    "    models,\n",
    ")"
   ]
  },
  {
   "cell_type": "markdown",
   "metadata": {},
   "source": [
    "## Coverage"
   ]
  },
  {
   "cell_type": "code",
   "execution_count": null,
   "metadata": {},
   "outputs": [],
   "source": [
    "#| export\n",
    "def coverage(\n",
    "    df: DataFrame,\n",
    "    models: List[str],\n",
    "    level: int,\n",
    "    id_col: str = 'unique_id',\n",
    "    target_col: str = 'y',\n",
    ") -> DataFrame:\n",
    "    \"\"\"Coverage of y with y_hat_lo and y_hat_hi.\n",
    "\n",
    "    Parameters\n",
    "    ----------\n",
    "    df : pandas or polars DataFrame\n",
    "        Input dataframe with id, times, actuals and predictions.\n",
    "    models : list of str\n",
    "        Columns that identify the models predictions.\n",
    "    level : int\n",
    "        Confidence level used for intervals.\n",
    "    id_col : str (default='unique_id')\n",
    "        Column that identifies each serie.\n",
    "    target_col : str (default='y')\n",
    "        Column that contains the target.\n",
    "\n",
    "    Returns\n",
    "    -------\n",
    "    pandas or polars Dataframe\n",
    "        dataframe with one row per id and one column per model.\n",
    "\n",
    "    References\n",
    "    ----------\n",
    "    [1] https://www.jstor.org/stable/2629907        \n",
    "    \"\"\"\n",
    "    if isinstance(df, pd.DataFrame):\n",
    "        out = np.empty((df.shape[0], len(models)))\n",
    "        for j, model in enumerate(models):\n",
    "            out[:, j] = df[target_col].between(df[f'{model}-lo-{level}'], df[f'{model}-hi-{level}'])\n",
    "        res = pd.DataFrame(out, columns=models).groupby(df[id_col]).mean()\n",
    "        res.index.name = id_col\n",
    "        res = res.reset_index()\n",
    "    else:\n",
    "        def gen_expr(model):\n",
    "            return pl_col(target_col).is_between(pl_col(f'{model}-lo-{level}'), pl_col(f'{model}-hi-{level}')).alias(model)\n",
    "\n",
    "        res = _pl_agg_expr(df, models, id_col, gen_expr)\n",
    "    return res"
   ]
  },
  {
   "cell_type": "code",
   "execution_count": null,
   "metadata": {},
   "outputs": [
    {
     "data": {
      "text/markdown": [
       "---\n",
       "\n",
       "[source](https://github.com/Nixtla/utilsforecast/blob/main/utilsforecast/losses.py#L486){target=\"_blank\" style=\"float:right; font-size:smaller\"}\n",
       "\n",
       "### coverage\n",
       "\n",
       ">      coverage\n",
       ">                (df:Union[pandas.core.frame.DataFrame,polars.dataframe.frame.Da\n",
       ">                taFrame], models:List[str], level:int, id_col:str='unique_id',\n",
       ">                target_col:str='y')\n",
       "\n",
       "Coverage of y with y_hat_lo and y_hat_hi.\n",
       "\n",
       "|    | **Type** | **Default** | **Details** |\n",
       "| -- | -------- | ----------- | ----------- |\n",
       "| df | Union |  | Input dataframe with id, times, actuals and predictions. |\n",
       "| models | List |  | Columns that identify the models predictions. |\n",
       "| level | int |  | Confidence level used for intervals. |\n",
       "| id_col | str | unique_id | Column that identifies each serie. |\n",
       "| target_col | str | y | Column that contains the target. |\n",
       "| **Returns** | **Union** |  | **dataframe with one row per id and one column per model.** |"
      ],
      "text/plain": [
       "---\n",
       "\n",
       "[source](https://github.com/Nixtla/utilsforecast/blob/main/utilsforecast/losses.py#L486){target=\"_blank\" style=\"float:right; font-size:smaller\"}\n",
       "\n",
       "### coverage\n",
       "\n",
       ">      coverage\n",
       ">                (df:Union[pandas.core.frame.DataFrame,polars.dataframe.frame.Da\n",
       ">                taFrame], models:List[str], level:int, id_col:str='unique_id',\n",
       ">                target_col:str='y')\n",
       "\n",
       "Coverage of y with y_hat_lo and y_hat_hi.\n",
       "\n",
       "|    | **Type** | **Default** | **Details** |\n",
       "| -- | -------- | ----------- | ----------- |\n",
       "| df | Union |  | Input dataframe with id, times, actuals and predictions. |\n",
       "| models | List |  | Columns that identify the models predictions. |\n",
       "| level | int |  | Confidence level used for intervals. |\n",
       "| id_col | str | unique_id | Column that identifies each serie. |\n",
       "| target_col | str | y | Column that contains the target. |\n",
       "| **Returns** | **Union** |  | **dataframe with one row per id and one column per model.** |"
      ]
     },
     "execution_count": null,
     "metadata": {},
     "output_type": "execute_result"
    }
   ],
   "source": [
    "show_doc(coverage)"
   ]
  },
  {
   "cell_type": "code",
   "execution_count": null,
   "metadata": {},
   "outputs": [],
   "source": [
    "pd_vs_pl(\n",
    "    coverage(series, models, 80),\n",
    "    coverage(series_pl, models, 80),\n",
    "    models,\n",
    ")"
   ]
  },
  {
   "cell_type": "markdown",
   "metadata": {},
   "source": [
    "## Calibration"
   ]
  },
  {
   "cell_type": "code",
   "execution_count": null,
   "metadata": {},
   "outputs": [],
   "source": [
    "#| export\n",
    "def calibration(\n",
    "    df: DataFrame,\n",
    "    models: List[str],\n",
    "    level: int,\n",
    "    id_col: str = 'unique_id',\n",
    "    target_col: str = 'y',\n",
    ") -> DataFrame:\n",
    "    \"\"\"\n",
    "    Fraction of y that is lower than y_hat_hi. \n",
    "    \n",
    "    Parameters\n",
    "    ----------\n",
    "    df : pandas or polars DataFrame\n",
    "        Input dataframe with id, times, actuals and predictions.\n",
    "    models : list of str\n",
    "        Columns that identify the models predictions.\n",
    "    level : int\n",
    "        Confidence level used for intervals.\n",
    "    id_col : str (default='unique_id')\n",
    "        Column that identifies each serie.\n",
    "    target_col : str (default='y')\n",
    "        Column that contains the target.\n",
    "\n",
    "    Returns\n",
    "    -------\n",
    "    pandas or polars Dataframe\n",
    "        dataframe with one row per id and one column per model.\n",
    "        \n",
    "    References\n",
    "    ----------\n",
    "    [1] https://www.jstor.org/stable/2629907            \n",
    "    \"\"\"\n",
    "    if isinstance(df, pd.DataFrame):\n",
    "        out = np.empty((df.shape[0], len(models)))\n",
    "        for j, model in enumerate(models):\n",
    "            out[:, j] = df[target_col].le(df[f'{model}-hi-{level}'])\n",
    "        res = pd.DataFrame(out, columns=models).groupby(df[id_col]).mean()\n",
    "        res.index.name = id_col\n",
    "        res = res.reset_index()\n",
    "    else:\n",
    "        def gen_expr(model):\n",
    "            return pl_col(target_col).le(pl_col(f'{model}-hi-{level}')).alias(model)\n",
    "\n",
    "        res = _pl_agg_expr(df, models, id_col, gen_expr)\n",
    "    return res    "
   ]
  },
  {
   "cell_type": "code",
   "execution_count": null,
   "metadata": {},
   "outputs": [
    {
     "data": {
      "text/markdown": [
       "---\n",
       "\n",
       "[source](https://github.com/Nixtla/utilsforecast/blob/main/utilsforecast/losses.py#L541){target=\"_blank\" style=\"float:right; font-size:smaller\"}\n",
       "\n",
       "### calibration\n",
       "\n",
       ">      calibration\n",
       ">                   (df:Union[pandas.core.frame.DataFrame,polars.dataframe.frame\n",
       ">                   .DataFrame], models:List[str], level:int,\n",
       ">                   id_col:str='unique_id', target_col:str='y')\n",
       "\n",
       "Fraction of y that is lower than y_hat_hi.\n",
       "\n",
       "|    | **Type** | **Default** | **Details** |\n",
       "| -- | -------- | ----------- | ----------- |\n",
       "| df | Union |  | Input dataframe with id, times, actuals and predictions. |\n",
       "| models | List |  | Columns that identify the models predictions. |\n",
       "| level | int |  | Confidence level used for intervals. |\n",
       "| id_col | str | unique_id | Column that identifies each serie. |\n",
       "| target_col | str | y | Column that contains the target. |\n",
       "| **Returns** | **Union** |  | **dataframe with one row per id and one column per model.** |"
      ],
      "text/plain": [
       "---\n",
       "\n",
       "[source](https://github.com/Nixtla/utilsforecast/blob/main/utilsforecast/losses.py#L541){target=\"_blank\" style=\"float:right; font-size:smaller\"}\n",
       "\n",
       "### calibration\n",
       "\n",
       ">      calibration\n",
       ">                   (df:Union[pandas.core.frame.DataFrame,polars.dataframe.frame\n",
       ">                   .DataFrame], models:List[str], level:int,\n",
       ">                   id_col:str='unique_id', target_col:str='y')\n",
       "\n",
       "Fraction of y that is lower than y_hat_hi.\n",
       "\n",
       "|    | **Type** | **Default** | **Details** |\n",
       "| -- | -------- | ----------- | ----------- |\n",
       "| df | Union |  | Input dataframe with id, times, actuals and predictions. |\n",
       "| models | List |  | Columns that identify the models predictions. |\n",
       "| level | int |  | Confidence level used for intervals. |\n",
       "| id_col | str | unique_id | Column that identifies each serie. |\n",
       "| target_col | str | y | Column that contains the target. |\n",
       "| **Returns** | **Union** |  | **dataframe with one row per id and one column per model.** |"
      ]
     },
     "execution_count": null,
     "metadata": {},
     "output_type": "execute_result"
    }
   ],
   "source": [
    "show_doc(calibration)"
   ]
  },
  {
   "cell_type": "code",
   "execution_count": null,
   "metadata": {},
   "outputs": [],
   "source": [
    "pd_vs_pl(\n",
    "    calibration(series, models, 80),\n",
    "    calibration(series_pl, models, 80),\n",
    "    models,\n",
    ")"
   ]
  },
  {
   "cell_type": "markdown",
   "metadata": {},
   "source": [
    "## CRPS\n",
    "> $$ \\mathrm{sCRPS}(\\hat{F}_{\\tau}, \\mathbf{y}_{\\tau}) = \\frac{2}{N} \\sum_{i}\n",
    "    \\int^{1}_{0}\n",
    "    \\frac{\\mathrm{QL}(\\hat{F}_{i,\\tau}, y_{i,\\tau})_{q}}{\\sum_{i} | y_{i,\\tau} |} dq $$\n",
    ">\n",
    "> Where $\\hat{F}_{\\tau}$ is the an estimated multivariate distribution, and $y_{i,\\tau}$\n",
    "    are its realizations. "
   ]
  },
  {
   "cell_type": "code",
   "execution_count": null,
   "metadata": {},
   "outputs": [],
   "source": [
    "#| export\n",
    "def scaled_crps(\n",
    "    df: DataFrame,\n",
    "    models: List[str],\n",
    "    quantiles: np.ndarray,\n",
    "    id_col: str = 'unique_id',\n",
    "    target_col: str = 'y',\n",
    ") -> DataFrame:\n",
    "    \"\"\"Scaled Continues Ranked Probability Score\n",
    "    \n",
    "    Calculates a scaled variation of the CRPS, as proposed by Rangapuram (2021),\n",
    "    to measure the accuracy of predicted quantiles `y_hat` compared to the observation `y`.\n",
    "    This metric averages percentual weighted absolute deviations as \n",
    "    defined by the quantile losses.\n",
    "    \n",
    "    Parameters\n",
    "    ----------\n",
    "    df : pandas or polars DataFrame\n",
    "        Input dataframe with id, times, actuals and predictions.\n",
    "    models : list of str\n",
    "        Columns that identify the models predictions.\n",
    "    quantiles : numpy array\n",
    "        Quantiles to compare against.\n",
    "    id_col : str (default='unique_id')\n",
    "        Column that identifies each serie.\n",
    "    target_col : str (default='y')\n",
    "        Column that contains the target.\n",
    "\n",
    "    Returns\n",
    "    -------\n",
    "    pandas or polars Dataframe\n",
    "        dataframe with one row per id and one column per model.\n",
    "\n",
    "    References\n",
    "    ----------\n",
    "    [1] https://proceedings.mlr.press/v139/rangapuram21a.html        \n",
    "    \"\"\"\n",
    "    eps = np.finfo(float).eps\n",
    "    quantiles = np.asarray(quantiles)\n",
    "    loss = mqloss(df, models, quantiles, id_col, target_col)\n",
    "    if isinstance(loss, pd.DataFrame):\n",
    "        loss = loss.set_index(id_col)\n",
    "        assert isinstance(df, pd.DataFrame)\n",
    "        norm = df[target_col].abs().groupby(df[id_col]).sum()\n",
    "        sizes = df[id_col].value_counts()\n",
    "        scales = sizes * (sizes + 1) / 2\n",
    "        res = 2 * loss.mul(scales, axis=0).div(norm + eps, axis=0)\n",
    "        res.index.name = id_col\n",
    "        res = res.reset_index()\n",
    "    else:\n",
    "        def gen_expr(model):\n",
    "            return (2 * pl_col(model) * pl_col('counts') / (pl_col('norm') + eps)).alias(model)\n",
    "\n",
    "        try:\n",
    "            grouped_df = df.group_by(id_col)\n",
    "        except AttributeError:\n",
    "            grouped_df = df.groupby(id_col)\n",
    "        norm = grouped_df.agg(pl_col(target_col).abs().sum().alias('norm'))\n",
    "        sizes = df[id_col].value_counts().with_columns(pl_col('counts') * (pl_col('counts') + 1) / 2)\n",
    "        res = _pl_agg_expr(loss.join(sizes, on=id_col).join(norm, on=id_col), models, id_col, gen_expr)\n",
    "    return res"
   ]
  },
  {
   "cell_type": "code",
   "execution_count": null,
   "metadata": {},
   "outputs": [
    {
     "data": {
      "text/markdown": [
       "---\n",
       "\n",
       "[source](https://github.com/Nixtla/utilsforecast/blob/main/utilsforecast/losses.py#L589){target=\"_blank\" style=\"float:right; font-size:smaller\"}\n",
       "\n",
       "### scaled_crps\n",
       "\n",
       ">      scaled_crps\n",
       ">                   (df:Union[pandas.core.frame.DataFrame,polars.dataframe.frame\n",
       ">                   .DataFrame], models:List[str], quantiles:numpy.ndarray,\n",
       ">                   id_col:str='unique_id', target_col:str='y')\n",
       "\n",
       "Scaled Continues Ranked Probability Score\n",
       "\n",
       "Calculates a scaled variation of the CRPS, as proposed by Rangapuram (2021),\n",
       "to measure the accuracy of predicted quantiles `y_hat` compared to the observation `y`.\n",
       "This metric averages percentual weighted absolute deviations as \n",
       "defined by the quantile losses.\n",
       "\n",
       "|    | **Type** | **Default** | **Details** |\n",
       "| -- | -------- | ----------- | ----------- |\n",
       "| df | Union |  | Input dataframe with id, times, actuals and predictions. |\n",
       "| models | List |  | Columns that identify the models predictions. |\n",
       "| quantiles | ndarray |  | Quantiles to compare against. |\n",
       "| id_col | str | unique_id | Column that identifies each serie. |\n",
       "| target_col | str | y | Column that contains the target. |\n",
       "| **Returns** | **Union** |  | **dataframe with one row per id and one column per model.** |"
      ],
      "text/plain": [
       "---\n",
       "\n",
       "[source](https://github.com/Nixtla/utilsforecast/blob/main/utilsforecast/losses.py#L589){target=\"_blank\" style=\"float:right; font-size:smaller\"}\n",
       "\n",
       "### scaled_crps\n",
       "\n",
       ">      scaled_crps\n",
       ">                   (df:Union[pandas.core.frame.DataFrame,polars.dataframe.frame\n",
       ">                   .DataFrame], models:List[str], quantiles:numpy.ndarray,\n",
       ">                   id_col:str='unique_id', target_col:str='y')\n",
       "\n",
       "Scaled Continues Ranked Probability Score\n",
       "\n",
       "Calculates a scaled variation of the CRPS, as proposed by Rangapuram (2021),\n",
       "to measure the accuracy of predicted quantiles `y_hat` compared to the observation `y`.\n",
       "This metric averages percentual weighted absolute deviations as \n",
       "defined by the quantile losses.\n",
       "\n",
       "|    | **Type** | **Default** | **Details** |\n",
       "| -- | -------- | ----------- | ----------- |\n",
       "| df | Union |  | Input dataframe with id, times, actuals and predictions. |\n",
       "| models | List |  | Columns that identify the models predictions. |\n",
       "| quantiles | ndarray |  | Quantiles to compare against. |\n",
       "| id_col | str | unique_id | Column that identifies each serie. |\n",
       "| target_col | str | y | Column that contains the target. |\n",
       "| **Returns** | **Union** |  | **dataframe with one row per id and one column per model.** |"
      ]
     },
     "execution_count": null,
     "metadata": {},
     "output_type": "execute_result"
    }
   ],
   "source": [
    "show_doc(scaled_crps)"
   ]
  },
  {
   "cell_type": "code",
   "execution_count": null,
   "metadata": {},
   "outputs": [],
   "source": [
    "pd_vs_pl(\n",
    "    scaled_crps(series, models, [0.3, 0.5]),\n",
    "    scaled_crps(series_pl, models, [0.3, 0.5]),\n",
    "    models,\n",
    ")"
   ]
  }
 ],
 "metadata": {
  "kernelspec": {
   "display_name": "python3",
   "language": "python",
   "name": "python3"
  }
 },
 "nbformat": 4,
 "nbformat_minor": 4
}
